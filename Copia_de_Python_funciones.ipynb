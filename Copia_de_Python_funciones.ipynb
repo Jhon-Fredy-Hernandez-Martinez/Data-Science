{
  "nbformat": 4,
  "nbformat_minor": 0,
  "metadata": {
    "colab": {
      "provenance": []
    },
    "kernelspec": {
      "name": "python3",
      "display_name": "Python 3"
    },
    "language_info": {
      "name": "python"
    }
  },
  "cells": [
    {
      "cell_type": "markdown",
      "source": [
        "# Mi Primera Función"
      ],
      "metadata": {
        "id": "ABMU4RpVFW_H"
      }
    },
    {
      "cell_type": "code",
      "execution_count": null,
      "metadata": {
        "colab": {
          "base_uri": "https://localhost:8080/"
        },
        "id": "Td-Ob7agEUuP",
        "outputId": "c6a91d1b-f01e-4ad8-a504-72a32382c5a1"
      },
      "outputs": [
        {
          "output_type": "execute_result",
          "data": {
            "text/plain": [
              "36"
            ]
          },
          "metadata": {},
          "execution_count": 6
        }
      ],
      "source": [
        "nombre = 'Jhon'\n",
        "nombre\n",
        "\n",
        "edad = 36\n",
        "edad"
      ]
    },
    {
      "cell_type": "code",
      "source": [
        "# Creamos una función con Print con las variables antes creadas\n",
        "print(f'El nombre es {nombre} y su edad es {edad}')"
      ],
      "metadata": {
        "colab": {
          "base_uri": "https://localhost:8080/"
        },
        "id": "0CJX0HvOFBO6",
        "outputId": "78714310-d2ee-45d8-babc-20b637fb15fc"
      },
      "execution_count": null,
      "outputs": [
        {
          "output_type": "stream",
          "name": "stdout",
          "text": [
            "El nombre es Jhon y su edad es 36\n"
          ]
        }
      ]
    },
    {
      "cell_type": "markdown",
      "source": [
        "Un función es un bloque de código que ejecuta nuestras acciones. Una función en Python es un bloque de código reutilizable que realiza una tarea específica. Las funciones permiten organizar el código, haciéndolo más modular y fácil de mantener. Se definen utilizando la palabra clave **def**, seguida del nombre de la función y paréntesis que pueden incluir parámetros.mantener."
      ],
      "metadata": {
        "id": "hEzAsYZvGVfu"
      }
    },
    {
      "cell_type": "code",
      "source": [
        "# El código debe estar indentado para evitar errores\n",
        "def saludar ():\n",
        "    nombre = input('Digite su nombre: ')\n",
        "    print(f'Hola {nombre} sea bienvenid@ !!!')"
      ],
      "metadata": {
        "id": "6MwLHp2dGf_8"
      },
      "execution_count": null,
      "outputs": []
    },
    {
      "cell_type": "code",
      "source": [
        "saludar()"
      ],
      "metadata": {
        "colab": {
          "base_uri": "https://localhost:8080/"
        },
        "id": "S8TTu-eBHaWW",
        "outputId": "dad9f401-ac4c-4a81-ed19-a9fd61b75a11"
      },
      "execution_count": null,
      "outputs": [
        {
          "output_type": "stream",
          "name": "stdout",
          "text": [
            "Digite su nombre: Jhon\n",
            "Hola Jhon sea bienvenid@ !!!\n"
          ]
        }
      ]
    },
    {
      "cell_type": "markdown",
      "source": [
        "Funciones de Python: https://docs.python.org/es/3/library/functions.html"
      ],
      "metadata": {
        "id": "HSLwvvcsITfe"
      }
    },
    {
      "cell_type": "markdown",
      "source": [
        "En Python existen funciones integradas llamadas funciones built-in, por ejemplo, la función print() que usamos.\n",
        "\n",
        "Además, es posible crear nuestras propias funciones para realizar una determinada tarea, como ilustra el siguiente código:"
      ],
      "metadata": {
        "id": "gUvBA1rtIrPt"
      }
    },
    {
      "cell_type": "code",
      "source": [
        "def nombre_completo():\n",
        "   primer_nombre = input('¿Cuál es tu primer nombre? ')\n",
        "   apellido = input('¿Cuál es tu apellido? ')\n",
        "   nombre_completo = primer_nombre + ' ' + apellido\n",
        "   print(nombre_completo)\n",
        "nombre_completo()"
      ],
      "metadata": {
        "colab": {
          "base_uri": "https://localhost:8080/"
        },
        "id": "Pjxu9srHIWH3",
        "outputId": "d1654515-755e-49ff-b600-3a940d48564e"
      },
      "execution_count": null,
      "outputs": [
        {
          "output_type": "stream",
          "name": "stdout",
          "text": [
            "¿Cuál es tu primer nombre? Jhon\n",
            "¿Cuál es tu apellido? Hernandez\n",
            "Jhon Hernandez\n"
          ]
        }
      ]
    },
    {
      "cell_type": "markdown",
      "source": [
        "Python es un lenguanje interpretado debido a que trabaja con funciones ya establecidas, de alto nivel,  multiproposito y multiplataforma\n",
        "Python es considerado un lenguaje interpretado por varias razones relacionadas con su diseño y funcionalidad:\n",
        "\n",
        "1. Interpretado en lugar de Compilación:\n",
        "En un lenguaje compilado, el código fuente se traduce completamente a código máquina antes de su ejecución. En contraste, Python traduce el código a un formato intermedio (bytecode) que es ejecutado por el intérprete de Python. Esto permite que el código se ejecute línea por línea, facilitando la depuración y el desarrollo interactivo.\n",
        "2. Funciones Establecidas:\n",
        "Python incluye una rica biblioteca estándar y numerosas funciones predefinidas que simplifican la programación. Esto significa que los desarrolladores pueden usar funciones ya establecidas sin necesidad de escribir todo el código desde cero, lo que agiliza el desarrollo de aplicaciones.\n",
        "3. Lenguaje de Alto Nivel:\n",
        "Python es un lenguaje de alto nivel, lo que significa que su sintaxis es más cercana al lenguaje humano, facilitando la lectura y escritura del código. Esto permite a los programadores concentrarse en la lógica y el diseño del programa en lugar de los detalles de la implementación de bajo nivel.\n",
        "4. Multipropósito:\n",
        "Python es un lenguaje multipropósito que se puede utilizar en una variedad de aplicaciones, desde desarrollo web y análisis de datos hasta inteligencia artificial y automatización. Esta versatilidad es posible gracias a su amplia gama de bibliotecas y marcos disponibles.\n",
        "5. Multiplataforma:\n",
        "Python se puede ejecutar en diversas plataformas (Windows, macOS, Linux, etc.) sin necesidad de modificar el código. Esto es posible gracias a que el intérprete de Python se encarga de las diferencias entre sistemas operativos, lo que permite a los desarrolladores escribir código una sola vez y ejecutarlo en diferentes entornos."
      ],
      "metadata": {
        "id": "Bbv0OI-ZJcXu"
      }
    },
    {
      "cell_type": "code",
      "source": [],
      "metadata": {
        "id": "XZLE5sX3JB32"
      },
      "execution_count": null,
      "outputs": []
    },
    {
      "cell_type": "markdown",
      "source": [
        "# Historia de Python\n",
        "\n",
        "Python es un lenguaje de programación interpretado, orientado a objetos de alto nivel y con semántica dinámica.\n",
        "\n",
        "La simplicidad de Python reduce el mantenimiento de un programa. Python soporta bibliotecas y módulos (contenidos que veremos a lo largo del curso), lo que fomenta la programación modular y la reutilización del código.\n",
        "\n",
        "Es uno de los lenguajes que más ha crecido debido a su compatibilidad (se ejecuta en la mayoría de los sistemas operativos) y la capacidad de soportar otros lenguajes. Aplicaciones que vemos a diario como Dropbox, Reddit e Instagram están escritas en Python.\n",
        "\n",
        "Python también es el lenguaje más popular para análisis de datos y conquistó a la comunidad científica.\n",
        "\n",
        "Breve historia del lenguaje\n",
        "\n",
        "Python fue creado en 1990 por Guido Van Rossum en el centro de Matemática Stichting en Holanda como sucesor del lenguaje ABC. Guido es recordado como el principal autor de Python, pero también otros programadores ayudaron con muchas contribuciones.\n",
        "\n",
        "El lenguaje ABC fue diseñado para ser utilizado por \"no programadores\", pero al inicio mostró ciertas limitaciones y restricciones. El mayor reclamo de los primeros estudiantes \"no programadores\" de este lenguaje, era la presencia de reglas arbitrarias que los lenguajes de programación habían establecido tradicionalmente, muchas cosas de bajo nivel todavía se hacían y eso no agradaba al público.\n",
        "\n",
        "A raíz de eso, Guido se propuso la tarea de crear un lenguaje de script simple que contenga algunas de las mejores propiedades de ABC. Mejoró el lenguaje ABC e incorporó las listas Python, diccionarios, declaraciones básicas y uso obligatorio de sangría, todo esto diferencia Python del lenguaje ABC.\n",
        "\n",
        "Probablemente ya escuchaste o leíste en algún lugar que Python es un lenguaje interpretado o un lenguaje de script. En cierto sentido, también es cierto que Python es tanto un lenguaje interpretado como un lenguaje compilado. Un compilador traduce lenguaje Python a lenguaje de máquina. El código Python es traducido en un código intermediario que debe ser ejecutado por una máquina virtual conocida como PVM (Python Virtual Machine).\n",
        "\n",
        "El intérprete hace la traducción en tiempo real para el código de máquina, es decir, en tiempo de ejecución. El compilador traduce todo el programa en código de máquina de una sola vez y luego lo ejecuta, creando un archivo que se puede ejecutar (ejecutable). El compilador genera un informe de errores (en caso existan) y el intérprete detiene la traducción cuando encuentra un primer error.\n",
        "\n",
        "¿Más información sobre Python?\n",
        "\n",
        "Para más información, accede a la documentación oficial de Python en este link: https://docs.python.org/es/3/ o descarga el Ebook de Python para Data Science que construimos en Alura para ayudarte en esta jornada de aprendizaje. https://cdn3.gnarususercontent.com.br/ESP-DS-24-alura-latam-apostilla-python-para-DS/ds-24-ebook-alura-latam-python-para-data-science-vbf.pdf"
      ],
      "metadata": {
        "id": "TYPCif9wLIuP"
      }
    },
    {
      "cell_type": "markdown",
      "source": [
        "**Lo que aprendimos en esta aula:**\n",
        "\n",
        "*   Aprendimos qué son las variables.\n",
        "*   Creamos nuestra primera función.\n",
        "*   Entendimos la diferencia entre lenguaje de alto y bajo nivel.\n",
        "\n",
        "\n",
        "Descargar\n",
        "https://github.com/alura-es-cursos/1784-python-para-data-science-introduccion\n",
        "\n"
      ],
      "metadata": {
        "id": "YIK4njaDNgaW"
      }
    },
    {
      "cell_type": "markdown",
      "source": [
        "# **Funciones con parametro**"
      ],
      "metadata": {
        "id": "zpHVCQ47wLmb"
      }
    },
    {
      "cell_type": "code",
      "source": [
        "nombre = 'Monica'"
      ],
      "metadata": {
        "id": "OHbXSetsLLFM"
      },
      "execution_count": null,
      "outputs": []
    },
    {
      "cell_type": "markdown",
      "source": [
        "# Parámetros"
      ],
      "metadata": {
        "id": "VDSgvJN9xF5W"
      }
    },
    {
      "cell_type": "code",
      "source": [
        "def saludar_con_parametros(nombre):\n",
        "    print(f'Hola {nombre} sea bienvenid@ !!!') # HAsta aquí solo se carga virtualmente la función"
      ],
      "metadata": {
        "id": "cGKAx_39wWlx"
      },
      "execution_count": null,
      "outputs": []
    },
    {
      "cell_type": "code",
      "source": [
        "# Llamamos la función\n",
        "saludar_con_parametros(nombre)"
      ],
      "metadata": {
        "colab": {
          "base_uri": "https://localhost:8080/"
        },
        "id": "tGV5duUPwuLk",
        "outputId": "5f9893c4-4ef7-4059-9b81-52139c2185cc"
      },
      "execution_count": null,
      "outputs": [
        {
          "output_type": "stream",
          "name": "stdout",
          "text": [
            "Hola Monica sea bienvenid@ !!!\n"
          ]
        }
      ]
    },
    {
      "cell_type": "markdown",
      "source": [
        "Una persona va a la panadería todos los días. La distancia de su casa hasta el lugar es de 100 metros y todo el recorrido se realiza en 20 segundos.\n",
        "\n",
        "Para calcular la velocidad promedio y encontrar la relación entre el espacio y el tiempo, podemos dividir el espacio recorrido por el tiempo.\n",
        "\n",
        "Sabiendo esto, la persona desea crear una función llamada velocidad, que reciba 2 parámetros llamados espacio y tiempo, que realice el cálculo respectivo y que muestre una salida semejante al siguiente ejemplo:\n",
        "\n",
        "Velocidad: 5 m/s"
      ],
      "metadata": {
        "id": "tul0cGY4xoHv"
      }
    },
    {
      "cell_type": "code",
      "source": [
        "def velocidad(espacio, tiempo):\n",
        " v = espacio / tiempo\n",
        " print(f' Velocidad: {v} m/s')\n",
        "\n",
        "velocidad(100, 20)"
      ],
      "metadata": {
        "colab": {
          "base_uri": "https://localhost:8080/"
        },
        "id": "d4h8FHpuxLTe",
        "outputId": "0acd39d4-b9fd-438c-ffdc-d1a4b34a5e0f"
      },
      "execution_count": null,
      "outputs": [
        {
          "output_type": "stream",
          "name": "stdout",
          "text": [
            " Velocidad: 5.0 m/s\n"
          ]
        }
      ]
    },
    {
      "cell_type": "markdown",
      "source": [
        "#**CONDICIONALES**"
      ],
      "metadata": {
        "id": "ZaZEGqbezq-K"
      }
    },
    {
      "cell_type": "code",
      "source": [
        "edad = 36\n",
        "def verificar_si_puede_conducir(edad):\n",
        "    if edad >= 18:\n",
        "        print('Usted puede conducir')\n",
        "    else:\n",
        "        print('Usted no puede conducir')"
      ],
      "metadata": {
        "id": "6Ne3z5M1ztTa"
      },
      "execution_count": null,
      "outputs": []
    },
    {
      "cell_type": "code",
      "source": [
        "# Llamamos la función\n",
        "verificar_si_puede_conducir(edad)"
      ],
      "metadata": {
        "colab": {
          "base_uri": "https://localhost:8080/"
        },
        "id": "6-WOiSCh0B2Q",
        "outputId": "e601d41a-9688-4679-e085-3d5a2b2ee634"
      },
      "execution_count": null,
      "outputs": [
        {
          "output_type": "stream",
          "name": "stdout",
          "text": [
            "Usted puede conducir\n"
          ]
        }
      ]
    },
    {
      "cell_type": "markdown",
      "source": [
        "## Función para Verificar si una persona puede conducir"
      ],
      "metadata": {
        "id": "zMRv_mwR2VCA"
      }
    },
    {
      "cell_type": "code",
      "source": [
        "edad = int(input('Digite su edad: '))  # Convertir a entero con int\n",
        "\n",
        "def conducir(edad):\n",
        "\n",
        "    if edad >= 18:\n",
        "        print('Usted puede conducir')\n",
        "    else:\n",
        "        print('Usted no puede conducir')\n",
        "\n",
        "conducir(edad) # Llamar la función"
      ],
      "metadata": {
        "colab": {
          "base_uri": "https://localhost:8080/"
        },
        "id": "rmpN39bK0GwP",
        "outputId": "66215855-f0af-42da-84c2-54a2ed9275a7"
      },
      "execution_count": null,
      "outputs": [
        {
          "output_type": "stream",
          "name": "stdout",
          "text": [
            "Digite su edad: 25\n",
            "Usted puede conducir\n"
          ]
        }
      ]
    },
    {
      "cell_type": "markdown",
      "source": [
        "Las sentencias condicionales son recursos que nos ayudan a ejecutar acciones donde tenemos diferentes opciones o caminos que seguir en función a reglas o condiciones. Evalúa la siguiente expresión condicional hecha en Python para descubrir cómo se interpreta la nota de NPS (Net Promoter Score) dada por un alumno a un curso de Alura."
      ],
      "metadata": {
        "id": "9gWINzpO2xWf"
      }
    },
    {
      "cell_type": "code",
      "source": [
        "def clasificar_nps(nota):\n",
        "  if nota <= 6:\n",
        "    print('El alumno es considerado Detractor')\n",
        "  else:\n",
        "    if nota <= 8:\n",
        "      print('El alumno es considerado Neutro')\n",
        "    else:\n",
        "      print('El alumno es considerado Promotor')\n",
        "\n",
        "clasificar_nps(9) #¡Correcto! La nota 9 es clasificada como Promotor en la secuencia condicional del enunciado."
      ],
      "metadata": {
        "colab": {
          "base_uri": "https://localhost:8080/"
        },
        "id": "wAUJSbXL11oC",
        "outputId": "0dae7453-30f1-4092-c233-6772aba57d91"
      },
      "execution_count": null,
      "outputs": [
        {
          "output_type": "stream",
          "name": "stdout",
          "text": [
            "El alumno es considerado Promotor\n"
          ]
        }
      ]
    },
    {
      "cell_type": "markdown",
      "source": [
        "## Condicionales sin parametro y Conversión de tipos de datos"
      ],
      "metadata": {
        "id": "hDYrT69A4QN2"
      }
    },
    {
      "cell_type": "code",
      "source": [
        "def verificar_si_puede_conducir():\n",
        "    edad = int(input('Digite su edad: ')) # Se convierte el tipo de dato a entero \"int\"\n",
        "    if edad >= 18:\n",
        "        print('Usted puede conducir')\n",
        "    else:\n",
        "        print('Usted no puede conducir')\n",
        "\n",
        "verificar_si_puede_conducir()"
      ],
      "metadata": {
        "colab": {
          "base_uri": "https://localhost:8080/"
        },
        "id": "8YXpd8CM4NXC",
        "outputId": "da8e4e5d-bf9e-4706-b8bd-3c2791695daf"
      },
      "execution_count": null,
      "outputs": [
        {
          "output_type": "stream",
          "name": "stdout",
          "text": [
            "Digite su edad: 18\n",
            "Usted puede conducir\n"
          ]
        }
      ]
    },
    {
      "cell_type": "markdown",
      "source": [
        "## Permiso de conducir y TypeError\n",
        "Un científico de datos creó la siguiente función, para saber cuántos años le faltan a una persona para obtener su permiso de conducir. En caso de tener la edad permitida, un mensaje informará a la persona que ya puede obtenerlo."
      ],
      "metadata": {
        "id": "3a71beoR6QuZ"
      }
    },
    {
      "cell_type": "code",
      "source": [
        "def permiso_de_conducir():\n",
        " edad = int(input('¿Cuál es tu edad? '))\n",
        " if edad >= 18:\n",
        "   print('Ya tienes edad suficiente para obtener permiso de conducir')\n",
        " else:\n",
        "   tiempo = 18 - edad\n",
        "   print(f'Tranquilo, faltan {tiempo} año(s) para obtener permiso de conducir')\n",
        "\n",
        "permiso_de_conducir()"
      ],
      "metadata": {
        "colab": {
          "base_uri": "https://localhost:8080/"
        },
        "id": "kXShPOQO6RlC",
        "outputId": "b1de0c8b-e6d4-4475-e0eb-ae83ff6cfdfc"
      },
      "execution_count": null,
      "outputs": [
        {
          "output_type": "stream",
          "name": "stdout",
          "text": [
            "¿Cuál es tu edad? 18\n",
            "Ya tienes edad suficiente para obtener permiso de conducir\n"
          ]
        }
      ]
    },
    {
      "cell_type": "markdown",
      "source": [
        "## Para saber más: Operadores de Python\n",
        "Creamos un código que verifica si la edad es mayor o igual a 18. Este operador no es aritmético y se conoce como operador de comparación. Python tiene más operadores de este tipo:\n",
        "\n",
        "\n",
        "| **Tipo de Operador**     | **Operador**       | **Descripción**                              | **Ejemplo**         |\n",
        "|--------------------------|--------------------|----------------------------------------------|----------------------|\n",
        "| **Aritméticos**         | `+`                | Suma                                         | `3 + 2` → `5`        |\n",
        "|                          | `-`                | Resta                                        | `3 - 2` → `1`        |\n",
        "|                          | `*`                | Multiplicación                               | `3 * 2` → `6`        |\n",
        "|                          | `/`                | División (resultado flotante)               | `3 / 2` → `1.5`      |\n",
        "|                          | `//`               | División entera                             | `3 // 2` → `1`       |\n",
        "|                          | `%`                | Módulo (resto de la división)               | `3 % 2` → `1`        |\n",
        "|                          | `**`               | Exponenciación                               | `3 ** 2` → `9`       |\n",
        "| **Comparación**         | `==`               | Igual a                                      | `3 == 3` → `True`    |\n",
        "|                          | `!=`               | Diferente de                                 | `3 != 2` → `True`    |\n",
        "|                          | `>`                | Mayor que                                    | `3 > 2` → `True`     |\n",
        "|                          | `<`                | Menor que                                    | `3 < 2` → `False`    |\n",
        "|                          | `>=`               | Mayor o igual que                            | `3 >= 3` → `True`    |\n",
        "|                          | `<=`               | Menor o igual que                            | `3 <= 2` → `False`   |\n",
        "| **Lógicos**             | `and`              | Y lógico                                     | `True and False` → `False` |\n",
        "|                          | `or`               | O lógico                                     | `True or False` → `True`   |\n",
        "|                          | `not`              | Negación lógica                             | `not True` → `False`  |\n",
        "| **Identidad**           | `is`               | Identidad (si son el mismo objeto)         | `a is b`               |\n",
        "|                          | `is not`           | No identidad                                | `a is not b`          |\n",
        "| **Pertenencia**         | `in`               | Pertenencia (si está en una secuencia)     | `5 in [1, 2, 3, 5]` → `True` |\n",
        "|                          | `not in`           | No pertenencia                              | `5 not in [1, 2, 3]` → `True` |\n",
        "| **Bit a bit**           | `&`                | Y bit a bit                                 | `5 & 3` → `1`         |\n",
        "|                          | `|`                | O bit a bit                                 | `5 | 3` → `7`         |\n",
        "|                          | `^`                | O exclusivo bit a bit                       | `5 ^ 3` → `6`         |\n",
        "|                          | `~`                | Negación bit a bit                          | `~5` → `-6`           |\n",
        "|                          | `<<`               | Desplazamiento a la izquierda                | `5 << 1` → `10`       |\n",
        "|                          | `>>`               | Desplazamiento a la derecha                 | `5 >> 1` → `2`        |\n"
      ],
      "metadata": {
        "id": "rzJ46SEU681C"
      }
    },
    {
      "cell_type": "markdown",
      "source": [
        "Funciones en Python son bloques de código que ejecutarán algún tipo de tarea o manipulación de datos, pudiendo o no recibir: datos de entrada (parámetros).\n",
        "\n",
        "Crea una función llamada verificar_si_puedes_conducir, que recibe un parámetro llamado edad e incluye una condicional if para analizar si la edad es mayor o igual que 18 años. En caso positivo, haz que muestre un mensaje en la pantalla diciendo Usted tiene edad suficiente para conducir. De lo contrario ( else ), que muestre el mensaje Usted NO tiene edad suficiente para conducir. Después de ejecutar, crea la misma función sin parámetros, que almacene la edad digitada por el usuario. Como todo valor ingresado a través del teclado es un string, no olvides de convertir la edad para int con el código int(edad)"
      ],
      "metadata": {
        "id": "fW5rgLVH8Ars"
      }
    },
    {
      "cell_type": "code",
      "source": [
        "def verificar_si_puedes_conducir_sin_parametros():\n",
        "    edad = input(\"Por favor, ingrese su edad: \")\n",
        "    edad = int(edad)  # Convertir la entrada a un número entero\n",
        "    if edad >= 18:\n",
        "        print(\"Usted tiene edad suficiente para conducir.\")\n",
        "    else:\n",
        "        print(\"Usted NO tiene edad suficiente para conducir.\")\n",
        "\n",
        "# Ejemplo de uso\n",
        "verificar_si_puedes_conducir_sin_parametros()\n"
      ],
      "metadata": {
        "colab": {
          "base_uri": "https://localhost:8080/"
        },
        "id": "C3O3F7QQ7AOy",
        "outputId": "164500c2-e6d9-4a50-b1f5-a28172cbb950"
      },
      "execution_count": null,
      "outputs": [
        {
          "output_type": "stream",
          "name": "stdout",
          "text": [
            "Por favor, ingrese su edad: 20\n",
            "Usted tiene edad suficiente para conducir.\n"
          ]
        }
      ]
    },
    {
      "cell_type": "markdown",
      "source": [
        "### Lo que aprendimos:\n",
        "\n",
        "- Creamos una función que recibe un parámetro.\n",
        "- Aprendimos a usar las condicionales.\n",
        "- Convertimos el string str de la función input, que es pasado por el usuario para un valor entero int."
      ],
      "metadata": {
        "id": "laM0xyd380SP"
      }
    },
    {
      "cell_type": "markdown",
      "source": [
        "# **Creando una Lista**\n",
        "En Python, una lista es una estructura de datos que permite almacenar una colección ordenada de elementos. Aquí están algunas características clave de las listas:\n",
        "\n",
        "**Ordenadas:** Los elementos de una lista tienen un orden específico, lo que significa que puedes acceder a ellos usando su índice (empezando desde 0).\n",
        "\n",
        "**Mutables:** Puedes modificar una lista después de haberla creado. Esto incluye agregar, eliminar o cambiar elementos.\n",
        "\n",
        "**Heterogéneas:** Las listas pueden contener elementos de diferentes tipos de datos, como enteros, cadenas, flotantes, e incluso otras listas.\n",
        "\n",
        "**Uso de corchetes:** Se crean utilizando corchetes [], y los elementos se separan por comas.\n",
        "\n",
        "## Ejemplo de una lista"
      ],
      "metadata": {
        "id": "YABYwHYL9ROx"
      }
    },
    {
      "cell_type": "code",
      "source": [
        "# Crear una lista\n",
        "mi_lista = [1, 2, 3, \"cuatro\", 5.0]\n",
        "\n",
        "# Acceder a elementos\n",
        "print(mi_lista[0])  # Salida: 1\n",
        "print(mi_lista[3])  # Salida: \"cuatro\"\n",
        "\n",
        "# Modificar un elemento\n",
        "mi_lista[2] = \"tres\"\n",
        "print(mi_lista)  # Salida: [1, 2, \"tres\", \"cuatro\", 5.0]\n",
        "\n",
        "# Agregar un elemento\n",
        "mi_lista.append(6)\n",
        "print(mi_lista)  # Salida: [1, 2, \"tres\", \"cuatro\", 5.0, 6]\n",
        "\n",
        "# Eliminar un elemento\n",
        "mi_lista.remove(\"cuatro\")\n",
        "print(mi_lista)  # Salida: [1, 2, \"tres\", 5.0, 6]\n"
      ],
      "metadata": {
        "colab": {
          "base_uri": "https://localhost:8080/"
        },
        "id": "DGiZH3of7rsJ",
        "outputId": "61cb1ce9-8ccb-4743-bc82-da398c3aafb3"
      },
      "execution_count": null,
      "outputs": [
        {
          "output_type": "stream",
          "name": "stdout",
          "text": [
            "1\n",
            "cuatro\n",
            "[1, 2, 'tres', 'cuatro', 5.0]\n",
            "[1, 2, 'tres', 'cuatro', 5.0, 6]\n",
            "[1, 2, 'tres', 5.0, 6]\n"
          ]
        }
      ]
    },
    {
      "cell_type": "code",
      "source": [
        "# Creamos una lista\n",
        "edades =[18,15,12,45,50]"
      ],
      "metadata": {
        "id": "q_2ZhE87-bDb"
      },
      "execution_count": null,
      "outputs": []
    },
    {
      "cell_type": "code",
      "source": [
        "type(edades) # \"Types\" permite saber con que tipo de dato estamos trabando\n",
        "\n"
      ],
      "metadata": {
        "colab": {
          "base_uri": "https://localhost:8080/"
        },
        "id": "88W5XDNS-0Oz",
        "outputId": "0f32c281-6590-467f-c971-591ee294fc34"
      },
      "execution_count": null,
      "outputs": [
        {
          "output_type": "execute_result",
          "data": {
            "text/plain": [
              "list"
            ]
          },
          "metadata": {},
          "execution_count": 39
        }
      ]
    },
    {
      "cell_type": "code",
      "source": [
        "type(edad)"
      ],
      "metadata": {
        "colab": {
          "base_uri": "https://localhost:8080/"
        },
        "id": "TPn7MaSd-5RZ",
        "outputId": "3df7fb25-75cf-4285-de95-ad6a6c012df2"
      },
      "execution_count": null,
      "outputs": [
        {
          "output_type": "execute_result",
          "data": {
            "text/plain": [
              "int"
            ]
          },
          "metadata": {},
          "execution_count": 37
        }
      ]
    },
    {
      "cell_type": "code",
      "source": [
        "type(nombre)"
      ],
      "metadata": {
        "colab": {
          "base_uri": "https://localhost:8080/"
        },
        "id": "lgZy5bfn_T8I",
        "outputId": "8b924ed9-7941-4d1a-bfcd-eff77053e247"
      },
      "execution_count": null,
      "outputs": [
        {
          "output_type": "execute_result",
          "data": {
            "text/plain": [
              "str"
            ]
          },
          "metadata": {},
          "execution_count": 38
        }
      ]
    },
    {
      "cell_type": "code",
      "source": [
        "# Para acceder a los valores se requiere el uso de indices\n",
        "edades"
      ],
      "metadata": {
        "colab": {
          "base_uri": "https://localhost:8080/"
        },
        "id": "-lC6WXhp_Vv-",
        "outputId": "a5e693bf-0a83-4040-b588-1b638a9728d6"
      },
      "execution_count": null,
      "outputs": [
        {
          "output_type": "execute_result",
          "data": {
            "text/plain": [
              "[18, 15, 12, 45, 50]"
            ]
          },
          "metadata": {},
          "execution_count": 3
        }
      ]
    },
    {
      "cell_type": "code",
      "source": [
        "# Para acceder al segundo valor, debo pasar al indice del segundo valor. Recor demos que python empieza a contar desde cero(0,1,2,3...)\n",
        "edades[1]"
      ],
      "metadata": {
        "colab": {
          "base_uri": "https://localhost:8080/"
        },
        "id": "RzUFdRbs_e1V",
        "outputId": "d2d46dad-2aec-4b55-d160-c4dc596ee322"
      },
      "execution_count": null,
      "outputs": [
        {
          "output_type": "execute_result",
          "data": {
            "text/plain": [
              "15"
            ]
          },
          "metadata": {},
          "execution_count": 44
        }
      ]
    },
    {
      "cell_type": "code",
      "source": [
        "# Si quiero que me traiga varios valores usamos slicing (rebanado)\n",
        "edades[0:2] # La ultima posición que estoy declarando es excluyente por tanto no incluye al 12 de nuestra variable"
      ],
      "metadata": {
        "colab": {
          "base_uri": "https://localhost:8080/"
        },
        "id": "fzWlwJGk_yFq",
        "outputId": "11c893d6-cb82-4995-9597-dad166e3aa45"
      },
      "execution_count": null,
      "outputs": [
        {
          "output_type": "execute_result",
          "data": {
            "text/plain": [
              "[18, 15]"
            ]
          },
          "metadata": {},
          "execution_count": 45
        }
      ]
    },
    {
      "cell_type": "code",
      "source": [
        "edades[0:3] # Para traer los tres primeros vaores"
      ],
      "metadata": {
        "colab": {
          "base_uri": "https://localhost:8080/"
        },
        "id": "Y7sKGKNPBGJQ",
        "outputId": "b6ff00d7-3f23-4be6-e465-576269b73d35"
      },
      "execution_count": null,
      "outputs": [
        {
          "output_type": "execute_result",
          "data": {
            "text/plain": [
              "[18, 15, 12]"
            ]
          },
          "metadata": {},
          "execution_count": 46
        }
      ]
    },
    {
      "cell_type": "code",
      "source": [
        "edades[:] # Para traer todos los valores"
      ],
      "metadata": {
        "colab": {
          "base_uri": "https://localhost:8080/"
        },
        "id": "9RGD4H0cB2kO",
        "outputId": "df0c0f62-699e-4d7b-a230-a8dfc3e9cd89"
      },
      "execution_count": null,
      "outputs": [
        {
          "output_type": "execute_result",
          "data": {
            "text/plain": [
              "[18, 15, 12, 45, 50]"
            ]
          },
          "metadata": {},
          "execution_count": 47
        }
      ]
    },
    {
      "cell_type": "code",
      "source": [
        "edades[1:] # Para traer todos los valores desde el indice 1 hasta el final"
      ],
      "metadata": {
        "colab": {
          "base_uri": "https://localhost:8080/"
        },
        "id": "oVTFJT4xCJBx",
        "outputId": "2f29e1b0-541e-4b3a-c0c1-f87861eae2cd"
      },
      "execution_count": null,
      "outputs": [
        {
          "output_type": "execute_result",
          "data": {
            "text/plain": [
              "[15, 12, 45, 50]"
            ]
          },
          "metadata": {},
          "execution_count": 48
        }
      ]
    },
    {
      "cell_type": "markdown",
      "source": [
        "### Indices Negativos\n",
        "Python permite el uso de índices negativos para acceder a los elementos desde el final de la secuencia. Por ejemplo, -1 se refiere al último elemento, -2 al penúltimo, etc."
      ],
      "metadata": {
        "id": "fDN9bNBZCz-2"
      }
    },
    {
      "cell_type": "code",
      "source": [
        "#[18, 15, 12, 45, 50]\n",
        "# 0    1  2    3   4 \"Indices positivos\"\n",
        "# 0   -4 -3   -2  -1 \"Indices negativos\"\n",
        "\n",
        "edades[-1] # Para traer el ultimo valor"
      ],
      "metadata": {
        "colab": {
          "base_uri": "https://localhost:8080/"
        },
        "id": "kw4sXNRHCeDR",
        "outputId": "396282a4-8f43-46e2-c7f4-5768dc987732"
      },
      "execution_count": null,
      "outputs": [
        {
          "output_type": "execute_result",
          "data": {
            "text/plain": [
              "50"
            ]
          },
          "metadata": {},
          "execution_count": 49
        }
      ]
    },
    {
      "cell_type": "code",
      "source": [
        "edades[-2] # Para traer el penultimo valor"
      ],
      "metadata": {
        "colab": {
          "base_uri": "https://localhost:8080/"
        },
        "id": "y_OMiVmBDZ3E",
        "outputId": "036cebce-dace-49db-eeca-efc42a655138"
      },
      "execution_count": null,
      "outputs": [
        {
          "output_type": "execute_result",
          "data": {
            "text/plain": [
              "45"
            ]
          },
          "metadata": {},
          "execution_count": 50
        }
      ]
    },
    {
      "cell_type": "markdown",
      "source": [
        "La plataforma de Alura cuenta con diversos cursos de tecnología y negocios. Podemos afirmar que la plataforma tiene:\n",
        "\n",
        "### Cursos de Tecnología y Negocios Digitales\n",
        "\n",
        "Sabiendo esto, observa el siguiente código con todas las palabras en una lista fuera de orden:"
      ],
      "metadata": {
        "id": "yzkY5-suD7Ek"
      }
    },
    {
      "cell_type": "code",
      "source": [
        "frase_alura = [' Digitales', 'y ', 'Negocios ', 'de ', 'Tecnología ', 'Cursos ']\n",
        "#Sabiendo esto, analiza las siguientes alternativas y marca la que muestra correctamente el slogan:\n",
        "#frase_alura[-1] + frase_alura[3] + frase_alura[-2] + frase_alura[1] + frase_alura[2] + frase_alura[0]"
      ],
      "metadata": {
        "id": "1v61wvXZDhRG"
      },
      "execution_count": null,
      "outputs": []
    },
    {
      "cell_type": "code",
      "source": [],
      "metadata": {
        "id": "C-1Pm887EL9p"
      },
      "execution_count": null,
      "outputs": []
    },
    {
      "cell_type": "markdown",
      "source": [
        "# **Bucles y Ciclos (Loops)**"
      ],
      "metadata": {
        "id": "5R-IHaHxEnxN"
      }
    },
    {
      "cell_type": "markdown",
      "source": [
        "Los bucles y ciclos en Python son estructuras de control que permiten ejecutar un bloque de código repetidamente, lo que es útil para realizar tareas repetitivas de manera eficiente. Hay dos tipos principales de bucles en Python: for y while.\n",
        "\n",
        "1. **Bucle for**\n",
        "El bucle for se utiliza para iterar sobre una secuencia (como una lista, tupla, diccionario, conjunto o cadena de texto)\n",
        "2. **Bucle while**\n",
        "El bucle while ejecuta un bloque de código mientras una condición sea verdadera. Se utiliza cuando no se conoce de antemano cuántas veces se debe repetir el bloque."
      ],
      "metadata": {
        "id": "1WzIU_vpK7R1"
      }
    },
    {
      "cell_type": "markdown",
      "source": [
        "### **Bucle Fuera de la Función**"
      ],
      "metadata": {
        "id": "rvG5TnCDQF79"
      }
    },
    {
      "cell_type": "code",
      "source": [
        "# Creamos una lista\n",
        "edades = [18, 15, 12, 45, 50]\n",
        "\n",
        "def verificar_si_puede_conducir(edad):\n",
        "    if edad >= 18:\n",
        "        print('Usted tiene edad suficiente para conducir')\n",
        "    else:\n",
        "        print('Usted No tiene edad suficiente para conducir')\n",
        "\n",
        "# Iteramos sobre la lista de edades\n",
        "# Secrea un Bucle fuera de la función\n",
        "for edad in edades: # Aquí el Bucle \"For\" se incluye fuera de la función\n",
        "    verificar_si_puede_conducir(edad)\n"
      ],
      "metadata": {
        "id": "-r5PxtUuEp2A",
        "colab": {
          "base_uri": "https://localhost:8080/"
        },
        "outputId": "3d3554ce-bb37-4033-d7a6-d4932aee381e"
      },
      "execution_count": null,
      "outputs": [
        {
          "output_type": "stream",
          "name": "stdout",
          "text": [
            "Usted tiene edad suficiente para conducir\n",
            "Usted No tiene edad suficiente para conducir\n",
            "Usted No tiene edad suficiente para conducir\n",
            "Usted tiene edad suficiente para conducir\n",
            "Usted tiene edad suficiente para conducir\n"
          ]
        }
      ]
    },
    {
      "cell_type": "markdown",
      "source": [
        "### **Bucle Dentro de la Función**"
      ],
      "metadata": {
        "id": "LE0zF68JQNBK"
      }
    },
    {
      "cell_type": "code",
      "source": [
        "# Creamos una lista\n",
        "edades = [18, 15, 12, 45, 50]\n",
        "\n",
        "def verificar_si_puede_conducir_con_bucle(edades):\n",
        "  for edad in edades: # Aquí el Bucle \"For\" se incluye dentro de la función\n",
        "    if edad >= 18:\n",
        "        print('Usted tiene edad suficiente para conducir')\n",
        "    else:\n",
        "        print('Usted No tiene edad suficiente para conducir')\n",
        "\n",
        "# Iteramos sobre la lista de edades\n",
        "    verificar_si_puede_conducir_con_bucle(edades)"
      ],
      "metadata": {
        "id": "Epvxk3RfP-98"
      },
      "execution_count": null,
      "outputs": []
    },
    {
      "cell_type": "markdown",
      "source": [
        "##Booleano\n",
        "\n",
        "\n",
        "Los booleanos en Python son un tipo de dato que puede tener uno de dos valores: True (verdadero) o False (falso). Estos valores son fundamentales en la programación, ya que se utilizan para representar resultados de expresiones lógicas y para controlar el flujo de los programas mediante estructuras de control como condicionales y bucles."
      ],
      "metadata": {
        "id": "UWzqpbduVfrp"
      }
    },
    {
      "cell_type": "code",
      "source": [
        "edad = 18\n",
        "edad >= 18\n"
      ],
      "metadata": {
        "colab": {
          "base_uri": "https://localhost:8080/"
        },
        "id": "84TnvhezQ4HZ",
        "outputId": "bc32ace6-edd0-446e-ebcf-b753d4de5f7f"
      },
      "execution_count": null,
      "outputs": [
        {
          "output_type": "execute_result",
          "data": {
            "text/plain": [
              "True"
            ]
          },
          "metadata": {},
          "execution_count": 24
        }
      ]
    },
    {
      "cell_type": "code",
      "source": [
        "edad<18"
      ],
      "metadata": {
        "colab": {
          "base_uri": "https://localhost:8080/"
        },
        "id": "XT4yHaZ7WQpf",
        "outputId": "1dffc299-7640-4d7f-c5f3-62d83ffebcd7"
      },
      "execution_count": null,
      "outputs": [
        {
          "output_type": "execute_result",
          "data": {
            "text/plain": [
              "False"
            ]
          },
          "metadata": {},
          "execution_count": 25
        }
      ]
    },
    {
      "cell_type": "code",
      "source": [
        "edad = 18"
      ],
      "metadata": {
        "id": "ukPVuLQ4WSka"
      },
      "execution_count": null,
      "outputs": []
    },
    {
      "cell_type": "code",
      "source": [
        "# Creamos un lista\n",
        "verificaciones= []\n",
        "edades =[13,15,20]\n",
        "\n",
        "def verificar_si_puede_condicir_Con_bool(verificaciones, edades):\n",
        "  for edad in edades:\n",
        "    if edad >= 18:\n",
        "      verificaciones.append(True)# La función \".append\" permite adicionar valores, True o False siempre con mayuscula la primera letra\n",
        "    else:\n",
        "      verificaciones.append(False)\n",
        "  for verificacion in verificaciones:\n",
        "    if verificacion == True:\n",
        "      print('Usted tiene edad suficiente para conducir')\n",
        "    else:\n",
        "      print('Usted No tiene edad suficiente para conducir')\n",
        "\n",
        "verificar_si_puede_condicir_Con_bool(verificaciones, edades)\n"
      ],
      "metadata": {
        "colab": {
          "base_uri": "https://localhost:8080/"
        },
        "id": "RBeC6i2fWfyh",
        "outputId": "f888b462-49f7-45eb-d23f-932437babeac"
      },
      "execution_count": null,
      "outputs": [
        {
          "output_type": "stream",
          "name": "stdout",
          "text": [
            "Usted No tiene edad suficiente para conducir\n",
            "Usted No tiene edad suficiente para conducir\n",
            "Usted tiene edad suficiente para conducir\n"
          ]
        }
      ]
    },
    {
      "cell_type": "markdown",
      "source": [
        "## Ejemplo 2:"
      ],
      "metadata": {
        "id": "LfcgfH7MhQ6r"
      }
    },
    {
      "cell_type": "code",
      "source": [
        "verificaciones"
      ],
      "metadata": {
        "colab": {
          "base_uri": "https://localhost:8080/"
        },
        "id": "CfEy1SqnbpvS",
        "outputId": "52588dab-8aab-4c70-8628-feadd4e3c585"
      },
      "execution_count": null,
      "outputs": [
        {
          "output_type": "execute_result",
          "data": {
            "text/plain": [
              "[False, False, True]"
            ]
          },
          "metadata": {},
          "execution_count": 28
        }
      ]
    },
    {
      "cell_type": "code",
      "source": [
        "a = 2\n",
        "\n",
        "if a < 2:\n",
        "    a = a + 1  # Esta línea no se ejecuta porque a no es menor que 2\n",
        "else:\n",
        "    a = a + 2  # Esta línea se ejecuta\n",
        "    # a ahora es 2 + 2 = 4\n",
        "\n",
        "if a < 4:\n",
        "    a = a - 4  # Esta línea no se ejecuta porque a no es menor que 4\n",
        "else:\n",
        "    a = a + 6  # Esta línea se ejecuta\n",
        "    # a ahora es 4 + 6 = 10\n",
        "a"
      ],
      "metadata": {
        "colab": {
          "base_uri": "https://localhost:8080/"
        },
        "id": "exnT4VcncyS4",
        "outputId": "9ca76781-4acf-4932-b1be-dd64726becce"
      },
      "execution_count": null,
      "outputs": [
        {
          "output_type": "execute_result",
          "data": {
            "text/plain": [
              "10"
            ]
          },
          "metadata": {},
          "execution_count": 32
        }
      ]
    },
    {
      "cell_type": "markdown",
      "source": [
        "## Lista con diferentes tipos de datos\n",
        "\n",
        "Una lista se representa como una secuencia de objetos separados por coma y encerrados entre corchetes []. En Python, una lista puede almacenar elementos de diferentes tipos, como se muestra en la siguiente sintaxis:\n"
      ],
      "metadata": {
        "id": "g4L5U8pEDyIG"
      }
    },
    {
      "cell_type": "code",
      "source": [
        "lista_mixta = ['Mariana',25,True,'Mexico']"
      ],
      "metadata": {
        "id": "N2g2_uH6DcHs"
      },
      "execution_count": 2,
      "outputs": []
    },
    {
      "cell_type": "code",
      "source": [
        "lista_mixta"
      ],
      "metadata": {
        "colab": {
          "base_uri": "https://localhost:8080/"
        },
        "id": "y9o67ErjECdJ",
        "outputId": "6de5793a-acd3-4b6f-d9b2-a44169c57535"
      },
      "execution_count": 5,
      "outputs": [
        {
          "output_type": "execute_result",
          "data": {
            "text/plain": [
              "['Mariana', 25, True, 'Mexico']"
            ]
          },
          "metadata": {},
          "execution_count": 5
        }
      ]
    },
    {
      "cell_type": "markdown",
      "source": [
        "Para descubrir el tipo de cada elemento, podemos crear un loop, como se muestra en el siguiente código:"
      ],
      "metadata": {
        "id": "dlesDvfgFDAw"
      }
    },
    {
      "cell_type": "code",
      "source": [
        "#Identificamos el tipo de elemento\n",
        "for elemento in lista_mixta:\n",
        "  print(f'El elemento {elemento} es del tipo {type(elemento)}')"
      ],
      "metadata": {
        "colab": {
          "base_uri": "https://localhost:8080/"
        },
        "id": "YrtFN7uCEHhb",
        "outputId": "e2adbfda-3b6e-4375-f066-c2439355d33e"
      },
      "execution_count": 4,
      "outputs": [
        {
          "output_type": "stream",
          "name": "stdout",
          "text": [
            "El elemento Mariana es del tipo <class 'str'>\n",
            "El elemento 25 es del tipo <class 'int'>\n",
            "El elemento True es del tipo <class 'bool'>\n",
            "El elemento Mexico es del tipo <class 'str'>\n"
          ]
        }
      ]
    },
    {
      "cell_type": "markdown",
      "source": [
        "Podemos pedirle a Python que recuerde un valor que queremos utilizar. Python almacenará este valor en una variable.\n",
        "\n",
        "Variable es un nombre que hace referencia a un valor. Es como una etiqueta que colocamos a ese valor y cuando necesitamos usarla, la llamamos por el nombre que se le asignó en la etiqueta.\n",
        "\n",
        "El comando de asignación (el signo igual =) crea una nueva variable y le asigna un valor, como vimos en clases.\n",
        "\n",
        "Float\n",
        "Además de los tipos que se vieron en la clase, existe un tipo para almacenar un valor decimal, como se muestra en el siguiente ejemplo:"
      ],
      "metadata": {
        "id": "6nNBqD5mF9_g"
      }
    },
    {
      "cell_type": "code",
      "source": [
        "pi = 3.14\n",
        "type(pi)"
      ],
      "metadata": {
        "colab": {
          "base_uri": "https://localhost:8080/"
        },
        "id": "4NGTAu6ZE0Fa",
        "outputId": "9ea4a415-42cc-43b3-a6fa-0da97bbac71b"
      },
      "execution_count": 6,
      "outputs": [
        {
          "output_type": "execute_result",
          "data": {
            "text/plain": [
              "float"
            ]
          },
          "metadata": {},
          "execution_count": 6
        }
      ]
    },
    {
      "cell_type": "markdown",
      "source": [
        "Al ejecutar ese código, podemos observar que la salida será:\n",
        "\n",
        "float\n",
        "\n",
        "Observa que, en vez de separar el valor con coma (3,14), usamos un punto (3.14).\n",
        "\n",
        "Nombre de las variables\n",
        "Programadores eligen nombres para variables que sean semánticas. Estos nombres pueden ser muy largos, pueden contener letras y números.\n",
        "\n",
        "Es una convención entre los programadores de Python comenzar la variable con letras minúsculas y utilizar el underscore ( _ ) para separar palabras como: mi_nombre, numero_de_registro, telefono_residencial. Este patrón se llama snake case."
      ],
      "metadata": {
        "id": "H9yRUsZUGDAw"
      }
    },
    {
      "cell_type": "markdown",
      "source": [
        "Un conjunto de parámetros consiste en una lista que puede ser vacía, con uno o más elementos.\n",
        "\n",
        "Crea una lista llamada edades para almacenar varias edades. A continuación, pasa esta lista como parámetro a una función llamada verificar_si_puedes_conducir y para cada edad dentro de la lista, verifica si la edad es mayor o igual a 18 años. En caso de ser verdadero, haz que muestre la edad y el mensaje Usted tiene edad suficiente para conducir. Caso contrario, haz que muestre el mensaje Usted NO tiene edad suficiente para conducir."
      ],
      "metadata": {
        "id": "gITJvNVcGVRD"
      }
    },
    {
      "cell_type": "code",
      "source": [
        "edades = [15,18,13,25,12]\n",
        "\n",
        "\n",
        "def verificar_si_puedes_conducir_con_bucle(edades):\n",
        "  for edad in edades:\n",
        "    if edad >= 18:\n",
        "      print(f'La edad {edad} usted tiene edad suficiente para conducir')\n",
        "    else:\n",
        "      print(f'La edad {edad} usted No tiene edad suficiente para conducir')\n",
        "\n",
        "verificar_si_puedes_conducir_con_bucle(edades)"
      ],
      "metadata": {
        "colab": {
          "base_uri": "https://localhost:8080/"
        },
        "id": "YhWWErF4GYhr",
        "outputId": "2cc73c62-7649-4ef3-b0fe-90a9fdebe23b"
      },
      "execution_count": 11,
      "outputs": [
        {
          "output_type": "stream",
          "name": "stdout",
          "text": [
            "La edad 15 usted No tiene edad suficiente para conducir\n",
            "La edad 18 usted tiene edad suficiente para conducir\n",
            "La edad 13 usted No tiene edad suficiente para conducir\n",
            "La edad 25 usted tiene edad suficiente para conducir\n",
            "La edad 12 usted No tiene edad suficiente para conducir\n"
          ]
        }
      ]
    },
    {
      "cell_type": "markdown",
      "source": [
        "Lo que aprendimos en esta aula:\n",
        "\n",
        "- Creamos nuestra primera lista en Python.\n",
        "- Aprendimos a utilizar ciclos y bucles, específicamente la estructura de repetición for.\n",
        "- Descubrimos el tipo booleano.\n",
        "- Vimos que es posible almacenar elementos de diferentes tipos en una lista.\n",
        "\n",
        "\n",
        "\n"
      ],
      "metadata": {
        "id": "nTv6ilYOINTh"
      }
    },
    {
      "cell_type": "markdown",
      "source": [
        "# Importando una Lebrería"
      ],
      "metadata": {
        "id": "zKeWbcgHJMw3"
      }
    },
    {
      "cell_type": "code",
      "source": [
        "# Podemos importar toda la librería random\n",
        "import random"
      ],
      "metadata": {
        "id": "RLwgpuUSINz3"
      },
      "execution_count": 39,
      "outputs": []
    },
    {
      "cell_type": "code",
      "source": [
        "# Podemos importar solo alguna de las funciones de la librería random como: randrange y seed\n",
        "from random import randrange, seed"
      ],
      "metadata": {
        "id": "5gBCrPPzJ_-7"
      },
      "execution_count": 49,
      "outputs": []
    },
    {
      "cell_type": "code",
      "source": [
        "randrange(0,11) # Se generan números aleatorios de entre 0 y 10"
      ],
      "metadata": {
        "colab": {
          "base_uri": "https://localhost:8080/"
        },
        "id": "3og6sjQ1KeKc",
        "outputId": "d3590776-2e05-4ecb-ca9a-cde66be60240"
      },
      "execution_count": 41,
      "outputs": [
        {
          "output_type": "execute_result",
          "data": {
            "text/plain": [
              "5"
            ]
          },
          "metadata": {},
          "execution_count": 41
        }
      ]
    },
    {
      "cell_type": "markdown",
      "source": [
        "Como vimos en aula, es posible importar bibliotecas y módulos en nuestra aplicación, posibilitando así el uso de códigos listos que nos ayudan a resolver diferentes problemas. Con respecto a estas importaciones en Python:\n",
        "- Importamos un fragmento o módulo de una biblioteca para no sobrecargar la memoria de nuestra aplicación con código que no será usado."
      ],
      "metadata": {
        "id": "YfyfQ2_qLSDi"
      }
    },
    {
      "cell_type": "markdown",
      "source": [
        "# Lista con Números Aleatorios"
      ],
      "metadata": {
        "id": "85O9ojblLrz-"
      }
    },
    {
      "cell_type": "code",
      "source": [
        "notas_matematicas =[] # Creamos una lista vacía"
      ],
      "metadata": {
        "id": "URr7VJfALuSi"
      },
      "execution_count": 42,
      "outputs": []
    },
    {
      "cell_type": "code",
      "source": [
        "notas_matematicas.append(randrange(0,11))\n",
        "notas_matematicas"
      ],
      "metadata": {
        "colab": {
          "base_uri": "https://localhost:8080/"
        },
        "id": "dCa0nATNL_ln",
        "outputId": "38b8fc5a-36d9-4297-f1ec-6d5b1d215c4a"
      },
      "execution_count": 43,
      "outputs": [
        {
          "output_type": "execute_result",
          "data": {
            "text/plain": [
              "[6]"
            ]
          },
          "metadata": {},
          "execution_count": 43
        }
      ]
    },
    {
      "cell_type": "code",
      "source": [
        "# Para no hacer lo anterior podemos generar un bucle con un ciclo for\n",
        "notas_matematicas =[] # Creamos una lista vacía para reiniciar la variable\n",
        "for notas in range(6): # La función range indica que vamos a ejecutar nuestro ciclo 6 veces\n",
        "  notas_matematicas.append(randrange(0,11))\n",
        "notas_matematicas\n",
        "#cada vez que se ejecuta el código se generan nuevos numeros aleatorios"
      ],
      "metadata": {
        "colab": {
          "base_uri": "https://localhost:8080/"
        },
        "id": "RF9Ccv-8MLFd",
        "outputId": "cc5bdbb3-ee89-440e-9fff-a32d2de34363"
      },
      "execution_count": 59,
      "outputs": [
        {
          "output_type": "execute_result",
          "data": {
            "text/plain": [
              "[10, 0, 7, 7, 7, 6]"
            ]
          },
          "metadata": {},
          "execution_count": 59
        }
      ]
    },
    {
      "cell_type": "code",
      "source": [
        "# Para no hacer lo anterior podemos generar un bucle con un ciclo for\n",
        "notas_matematicas =[] # Creamos una lista vacía para reiniciar la variable\n",
        "seed(8) # Se implanta una semilla para reproducibilidad (opcional), siempre apareceran los mismos números\n",
        "for notas in range(6): # La función range indica que vamos a ejecutar nuestro ciclo 6 veces\n",
        "  notas_matematicas.append(randrange(0,11))\n",
        "notas_matematicas"
      ],
      "metadata": {
        "colab": {
          "base_uri": "https://localhost:8080/"
        },
        "id": "hTJPmXiGO6_r",
        "outputId": "6fabcad5-732b-48f6-c81c-5b0c773a5d0f"
      },
      "execution_count": 60,
      "outputs": [
        {
          "output_type": "execute_result",
          "data": {
            "text/plain": [
              "[3, 5, 6, 2, 3, 0]"
            ]
          },
          "metadata": {},
          "execution_count": 60
        }
      ]
    },
    {
      "cell_type": "code",
      "source": [
        "len(notas_matematicas) # Para saber la longitud de la lista. La función len() nos permite saber el tamaño de una lista. Solo no olvides pasar la variable entre los paréntesis."
      ],
      "metadata": {
        "colab": {
          "base_uri": "https://localhost:8080/"
        },
        "id": "wooY_C-kNZxP",
        "outputId": "2642cd1e-0399-4c5d-969c-e8e9016e09b7"
      },
      "execution_count": 61,
      "outputs": [
        {
          "output_type": "execute_result",
          "data": {
            "text/plain": [
              "6"
            ]
          },
          "metadata": {},
          "execution_count": 61
        }
      ]
    },
    {
      "cell_type": "markdown",
      "source": [
        "Python es un lenguaje de programación popular de código abierto (Open Source). Eso significa que Python se desarrolla bajo una licencia de código abierto aprobada por OSI, lo que lo hace de libre uso y distribución, incluso para uso comercial. La licencia de Python es administrada por Python Software Foundation."
      ],
      "metadata": {
        "id": "NX6Gg2a8PXWN"
      }
    },
    {
      "cell_type": "markdown",
      "source": [
        "Al importar la biblioteca random y el módulo randrange, estamos importando un método que podrá ser usado en nuestro programa. Podemos verificar su tipo conforme se muestra a continuación:"
      ],
      "metadata": {
        "id": "lR4qOwlTPdPS"
      }
    },
    {
      "cell_type": "code",
      "source": [
        "from random import randrange\n",
        "type(randrange)"
      ],
      "metadata": {
        "colab": {
          "base_uri": "https://localhost:8080/"
        },
        "id": "ODMioXhuPfQ9",
        "outputId": "1482d226-e6d7-4e23-b40f-bfc768079d25"
      },
      "execution_count": 62,
      "outputs": [
        {
          "output_type": "execute_result",
          "data": {
            "text/plain": [
              "method"
            ]
          },
          "metadata": {},
          "execution_count": 62
        }
      ]
    },
    {
      "cell_type": "markdown",
      "source": [
        "Nuestra salida será: method, indicando que importamos el método para ser usado en nuestro programa.\n",
        "\n",
        "Lo que aprendimos en esta aula:\n",
        "\n",
        "- Aprendimos cómo importar el método randrange para generar números enteros aleatorios entre 0 y 10.\n",
        "- Entendimos lo que son números pseudoaleatorios.\n",
        "- Vimos cómo establecer una semilla a través del módulo Seed para tener control sobre la generación de números pseudoaleatorios."
      ],
      "metadata": {
        "id": "-kb9jpWIPjQB"
      }
    },
    {
      "cell_type": "markdown",
      "source": [
        "# Crando un Gráfico"
      ],
      "metadata": {
        "id": "Z_puFGCyQO0U"
      }
    },
    {
      "cell_type": "code",
      "source": [
        "import matplotlib.pyplot as plt\n"
      ],
      "metadata": {
        "id": "nC98vmMaQRRm"
      },
      "execution_count": 76,
      "outputs": []
    },
    {
      "cell_type": "code",
      "source": [
        "list (range(1,7)) # creamos valores del 1 al 6"
      ],
      "metadata": {
        "colab": {
          "base_uri": "https://localhost:8080/"
        },
        "id": "njlVLWZzRqFJ",
        "outputId": "cb56baba-77f4-4166-d94b-fdfbd98c8c08"
      },
      "execution_count": 63,
      "outputs": [
        {
          "output_type": "execute_result",
          "data": {
            "text/plain": [
              "[1, 2, 3, 4, 5, 6]"
            ]
          },
          "metadata": {},
          "execution_count": 63
        }
      ]
    },
    {
      "cell_type": "code",
      "source": [
        "x=list(range(1,7))\n",
        "y=notas_matematicas"
      ],
      "metadata": {
        "id": "EN77RLNERzZe"
      },
      "execution_count": 70,
      "outputs": []
    },
    {
      "cell_type": "code",
      "source": [
        "plt.plot(x,y, marker='o')\n",
        "plt.title('Notas de Matemáticas')\n",
        "plt.xlabel('Alumnos')\n",
        "plt.ylabel('Notas')\n",
        "plt.show()"
      ],
      "metadata": {
        "colab": {
          "base_uri": "https://localhost:8080/",
          "height": 472
        },
        "id": "HjfNp5gvSJL-",
        "outputId": "50b2c2f8-5ff6-47f8-9898-d14a9b991ee3"
      },
      "execution_count": 80,
      "outputs": [
        {
          "output_type": "display_data",
          "data": {
            "text/plain": [
              "<Figure size 640x480 with 1 Axes>"
            ],
            "image/png": "[encoded data removed]"
          },
          "metadata": {}
        }
      ]
    },
    {
      "cell_type": "markdown",
      "source": [
        "### Ejemplo 2:\n",
        "Para comparar el desempeño escolar de un determinado alumno, el colegio decidió crear un gráfico para cada materia, como se muestra en el siguiente código:"
      ],
      "metadata": {
        "id": "c_V9EGf9Tur1"
      }
    },
    {
      "cell_type": "code",
      "source": [
        "import matplotlib.pyplot as plt\n",
        "\n",
        "notas_matematica = ['Matemática',8,7,6,6,7,7,8,10]\n",
        "notas_lenguaje = ['Lenguaje',9,9,9,8,5,6,8,5]\n",
        "notas_geografia = ['Geografía',10,10,6,7,7,7,8,7]\n",
        "\n",
        "notas = [notas_matematica, notas_lenguaje, notas_geografia]"
      ],
      "metadata": {
        "id": "7bsWggD9T2Sh"
      },
      "execution_count": 85,
      "outputs": []
    },
    {
      "cell_type": "code",
      "source": [
        "\n",
        "for nota in notas: #Este bucle itera sobre cada lista de notas en la lista notas.\n",
        "  x = list(range(1,9)) #Crea una lista x que representa los números de los exámenes del 1 al 8.\n",
        "  y = nota[1:] # Extrae las notas de cada asignatura, omitiendo el primer elemento que es el nombre de la asignatura (índice 0). y contendrá las calificaciones de los exámenes.\n",
        "  plt.plot(x,y, marker='o') #Se genera una gráfica de línea con las notas de los exámenes. El parámetro marker='o' indica que los puntos de datos se marcarán con círculos.\n",
        "  plt.xlabel('Exámenes') #Se etiqueta el eje x como \"Exámenes\"\n",
        "  plt.ylabel('Notas') #Se etiqueta el eje y como \"Notas\".\n",
        "  plt.title(nota[0]) #Se establece el título de la gráfica con el nombre de la asignatura, que se obtiene del primer elemento de nota.\n",
        "  plt.show() #Muestra la gráfica generada para cada asignatura. Al final de cada iteración del bucle, se presenta una nueva gráfica."
      ],
      "metadata": {
        "colab": {
          "base_uri": "https://localhost:8080/",
          "height": 1000
        },
        "id": "zmrXh_BTT80N",
        "outputId": "f97d28e7-6bd6-4ac2-fd6e-574c3b516bc0"
      },
      "execution_count": 88,
      "outputs": [
        {
          "output_type": "display_data",
          "data": {
            "text/plain": [
              "<Figure size 640x480 with 1 Axes>"
            ],
            "image/png": "[encoded data removed]"
          },
          "metadata": {}
        },
        {
          "output_type": "display_data",
          "data": {
            "text/plain": [
              "<Figure size 640x480 with 1 Axes>"
            ],
            "image/png": "[encoded data removed]"
          },
          "metadata": {}
        },
        {
          "output_type": "display_data",
          "data": {
            "text/plain": [
              "<Figure size 640x480 with 1 Axes>"
            ],
            "image/png": "[encoded data removed]"
          },
          "metadata": {}
        }
      ]
    },
    {
      "cell_type": "markdown",
      "source": [
        "Observa que, la variable \"y\" almacenará la nota de cada materia a partir del índice \"1\", y, el título almacenado en el índice \"0\" será incluido en el gráfico.\n",
        "\n",
        "Lo que aprendimos en esta aula:\n",
        "\n",
        "- Aprendimos cómo importar \"Matplotlib\" y a asignarle un apodo de \"plt\".\n",
        "- Vimos que es posible crear listas a partir del código \"range\".\n",
        "- Aprendimos cómo crear gráficos, definiendo el título, las etiquetas y el marcador, además de ocultar otros detalles no relevantes."
      ],
      "metadata": {
        "id": "Pt3bz8AtVWEV"
      }
    }
  ]
}