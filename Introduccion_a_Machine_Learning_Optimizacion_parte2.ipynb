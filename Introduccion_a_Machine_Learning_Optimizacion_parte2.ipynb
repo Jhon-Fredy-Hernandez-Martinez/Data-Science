{
  "nbformat": 4,
  "nbformat_minor": 0,
  "metadata": {
    "colab": {
      "name": "Introduccion_a_Machine_Learning_Optimizacion_parte2.ipynb",
      "provenance": [],
      "collapsed_sections": []
    },
    "kernelspec": {
      "display_name": "Python 3",
      "language": "python",
      "name": "python3"
    }
  },
  "cells": [
    {
      "cell_type": "code",
      "metadata": {
        "colab": {
          "base_uri": "https://localhost:8080/",
          "height": 204
        },
        "id": "y7ik04NlDZMA",
        "outputId": "30ac1853-70e6-45be-bf95-b05c58d1a735"
      },
      "source": [
        "import pandas as pd\n",
        "import numpy as np\n",
        "\n",
        "datos = pd.read_csv(\"carros.csv\")\n",
        "datos.head()"
      ],
      "execution_count": 2,
      "outputs": [
        {
          "output_type": "execute_result",
          "data": {
            "text/html": [
              "<div>\n",
              "<style scoped>\n",
              "    .dataframe tbody tr th:only-of-type {\n",
              "        vertical-align: middle;\n",
              "    }\n",
              "\n",
              "    .dataframe tbody tr th {\n",
              "        vertical-align: top;\n",
              "    }\n",
              "\n",
              "    .dataframe thead th {\n",
              "        text-align: right;\n",
              "    }\n",
              "</style>\n",
              "<table border=\"1\" class=\"dataframe\">\n",
              "  <thead>\n",
              "    <tr style=\"text-align: right;\">\n",
              "      <th></th>\n",
              "      <th>precio</th>\n",
              "      <th>vendido</th>\n",
              "      <th>edad_del_modelo</th>\n",
              "      <th>km_by_year</th>\n",
              "    </tr>\n",
              "  </thead>\n",
              "  <tbody>\n",
              "    <tr>\n",
              "      <th>0</th>\n",
              "      <td>30941.02</td>\n",
              "      <td>1</td>\n",
              "      <td>18</td>\n",
              "      <td>35085.22134</td>\n",
              "    </tr>\n",
              "    <tr>\n",
              "      <th>1</th>\n",
              "      <td>40557.96</td>\n",
              "      <td>1</td>\n",
              "      <td>20</td>\n",
              "      <td>12622.05362</td>\n",
              "    </tr>\n",
              "    <tr>\n",
              "      <th>2</th>\n",
              "      <td>89627.50</td>\n",
              "      <td>0</td>\n",
              "      <td>12</td>\n",
              "      <td>11440.79806</td>\n",
              "    </tr>\n",
              "    <tr>\n",
              "      <th>3</th>\n",
              "      <td>95276.14</td>\n",
              "      <td>0</td>\n",
              "      <td>3</td>\n",
              "      <td>43167.32682</td>\n",
              "    </tr>\n",
              "    <tr>\n",
              "      <th>4</th>\n",
              "      <td>117384.68</td>\n",
              "      <td>1</td>\n",
              "      <td>4</td>\n",
              "      <td>12770.11290</td>\n",
              "    </tr>\n",
              "  </tbody>\n",
              "</table>\n",
              "</div>"
            ],
            "text/plain": [
              "      precio  vendido  edad_del_modelo   km_by_year\n",
              "0   30941.02        1               18  35085.22134\n",
              "1   40557.96        1               20  12622.05362\n",
              "2   89627.50        0               12  11440.79806\n",
              "3   95276.14        0                3  43167.32682\n",
              "4  117384.68        1                4  12770.11290"
            ]
          },
          "metadata": {},
          "execution_count": 2
        }
      ]
    },
    {
      "cell_type": "code",
      "metadata": {
        "colab": {
          "base_uri": "https://localhost:8080/",
          "height": 204
        },
        "id": "b52E4e1hjegN",
        "outputId": "876d7a88-c669-44a6-ff3e-b83740c96c8f"
      },
      "source": [
        "#situacion con los datos ordenados de la peor manera\n",
        "datos_ord = datos.sort_values(\"vendido\", ascending=True)\n",
        "x_ord = datos_ord[[\"precio\", \"edad_del_modelo\",\"km_by_year\"]]\n",
        "y_ord = datos_ord[\"vendido\"]\n",
        "datos_ord.head()"
      ],
      "execution_count": 3,
      "outputs": [
        {
          "output_type": "execute_result",
          "data": {
            "text/html": [
              "<div>\n",
              "<style scoped>\n",
              "    .dataframe tbody tr th:only-of-type {\n",
              "        vertical-align: middle;\n",
              "    }\n",
              "\n",
              "    .dataframe tbody tr th {\n",
              "        vertical-align: top;\n",
              "    }\n",
              "\n",
              "    .dataframe thead th {\n",
              "        text-align: right;\n",
              "    }\n",
              "</style>\n",
              "<table border=\"1\" class=\"dataframe\">\n",
              "  <thead>\n",
              "    <tr style=\"text-align: right;\">\n",
              "      <th></th>\n",
              "      <th>precio</th>\n",
              "      <th>vendido</th>\n",
              "      <th>edad_del_modelo</th>\n",
              "      <th>km_by_year</th>\n",
              "    </tr>\n",
              "  </thead>\n",
              "  <tbody>\n",
              "    <tr>\n",
              "      <th>4999</th>\n",
              "      <td>74023.29</td>\n",
              "      <td>0</td>\n",
              "      <td>12</td>\n",
              "      <td>24812.80412</td>\n",
              "    </tr>\n",
              "    <tr>\n",
              "      <th>5322</th>\n",
              "      <td>84843.49</td>\n",
              "      <td>0</td>\n",
              "      <td>13</td>\n",
              "      <td>23095.63834</td>\n",
              "    </tr>\n",
              "    <tr>\n",
              "      <th>5319</th>\n",
              "      <td>83100.27</td>\n",
              "      <td>0</td>\n",
              "      <td>19</td>\n",
              "      <td>36240.72746</td>\n",
              "    </tr>\n",
              "    <tr>\n",
              "      <th>5316</th>\n",
              "      <td>87932.13</td>\n",
              "      <td>0</td>\n",
              "      <td>16</td>\n",
              "      <td>32249.56426</td>\n",
              "    </tr>\n",
              "    <tr>\n",
              "      <th>5315</th>\n",
              "      <td>77937.01</td>\n",
              "      <td>0</td>\n",
              "      <td>15</td>\n",
              "      <td>28414.50704</td>\n",
              "    </tr>\n",
              "  </tbody>\n",
              "</table>\n",
              "</div>"
            ],
            "text/plain": [
              "        precio  vendido  edad_del_modelo   km_by_year\n",
              "4999  74023.29        0               12  24812.80412\n",
              "5322  84843.49        0               13  23095.63834\n",
              "5319  83100.27        0               19  36240.72746\n",
              "5316  87932.13        0               16  32249.56426\n",
              "5315  77937.01        0               15  28414.50704"
            ]
          },
          "metadata": {},
          "execution_count": 3
        }
      ]
    },
    {
      "cell_type": "code",
      "metadata": {
        "colab": {
          "base_uri": "https://localhost:8080/"
        },
        "id": "ZNT26vFEeYmz",
        "outputId": "a1a656ba-ef3b-4e89-b979-d8396889c924"
      },
      "source": [
        "from sklearn.model_selection import cross_validate\n",
        "from sklearn.dummy import DummyClassifier\n",
        "import numpy as np\n",
        "\n",
        "SEED = 301\n",
        "np.random.seed(SEED)\n",
        "\n",
        "modelo = DummyClassifier()\n",
        "results = cross_validate(modelo, x_ord, y_ord, cv = 10, return_train_score=False)\n",
        "media = results['test_score'].mean()\n",
        "desviacion_estandar = results['test_score'].std()\n",
        "print(\"Accuracy con dummy stratified, 10 = [%.2f, %.2f]\" % ((media - 2 * desviacion_estandar)*100, (media + 2 * desviacion_estandar) * 100))"
      ],
      "execution_count": 4,
      "outputs": [
        {
          "output_type": "stream",
          "name": "stdout",
          "text": [
            "Accuracy con dummy stratified, 10 = [49.79, 53.45]\n"
          ]
        },
        {
          "output_type": "stream",
          "name": "stderr",
          "text": [
            "/usr/local/lib/python3.7/dist-packages/sklearn/dummy.py:132: FutureWarning: The default value of strategy will change from stratified to prior in 0.24.\n",
            "  \"stratified to prior in 0.24.\", FutureWarning)\n"
          ]
        }
      ]
    },
    {
      "cell_type": "code",
      "metadata": {
        "colab": {
          "base_uri": "https://localhost:8080/"
        },
        "id": "73mCcFA_eG_K",
        "outputId": "8120d6e3-8733-4dac-bbbf-aa0a0bf847dd"
      },
      "source": [
        "from sklearn.model_selection import cross_validate\n",
        "from sklearn.tree import DecisionTreeClassifier\n",
        "\n",
        "SEED = 301\n",
        "np.random.seed(SEED)\n",
        "\n",
        "modelo = DecisionTreeClassifier(max_depth=2)\n",
        "results = cross_validate(modelo, x_ord, y_ord, cv = 10, return_train_score=False)\n",
        "media = results['test_score'].mean()\n",
        "desviacion_estandar = results['test_score'].std()\n",
        "print(\"Accuracy con cross validation, 10 = [%.2f, %.2f]\" % ((media - 2 * desviacion_estandar)*100, (media + 2 * desviacion_estandar) * 100))"
      ],
      "execution_count": 5,
      "outputs": [
        {
          "output_type": "stream",
          "name": "stdout",
          "text": [
            "Accuracy con cross validation, 10 = [73.83, 77.73]\n"
          ]
        }
      ]
    },
    {
      "cell_type": "code",
      "metadata": {
        "colab": {
          "base_uri": "https://localhost:8080/",
          "height": 204
        },
        "id": "5C8Y6J-PGpYf",
        "outputId": "7adef2d0-b923-43d8-f5a1-03a037e234c5"
      },
      "source": [
        "#generando datos aleatorios del modelo de carro\n",
        "np.random.seed(SEED)\n",
        "datos['modelo'] = datos.edad_del_modelo + np.random.randint(-2, 3, size=10000)\n",
        "datos.modelo = datos.modelo + abs(datos.modelo.min()) + 1\n",
        "datos.head()"
      ],
      "execution_count": 6,
      "outputs": [
        {
          "output_type": "execute_result",
          "data": {
            "text/html": [
              "<div>\n",
              "<style scoped>\n",
              "    .dataframe tbody tr th:only-of-type {\n",
              "        vertical-align: middle;\n",
              "    }\n",
              "\n",
              "    .dataframe tbody tr th {\n",
              "        vertical-align: top;\n",
              "    }\n",
              "\n",
              "    .dataframe thead th {\n",
              "        text-align: right;\n",
              "    }\n",
              "</style>\n",
              "<table border=\"1\" class=\"dataframe\">\n",
              "  <thead>\n",
              "    <tr style=\"text-align: right;\">\n",
              "      <th></th>\n",
              "      <th>precio</th>\n",
              "      <th>vendido</th>\n",
              "      <th>edad_del_modelo</th>\n",
              "      <th>km_by_year</th>\n",
              "      <th>modelo</th>\n",
              "    </tr>\n",
              "  </thead>\n",
              "  <tbody>\n",
              "    <tr>\n",
              "      <th>0</th>\n",
              "      <td>30941.02</td>\n",
              "      <td>1</td>\n",
              "      <td>18</td>\n",
              "      <td>35085.22134</td>\n",
              "      <td>18</td>\n",
              "    </tr>\n",
              "    <tr>\n",
              "      <th>1</th>\n",
              "      <td>40557.96</td>\n",
              "      <td>1</td>\n",
              "      <td>20</td>\n",
              "      <td>12622.05362</td>\n",
              "      <td>24</td>\n",
              "    </tr>\n",
              "    <tr>\n",
              "      <th>2</th>\n",
              "      <td>89627.50</td>\n",
              "      <td>0</td>\n",
              "      <td>12</td>\n",
              "      <td>11440.79806</td>\n",
              "      <td>14</td>\n",
              "    </tr>\n",
              "    <tr>\n",
              "      <th>3</th>\n",
              "      <td>95276.14</td>\n",
              "      <td>0</td>\n",
              "      <td>3</td>\n",
              "      <td>43167.32682</td>\n",
              "      <td>6</td>\n",
              "    </tr>\n",
              "    <tr>\n",
              "      <th>4</th>\n",
              "      <td>117384.68</td>\n",
              "      <td>1</td>\n",
              "      <td>4</td>\n",
              "      <td>12770.11290</td>\n",
              "      <td>5</td>\n",
              "    </tr>\n",
              "  </tbody>\n",
              "</table>\n",
              "</div>"
            ],
            "text/plain": [
              "      precio  vendido  edad_del_modelo   km_by_year  modelo\n",
              "0   30941.02        1               18  35085.22134      18\n",
              "1   40557.96        1               20  12622.05362      24\n",
              "2   89627.50        0               12  11440.79806      14\n",
              "3   95276.14        0                3  43167.32682       6\n",
              "4  117384.68        1                4  12770.11290       5"
            ]
          },
          "metadata": {},
          "execution_count": 6
        }
      ]
    },
    {
      "cell_type": "code",
      "metadata": {
        "id": "3hmjt7qPHOZY"
      },
      "source": [
        "def imprime_resultados(results):\n",
        "  media = results['test_score'].mean() * 100\n",
        "  desviacion = results['test_score'].std() * 100\n",
        "  print(\"Accuracy media %.2f\" % media)\n",
        "  print(\"Intervalo [%.2f, %.2f]\" % (media - 2 * desviacion, media + 2 * desviacion))"
      ],
      "execution_count": 7,
      "outputs": []
    },
    {
      "cell_type": "code",
      "metadata": {
        "colab": {
          "base_uri": "https://localhost:8080/"
        },
        "id": "goijy0rSS7n-",
        "outputId": "b1d9e496-fe77-4d2d-fbaa-4c8ecc6442f0"
      },
      "source": [
        "# GroupKFold en un pipeline con StandardScaler y SVC\n",
        "\n",
        "from sklearn.preprocessing import StandardScaler\n",
        "from sklearn.svm import SVC\n",
        "from sklearn.pipeline import Pipeline\n",
        "from sklearn.model_selection import GroupKFold\n",
        "\n",
        "SEED = 301\n",
        "np.random.seed(SEED)\n",
        "\n",
        "scaler = StandardScaler()\n",
        "modelo = SVC()\n",
        "\n",
        "pipeline = Pipeline([('transformacion',scaler), ('estimador',modelo)])\n",
        "\n",
        "cv = GroupKFold(n_splits = 10)\n",
        "results = cross_validate(pipeline, x_ord, y_ord, cv = cv, groups = datos.modelo, return_train_score=False)\n",
        "imprime_resultados(results)"
      ],
      "execution_count": 8,
      "outputs": [
        {
          "output_type": "stream",
          "name": "stdout",
          "text": [
            "Accuracy media 76.68\n",
            "Intervalo [74.28, 79.08]\n"
          ]
        }
      ]
    },
    {
      "cell_type": "code",
      "metadata": {
        "colab": {
          "base_uri": "https://localhost:8080/"
        },
        "id": "IKD8uaWkNcUL",
        "outputId": "c740f289-e4e0-4f2f-f7e8-5b75671d6d56"
      },
      "source": [
        "# GroupKFold para analizar como el modelo se comporta con nuevos grupos\n",
        "\n",
        "from sklearn.model_selection import GroupKFold\n",
        "\n",
        "SEED = 301\n",
        "np.random.seed(SEED)\n",
        "\n",
        "cv = GroupKFold(n_splits = 10)\n",
        "modelo = DecisionTreeClassifier(max_depth=2)\n",
        "results = cross_validate(modelo, x_ord, y_ord, cv = cv, groups = datos.modelo, return_train_score=False)\n",
        "imprime_resultados(results)"
      ],
      "execution_count": 9,
      "outputs": [
        {
          "output_type": "stream",
          "name": "stdout",
          "text": [
            "Accuracy media 75.78\n",
            "Intervalo [73.67, 77.90]\n"
          ]
        }
      ]
    },
    {
      "cell_type": "code",
      "metadata": {
        "colab": {
          "base_uri": "https://localhost:8080/",
          "height": 439
        },
        "id": "SmnJSvM2mjE3",
        "outputId": "63829b90-0cdd-4426-9835-46f4e9e8034f"
      },
      "source": [
        "from sklearn.tree import export_graphviz\n",
        "import graphviz\n",
        "\n",
        "modelo.fit(x_ord, y_ord)\n",
        "features = x_ord.columns\n",
        "dot_data = export_graphviz(modelo, out_file=None, filled=True, rounded=True,\n",
        "                class_names=['no','si'],\n",
        "                feature_names = features)\n",
        "\n",
        "graph = graphviz.Source(dot_data)\n",
        "graph"
      ],
      "execution_count": 10,
      "outputs": [
        {
          "output_type": "execute_result",
          "data": {
            "text/plain": [
              "<graphviz.files.Source at 0x7f32ee2afb50>"
            ],
            "image/svg+xml": "<?xml version=\"1.0\" encoding=\"UTF-8\" standalone=\"no\"?>\n<!DOCTYPE svg PUBLIC \"-//W3C//DTD SVG 1.1//EN\"\n \"http://www.w3.org/Graphics/SVG/1.1/DTD/svg11.dtd\">\n<!-- Generated by graphviz version 2.40.1 (20161225.0304)\n -->\n<!-- Title: Tree Pages: 1 -->\n<svg width=\"629pt\" height=\"314pt\"\n viewBox=\"0.00 0.00 629.00 314.00\" xmlns=\"http://www.w3.org/2000/svg\" xmlns:xlink=\"http://www.w3.org/1999/xlink\">\n<g id=\"graph0\" class=\"graph\" transform=\"scale(1 1) rotate(0) translate(4 310)\">\n<title>Tree</title>\n<polygon fill=\"#ffffff\" stroke=\"transparent\" points=\"-4,4 -4,-310 625,-310 625,4 -4,4\"/>\n<!-- 0 -->\n<g id=\"node1\" class=\"node\">\n<title>0</title>\n<path fill=\"#c8e4f8\" stroke=\"#000000\" d=\"M362,-306C362,-306 236,-306 236,-306 230,-306 224,-300 224,-294 224,-294 224,-235 224,-235 224,-229 230,-223 236,-223 236,-223 362,-223 362,-223 368,-223 374,-229 374,-235 374,-235 374,-294 374,-294 374,-300 368,-306 362,-306\"/>\n<text text-anchor=\"middle\" x=\"299\" y=\"-290.8\" font-family=\"Helvetica,sans-Serif\" font-size=\"14.00\" fill=\"#000000\">precio &lt;= 59982.246</text>\n<text text-anchor=\"middle\" x=\"299\" y=\"-275.8\" font-family=\"Helvetica,sans-Serif\" font-size=\"14.00\" fill=\"#000000\">gini = 0.487</text>\n<text text-anchor=\"middle\" x=\"299\" y=\"-260.8\" font-family=\"Helvetica,sans-Serif\" font-size=\"14.00\" fill=\"#000000\">samples = 10000</text>\n<text text-anchor=\"middle\" x=\"299\" y=\"-245.8\" font-family=\"Helvetica,sans-Serif\" font-size=\"14.00\" fill=\"#000000\">value = [4200, 5800]</text>\n<text text-anchor=\"middle\" x=\"299\" y=\"-230.8\" font-family=\"Helvetica,sans-Serif\" font-size=\"14.00\" fill=\"#000000\">class = si</text>\n</g>\n<!-- 1 -->\n<g id=\"node2\" class=\"node\">\n<title>1</title>\n<path fill=\"#52a9e8\" stroke=\"#000000\" d=\"M268,-187C268,-187 142,-187 142,-187 136,-187 130,-181 130,-175 130,-175 130,-116 130,-116 130,-110 136,-104 142,-104 142,-104 268,-104 268,-104 274,-104 280,-110 280,-116 280,-116 280,-175 280,-175 280,-181 274,-187 268,-187\"/>\n<text text-anchor=\"middle\" x=\"205\" y=\"-171.8\" font-family=\"Helvetica,sans-Serif\" font-size=\"14.00\" fill=\"#000000\">precio &lt;= 40083.385</text>\n<text text-anchor=\"middle\" x=\"205\" y=\"-156.8\" font-family=\"Helvetica,sans-Serif\" font-size=\"14.00\" fill=\"#000000\">gini = 0.198</text>\n<text text-anchor=\"middle\" x=\"205\" y=\"-141.8\" font-family=\"Helvetica,sans-Serif\" font-size=\"14.00\" fill=\"#000000\">samples = 4347</text>\n<text text-anchor=\"middle\" x=\"205\" y=\"-126.8\" font-family=\"Helvetica,sans-Serif\" font-size=\"14.00\" fill=\"#000000\">value = [484, 3863]</text>\n<text text-anchor=\"middle\" x=\"205\" y=\"-111.8\" font-family=\"Helvetica,sans-Serif\" font-size=\"14.00\" fill=\"#000000\">class = si</text>\n</g>\n<!-- 0&#45;&gt;1 -->\n<g id=\"edge1\" class=\"edge\">\n<title>0&#45;&gt;1</title>\n<path fill=\"none\" stroke=\"#000000\" d=\"M266.1234,-222.8796C259.0803,-213.9633 251.5707,-204.4565 244.3126,-195.268\"/>\n<polygon fill=\"#000000\" stroke=\"#000000\" points=\"246.9621,-192.9757 238.017,-187.2981 241.4691,-197.3147 246.9621,-192.9757\"/>\n<text text-anchor=\"middle\" x=\"235.1027\" y=\"-208.4276\" font-family=\"Helvetica,sans-Serif\" font-size=\"14.00\" fill=\"#000000\">True</text>\n</g>\n<!-- 4 -->\n<g id=\"node5\" class=\"node\">\n<title>4</title>\n<path fill=\"#f3c3a0\" stroke=\"#000000\" d=\"M477.5,-187C477.5,-187 310.5,-187 310.5,-187 304.5,-187 298.5,-181 298.5,-175 298.5,-175 298.5,-116 298.5,-116 298.5,-110 304.5,-104 310.5,-104 310.5,-104 477.5,-104 477.5,-104 483.5,-104 489.5,-110 489.5,-116 489.5,-116 489.5,-175 489.5,-175 489.5,-181 483.5,-187 477.5,-187\"/>\n<text text-anchor=\"middle\" x=\"394\" y=\"-171.8\" font-family=\"Helvetica,sans-Serif\" font-size=\"14.00\" fill=\"#000000\">km_by_year &lt;= 24124.006</text>\n<text text-anchor=\"middle\" x=\"394\" y=\"-156.8\" font-family=\"Helvetica,sans-Serif\" font-size=\"14.00\" fill=\"#000000\">gini = 0.45</text>\n<text text-anchor=\"middle\" x=\"394\" y=\"-141.8\" font-family=\"Helvetica,sans-Serif\" font-size=\"14.00\" fill=\"#000000\">samples = 5653</text>\n<text text-anchor=\"middle\" x=\"394\" y=\"-126.8\" font-family=\"Helvetica,sans-Serif\" font-size=\"14.00\" fill=\"#000000\">value = [3716, 1937]</text>\n<text text-anchor=\"middle\" x=\"394\" y=\"-111.8\" font-family=\"Helvetica,sans-Serif\" font-size=\"14.00\" fill=\"#000000\">class = no</text>\n</g>\n<!-- 0&#45;&gt;4 -->\n<g id=\"edge4\" class=\"edge\">\n<title>0&#45;&gt;4</title>\n<path fill=\"none\" stroke=\"#000000\" d=\"M332.2264,-222.8796C339.3444,-213.9633 346.9339,-204.4565 354.2692,-195.268\"/>\n<polygon fill=\"#000000\" stroke=\"#000000\" points=\"357.1281,-197.2968 360.6318,-187.2981 351.6575,-192.9295 357.1281,-197.2968\"/>\n<text text-anchor=\"middle\" x=\"363.4181\" y=\"-208.4423\" font-family=\"Helvetica,sans-Serif\" font-size=\"14.00\" fill=\"#000000\">False</text>\n</g>\n<!-- 2 -->\n<g id=\"node3\" class=\"node\">\n<title>2</title>\n<path fill=\"#399de5\" stroke=\"#000000\" d=\"M112,-68C112,-68 12,-68 12,-68 6,-68 0,-62 0,-56 0,-56 0,-12 0,-12 0,-6 6,0 12,0 12,0 112,0 112,0 118,0 124,-6 124,-12 124,-12 124,-56 124,-56 124,-62 118,-68 112,-68\"/>\n<text text-anchor=\"middle\" x=\"62\" y=\"-52.8\" font-family=\"Helvetica,sans-Serif\" font-size=\"14.00\" fill=\"#000000\">gini = 0.0</text>\n<text text-anchor=\"middle\" x=\"62\" y=\"-37.8\" font-family=\"Helvetica,sans-Serif\" font-size=\"14.00\" fill=\"#000000\">samples = 1935</text>\n<text text-anchor=\"middle\" x=\"62\" y=\"-22.8\" font-family=\"Helvetica,sans-Serif\" font-size=\"14.00\" fill=\"#000000\">value = [0, 1935]</text>\n<text text-anchor=\"middle\" x=\"62\" y=\"-7.8\" font-family=\"Helvetica,sans-Serif\" font-size=\"14.00\" fill=\"#000000\">class = si</text>\n</g>\n<!-- 1&#45;&gt;2 -->\n<g id=\"edge2\" class=\"edge\">\n<title>1&#45;&gt;2</title>\n<path fill=\"none\" stroke=\"#000000\" d=\"M151.7521,-103.9815C139.3756,-94.3313 126.2172,-84.0714 113.8997,-74.4673\"/>\n<polygon fill=\"#000000\" stroke=\"#000000\" points=\"115.9818,-71.6525 105.9435,-68.2637 111.6775,-77.1728 115.9818,-71.6525\"/>\n</g>\n<!-- 3 -->\n<g id=\"node4\" class=\"node\">\n<title>3</title>\n<path fill=\"#6bb6ec\" stroke=\"#000000\" d=\"M270,-68C270,-68 154,-68 154,-68 148,-68 142,-62 142,-56 142,-56 142,-12 142,-12 142,-6 148,0 154,0 154,0 270,0 270,0 276,0 282,-6 282,-12 282,-12 282,-56 282,-56 282,-62 276,-68 270,-68\"/>\n<text text-anchor=\"middle\" x=\"212\" y=\"-52.8\" font-family=\"Helvetica,sans-Serif\" font-size=\"14.00\" fill=\"#000000\">gini = 0.321</text>\n<text text-anchor=\"middle\" x=\"212\" y=\"-37.8\" font-family=\"Helvetica,sans-Serif\" font-size=\"14.00\" fill=\"#000000\">samples = 2412</text>\n<text text-anchor=\"middle\" x=\"212\" y=\"-22.8\" font-family=\"Helvetica,sans-Serif\" font-size=\"14.00\" fill=\"#000000\">value = [484, 1928]</text>\n<text text-anchor=\"middle\" x=\"212\" y=\"-7.8\" font-family=\"Helvetica,sans-Serif\" font-size=\"14.00\" fill=\"#000000\">class = si</text>\n</g>\n<!-- 1&#45;&gt;3 -->\n<g id=\"edge3\" class=\"edge\">\n<title>1&#45;&gt;3</title>\n<path fill=\"none\" stroke=\"#000000\" d=\"M207.6065,-103.9815C208.1316,-95.618 208.6854,-86.7965 209.2163,-78.3409\"/>\n<polygon fill=\"#000000\" stroke=\"#000000\" points=\"212.7154,-78.4634 209.8489,-68.2637 205.7291,-78.0247 212.7154,-78.4634\"/>\n</g>\n<!-- 5 -->\n<g id=\"node6\" class=\"node\">\n<title>5</title>\n<path fill=\"#fcefe5\" stroke=\"#000000\" d=\"M450.5,-68C450.5,-68 325.5,-68 325.5,-68 319.5,-68 313.5,-62 313.5,-56 313.5,-56 313.5,-12 313.5,-12 313.5,-6 319.5,0 325.5,0 325.5,0 450.5,0 450.5,0 456.5,0 462.5,-6 462.5,-12 462.5,-12 462.5,-56 462.5,-56 462.5,-62 456.5,-68 450.5,-68\"/>\n<text text-anchor=\"middle\" x=\"388\" y=\"-52.8\" font-family=\"Helvetica,sans-Serif\" font-size=\"14.00\" fill=\"#000000\">gini = 0.498</text>\n<text text-anchor=\"middle\" x=\"388\" y=\"-37.8\" font-family=\"Helvetica,sans-Serif\" font-size=\"14.00\" fill=\"#000000\">samples = 3513</text>\n<text text-anchor=\"middle\" x=\"388\" y=\"-22.8\" font-family=\"Helvetica,sans-Serif\" font-size=\"14.00\" fill=\"#000000\">value = [1879, 1634]</text>\n<text text-anchor=\"middle\" x=\"388\" y=\"-7.8\" font-family=\"Helvetica,sans-Serif\" font-size=\"14.00\" fill=\"#000000\">class = no</text>\n</g>\n<!-- 4&#45;&gt;5 -->\n<g id=\"edge5\" class=\"edge\">\n<title>4&#45;&gt;5</title>\n<path fill=\"none\" stroke=\"#000000\" d=\"M391.7658,-103.9815C391.3158,-95.618 390.8411,-86.7965 390.3861,-78.3409\"/>\n<polygon fill=\"#000000\" stroke=\"#000000\" points=\"393.8762,-78.0611 389.8438,-68.2637 386.8863,-78.4373 393.8762,-78.0611\"/>\n</g>\n<!-- 6 -->\n<g id=\"node7\" class=\"node\">\n<title>6</title>\n<path fill=\"#e9965a\" stroke=\"#000000\" d=\"M609,-68C609,-68 493,-68 493,-68 487,-68 481,-62 481,-56 481,-56 481,-12 481,-12 481,-6 487,0 493,0 493,0 609,0 609,0 615,0 621,-6 621,-12 621,-12 621,-56 621,-56 621,-62 615,-68 609,-68\"/>\n<text text-anchor=\"middle\" x=\"551\" y=\"-52.8\" font-family=\"Helvetica,sans-Serif\" font-size=\"14.00\" fill=\"#000000\">gini = 0.243</text>\n<text text-anchor=\"middle\" x=\"551\" y=\"-37.8\" font-family=\"Helvetica,sans-Serif\" font-size=\"14.00\" fill=\"#000000\">samples = 2140</text>\n<text text-anchor=\"middle\" x=\"551\" y=\"-22.8\" font-family=\"Helvetica,sans-Serif\" font-size=\"14.00\" fill=\"#000000\">value = [1837, 303]</text>\n<text text-anchor=\"middle\" x=\"551\" y=\"-7.8\" font-family=\"Helvetica,sans-Serif\" font-size=\"14.00\" fill=\"#000000\">class = no</text>\n</g>\n<!-- 4&#45;&gt;6 -->\n<g id=\"edge6\" class=\"edge\">\n<title>4&#45;&gt;6</title>\n<path fill=\"none\" stroke=\"#000000\" d=\"M452.461,-103.9815C466.2508,-94.1881 480.9247,-83.7668 494.6205,-74.0402\"/>\n<polygon fill=\"#000000\" stroke=\"#000000\" points=\"496.8785,-76.7295 503.005,-68.0856 492.8253,-71.0223 496.8785,-76.7295\"/>\n</g>\n</g>\n</svg>\n"
          },
          "metadata": {},
          "execution_count": 10
        }
      ]
    },
    {
      "cell_type": "code",
      "metadata": {
        "colab": {
          "base_uri": "https://localhost:8080/"
        },
        "id": "Cc_BeilKp-FN",
        "outputId": "44bc779e-ef90-480b-f59d-23509f0fee7d"
      },
      "source": [
        "# GroupKFold para analizar como el modelo se comporta con nuevos grupos\n",
        "\n",
        "from sklearn.model_selection import GroupKFold\n",
        "\n",
        "SEED = 301\n",
        "np.random.seed(SEED)\n",
        "\n",
        "cv = GroupKFold(n_splits = 10)\n",
        "modelo = DecisionTreeClassifier(max_depth=3)\n",
        "results = cross_validate(modelo, x_ord, y_ord, cv = cv, groups = datos.modelo, return_train_score=False)\n",
        "imprime_resultados(results)"
      ],
      "execution_count": 11,
      "outputs": [
        {
          "output_type": "stream",
          "name": "stdout",
          "text": [
            "Accuracy media 78.67\n",
            "Intervalo [76.40, 80.94]\n"
          ]
        }
      ]
    },
    {
      "cell_type": "code",
      "metadata": {
        "colab": {
          "base_uri": "https://localhost:8080/",
          "height": 598
        },
        "id": "2g4HjxvdqCT2",
        "outputId": "d22a0a03-e1ca-41af-a9f9-c88464607c73"
      },
      "source": [
        "from sklearn.tree import export_graphviz\n",
        "import graphviz\n",
        "\n",
        "modelo.fit(x_ord, y_ord)\n",
        "features = x_ord.columns\n",
        "dot_data = export_graphviz(modelo, out_file=None, filled=True, rounded=True,\n",
        "                class_names=['no','si'],\n",
        "                feature_names = features)\n",
        "\n",
        "graph = graphviz.Source(dot_data)\n",
        "graph"
      ],
      "execution_count": 12,
      "outputs": [
        {
          "output_type": "execute_result",
          "data": {
            "text/plain": [
              "<graphviz.files.Source at 0x7f32d4f65490>"
            ],
            "image/svg+xml": "<?xml version=\"1.0\" encoding=\"UTF-8\" standalone=\"no\"?>\n<!DOCTYPE svg PUBLIC \"-//W3C//DTD SVG 1.1//EN\"\n \"http://www.w3.org/Graphics/SVG/1.1/DTD/svg11.dtd\">\n<!-- Generated by graphviz version 2.40.1 (20161225.0304)\n -->\n<!-- Title: Tree Pages: 1 -->\n<svg width=\"913pt\" height=\"433pt\"\n viewBox=\"0.00 0.00 913.00 433.00\" xmlns=\"http://www.w3.org/2000/svg\" xmlns:xlink=\"http://www.w3.org/1999/xlink\">\n<g id=\"graph0\" class=\"graph\" transform=\"scale(1 1) rotate(0) translate(4 429)\">\n<title>Tree</title>\n<polygon fill=\"#ffffff\" stroke=\"transparent\" points=\"-4,4 -4,-429 909,-429 909,4 -4,4\"/>\n<!-- 0 -->\n<g id=\"node1\" class=\"node\">\n<title>0</title>\n<path fill=\"#c8e4f8\" stroke=\"#000000\" d=\"M374,-425C374,-425 248,-425 248,-425 242,-425 236,-419 236,-413 236,-413 236,-354 236,-354 236,-348 242,-342 248,-342 248,-342 374,-342 374,-342 380,-342 386,-348 386,-354 386,-354 386,-413 386,-413 386,-419 380,-425 374,-425\"/>\n<text text-anchor=\"middle\" x=\"311\" y=\"-409.8\" font-family=\"Helvetica,sans-Serif\" font-size=\"14.00\" fill=\"#000000\">precio &lt;= 59982.246</text>\n<text text-anchor=\"middle\" x=\"311\" y=\"-394.8\" font-family=\"Helvetica,sans-Serif\" font-size=\"14.00\" fill=\"#000000\">gini = 0.487</text>\n<text text-anchor=\"middle\" x=\"311\" y=\"-379.8\" font-family=\"Helvetica,sans-Serif\" font-size=\"14.00\" fill=\"#000000\">samples = 10000</text>\n<text text-anchor=\"middle\" x=\"311\" y=\"-364.8\" font-family=\"Helvetica,sans-Serif\" font-size=\"14.00\" fill=\"#000000\">value = [4200, 5800]</text>\n<text text-anchor=\"middle\" x=\"311\" y=\"-349.8\" font-family=\"Helvetica,sans-Serif\" font-size=\"14.00\" fill=\"#000000\">class = si</text>\n</g>\n<!-- 1 -->\n<g id=\"node2\" class=\"node\">\n<title>1</title>\n<path fill=\"#52a9e8\" stroke=\"#000000\" d=\"M280,-306C280,-306 154,-306 154,-306 148,-306 142,-300 142,-294 142,-294 142,-235 142,-235 142,-229 148,-223 154,-223 154,-223 280,-223 280,-223 286,-223 292,-229 292,-235 292,-235 292,-294 292,-294 292,-300 286,-306 280,-306\"/>\n<text text-anchor=\"middle\" x=\"217\" y=\"-290.8\" font-family=\"Helvetica,sans-Serif\" font-size=\"14.00\" fill=\"#000000\">precio &lt;= 40083.385</text>\n<text text-anchor=\"middle\" x=\"217\" y=\"-275.8\" font-family=\"Helvetica,sans-Serif\" font-size=\"14.00\" fill=\"#000000\">gini = 0.198</text>\n<text text-anchor=\"middle\" x=\"217\" y=\"-260.8\" font-family=\"Helvetica,sans-Serif\" font-size=\"14.00\" fill=\"#000000\">samples = 4347</text>\n<text text-anchor=\"middle\" x=\"217\" y=\"-245.8\" font-family=\"Helvetica,sans-Serif\" font-size=\"14.00\" fill=\"#000000\">value = [484, 3863]</text>\n<text text-anchor=\"middle\" x=\"217\" y=\"-230.8\" font-family=\"Helvetica,sans-Serif\" font-size=\"14.00\" fill=\"#000000\">class = si</text>\n</g>\n<!-- 0&#45;&gt;1 -->\n<g id=\"edge1\" class=\"edge\">\n<title>0&#45;&gt;1</title>\n<path fill=\"none\" stroke=\"#000000\" d=\"M278.1234,-341.8796C271.0803,-332.9633 263.5707,-323.4565 256.3126,-314.268\"/>\n<polygon fill=\"#000000\" stroke=\"#000000\" points=\"258.9621,-311.9757 250.017,-306.2981 253.4691,-316.3147 258.9621,-311.9757\"/>\n<text text-anchor=\"middle\" x=\"247.1027\" y=\"-327.4276\" font-family=\"Helvetica,sans-Serif\" font-size=\"14.00\" fill=\"#000000\">True</text>\n</g>\n<!-- 6 -->\n<g id=\"node7\" class=\"node\">\n<title>6</title>\n<path fill=\"#f3c3a0\" stroke=\"#000000\" d=\"M545.5,-306C545.5,-306 378.5,-306 378.5,-306 372.5,-306 366.5,-300 366.5,-294 366.5,-294 366.5,-235 366.5,-235 366.5,-229 372.5,-223 378.5,-223 378.5,-223 545.5,-223 545.5,-223 551.5,-223 557.5,-229 557.5,-235 557.5,-235 557.5,-294 557.5,-294 557.5,-300 551.5,-306 545.5,-306\"/>\n<text text-anchor=\"middle\" x=\"462\" y=\"-290.8\" font-family=\"Helvetica,sans-Serif\" font-size=\"14.00\" fill=\"#000000\">km_by_year &lt;= 24124.006</text>\n<text text-anchor=\"middle\" x=\"462\" y=\"-275.8\" font-family=\"Helvetica,sans-Serif\" font-size=\"14.00\" fill=\"#000000\">gini = 0.45</text>\n<text text-anchor=\"middle\" x=\"462\" y=\"-260.8\" font-family=\"Helvetica,sans-Serif\" font-size=\"14.00\" fill=\"#000000\">samples = 5653</text>\n<text text-anchor=\"middle\" x=\"462\" y=\"-245.8\" font-family=\"Helvetica,sans-Serif\" font-size=\"14.00\" fill=\"#000000\">value = [3716, 1937]</text>\n<text text-anchor=\"middle\" x=\"462\" y=\"-230.8\" font-family=\"Helvetica,sans-Serif\" font-size=\"14.00\" fill=\"#000000\">class = no</text>\n</g>\n<!-- 0&#45;&gt;6 -->\n<g id=\"edge6\" class=\"edge\">\n<title>0&#45;&gt;6</title>\n<path fill=\"none\" stroke=\"#000000\" d=\"M363.8125,-341.8796C375.8818,-332.368 388.8039,-322.1843 401.1788,-312.432\"/>\n<polygon fill=\"#000000\" stroke=\"#000000\" points=\"403.5296,-315.0356 409.2173,-306.0969 399.1968,-309.5377 403.5296,-315.0356\"/>\n<text text-anchor=\"middle\" x=\"406.275\" y=\"-327.2232\" font-family=\"Helvetica,sans-Serif\" font-size=\"14.00\" fill=\"#000000\">False</text>\n</g>\n<!-- 2 -->\n<g id=\"node3\" class=\"node\">\n<title>2</title>\n<path fill=\"#399de5\" stroke=\"#000000\" d=\"M112,-179.5C112,-179.5 12,-179.5 12,-179.5 6,-179.5 0,-173.5 0,-167.5 0,-167.5 0,-123.5 0,-123.5 0,-117.5 6,-111.5 12,-111.5 12,-111.5 112,-111.5 112,-111.5 118,-111.5 124,-117.5 124,-123.5 124,-123.5 124,-167.5 124,-167.5 124,-173.5 118,-179.5 112,-179.5\"/>\n<text text-anchor=\"middle\" x=\"62\" y=\"-164.3\" font-family=\"Helvetica,sans-Serif\" font-size=\"14.00\" fill=\"#000000\">gini = 0.0</text>\n<text text-anchor=\"middle\" x=\"62\" y=\"-149.3\" font-family=\"Helvetica,sans-Serif\" font-size=\"14.00\" fill=\"#000000\">samples = 1935</text>\n<text text-anchor=\"middle\" x=\"62\" y=\"-134.3\" font-family=\"Helvetica,sans-Serif\" font-size=\"14.00\" fill=\"#000000\">value = [0, 1935]</text>\n<text text-anchor=\"middle\" x=\"62\" y=\"-119.3\" font-family=\"Helvetica,sans-Serif\" font-size=\"14.00\" fill=\"#000000\">class = si</text>\n</g>\n<!-- 1&#45;&gt;2 -->\n<g id=\"edge2\" class=\"edge\">\n<title>1&#45;&gt;2</title>\n<path fill=\"none\" stroke=\"#000000\" d=\"M162.7885,-222.8796C147.1769,-210.8938 130.1753,-197.841 114.6592,-185.9287\"/>\n<polygon fill=\"#000000\" stroke=\"#000000\" points=\"116.7593,-183.1285 106.6959,-179.8149 112.4965,-188.6808 116.7593,-183.1285\"/>\n</g>\n<!-- 3 -->\n<g id=\"node4\" class=\"node\">\n<title>3</title>\n<path fill=\"#6bb6ec\" stroke=\"#000000\" d=\"M280,-187C280,-187 154,-187 154,-187 148,-187 142,-181 142,-175 142,-175 142,-116 142,-116 142,-110 148,-104 154,-104 154,-104 280,-104 280,-104 286,-104 292,-110 292,-116 292,-116 292,-175 292,-175 292,-181 286,-187 280,-187\"/>\n<text text-anchor=\"middle\" x=\"217\" y=\"-171.8\" font-family=\"Helvetica,sans-Serif\" font-size=\"14.00\" fill=\"#000000\">precio &lt;= 41083.029</text>\n<text text-anchor=\"middle\" x=\"217\" y=\"-156.8\" font-family=\"Helvetica,sans-Serif\" font-size=\"14.00\" fill=\"#000000\">gini = 0.321</text>\n<text text-anchor=\"middle\" x=\"217\" y=\"-141.8\" font-family=\"Helvetica,sans-Serif\" font-size=\"14.00\" fill=\"#000000\">samples = 2412</text>\n<text text-anchor=\"middle\" x=\"217\" y=\"-126.8\" font-family=\"Helvetica,sans-Serif\" font-size=\"14.00\" fill=\"#000000\">value = [484, 1928]</text>\n<text text-anchor=\"middle\" x=\"217\" y=\"-111.8\" font-family=\"Helvetica,sans-Serif\" font-size=\"14.00\" fill=\"#000000\">class = si</text>\n</g>\n<!-- 1&#45;&gt;3 -->\n<g id=\"edge3\" class=\"edge\">\n<title>1&#45;&gt;3</title>\n<path fill=\"none\" stroke=\"#000000\" d=\"M217,-222.8796C217,-214.6838 217,-205.9891 217,-197.5013\"/>\n<polygon fill=\"#000000\" stroke=\"#000000\" points=\"220.5001,-197.298 217,-187.2981 213.5001,-197.2981 220.5001,-197.298\"/>\n</g>\n<!-- 4 -->\n<g id=\"node5\" class=\"node\">\n<title>4</title>\n<path fill=\"#95cbf1\" stroke=\"#000000\" d=\"M117,-68C117,-68 25,-68 25,-68 19,-68 13,-62 13,-56 13,-56 13,-12 13,-12 13,-6 19,0 25,0 25,0 117,0 117,0 123,0 129,-6 129,-12 129,-12 129,-56 129,-56 129,-62 123,-68 117,-68\"/>\n<text text-anchor=\"middle\" x=\"71\" y=\"-52.8\" font-family=\"Helvetica,sans-Serif\" font-size=\"14.00\" fill=\"#000000\">gini = 0.434</text>\n<text text-anchor=\"middle\" x=\"71\" y=\"-37.8\" font-family=\"Helvetica,sans-Serif\" font-size=\"14.00\" fill=\"#000000\">samples = 110</text>\n<text text-anchor=\"middle\" x=\"71\" y=\"-22.8\" font-family=\"Helvetica,sans-Serif\" font-size=\"14.00\" fill=\"#000000\">value = [35, 75]</text>\n<text text-anchor=\"middle\" x=\"71\" y=\"-7.8\" font-family=\"Helvetica,sans-Serif\" font-size=\"14.00\" fill=\"#000000\">class = si</text>\n</g>\n<!-- 3&#45;&gt;4 -->\n<g id=\"edge4\" class=\"edge\">\n<title>3&#45;&gt;4</title>\n<path fill=\"none\" stroke=\"#000000\" d=\"M162.635,-103.9815C149.9989,-94.3313 136.5644,-84.0714 123.9885,-74.4673\"/>\n<polygon fill=\"#000000\" stroke=\"#000000\" points=\"125.9372,-71.5515 115.8654,-68.2637 121.6886,-77.1148 125.9372,-71.5515\"/>\n</g>\n<!-- 5 -->\n<g id=\"node6\" class=\"node\">\n<title>5</title>\n<path fill=\"#69b5eb\" stroke=\"#000000\" d=\"M275,-68C275,-68 159,-68 159,-68 153,-68 147,-62 147,-56 147,-56 147,-12 147,-12 147,-6 153,0 159,0 159,0 275,0 275,0 281,0 287,-6 287,-12 287,-12 287,-56 287,-56 287,-62 281,-68 275,-68\"/>\n<text text-anchor=\"middle\" x=\"217\" y=\"-52.8\" font-family=\"Helvetica,sans-Serif\" font-size=\"14.00\" fill=\"#000000\">gini = 0.314</text>\n<text text-anchor=\"middle\" x=\"217\" y=\"-37.8\" font-family=\"Helvetica,sans-Serif\" font-size=\"14.00\" fill=\"#000000\">samples = 2302</text>\n<text text-anchor=\"middle\" x=\"217\" y=\"-22.8\" font-family=\"Helvetica,sans-Serif\" font-size=\"14.00\" fill=\"#000000\">value = [449, 1853]</text>\n<text text-anchor=\"middle\" x=\"217\" y=\"-7.8\" font-family=\"Helvetica,sans-Serif\" font-size=\"14.00\" fill=\"#000000\">class = si</text>\n</g>\n<!-- 3&#45;&gt;5 -->\n<g id=\"edge5\" class=\"edge\">\n<title>3&#45;&gt;5</title>\n<path fill=\"none\" stroke=\"#000000\" d=\"M217,-103.9815C217,-95.618 217,-86.7965 217,-78.3409\"/>\n<polygon fill=\"#000000\" stroke=\"#000000\" points=\"220.5001,-78.2636 217,-68.2637 213.5001,-78.2637 220.5001,-78.2636\"/>\n</g>\n<!-- 7 -->\n<g id=\"node8\" class=\"node\">\n<title>7</title>\n<path fill=\"#fcefe5\" stroke=\"#000000\" d=\"M524.5,-187C524.5,-187 399.5,-187 399.5,-187 393.5,-187 387.5,-181 387.5,-175 387.5,-175 387.5,-116 387.5,-116 387.5,-110 393.5,-104 399.5,-104 399.5,-104 524.5,-104 524.5,-104 530.5,-104 536.5,-110 536.5,-116 536.5,-116 536.5,-175 536.5,-175 536.5,-181 530.5,-187 524.5,-187\"/>\n<text text-anchor=\"middle\" x=\"462\" y=\"-171.8\" font-family=\"Helvetica,sans-Serif\" font-size=\"14.00\" fill=\"#000000\">precio &lt;= 99974.41</text>\n<text text-anchor=\"middle\" x=\"462\" y=\"-156.8\" font-family=\"Helvetica,sans-Serif\" font-size=\"14.00\" fill=\"#000000\">gini = 0.498</text>\n<text text-anchor=\"middle\" x=\"462\" y=\"-141.8\" font-family=\"Helvetica,sans-Serif\" font-size=\"14.00\" fill=\"#000000\">samples = 3513</text>\n<text text-anchor=\"middle\" x=\"462\" y=\"-126.8\" font-family=\"Helvetica,sans-Serif\" font-size=\"14.00\" fill=\"#000000\">value = [1879, 1634]</text>\n<text text-anchor=\"middle\" x=\"462\" y=\"-111.8\" font-family=\"Helvetica,sans-Serif\" font-size=\"14.00\" fill=\"#000000\">class = no</text>\n</g>\n<!-- 6&#45;&gt;7 -->\n<g id=\"edge7\" class=\"edge\">\n<title>6&#45;&gt;7</title>\n<path fill=\"none\" stroke=\"#000000\" d=\"M462,-222.8796C462,-214.6838 462,-205.9891 462,-197.5013\"/>\n<polygon fill=\"#000000\" stroke=\"#000000\" points=\"465.5001,-197.298 462,-187.2981 458.5001,-197.2981 465.5001,-197.298\"/>\n</g>\n<!-- 10 -->\n<g id=\"node11\" class=\"node\">\n<title>10</title>\n<path fill=\"#e9965a\" stroke=\"#000000\" d=\"M756,-187C756,-187 622,-187 622,-187 616,-187 610,-181 610,-175 610,-175 610,-116 610,-116 610,-110 616,-104 622,-104 622,-104 756,-104 756,-104 762,-104 768,-110 768,-116 768,-116 768,-175 768,-175 768,-181 762,-187 756,-187\"/>\n<text text-anchor=\"middle\" x=\"689\" y=\"-171.8\" font-family=\"Helvetica,sans-Serif\" font-size=\"14.00\" fill=\"#000000\">precio &lt;= 100076.957</text>\n<text text-anchor=\"middle\" x=\"689\" y=\"-156.8\" font-family=\"Helvetica,sans-Serif\" font-size=\"14.00\" fill=\"#000000\">gini = 0.243</text>\n<text text-anchor=\"middle\" x=\"689\" y=\"-141.8\" font-family=\"Helvetica,sans-Serif\" font-size=\"14.00\" fill=\"#000000\">samples = 2140</text>\n<text text-anchor=\"middle\" x=\"689\" y=\"-126.8\" font-family=\"Helvetica,sans-Serif\" font-size=\"14.00\" fill=\"#000000\">value = [1837, 303]</text>\n<text text-anchor=\"middle\" x=\"689\" y=\"-111.8\" font-family=\"Helvetica,sans-Serif\" font-size=\"14.00\" fill=\"#000000\">class = no</text>\n</g>\n<!-- 6&#45;&gt;10 -->\n<g id=\"edge10\" class=\"edge\">\n<title>6&#45;&gt;10</title>\n<path fill=\"none\" stroke=\"#000000\" d=\"M541.3936,-222.8796C560.5744,-212.8244 581.1878,-202.0183 600.7475,-191.7645\"/>\n<polygon fill=\"#000000\" stroke=\"#000000\" points=\"602.4195,-194.8398 609.6512,-187.0969 599.1694,-188.6401 602.4195,-194.8398\"/>\n</g>\n<!-- 8 -->\n<g id=\"node9\" class=\"node\">\n<title>8</title>\n<path fill=\"#f9e0ce\" stroke=\"#000000\" d=\"M442.5,-68C442.5,-68 317.5,-68 317.5,-68 311.5,-68 305.5,-62 305.5,-56 305.5,-56 305.5,-12 305.5,-12 305.5,-6 311.5,0 317.5,0 317.5,0 442.5,0 442.5,0 448.5,0 454.5,-6 454.5,-12 454.5,-12 454.5,-56 454.5,-56 454.5,-62 448.5,-68 442.5,-68\"/>\n<text text-anchor=\"middle\" x=\"380\" y=\"-52.8\" font-family=\"Helvetica,sans-Serif\" font-size=\"14.00\" fill=\"#000000\">gini = 0.49</text>\n<text text-anchor=\"middle\" x=\"380\" y=\"-37.8\" font-family=\"Helvetica,sans-Serif\" font-size=\"14.00\" fill=\"#000000\">samples = 2944</text>\n<text text-anchor=\"middle\" x=\"380\" y=\"-22.8\" font-family=\"Helvetica,sans-Serif\" font-size=\"14.00\" fill=\"#000000\">value = [1682, 1262]</text>\n<text text-anchor=\"middle\" x=\"380\" y=\"-7.8\" font-family=\"Helvetica,sans-Serif\" font-size=\"14.00\" fill=\"#000000\">class = no</text>\n</g>\n<!-- 7&#45;&gt;8 -->\n<g id=\"edge8\" class=\"edge\">\n<title>7&#45;&gt;8</title>\n<path fill=\"none\" stroke=\"#000000\" d=\"M431.4662,-103.9815C424.8424,-94.9747 417.8279,-85.4367 411.1795,-76.3965\"/>\n<polygon fill=\"#000000\" stroke=\"#000000\" points=\"413.9426,-74.2461 405.1984,-68.2637 408.3034,-78.3933 413.9426,-74.2461\"/>\n</g>\n<!-- 9 -->\n<g id=\"node10\" class=\"node\">\n<title>9</title>\n<path fill=\"#a2d1f3\" stroke=\"#000000\" d=\"M593,-68C593,-68 485,-68 485,-68 479,-68 473,-62 473,-56 473,-56 473,-12 473,-12 473,-6 479,0 485,0 485,0 593,0 593,0 599,0 605,-6 605,-12 605,-12 605,-56 605,-56 605,-62 599,-68 593,-68\"/>\n<text text-anchor=\"middle\" x=\"539\" y=\"-52.8\" font-family=\"Helvetica,sans-Serif\" font-size=\"14.00\" fill=\"#000000\">gini = 0.453</text>\n<text text-anchor=\"middle\" x=\"539\" y=\"-37.8\" font-family=\"Helvetica,sans-Serif\" font-size=\"14.00\" fill=\"#000000\">samples = 569</text>\n<text text-anchor=\"middle\" x=\"539\" y=\"-22.8\" font-family=\"Helvetica,sans-Serif\" font-size=\"14.00\" fill=\"#000000\">value = [197, 372]</text>\n<text text-anchor=\"middle\" x=\"539\" y=\"-7.8\" font-family=\"Helvetica,sans-Serif\" font-size=\"14.00\" fill=\"#000000\">class = si</text>\n</g>\n<!-- 7&#45;&gt;9 -->\n<g id=\"edge9\" class=\"edge\">\n<title>7&#45;&gt;9</title>\n<path fill=\"none\" stroke=\"#000000\" d=\"M490.672,-103.9815C496.8285,-95.0666 503.3443,-85.6313 509.5305,-76.6734\"/>\n<polygon fill=\"#000000\" stroke=\"#000000\" points=\"512.5355,-78.4811 515.3381,-68.2637 506.7755,-74.5034 512.5355,-78.4811\"/>\n</g>\n<!-- 11 -->\n<g id=\"node12\" class=\"node\">\n<title>11</title>\n<path fill=\"#e68742\" stroke=\"#000000\" d=\"M743,-68C743,-68 635,-68 635,-68 629,-68 623,-62 623,-56 623,-56 623,-12 623,-12 623,-6 629,0 635,0 635,0 743,0 743,0 749,0 755,-6 755,-12 755,-12 755,-56 755,-56 755,-62 749,-68 743,-68\"/>\n<text text-anchor=\"middle\" x=\"689\" y=\"-52.8\" font-family=\"Helvetica,sans-Serif\" font-size=\"14.00\" fill=\"#000000\">gini = 0.082</text>\n<text text-anchor=\"middle\" x=\"689\" y=\"-37.8\" font-family=\"Helvetica,sans-Serif\" font-size=\"14.00\" fill=\"#000000\">samples = 1809</text>\n<text text-anchor=\"middle\" x=\"689\" y=\"-22.8\" font-family=\"Helvetica,sans-Serif\" font-size=\"14.00\" fill=\"#000000\">value = [1732, 77]</text>\n<text text-anchor=\"middle\" x=\"689\" y=\"-7.8\" font-family=\"Helvetica,sans-Serif\" font-size=\"14.00\" fill=\"#000000\">class = no</text>\n</g>\n<!-- 10&#45;&gt;11 -->\n<g id=\"edge11\" class=\"edge\">\n<title>10&#45;&gt;11</title>\n<path fill=\"none\" stroke=\"#000000\" d=\"M689,-103.9815C689,-95.618 689,-86.7965 689,-78.3409\"/>\n<polygon fill=\"#000000\" stroke=\"#000000\" points=\"692.5001,-78.2636 689,-68.2637 685.5001,-78.2637 692.5001,-78.2636\"/>\n</g>\n<!-- 12 -->\n<g id=\"node13\" class=\"node\">\n<title>12</title>\n<path fill=\"#95cbf1\" stroke=\"#000000\" d=\"M893,-68C893,-68 785,-68 785,-68 779,-68 773,-62 773,-56 773,-56 773,-12 773,-12 773,-6 779,0 785,0 785,0 893,0 893,0 899,0 905,-6 905,-12 905,-12 905,-56 905,-56 905,-62 899,-68 893,-68\"/>\n<text text-anchor=\"middle\" x=\"839\" y=\"-52.8\" font-family=\"Helvetica,sans-Serif\" font-size=\"14.00\" fill=\"#000000\">gini = 0.433</text>\n<text text-anchor=\"middle\" x=\"839\" y=\"-37.8\" font-family=\"Helvetica,sans-Serif\" font-size=\"14.00\" fill=\"#000000\">samples = 331</text>\n<text text-anchor=\"middle\" x=\"839\" y=\"-22.8\" font-family=\"Helvetica,sans-Serif\" font-size=\"14.00\" fill=\"#000000\">value = [105, 226]</text>\n<text text-anchor=\"middle\" x=\"839\" y=\"-7.8\" font-family=\"Helvetica,sans-Serif\" font-size=\"14.00\" fill=\"#000000\">class = si</text>\n</g>\n<!-- 10&#45;&gt;12 -->\n<g id=\"edge12\" class=\"edge\">\n<title>10&#45;&gt;12</title>\n<path fill=\"none\" stroke=\"#000000\" d=\"M744.8545,-103.9815C757.8368,-94.3313 771.6394,-84.0714 784.5597,-74.4673\"/>\n<polygon fill=\"#000000\" stroke=\"#000000\" points=\"786.9678,-77.0384 792.9054,-68.2637 782.7917,-71.4204 786.9678,-77.0384\"/>\n</g>\n</g>\n</svg>\n"
          },
          "metadata": {},
          "execution_count": 12
        }
      ]
    },
    {
      "cell_type": "code",
      "metadata": {
        "colab": {
          "base_uri": "https://localhost:8080/"
        },
        "id": "ibQCClVnqUz9",
        "outputId": "90920de1-3db1-4142-9b02-054e20972222"
      },
      "source": [
        "# GroupKFold para analizar como el modelo se comporta con nuevos grupos\n",
        "\n",
        "from sklearn.model_selection import GroupKFold\n",
        "\n",
        "SEED = 301\n",
        "np.random.seed(SEED)\n",
        "\n",
        "cv = GroupKFold(n_splits = 10)\n",
        "modelo = DecisionTreeClassifier(max_depth=10)\n",
        "results = cross_validate(modelo, x_ord, y_ord, cv = cv, groups = datos.modelo, return_train_score=False)\n",
        "imprime_resultados(results)"
      ],
      "execution_count": 13,
      "outputs": [
        {
          "output_type": "stream",
          "name": "stdout",
          "text": [
            "Accuracy media 77.19\n",
            "Intervalo [75.26, 79.13]\n"
          ]
        }
      ]
    },
    {
      "cell_type": "markdown",
      "metadata": {
        "id": "Xw7bwXVGr4LY"
      },
      "source": [
        "# Explorando hiper-parámetros en una dimensión"
      ]
    },
    {
      "cell_type": "code",
      "metadata": {
        "colab": {
          "base_uri": "https://localhost:8080/",
          "height": 772
        },
        "id": "I-4rn2qRr8BK",
        "outputId": "2dd20dde-cfd0-44ee-8c1e-21b3eb100146"
      },
      "source": [
        "def iniciar_arbol_de_decision(max_depth):\n",
        "  SEED = 301\n",
        "  np.random.seed(SEED)\n",
        "\n",
        "  cv = GroupKFold(n_splits = 10)\n",
        "  modelo = DecisionTreeClassifier(max_depth=max_depth)\n",
        "  results = cross_validate(modelo, x_ord, y_ord, cv = cv, groups = datos.modelo, return_train_score=True)\n",
        "  train_score = results['train_score'].mean()*100\n",
        "  test_score = results['test_score'].mean()*100\n",
        "  print('Arbol max_depth = %d, training = %.2f, testing = %.2f' % (max_depth, train_score, test_score))\n",
        "  tabla = [max_depth, train_score, test_score]\n",
        "  return tabla\n",
        "\n",
        "resultados = [iniciar_arbol_de_decision(i) for i in range(1,33)]\n",
        "resultados = pd.DataFrame(resultados, columns=['max_depth','train','test'])\n",
        "resultados.head()"
      ],
      "execution_count": 14,
      "outputs": [
        {
          "output_type": "stream",
          "name": "stdout",
          "text": [
            "Arbol max_depth = 1, training = 75.79, testing = 75.78\n",
            "Arbol max_depth = 2, training = 75.79, testing = 75.78\n",
            "Arbol max_depth = 3, training = 78.75, testing = 78.67\n",
            "Arbol max_depth = 4, training = 78.79, testing = 78.63\n",
            "Arbol max_depth = 5, training = 78.94, testing = 78.56\n",
            "Arbol max_depth = 6, training = 79.17, testing = 78.12\n",
            "Arbol max_depth = 7, training = 79.50, testing = 77.96\n",
            "Arbol max_depth = 8, training = 79.89, testing = 77.86\n",
            "Arbol max_depth = 9, training = 80.46, testing = 77.38\n",
            "Arbol max_depth = 10, training = 81.16, testing = 77.19\n",
            "Arbol max_depth = 11, training = 82.03, testing = 76.97\n",
            "Arbol max_depth = 12, training = 82.89, testing = 76.49\n",
            "Arbol max_depth = 13, training = 83.95, testing = 75.81\n",
            "Arbol max_depth = 14, training = 85.03, testing = 75.66\n",
            "Arbol max_depth = 15, training = 86.14, testing = 75.16\n",
            "Arbol max_depth = 16, training = 87.19, testing = 75.11\n",
            "Arbol max_depth = 17, training = 88.31, testing = 74.74\n",
            "Arbol max_depth = 18, training = 89.26, testing = 74.33\n",
            "Arbol max_depth = 19, training = 90.32, testing = 74.34\n",
            "Arbol max_depth = 20, training = 91.32, testing = 74.22\n",
            "Arbol max_depth = 21, training = 92.14, testing = 73.80\n",
            "Arbol max_depth = 22, training = 93.02, testing = 73.81\n",
            "Arbol max_depth = 23, training = 93.80, testing = 73.38\n",
            "Arbol max_depth = 24, training = 94.47, testing = 73.43\n",
            "Arbol max_depth = 25, training = 95.16, testing = 73.14\n",
            "Arbol max_depth = 26, training = 95.74, testing = 73.04\n",
            "Arbol max_depth = 27, training = 96.33, testing = 72.91\n",
            "Arbol max_depth = 28, training = 96.75, testing = 72.66\n",
            "Arbol max_depth = 29, training = 97.10, testing = 72.73\n",
            "Arbol max_depth = 30, training = 97.43, testing = 72.81\n",
            "Arbol max_depth = 31, training = 97.80, testing = 72.86\n",
            "Arbol max_depth = 32, training = 98.10, testing = 72.52\n"
          ]
        },
        {
          "output_type": "execute_result",
          "data": {
            "text/html": [
              "<div>\n",
              "<style scoped>\n",
              "    .dataframe tbody tr th:only-of-type {\n",
              "        vertical-align: middle;\n",
              "    }\n",
              "\n",
              "    .dataframe tbody tr th {\n",
              "        vertical-align: top;\n",
              "    }\n",
              "\n",
              "    .dataframe thead th {\n",
              "        text-align: right;\n",
              "    }\n",
              "</style>\n",
              "<table border=\"1\" class=\"dataframe\">\n",
              "  <thead>\n",
              "    <tr style=\"text-align: right;\">\n",
              "      <th></th>\n",
              "      <th>max_depth</th>\n",
              "      <th>train</th>\n",
              "      <th>test</th>\n",
              "    </tr>\n",
              "  </thead>\n",
              "  <tbody>\n",
              "    <tr>\n",
              "      <th>0</th>\n",
              "      <td>1</td>\n",
              "      <td>75.791169</td>\n",
              "      <td>75.784219</td>\n",
              "    </tr>\n",
              "    <tr>\n",
              "      <th>1</th>\n",
              "      <td>2</td>\n",
              "      <td>75.791169</td>\n",
              "      <td>75.784219</td>\n",
              "    </tr>\n",
              "    <tr>\n",
              "      <th>2</th>\n",
              "      <td>3</td>\n",
              "      <td>78.750993</td>\n",
              "      <td>78.672633</td>\n",
              "    </tr>\n",
              "    <tr>\n",
              "      <th>3</th>\n",
              "      <td>4</td>\n",
              "      <td>78.787628</td>\n",
              "      <td>78.632803</td>\n",
              "    </tr>\n",
              "    <tr>\n",
              "      <th>4</th>\n",
              "      <td>5</td>\n",
              "      <td>78.941007</td>\n",
              "      <td>78.555912</td>\n",
              "    </tr>\n",
              "  </tbody>\n",
              "</table>\n",
              "</div>"
            ],
            "text/plain": [
              "   max_depth      train       test\n",
              "0          1  75.791169  75.784219\n",
              "1          2  75.791169  75.784219\n",
              "2          3  78.750993  78.672633\n",
              "3          4  78.787628  78.632803\n",
              "4          5  78.941007  78.555912"
            ]
          },
          "metadata": {},
          "execution_count": 14
        }
      ]
    },
    {
      "cell_type": "code",
      "metadata": {
        "colab": {
          "base_uri": "https://localhost:8080/",
          "height": 298
        },
        "id": "jlREckZR7Ov2",
        "outputId": "f3f5a10b-dd29-4e11-abb3-538cd798ba67"
      },
      "source": [
        "import seaborn as sns\n",
        "\n",
        "sns.lineplot(x='max_depth', y='train', data=resultados)"
      ],
      "execution_count": 15,
      "outputs": [
        {
          "output_type": "execute_result",
          "data": {
            "text/plain": [
              "<matplotlib.axes._subplots.AxesSubplot at 0x7f32d3e50690>"
            ]
          },
          "metadata": {},
          "execution_count": 15
        },
        {
          "output_type": "display_data",
          "data": {
            "image/png": "[encoded data removed]",
            "text/plain": [
              "<Figure size 432x288 with 1 Axes>"
            ]
          },
          "metadata": {
            "needs_background": "light"
          }
        }
      ]
    },
    {
      "cell_type": "markdown",
      "metadata": {
        "id": "4DpysyaD8rmv"
      },
      "source": [
        "# Overfit"
      ]
    },
    {
      "cell_type": "code",
      "metadata": {
        "colab": {
          "base_uri": "https://localhost:8080/",
          "height": 298
        },
        "id": "u7dOsSgZ7_Zk",
        "outputId": "a283a5b1-04dc-4a21-caed-1982565de3ce"
      },
      "source": [
        "import matplotlib.pyplot as plt\n",
        "sns.lineplot(x='max_depth', y='train', data=resultados)\n",
        "sns.lineplot(x='max_depth', y='test', data=resultados)\n",
        "plt.legend(['Train','Test'])"
      ],
      "execution_count": 16,
      "outputs": [
        {
          "output_type": "execute_result",
          "data": {
            "text/plain": [
              "<matplotlib.legend.Legend at 0x7f32d38b63d0>"
            ]
          },
          "metadata": {},
          "execution_count": 16
        },
        {
          "output_type": "display_data",
          "data": {
            "image/png": "[encoded data removed]",
            "text/plain": [
              "<Figure size 432x288 with 1 Axes>"
            ]
          },
          "metadata": {
            "needs_background": "light"
          }
        }
      ]
    },
    {
      "cell_type": "code",
      "metadata": {
        "colab": {
          "base_uri": "https://localhost:8080/",
          "height": 204
        },
        "id": "dImaMGdz84-L",
        "outputId": "e9141b2b-7a72-403a-f2f4-db16c4a996ae"
      },
      "source": [
        "resultados.sort_values('test', ascending=False).head()"
      ],
      "execution_count": 17,
      "outputs": [
        {
          "output_type": "execute_result",
          "data": {
            "text/html": [
              "<div>\n",
              "<style scoped>\n",
              "    .dataframe tbody tr th:only-of-type {\n",
              "        vertical-align: middle;\n",
              "    }\n",
              "\n",
              "    .dataframe tbody tr th {\n",
              "        vertical-align: top;\n",
              "    }\n",
              "\n",
              "    .dataframe thead th {\n",
              "        text-align: right;\n",
              "    }\n",
              "</style>\n",
              "<table border=\"1\" class=\"dataframe\">\n",
              "  <thead>\n",
              "    <tr style=\"text-align: right;\">\n",
              "      <th></th>\n",
              "      <th>max_depth</th>\n",
              "      <th>train</th>\n",
              "      <th>test</th>\n",
              "    </tr>\n",
              "  </thead>\n",
              "  <tbody>\n",
              "    <tr>\n",
              "      <th>2</th>\n",
              "      <td>3</td>\n",
              "      <td>78.750993</td>\n",
              "      <td>78.672633</td>\n",
              "    </tr>\n",
              "    <tr>\n",
              "      <th>3</th>\n",
              "      <td>4</td>\n",
              "      <td>78.787628</td>\n",
              "      <td>78.632803</td>\n",
              "    </tr>\n",
              "    <tr>\n",
              "      <th>4</th>\n",
              "      <td>5</td>\n",
              "      <td>78.941007</td>\n",
              "      <td>78.555912</td>\n",
              "    </tr>\n",
              "    <tr>\n",
              "      <th>5</th>\n",
              "      <td>6</td>\n",
              "      <td>79.170115</td>\n",
              "      <td>78.123266</td>\n",
              "    </tr>\n",
              "    <tr>\n",
              "      <th>6</th>\n",
              "      <td>7</td>\n",
              "      <td>79.496806</td>\n",
              "      <td>77.963185</td>\n",
              "    </tr>\n",
              "  </tbody>\n",
              "</table>\n",
              "</div>"
            ],
            "text/plain": [
              "   max_depth      train       test\n",
              "2          3  78.750993  78.672633\n",
              "3          4  78.787628  78.632803\n",
              "4          5  78.941007  78.555912\n",
              "5          6  79.170115  78.123266\n",
              "6          7  79.496806  77.963185"
            ]
          },
          "metadata": {},
          "execution_count": 17
        }
      ]
    },
    {
      "cell_type": "markdown",
      "metadata": {
        "id": "FepdI3-Rodcd"
      },
      "source": [
        "# Explorando hiper-parámetros en dos dimensiones"
      ]
    },
    {
      "cell_type": "code",
      "metadata": {
        "colab": {
          "base_uri": "https://localhost:8080/",
          "height": 1000
        },
        "id": "UCNBUPxoohXv",
        "outputId": "7076a6ce-5c1d-4fc5-e37c-0fdc4c77faac"
      },
      "source": [
        "def iniciar_arbol_de_decision(max_depth, min_samples_leaf):\n",
        "  SEED = 301\n",
        "  np.random.seed(SEED)\n",
        "\n",
        "  cv = GroupKFold(n_splits = 10)\n",
        "  modelo = DecisionTreeClassifier(max_depth=max_depth, min_samples_leaf=min_samples_leaf)\n",
        "  results = cross_validate(modelo, x_ord, y_ord, cv = cv, groups = datos.modelo, return_train_score=True)\n",
        "  train_score = results['train_score'].mean()*100\n",
        "  test_score = results['test_score'].mean()*100\n",
        "  print('Arbol max_depth = %d, min_samples_leaf = %d, training = %.2f, testing = %.2f' % (max_depth, min_samples_leaf, train_score, test_score))\n",
        "  tabla = [max_depth, min_samples_leaf, train_score, test_score]\n",
        "  return tabla\n",
        "\n",
        "def buscar():\n",
        "  resultados = []\n",
        "  for max_depth in range(1,33):\n",
        "    for min_samples_leaf in [32, 64, 128, 256]:\n",
        "      tabla = iniciar_arbol_de_decision(max_depth, min_samples_leaf)\n",
        "      resultados.append(tabla)\n",
        "  resultados = pd.DataFrame(resultados, columns=['max_depth','min_samples_leaf','train','test'])\n",
        "  return resultados\n",
        "\n",
        "resultados = buscar()\n",
        "resultados.head()"
      ],
      "execution_count": 18,
      "outputs": [
        {
          "output_type": "stream",
          "name": "stdout",
          "text": [
            "Arbol max_depth = 1, min_samples_leaf = 32, training = 75.79, testing = 75.78\n",
            "Arbol max_depth = 1, min_samples_leaf = 64, training = 75.79, testing = 75.78\n",
            "Arbol max_depth = 1, min_samples_leaf = 128, training = 75.79, testing = 75.78\n",
            "Arbol max_depth = 1, min_samples_leaf = 256, training = 75.79, testing = 75.78\n",
            "Arbol max_depth = 2, min_samples_leaf = 32, training = 75.79, testing = 75.78\n",
            "Arbol max_depth = 2, min_samples_leaf = 64, training = 75.79, testing = 75.78\n",
            "Arbol max_depth = 2, min_samples_leaf = 128, training = 75.79, testing = 75.78\n",
            "Arbol max_depth = 2, min_samples_leaf = 256, training = 75.79, testing = 75.78\n",
            "Arbol max_depth = 3, min_samples_leaf = 32, training = 78.75, testing = 78.67\n",
            "Arbol max_depth = 3, min_samples_leaf = 64, training = 78.75, testing = 78.67\n",
            "Arbol max_depth = 3, min_samples_leaf = 128, training = 78.75, testing = 78.67\n",
            "Arbol max_depth = 3, min_samples_leaf = 256, training = 78.75, testing = 78.67\n",
            "Arbol max_depth = 4, min_samples_leaf = 32, training = 78.75, testing = 78.67\n",
            "Arbol max_depth = 4, min_samples_leaf = 64, training = 78.75, testing = 78.67\n",
            "Arbol max_depth = 4, min_samples_leaf = 128, training = 78.75, testing = 78.67\n",
            "Arbol max_depth = 4, min_samples_leaf = 256, training = 78.75, testing = 78.67\n",
            "Arbol max_depth = 5, min_samples_leaf = 32, training = 78.82, testing = 78.50\n",
            "Arbol max_depth = 5, min_samples_leaf = 64, training = 78.79, testing = 78.45\n",
            "Arbol max_depth = 5, min_samples_leaf = 128, training = 78.77, testing = 78.44\n",
            "Arbol max_depth = 5, min_samples_leaf = 256, training = 78.77, testing = 78.44\n",
            "Arbol max_depth = 6, min_samples_leaf = 32, training = 78.96, testing = 78.02\n",
            "Arbol max_depth = 6, min_samples_leaf = 64, training = 78.92, testing = 78.09\n",
            "Arbol max_depth = 6, min_samples_leaf = 128, training = 78.85, testing = 78.27\n",
            "Arbol max_depth = 6, min_samples_leaf = 256, training = 78.79, testing = 78.27\n",
            "Arbol max_depth = 7, min_samples_leaf = 32, training = 79.24, testing = 77.94\n",
            "Arbol max_depth = 7, min_samples_leaf = 64, training = 79.18, testing = 78.05\n",
            "Arbol max_depth = 7, min_samples_leaf = 128, training = 79.01, testing = 78.21\n",
            "Arbol max_depth = 7, min_samples_leaf = 256, training = 78.85, testing = 78.08\n",
            "Arbol max_depth = 8, min_samples_leaf = 32, training = 79.47, testing = 77.93\n",
            "Arbol max_depth = 8, min_samples_leaf = 64, training = 79.30, testing = 77.99\n",
            "Arbol max_depth = 8, min_samples_leaf = 128, training = 79.05, testing = 78.37\n",
            "Arbol max_depth = 8, min_samples_leaf = 256, training = 78.89, testing = 77.94\n",
            "Arbol max_depth = 9, min_samples_leaf = 32, training = 79.80, testing = 77.32\n",
            "Arbol max_depth = 9, min_samples_leaf = 64, training = 79.46, testing = 77.55\n",
            "Arbol max_depth = 9, min_samples_leaf = 128, training = 79.12, testing = 78.30\n",
            "Arbol max_depth = 9, min_samples_leaf = 256, training = 78.90, testing = 77.85\n",
            "Arbol max_depth = 10, min_samples_leaf = 32, training = 80.05, testing = 77.45\n",
            "Arbol max_depth = 10, min_samples_leaf = 64, training = 79.55, testing = 77.64\n",
            "Arbol max_depth = 10, min_samples_leaf = 128, training = 79.16, testing = 78.29\n",
            "Arbol max_depth = 10, min_samples_leaf = 256, training = 78.90, testing = 77.85\n",
            "Arbol max_depth = 11, min_samples_leaf = 32, training = 80.21, testing = 77.20\n",
            "Arbol max_depth = 11, min_samples_leaf = 64, training = 79.60, testing = 77.53\n",
            "Arbol max_depth = 11, min_samples_leaf = 128, training = 79.19, testing = 78.31\n",
            "Arbol max_depth = 11, min_samples_leaf = 256, training = 78.90, testing = 77.85\n",
            "Arbol max_depth = 12, min_samples_leaf = 32, training = 80.34, testing = 77.00\n",
            "Arbol max_depth = 12, min_samples_leaf = 64, training = 79.72, testing = 77.29\n",
            "Arbol max_depth = 12, min_samples_leaf = 128, training = 79.21, testing = 78.22\n",
            "Arbol max_depth = 12, min_samples_leaf = 256, training = 78.90, testing = 77.85\n",
            "Arbol max_depth = 13, min_samples_leaf = 32, training = 80.51, testing = 76.85\n",
            "Arbol max_depth = 13, min_samples_leaf = 64, training = 79.74, testing = 77.34\n",
            "Arbol max_depth = 13, min_samples_leaf = 128, training = 79.21, testing = 78.22\n",
            "Arbol max_depth = 13, min_samples_leaf = 256, training = 78.90, testing = 77.85\n",
            "Arbol max_depth = 14, min_samples_leaf = 32, training = 80.60, testing = 76.69\n",
            "Arbol max_depth = 14, min_samples_leaf = 64, training = 79.77, testing = 77.26\n",
            "Arbol max_depth = 14, min_samples_leaf = 128, training = 79.21, testing = 78.22\n",
            "Arbol max_depth = 14, min_samples_leaf = 256, training = 78.90, testing = 77.85\n",
            "Arbol max_depth = 15, min_samples_leaf = 32, training = 80.70, testing = 76.88\n",
            "Arbol max_depth = 15, min_samples_leaf = 64, training = 79.79, testing = 77.30\n",
            "Arbol max_depth = 15, min_samples_leaf = 128, training = 79.21, testing = 78.22\n",
            "Arbol max_depth = 15, min_samples_leaf = 256, training = 78.90, testing = 77.85\n",
            "Arbol max_depth = 16, min_samples_leaf = 32, training = 80.76, testing = 76.87\n",
            "Arbol max_depth = 16, min_samples_leaf = 64, training = 79.79, testing = 77.30\n",
            "Arbol max_depth = 16, min_samples_leaf = 128, training = 79.21, testing = 78.22\n",
            "Arbol max_depth = 16, min_samples_leaf = 256, training = 78.90, testing = 77.85\n",
            "Arbol max_depth = 17, min_samples_leaf = 32, training = 80.82, testing = 76.98\n",
            "Arbol max_depth = 17, min_samples_leaf = 64, training = 79.79, testing = 77.30\n",
            "Arbol max_depth = 17, min_samples_leaf = 128, training = 79.21, testing = 78.22\n",
            "Arbol max_depth = 17, min_samples_leaf = 256, training = 78.90, testing = 77.85\n",
            "Arbol max_depth = 18, min_samples_leaf = 32, training = 80.85, testing = 76.86\n",
            "Arbol max_depth = 18, min_samples_leaf = 64, training = 79.79, testing = 77.30\n",
            "Arbol max_depth = 18, min_samples_leaf = 128, training = 79.21, testing = 78.22\n",
            "Arbol max_depth = 18, min_samples_leaf = 256, training = 78.90, testing = 77.85\n",
            "Arbol max_depth = 19, min_samples_leaf = 32, training = 80.86, testing = 76.89\n",
            "Arbol max_depth = 19, min_samples_leaf = 64, training = 79.79, testing = 77.30\n",
            "Arbol max_depth = 19, min_samples_leaf = 128, training = 79.21, testing = 78.22\n",
            "Arbol max_depth = 19, min_samples_leaf = 256, training = 78.90, testing = 77.85\n",
            "Arbol max_depth = 20, min_samples_leaf = 32, training = 80.88, testing = 76.87\n",
            "Arbol max_depth = 20, min_samples_leaf = 64, training = 79.79, testing = 77.30\n",
            "Arbol max_depth = 20, min_samples_leaf = 128, training = 79.21, testing = 78.22\n",
            "Arbol max_depth = 20, min_samples_leaf = 256, training = 78.90, testing = 77.85\n",
            "Arbol max_depth = 21, min_samples_leaf = 32, training = 80.88, testing = 76.92\n",
            "Arbol max_depth = 21, min_samples_leaf = 64, training = 79.79, testing = 77.30\n",
            "Arbol max_depth = 21, min_samples_leaf = 128, training = 79.21, testing = 78.22\n",
            "Arbol max_depth = 21, min_samples_leaf = 256, training = 78.90, testing = 77.85\n",
            "Arbol max_depth = 22, min_samples_leaf = 32, training = 80.88, testing = 76.87\n",
            "Arbol max_depth = 22, min_samples_leaf = 64, training = 79.79, testing = 77.30\n",
            "Arbol max_depth = 22, min_samples_leaf = 128, training = 79.21, testing = 78.22\n",
            "Arbol max_depth = 22, min_samples_leaf = 256, training = 78.90, testing = 77.85\n",
            "Arbol max_depth = 23, min_samples_leaf = 32, training = 80.88, testing = 76.87\n",
            "Arbol max_depth = 23, min_samples_leaf = 64, training = 79.79, testing = 77.30\n",
            "Arbol max_depth = 23, min_samples_leaf = 128, training = 79.21, testing = 78.22\n",
            "Arbol max_depth = 23, min_samples_leaf = 256, training = 78.90, testing = 77.85\n",
            "Arbol max_depth = 24, min_samples_leaf = 32, training = 80.89, testing = 76.84\n",
            "Arbol max_depth = 24, min_samples_leaf = 64, training = 79.79, testing = 77.30\n",
            "Arbol max_depth = 24, min_samples_leaf = 128, training = 79.21, testing = 78.22\n",
            "Arbol max_depth = 24, min_samples_leaf = 256, training = 78.90, testing = 77.85\n",
            "Arbol max_depth = 25, min_samples_leaf = 32, training = 80.89, testing = 76.84\n",
            "Arbol max_depth = 25, min_samples_leaf = 64, training = 79.79, testing = 77.30\n",
            "Arbol max_depth = 25, min_samples_leaf = 128, training = 79.21, testing = 78.22\n",
            "Arbol max_depth = 25, min_samples_leaf = 256, training = 78.90, testing = 77.85\n",
            "Arbol max_depth = 26, min_samples_leaf = 32, training = 80.89, testing = 76.84\n",
            "Arbol max_depth = 26, min_samples_leaf = 64, training = 79.79, testing = 77.30\n",
            "Arbol max_depth = 26, min_samples_leaf = 128, training = 79.21, testing = 78.22\n",
            "Arbol max_depth = 26, min_samples_leaf = 256, training = 78.90, testing = 77.85\n",
            "Arbol max_depth = 27, min_samples_leaf = 32, training = 80.89, testing = 76.84\n",
            "Arbol max_depth = 27, min_samples_leaf = 64, training = 79.79, testing = 77.30\n",
            "Arbol max_depth = 27, min_samples_leaf = 128, training = 79.21, testing = 78.22\n",
            "Arbol max_depth = 27, min_samples_leaf = 256, training = 78.90, testing = 77.85\n",
            "Arbol max_depth = 28, min_samples_leaf = 32, training = 80.89, testing = 76.84\n",
            "Arbol max_depth = 28, min_samples_leaf = 64, training = 79.79, testing = 77.30\n",
            "Arbol max_depth = 28, min_samples_leaf = 128, training = 79.21, testing = 78.22\n",
            "Arbol max_depth = 28, min_samples_leaf = 256, training = 78.90, testing = 77.85\n",
            "Arbol max_depth = 29, min_samples_leaf = 32, training = 80.89, testing = 76.84\n",
            "Arbol max_depth = 29, min_samples_leaf = 64, training = 79.79, testing = 77.30\n",
            "Arbol max_depth = 29, min_samples_leaf = 128, training = 79.21, testing = 78.22\n",
            "Arbol max_depth = 29, min_samples_leaf = 256, training = 78.90, testing = 77.85\n",
            "Arbol max_depth = 30, min_samples_leaf = 32, training = 80.89, testing = 76.84\n",
            "Arbol max_depth = 30, min_samples_leaf = 64, training = 79.79, testing = 77.30\n",
            "Arbol max_depth = 30, min_samples_leaf = 128, training = 79.21, testing = 78.22\n",
            "Arbol max_depth = 30, min_samples_leaf = 256, training = 78.90, testing = 77.85\n",
            "Arbol max_depth = 31, min_samples_leaf = 32, training = 80.89, testing = 76.84\n",
            "Arbol max_depth = 31, min_samples_leaf = 64, training = 79.79, testing = 77.30\n",
            "Arbol max_depth = 31, min_samples_leaf = 128, training = 79.21, testing = 78.22\n",
            "Arbol max_depth = 31, min_samples_leaf = 256, training = 78.90, testing = 77.85\n",
            "Arbol max_depth = 32, min_samples_leaf = 32, training = 80.89, testing = 76.84\n",
            "Arbol max_depth = 32, min_samples_leaf = 64, training = 79.79, testing = 77.30\n",
            "Arbol max_depth = 32, min_samples_leaf = 128, training = 79.21, testing = 78.22\n",
            "Arbol max_depth = 32, min_samples_leaf = 256, training = 78.90, testing = 77.85\n"
          ]
        },
        {
          "output_type": "execute_result",
          "data": {
            "text/html": [
              "<div>\n",
              "<style scoped>\n",
              "    .dataframe tbody tr th:only-of-type {\n",
              "        vertical-align: middle;\n",
              "    }\n",
              "\n",
              "    .dataframe tbody tr th {\n",
              "        vertical-align: top;\n",
              "    }\n",
              "\n",
              "    .dataframe thead th {\n",
              "        text-align: right;\n",
              "    }\n",
              "</style>\n",
              "<table border=\"1\" class=\"dataframe\">\n",
              "  <thead>\n",
              "    <tr style=\"text-align: right;\">\n",
              "      <th></th>\n",
              "      <th>max_depth</th>\n",
              "      <th>min_samples_leaf</th>\n",
              "      <th>train</th>\n",
              "      <th>test</th>\n",
              "    </tr>\n",
              "  </thead>\n",
              "  <tbody>\n",
              "    <tr>\n",
              "      <th>0</th>\n",
              "      <td>1</td>\n",
              "      <td>32</td>\n",
              "      <td>75.791169</td>\n",
              "      <td>75.784219</td>\n",
              "    </tr>\n",
              "    <tr>\n",
              "      <th>1</th>\n",
              "      <td>1</td>\n",
              "      <td>64</td>\n",
              "      <td>75.791169</td>\n",
              "      <td>75.784219</td>\n",
              "    </tr>\n",
              "    <tr>\n",
              "      <th>2</th>\n",
              "      <td>1</td>\n",
              "      <td>128</td>\n",
              "      <td>75.791169</td>\n",
              "      <td>75.784219</td>\n",
              "    </tr>\n",
              "    <tr>\n",
              "      <th>3</th>\n",
              "      <td>1</td>\n",
              "      <td>256</td>\n",
              "      <td>75.791169</td>\n",
              "      <td>75.784219</td>\n",
              "    </tr>\n",
              "    <tr>\n",
              "      <th>4</th>\n",
              "      <td>2</td>\n",
              "      <td>32</td>\n",
              "      <td>75.791169</td>\n",
              "      <td>75.784219</td>\n",
              "    </tr>\n",
              "  </tbody>\n",
              "</table>\n",
              "</div>"
            ],
            "text/plain": [
              "   max_depth  min_samples_leaf      train       test\n",
              "0          1                32  75.791169  75.784219\n",
              "1          1                64  75.791169  75.784219\n",
              "2          1               128  75.791169  75.784219\n",
              "3          1               256  75.791169  75.784219\n",
              "4          2                32  75.791169  75.784219"
            ]
          },
          "metadata": {},
          "execution_count": 18
        }
      ]
    },
    {
      "cell_type": "code",
      "metadata": {
        "colab": {
          "base_uri": "https://localhost:8080/",
          "height": 204
        },
        "id": "pJ-zP35_tCfF",
        "outputId": "9cad217e-8932-4378-87c4-e1e5cfbade48"
      },
      "source": [
        "resultados.sort_values('test', ascending = False).head()"
      ],
      "execution_count": 19,
      "outputs": [
        {
          "output_type": "execute_result",
          "data": {
            "text/html": [
              "<div>\n",
              "<style scoped>\n",
              "    .dataframe tbody tr th:only-of-type {\n",
              "        vertical-align: middle;\n",
              "    }\n",
              "\n",
              "    .dataframe tbody tr th {\n",
              "        vertical-align: top;\n",
              "    }\n",
              "\n",
              "    .dataframe thead th {\n",
              "        text-align: right;\n",
              "    }\n",
              "</style>\n",
              "<table border=\"1\" class=\"dataframe\">\n",
              "  <thead>\n",
              "    <tr style=\"text-align: right;\">\n",
              "      <th></th>\n",
              "      <th>max_depth</th>\n",
              "      <th>min_samples_leaf</th>\n",
              "      <th>train</th>\n",
              "      <th>test</th>\n",
              "    </tr>\n",
              "  </thead>\n",
              "  <tbody>\n",
              "    <tr>\n",
              "      <th>15</th>\n",
              "      <td>4</td>\n",
              "      <td>256</td>\n",
              "      <td>78.750993</td>\n",
              "      <td>78.672633</td>\n",
              "    </tr>\n",
              "    <tr>\n",
              "      <th>12</th>\n",
              "      <td>4</td>\n",
              "      <td>32</td>\n",
              "      <td>78.750993</td>\n",
              "      <td>78.672633</td>\n",
              "    </tr>\n",
              "    <tr>\n",
              "      <th>14</th>\n",
              "      <td>4</td>\n",
              "      <td>128</td>\n",
              "      <td>78.750993</td>\n",
              "      <td>78.672633</td>\n",
              "    </tr>\n",
              "    <tr>\n",
              "      <th>13</th>\n",
              "      <td>4</td>\n",
              "      <td>64</td>\n",
              "      <td>78.750993</td>\n",
              "      <td>78.672633</td>\n",
              "    </tr>\n",
              "    <tr>\n",
              "      <th>8</th>\n",
              "      <td>3</td>\n",
              "      <td>32</td>\n",
              "      <td>78.750993</td>\n",
              "      <td>78.672633</td>\n",
              "    </tr>\n",
              "  </tbody>\n",
              "</table>\n",
              "</div>"
            ],
            "text/plain": [
              "    max_depth  min_samples_leaf      train       test\n",
              "15          4               256  78.750993  78.672633\n",
              "12          4                32  78.750993  78.672633\n",
              "14          4               128  78.750993  78.672633\n",
              "13          4                64  78.750993  78.672633\n",
              "8           3                32  78.750993  78.672633"
            ]
          },
          "metadata": {},
          "execution_count": 19
        }
      ]
    },
    {
      "cell_type": "code",
      "metadata": {
        "colab": {
          "base_uri": "https://localhost:8080/",
          "height": 172
        },
        "id": "EmQRjyjrupJM",
        "outputId": "345cf123-bcbd-4fa8-86dd-168736451944"
      },
      "source": [
        "corr = resultados.corr()\n",
        "corr"
      ],
      "execution_count": 20,
      "outputs": [
        {
          "output_type": "execute_result",
          "data": {
            "text/html": [
              "<div>\n",
              "<style scoped>\n",
              "    .dataframe tbody tr th:only-of-type {\n",
              "        vertical-align: middle;\n",
              "    }\n",
              "\n",
              "    .dataframe tbody tr th {\n",
              "        vertical-align: top;\n",
              "    }\n",
              "\n",
              "    .dataframe thead th {\n",
              "        text-align: right;\n",
              "    }\n",
              "</style>\n",
              "<table border=\"1\" class=\"dataframe\">\n",
              "  <thead>\n",
              "    <tr style=\"text-align: right;\">\n",
              "      <th></th>\n",
              "      <th>max_depth</th>\n",
              "      <th>min_samples_leaf</th>\n",
              "      <th>train</th>\n",
              "      <th>test</th>\n",
              "    </tr>\n",
              "  </thead>\n",
              "  <tbody>\n",
              "    <tr>\n",
              "      <th>max_depth</th>\n",
              "      <td>1.000000</td>\n",
              "      <td>0.000000</td>\n",
              "      <td>0.536705</td>\n",
              "      <td>-0.027675</td>\n",
              "    </tr>\n",
              "    <tr>\n",
              "      <th>min_samples_leaf</th>\n",
              "      <td>0.000000</td>\n",
              "      <td>1.000000</td>\n",
              "      <td>-0.409676</td>\n",
              "      <td>0.349011</td>\n",
              "    </tr>\n",
              "    <tr>\n",
              "      <th>train</th>\n",
              "      <td>0.536705</td>\n",
              "      <td>-0.409676</td>\n",
              "      <td>1.000000</td>\n",
              "      <td>0.116466</td>\n",
              "    </tr>\n",
              "    <tr>\n",
              "      <th>test</th>\n",
              "      <td>-0.027675</td>\n",
              "      <td>0.349011</td>\n",
              "      <td>0.116466</td>\n",
              "      <td>1.000000</td>\n",
              "    </tr>\n",
              "  </tbody>\n",
              "</table>\n",
              "</div>"
            ],
            "text/plain": [
              "                  max_depth  min_samples_leaf     train      test\n",
              "max_depth          1.000000          0.000000  0.536705 -0.027675\n",
              "min_samples_leaf   0.000000          1.000000 -0.409676  0.349011\n",
              "train              0.536705         -0.409676  1.000000  0.116466\n",
              "test              -0.027675          0.349011  0.116466  1.000000"
            ]
          },
          "metadata": {},
          "execution_count": 20
        }
      ]
    },
    {
      "cell_type": "code",
      "metadata": {
        "colab": {
          "base_uri": "https://localhost:8080/",
          "height": 366
        },
        "id": "AoyVuIEMuzF3",
        "outputId": "7ff3c3bc-2253-4de6-99b8-6581ae966448"
      },
      "source": [
        "sns.heatmap(corr)"
      ],
      "execution_count": 21,
      "outputs": [
        {
          "output_type": "execute_result",
          "data": {
            "text/plain": [
              "<matplotlib.axes._subplots.AxesSubplot at 0x7f32d38ead10>"
            ]
          },
          "metadata": {},
          "execution_count": 21
        },
        {
          "output_type": "display_data",
          "data": {
            "image/png": "[encoded data removed]",
            "text/plain": [
              "<Figure size 432x288 with 2 Axes>"
            ]
          },
          "metadata": {
            "needs_background": "light"
          }
        }
      ]
    },
    {
      "cell_type": "code",
      "metadata": {
        "colab": {
          "base_uri": "https://localhost:8080/",
          "height": 805
        },
        "id": "US9s5WvuvKPo",
        "outputId": "6453caa7-0c6f-49b8-d84b-d660653482f1"
      },
      "source": [
        "from pandas.plotting import scatter_matrix\n",
        "scatter_matrix(resultados, figsize = (14,8), alpha=0.3)"
      ],
      "execution_count": 22,
      "outputs": [
        {
          "output_type": "execute_result",
          "data": {
            "text/plain": [
              "array([[<matplotlib.axes._subplots.AxesSubplot object at 0x7f32cb7a5f10>,\n",
              "        <matplotlib.axes._subplots.AxesSubplot object at 0x7f32cb75b5d0>,\n",
              "        <matplotlib.axes._subplots.AxesSubplot object at 0x7f32cb70fc50>,\n",
              "        <matplotlib.axes._subplots.AxesSubplot object at 0x7f32cb6cb310>],\n",
              "       [<matplotlib.axes._subplots.AxesSubplot object at 0x7f32cb67d990>,\n",
              "        <matplotlib.axes._subplots.AxesSubplot object at 0x7f32cb6b0fd0>,\n",
              "        <matplotlib.axes._subplots.AxesSubplot object at 0x7f32cb66d750>,\n",
              "        <matplotlib.axes._subplots.AxesSubplot object at 0x7f32cb61fd10>],\n",
              "       [<matplotlib.axes._subplots.AxesSubplot object at 0x7f32cb61fd50>,\n",
              "        <matplotlib.axes._subplots.AxesSubplot object at 0x7f32cb5e3510>,\n",
              "        <matplotlib.axes._subplots.AxesSubplot object at 0x7f32cb55c150>,\n",
              "        <matplotlib.axes._subplots.AxesSubplot object at 0x7f32cb5127d0>],\n",
              "       [<matplotlib.axes._subplots.AxesSubplot object at 0x7f32cb4c8e50>,\n",
              "        <matplotlib.axes._subplots.AxesSubplot object at 0x7f32cb489510>,\n",
              "        <matplotlib.axes._subplots.AxesSubplot object at 0x7f32cb440b90>,\n",
              "        <matplotlib.axes._subplots.AxesSubplot object at 0x7f32cb404250>]],\n",
              "      dtype=object)"
            ]
          },
          "metadata": {},
          "execution_count": 22
        },
        {
          "output_type": "display_data",
          "data": {
            "image/png": "[encoded data removed]",
            "text/plain": [
              "<Figure size 1008x576 with 16 Axes>"
            ]
          },
          "metadata": {
            "needs_background": "light"
          }
        }
      ]
    },
    {
      "cell_type": "code",
      "metadata": {
        "colab": {
          "base_uri": "https://localhost:8080/",
          "height": 744
        },
        "id": "5vz__PaSwJXz",
        "outputId": "62ded927-8a30-4e0e-d2a3-8ace384bd5ae"
      },
      "source": [
        "sns.pairplot(resultados)"
      ],
      "execution_count": 23,
      "outputs": [
        {
          "output_type": "execute_result",
          "data": {
            "text/plain": [
              "<seaborn.axisgrid.PairGrid at 0x7f32cb1cb410>"
            ]
          },
          "metadata": {},
          "execution_count": 23
        },
        {
          "output_type": "display_data",
          "data": {
            "image/png": "[encoded data removed]",
            "text/plain": [
              "<Figure size 720x720 with 20 Axes>"
            ]
          },
          "metadata": {
            "needs_background": "light"
          }
        }
      ]
    },
    {
      "cell_type": "code",
      "metadata": {
        "colab": {
          "base_uri": "https://localhost:8080/",
          "height": 559
        },
        "id": "_iKehzB9wqHr",
        "outputId": "68b672b2-5c32-4495-9a7b-1fea750d3afb"
      },
      "source": [
        "from string import ascii_letters\n",
        "import numpy as np\n",
        "import pandas as pd\n",
        "import seaborn as sns\n",
        "import matplotlib.pyplot as plt\n",
        "\n",
        "sns.set_theme(style=\"white\")\n",
        "\n",
        "# Generate a mask for the upper triangle\n",
        "mask = np.triu(np.ones_like(corr, dtype=bool))\n",
        "\n",
        "# Set up the matplotlib figure\n",
        "f, ax = plt.subplots(figsize=(11, 9))\n",
        "\n",
        "# Generate a custom diverging colormap\n",
        "cmap = sns.diverging_palette(230, 20, as_cmap=True)\n",
        "\n",
        "# Draw the heatmap with the mask and correct aspect ratio\n",
        "sns.heatmap(corr, mask=mask, cmap=cmap, vmax=.3, center=0,\n",
        "            square=True, linewidths=.5, cbar_kws={\"shrink\": .5})"
      ],
      "execution_count": 24,
      "outputs": [
        {
          "output_type": "execute_result",
          "data": {
            "text/plain": [
              "<matplotlib.axes._subplots.AxesSubplot at 0x7f32caa89510>"
            ]
          },
          "metadata": {},
          "execution_count": 24
        },
        {
          "output_type": "display_data",
          "data": {
            "image/png": "[encoded data removed]",
            "text/plain": [
              "<Figure size 792x648 with 2 Axes>"
            ]
          },
          "metadata": {}
        }
      ]
    },
    {
      "cell_type": "code",
      "metadata": {
        "colab": {
          "base_uri": "https://localhost:8080/",
          "height": 1000
        },
        "id": "EPbV7KD4xJpm",
        "outputId": "0676b7cf-75eb-4df3-e389-2e01e9570ad6"
      },
      "source": [
        "def buscar():\n",
        "  resultados = []\n",
        "  for max_depth in range(1,33):\n",
        "    for min_samples_leaf in [128, 192, 256, 512]:\n",
        "      tabla = iniciar_arbol_de_decision(max_depth, min_samples_leaf)\n",
        "      resultados.append(tabla)\n",
        "  resultados = pd.DataFrame(resultados, columns=['max_depth','min_samples_leaf','train','test'])\n",
        "  return resultados\n",
        "\n",
        "resultados = buscar()\n",
        "resultados.head()"
      ],
      "execution_count": 25,
      "outputs": [
        {
          "output_type": "stream",
          "name": "stdout",
          "text": [
            "Arbol max_depth = 1, min_samples_leaf = 128, training = 75.79, testing = 75.78\n",
            "Arbol max_depth = 1, min_samples_leaf = 192, training = 75.79, testing = 75.78\n",
            "Arbol max_depth = 1, min_samples_leaf = 256, training = 75.79, testing = 75.78\n",
            "Arbol max_depth = 1, min_samples_leaf = 512, training = 75.79, testing = 75.78\n",
            "Arbol max_depth = 2, min_samples_leaf = 128, training = 75.79, testing = 75.78\n",
            "Arbol max_depth = 2, min_samples_leaf = 192, training = 75.79, testing = 75.78\n",
            "Arbol max_depth = 2, min_samples_leaf = 256, training = 75.79, testing = 75.78\n",
            "Arbol max_depth = 2, min_samples_leaf = 512, training = 75.79, testing = 75.78\n",
            "Arbol max_depth = 3, min_samples_leaf = 128, training = 78.75, testing = 78.67\n",
            "Arbol max_depth = 3, min_samples_leaf = 192, training = 78.75, testing = 78.67\n",
            "Arbol max_depth = 3, min_samples_leaf = 256, training = 78.75, testing = 78.67\n",
            "Arbol max_depth = 3, min_samples_leaf = 512, training = 77.53, testing = 77.50\n",
            "Arbol max_depth = 4, min_samples_leaf = 128, training = 78.75, testing = 78.67\n",
            "Arbol max_depth = 4, min_samples_leaf = 192, training = 78.75, testing = 78.67\n",
            "Arbol max_depth = 4, min_samples_leaf = 256, training = 78.75, testing = 78.67\n",
            "Arbol max_depth = 4, min_samples_leaf = 512, training = 77.53, testing = 77.50\n",
            "Arbol max_depth = 5, min_samples_leaf = 128, training = 78.77, testing = 78.44\n",
            "Arbol max_depth = 5, min_samples_leaf = 192, training = 78.77, testing = 78.44\n",
            "Arbol max_depth = 5, min_samples_leaf = 256, training = 78.77, testing = 78.44\n",
            "Arbol max_depth = 5, min_samples_leaf = 512, training = 77.53, testing = 77.50\n",
            "Arbol max_depth = 6, min_samples_leaf = 128, training = 78.85, testing = 78.27\n",
            "Arbol max_depth = 6, min_samples_leaf = 192, training = 78.79, testing = 78.31\n",
            "Arbol max_depth = 6, min_samples_leaf = 256, training = 78.79, testing = 78.27\n",
            "Arbol max_depth = 6, min_samples_leaf = 512, training = 77.53, testing = 77.50\n",
            "Arbol max_depth = 7, min_samples_leaf = 128, training = 79.01, testing = 78.21\n",
            "Arbol max_depth = 7, min_samples_leaf = 192, training = 78.92, testing = 78.10\n",
            "Arbol max_depth = 7, min_samples_leaf = 256, training = 78.85, testing = 78.08\n",
            "Arbol max_depth = 7, min_samples_leaf = 512, training = 77.53, testing = 77.50\n",
            "Arbol max_depth = 8, min_samples_leaf = 128, training = 79.05, testing = 78.37\n",
            "Arbol max_depth = 8, min_samples_leaf = 192, training = 78.98, testing = 78.20\n",
            "Arbol max_depth = 8, min_samples_leaf = 256, training = 78.89, testing = 77.94\n",
            "Arbol max_depth = 8, min_samples_leaf = 512, training = 77.53, testing = 77.50\n",
            "Arbol max_depth = 9, min_samples_leaf = 128, training = 79.12, testing = 78.30\n",
            "Arbol max_depth = 9, min_samples_leaf = 192, training = 78.99, testing = 78.11\n",
            "Arbol max_depth = 9, min_samples_leaf = 256, training = 78.90, testing = 77.85\n",
            "Arbol max_depth = 9, min_samples_leaf = 512, training = 77.53, testing = 77.50\n",
            "Arbol max_depth = 10, min_samples_leaf = 128, training = 79.16, testing = 78.29\n",
            "Arbol max_depth = 10, min_samples_leaf = 192, training = 79.01, testing = 78.05\n",
            "Arbol max_depth = 10, min_samples_leaf = 256, training = 78.90, testing = 77.85\n",
            "Arbol max_depth = 10, min_samples_leaf = 512, training = 77.53, testing = 77.50\n",
            "Arbol max_depth = 11, min_samples_leaf = 128, training = 79.19, testing = 78.31\n",
            "Arbol max_depth = 11, min_samples_leaf = 192, training = 79.01, testing = 78.05\n",
            "Arbol max_depth = 11, min_samples_leaf = 256, training = 78.90, testing = 77.85\n",
            "Arbol max_depth = 11, min_samples_leaf = 512, training = 77.53, testing = 77.50\n",
            "Arbol max_depth = 12, min_samples_leaf = 128, training = 79.21, testing = 78.22\n",
            "Arbol max_depth = 12, min_samples_leaf = 192, training = 79.01, testing = 78.05\n",
            "Arbol max_depth = 12, min_samples_leaf = 256, training = 78.90, testing = 77.85\n",
            "Arbol max_depth = 12, min_samples_leaf = 512, training = 77.53, testing = 77.50\n",
            "Arbol max_depth = 13, min_samples_leaf = 128, training = 79.21, testing = 78.22\n",
            "Arbol max_depth = 13, min_samples_leaf = 192, training = 79.01, testing = 78.05\n",
            "Arbol max_depth = 13, min_samples_leaf = 256, training = 78.90, testing = 77.85\n",
            "Arbol max_depth = 13, min_samples_leaf = 512, training = 77.53, testing = 77.50\n",
            "Arbol max_depth = 14, min_samples_leaf = 128, training = 79.21, testing = 78.22\n",
            "Arbol max_depth = 14, min_samples_leaf = 192, training = 79.01, testing = 78.05\n",
            "Arbol max_depth = 14, min_samples_leaf = 256, training = 78.90, testing = 77.85\n",
            "Arbol max_depth = 14, min_samples_leaf = 512, training = 77.53, testing = 77.50\n",
            "Arbol max_depth = 15, min_samples_leaf = 128, training = 79.21, testing = 78.22\n",
            "Arbol max_depth = 15, min_samples_leaf = 192, training = 79.01, testing = 78.05\n",
            "Arbol max_depth = 15, min_samples_leaf = 256, training = 78.90, testing = 77.85\n",
            "Arbol max_depth = 15, min_samples_leaf = 512, training = 77.53, testing = 77.50\n",
            "Arbol max_depth = 16, min_samples_leaf = 128, training = 79.21, testing = 78.22\n",
            "Arbol max_depth = 16, min_samples_leaf = 192, training = 79.01, testing = 78.05\n",
            "Arbol max_depth = 16, min_samples_leaf = 256, training = 78.90, testing = 77.85\n",
            "Arbol max_depth = 16, min_samples_leaf = 512, training = 77.53, testing = 77.50\n",
            "Arbol max_depth = 17, min_samples_leaf = 128, training = 79.21, testing = 78.22\n",
            "Arbol max_depth = 17, min_samples_leaf = 192, training = 79.01, testing = 78.05\n",
            "Arbol max_depth = 17, min_samples_leaf = 256, training = 78.90, testing = 77.85\n",
            "Arbol max_depth = 17, min_samples_leaf = 512, training = 77.53, testing = 77.50\n",
            "Arbol max_depth = 18, min_samples_leaf = 128, training = 79.21, testing = 78.22\n",
            "Arbol max_depth = 18, min_samples_leaf = 192, training = 79.01, testing = 78.05\n",
            "Arbol max_depth = 18, min_samples_leaf = 256, training = 78.90, testing = 77.85\n",
            "Arbol max_depth = 18, min_samples_leaf = 512, training = 77.53, testing = 77.50\n",
            "Arbol max_depth = 19, min_samples_leaf = 128, training = 79.21, testing = 78.22\n",
            "Arbol max_depth = 19, min_samples_leaf = 192, training = 79.01, testing = 78.05\n",
            "Arbol max_depth = 19, min_samples_leaf = 256, training = 78.90, testing = 77.85\n",
            "Arbol max_depth = 19, min_samples_leaf = 512, training = 77.53, testing = 77.50\n",
            "Arbol max_depth = 20, min_samples_leaf = 128, training = 79.21, testing = 78.22\n",
            "Arbol max_depth = 20, min_samples_leaf = 192, training = 79.01, testing = 78.05\n",
            "Arbol max_depth = 20, min_samples_leaf = 256, training = 78.90, testing = 77.85\n",
            "Arbol max_depth = 20, min_samples_leaf = 512, training = 77.53, testing = 77.50\n",
            "Arbol max_depth = 21, min_samples_leaf = 128, training = 79.21, testing = 78.22\n",
            "Arbol max_depth = 21, min_samples_leaf = 192, training = 79.01, testing = 78.05\n",
            "Arbol max_depth = 21, min_samples_leaf = 256, training = 78.90, testing = 77.85\n",
            "Arbol max_depth = 21, min_samples_leaf = 512, training = 77.53, testing = 77.50\n",
            "Arbol max_depth = 22, min_samples_leaf = 128, training = 79.21, testing = 78.22\n",
            "Arbol max_depth = 22, min_samples_leaf = 192, training = 79.01, testing = 78.05\n",
            "Arbol max_depth = 22, min_samples_leaf = 256, training = 78.90, testing = 77.85\n",
            "Arbol max_depth = 22, min_samples_leaf = 512, training = 77.53, testing = 77.50\n",
            "Arbol max_depth = 23, min_samples_leaf = 128, training = 79.21, testing = 78.22\n",
            "Arbol max_depth = 23, min_samples_leaf = 192, training = 79.01, testing = 78.05\n",
            "Arbol max_depth = 23, min_samples_leaf = 256, training = 78.90, testing = 77.85\n",
            "Arbol max_depth = 23, min_samples_leaf = 512, training = 77.53, testing = 77.50\n",
            "Arbol max_depth = 24, min_samples_leaf = 128, training = 79.21, testing = 78.22\n",
            "Arbol max_depth = 24, min_samples_leaf = 192, training = 79.01, testing = 78.05\n",
            "Arbol max_depth = 24, min_samples_leaf = 256, training = 78.90, testing = 77.85\n",
            "Arbol max_depth = 24, min_samples_leaf = 512, training = 77.53, testing = 77.50\n",
            "Arbol max_depth = 25, min_samples_leaf = 128, training = 79.21, testing = 78.22\n",
            "Arbol max_depth = 25, min_samples_leaf = 192, training = 79.01, testing = 78.05\n",
            "Arbol max_depth = 25, min_samples_leaf = 256, training = 78.90, testing = 77.85\n",
            "Arbol max_depth = 25, min_samples_leaf = 512, training = 77.53, testing = 77.50\n",
            "Arbol max_depth = 26, min_samples_leaf = 128, training = 79.21, testing = 78.22\n",
            "Arbol max_depth = 26, min_samples_leaf = 192, training = 79.01, testing = 78.05\n",
            "Arbol max_depth = 26, min_samples_leaf = 256, training = 78.90, testing = 77.85\n",
            "Arbol max_depth = 26, min_samples_leaf = 512, training = 77.53, testing = 77.50\n",
            "Arbol max_depth = 27, min_samples_leaf = 128, training = 79.21, testing = 78.22\n",
            "Arbol max_depth = 27, min_samples_leaf = 192, training = 79.01, testing = 78.05\n",
            "Arbol max_depth = 27, min_samples_leaf = 256, training = 78.90, testing = 77.85\n",
            "Arbol max_depth = 27, min_samples_leaf = 512, training = 77.53, testing = 77.50\n",
            "Arbol max_depth = 28, min_samples_leaf = 128, training = 79.21, testing = 78.22\n",
            "Arbol max_depth = 28, min_samples_leaf = 192, training = 79.01, testing = 78.05\n",
            "Arbol max_depth = 28, min_samples_leaf = 256, training = 78.90, testing = 77.85\n",
            "Arbol max_depth = 28, min_samples_leaf = 512, training = 77.53, testing = 77.50\n",
            "Arbol max_depth = 29, min_samples_leaf = 128, training = 79.21, testing = 78.22\n",
            "Arbol max_depth = 29, min_samples_leaf = 192, training = 79.01, testing = 78.05\n",
            "Arbol max_depth = 29, min_samples_leaf = 256, training = 78.90, testing = 77.85\n",
            "Arbol max_depth = 29, min_samples_leaf = 512, training = 77.53, testing = 77.50\n",
            "Arbol max_depth = 30, min_samples_leaf = 128, training = 79.21, testing = 78.22\n",
            "Arbol max_depth = 30, min_samples_leaf = 192, training = 79.01, testing = 78.05\n",
            "Arbol max_depth = 30, min_samples_leaf = 256, training = 78.90, testing = 77.85\n",
            "Arbol max_depth = 30, min_samples_leaf = 512, training = 77.53, testing = 77.50\n",
            "Arbol max_depth = 31, min_samples_leaf = 128, training = 79.21, testing = 78.22\n",
            "Arbol max_depth = 31, min_samples_leaf = 192, training = 79.01, testing = 78.05\n",
            "Arbol max_depth = 31, min_samples_leaf = 256, training = 78.90, testing = 77.85\n",
            "Arbol max_depth = 31, min_samples_leaf = 512, training = 77.53, testing = 77.50\n",
            "Arbol max_depth = 32, min_samples_leaf = 128, training = 79.21, testing = 78.22\n",
            "Arbol max_depth = 32, min_samples_leaf = 192, training = 79.01, testing = 78.05\n",
            "Arbol max_depth = 32, min_samples_leaf = 256, training = 78.90, testing = 77.85\n",
            "Arbol max_depth = 32, min_samples_leaf = 512, training = 77.53, testing = 77.50\n"
          ]
        },
        {
          "output_type": "execute_result",
          "data": {
            "text/html": [
              "<div>\n",
              "<style scoped>\n",
              "    .dataframe tbody tr th:only-of-type {\n",
              "        vertical-align: middle;\n",
              "    }\n",
              "\n",
              "    .dataframe tbody tr th {\n",
              "        vertical-align: top;\n",
              "    }\n",
              "\n",
              "    .dataframe thead th {\n",
              "        text-align: right;\n",
              "    }\n",
              "</style>\n",
              "<table border=\"1\" class=\"dataframe\">\n",
              "  <thead>\n",
              "    <tr style=\"text-align: right;\">\n",
              "      <th></th>\n",
              "      <th>max_depth</th>\n",
              "      <th>min_samples_leaf</th>\n",
              "      <th>train</th>\n",
              "      <th>test</th>\n",
              "    </tr>\n",
              "  </thead>\n",
              "  <tbody>\n",
              "    <tr>\n",
              "      <th>0</th>\n",
              "      <td>1</td>\n",
              "      <td>128</td>\n",
              "      <td>75.791169</td>\n",
              "      <td>75.784219</td>\n",
              "    </tr>\n",
              "    <tr>\n",
              "      <th>1</th>\n",
              "      <td>1</td>\n",
              "      <td>192</td>\n",
              "      <td>75.791169</td>\n",
              "      <td>75.784219</td>\n",
              "    </tr>\n",
              "    <tr>\n",
              "      <th>2</th>\n",
              "      <td>1</td>\n",
              "      <td>256</td>\n",
              "      <td>75.791169</td>\n",
              "      <td>75.784219</td>\n",
              "    </tr>\n",
              "    <tr>\n",
              "      <th>3</th>\n",
              "      <td>1</td>\n",
              "      <td>512</td>\n",
              "      <td>75.791169</td>\n",
              "      <td>75.784219</td>\n",
              "    </tr>\n",
              "    <tr>\n",
              "      <th>4</th>\n",
              "      <td>2</td>\n",
              "      <td>128</td>\n",
              "      <td>75.791169</td>\n",
              "      <td>75.784219</td>\n",
              "    </tr>\n",
              "  </tbody>\n",
              "</table>\n",
              "</div>"
            ],
            "text/plain": [
              "   max_depth  min_samples_leaf      train       test\n",
              "0          1               128  75.791169  75.784219\n",
              "1          1               192  75.791169  75.784219\n",
              "2          1               256  75.791169  75.784219\n",
              "3          1               512  75.791169  75.784219\n",
              "4          2               128  75.791169  75.784219"
            ]
          },
          "metadata": {},
          "execution_count": 25
        }
      ]
    },
    {
      "cell_type": "code",
      "metadata": {
        "id": "IhUpvPBtxd0T"
      },
      "source": [
        "corr = resultados.corr()"
      ],
      "execution_count": 26,
      "outputs": []
    },
    {
      "cell_type": "code",
      "metadata": {
        "colab": {
          "base_uri": "https://localhost:8080/",
          "height": 559
        },
        "id": "HrQSQZXBxmD-",
        "outputId": "1f560bfa-1ac8-42b3-866c-8849f556942b"
      },
      "source": [
        "sns.set_theme(style=\"white\")\n",
        "\n",
        "# Generate a mask for the upper triangle\n",
        "mask = np.triu(np.ones_like(corr, dtype=bool))\n",
        "\n",
        "# Set up the matplotlib figure\n",
        "f, ax = plt.subplots(figsize=(11, 9))\n",
        "\n",
        "# Generate a custom diverging colormap\n",
        "cmap = sns.diverging_palette(230, 20, as_cmap=True)\n",
        "\n",
        "# Draw the heatmap with the mask and correct aspect ratio\n",
        "sns.heatmap(corr, mask=mask, cmap=cmap, vmax=.3, center=0,\n",
        "            square=True, linewidths=.5, cbar_kws={\"shrink\": .5})"
      ],
      "execution_count": 27,
      "outputs": [
        {
          "output_type": "execute_result",
          "data": {
            "text/plain": [
              "<matplotlib.axes._subplots.AxesSubplot at 0x7f32ca9abc50>"
            ]
          },
          "metadata": {},
          "execution_count": 27
        },
        {
          "output_type": "display_data",
          "data": {
            "image/png": "[encoded data removed]",
            "text/plain": [
              "<Figure size 792x648 with 2 Axes>"
            ]
          },
          "metadata": {}
        }
      ]
    },
    {
      "cell_type": "code",
      "metadata": {
        "colab": {
          "base_uri": "https://localhost:8080/",
          "height": 204
        },
        "id": "Sfxcm883yLAm",
        "outputId": "7164bd4f-48f8-42b9-b008-f0a9f4d08295"
      },
      "source": [
        "resultados.sort_values('test', ascending = False).head()"
      ],
      "execution_count": 28,
      "outputs": [
        {
          "output_type": "execute_result",
          "data": {
            "text/html": [
              "<div>\n",
              "<style scoped>\n",
              "    .dataframe tbody tr th:only-of-type {\n",
              "        vertical-align: middle;\n",
              "    }\n",
              "\n",
              "    .dataframe tbody tr th {\n",
              "        vertical-align: top;\n",
              "    }\n",
              "\n",
              "    .dataframe thead th {\n",
              "        text-align: right;\n",
              "    }\n",
              "</style>\n",
              "<table border=\"1\" class=\"dataframe\">\n",
              "  <thead>\n",
              "    <tr style=\"text-align: right;\">\n",
              "      <th></th>\n",
              "      <th>max_depth</th>\n",
              "      <th>min_samples_leaf</th>\n",
              "      <th>train</th>\n",
              "      <th>test</th>\n",
              "    </tr>\n",
              "  </thead>\n",
              "  <tbody>\n",
              "    <tr>\n",
              "      <th>13</th>\n",
              "      <td>4</td>\n",
              "      <td>192</td>\n",
              "      <td>78.750993</td>\n",
              "      <td>78.672633</td>\n",
              "    </tr>\n",
              "    <tr>\n",
              "      <th>8</th>\n",
              "      <td>3</td>\n",
              "      <td>128</td>\n",
              "      <td>78.750993</td>\n",
              "      <td>78.672633</td>\n",
              "    </tr>\n",
              "    <tr>\n",
              "      <th>9</th>\n",
              "      <td>3</td>\n",
              "      <td>192</td>\n",
              "      <td>78.750993</td>\n",
              "      <td>78.672633</td>\n",
              "    </tr>\n",
              "    <tr>\n",
              "      <th>10</th>\n",
              "      <td>3</td>\n",
              "      <td>256</td>\n",
              "      <td>78.750993</td>\n",
              "      <td>78.672633</td>\n",
              "    </tr>\n",
              "    <tr>\n",
              "      <th>14</th>\n",
              "      <td>4</td>\n",
              "      <td>256</td>\n",
              "      <td>78.750993</td>\n",
              "      <td>78.672633</td>\n",
              "    </tr>\n",
              "  </tbody>\n",
              "</table>\n",
              "</div>"
            ],
            "text/plain": [
              "    max_depth  min_samples_leaf      train       test\n",
              "13          4               192  78.750993  78.672633\n",
              "8           3               128  78.750993  78.672633\n",
              "9           3               192  78.750993  78.672633\n",
              "10          3               256  78.750993  78.672633\n",
              "14          4               256  78.750993  78.672633"
            ]
          },
          "metadata": {},
          "execution_count": 28
        }
      ]
    },
    {
      "cell_type": "markdown",
      "metadata": {
        "id": "TRX_6AqX_Tei"
      },
      "source": [
        "# Explorando 3 dimensiones de hiper parámetros"
      ]
    },
    {
      "cell_type": "code",
      "metadata": {
        "colab": {
          "base_uri": "https://localhost:8080/",
          "height": 204
        },
        "id": "DDX-EfVW_bDc",
        "outputId": "0c29e77e-fad1-4f63-d9af-8cb2f832b493"
      },
      "source": [
        "def iniciar_arbol_de_decision(max_depth, min_samples_leaf, min_samples_split):\n",
        "  SEED = 301\n",
        "  np.random.seed(SEED)\n",
        "\n",
        "  cv = GroupKFold(n_splits = 10)\n",
        "  modelo = DecisionTreeClassifier(max_depth=max_depth, min_samples_leaf=min_samples_leaf, min_samples_split=min_samples_split)\n",
        "  results = cross_validate(modelo, x_ord, y_ord, cv = cv, groups = datos.modelo, return_train_score=True)\n",
        "  fit_time = results['fit_time'].mean()\n",
        "  score_time = results['score_time'].mean()\n",
        "  train_score = results['train_score'].mean()*100\n",
        "  test_score = results['test_score'].mean()*100\n",
        "  #print('Arbol max_depth = %d, min_samples_leaf = %d, min_samples_split = %d, training = %.2f, testing = %.2f' % (max_depth, min_samples_leaf, min_samples_split, train_score, test_score))\n",
        "  tabla = [max_depth, min_samples_leaf, min_samples_split, train_score, test_score, fit_time, score_time]\n",
        "  return tabla\n",
        "\n",
        "def buscar():\n",
        "  resultados = []\n",
        "  for max_depth in range(1,33):\n",
        "    for min_samples_leaf in [32, 64, 128, 256]:\n",
        "      for min_samples_split in [32, 64, 128, 256]:\n",
        "        tabla = iniciar_arbol_de_decision(max_depth, min_samples_leaf,min_samples_split)\n",
        "        resultados.append(tabla)\n",
        "  resultados = pd.DataFrame(resultados, columns=['max_depth','min_samples_leaf', 'min_samples_split', 'train','test','fit_time', 'score_time'])\n",
        "  return resultados\n",
        "\n",
        "resultados = buscar()\n",
        "resultados.head()"
      ],
      "execution_count": 29,
      "outputs": [
        {
          "output_type": "execute_result",
          "data": {
            "text/html": [
              "<div>\n",
              "<style scoped>\n",
              "    .dataframe tbody tr th:only-of-type {\n",
              "        vertical-align: middle;\n",
              "    }\n",
              "\n",
              "    .dataframe tbody tr th {\n",
              "        vertical-align: top;\n",
              "    }\n",
              "\n",
              "    .dataframe thead th {\n",
              "        text-align: right;\n",
              "    }\n",
              "</style>\n",
              "<table border=\"1\" class=\"dataframe\">\n",
              "  <thead>\n",
              "    <tr style=\"text-align: right;\">\n",
              "      <th></th>\n",
              "      <th>max_depth</th>\n",
              "      <th>min_samples_leaf</th>\n",
              "      <th>min_samples_split</th>\n",
              "      <th>train</th>\n",
              "      <th>test</th>\n",
              "      <th>fit_time</th>\n",
              "      <th>score_time</th>\n",
              "    </tr>\n",
              "  </thead>\n",
              "  <tbody>\n",
              "    <tr>\n",
              "      <th>0</th>\n",
              "      <td>1</td>\n",
              "      <td>32</td>\n",
              "      <td>32</td>\n",
              "      <td>75.791169</td>\n",
              "      <td>75.784219</td>\n",
              "      <td>0.005966</td>\n",
              "      <td>0.001434</td>\n",
              "    </tr>\n",
              "    <tr>\n",
              "      <th>1</th>\n",
              "      <td>1</td>\n",
              "      <td>32</td>\n",
              "      <td>64</td>\n",
              "      <td>75.791169</td>\n",
              "      <td>75.784219</td>\n",
              "      <td>0.005568</td>\n",
              "      <td>0.001286</td>\n",
              "    </tr>\n",
              "    <tr>\n",
              "      <th>2</th>\n",
              "      <td>1</td>\n",
              "      <td>32</td>\n",
              "      <td>128</td>\n",
              "      <td>75.791169</td>\n",
              "      <td>75.784219</td>\n",
              "      <td>0.005949</td>\n",
              "      <td>0.001385</td>\n",
              "    </tr>\n",
              "    <tr>\n",
              "      <th>3</th>\n",
              "      <td>1</td>\n",
              "      <td>32</td>\n",
              "      <td>256</td>\n",
              "      <td>75.791169</td>\n",
              "      <td>75.784219</td>\n",
              "      <td>0.005663</td>\n",
              "      <td>0.001313</td>\n",
              "    </tr>\n",
              "    <tr>\n",
              "      <th>4</th>\n",
              "      <td>1</td>\n",
              "      <td>64</td>\n",
              "      <td>32</td>\n",
              "      <td>75.791169</td>\n",
              "      <td>75.784219</td>\n",
              "      <td>0.006090</td>\n",
              "      <td>0.001350</td>\n",
              "    </tr>\n",
              "  </tbody>\n",
              "</table>\n",
              "</div>"
            ],
            "text/plain": [
              "   max_depth  min_samples_leaf  ...  fit_time  score_time\n",
              "0          1                32  ...  0.005966    0.001434\n",
              "1          1                32  ...  0.005568    0.001286\n",
              "2          1                32  ...  0.005949    0.001385\n",
              "3          1                32  ...  0.005663    0.001313\n",
              "4          1                64  ...  0.006090    0.001350\n",
              "\n",
              "[5 rows x 7 columns]"
            ]
          },
          "metadata": {},
          "execution_count": 29
        }
      ]
    },
    {
      "cell_type": "code",
      "metadata": {
        "id": "ooBpAOGRBOCl"
      },
      "source": [
        "corr = resultados.corr()"
      ],
      "execution_count": 30,
      "outputs": []
    },
    {
      "cell_type": "code",
      "metadata": {
        "colab": {
          "base_uri": "https://localhost:8080/",
          "height": 649
        },
        "id": "efhMcckVBVFd",
        "outputId": "95961563-32e4-41af-c321-428373fcbbdd"
      },
      "source": [
        "sns.set_theme(style=\"white\")\n",
        "\n",
        "# Generate a mask for the upper triangle\n",
        "mask = np.triu(np.ones_like(corr, dtype=bool))\n",
        "\n",
        "# Set up the matplotlib figure\n",
        "f, ax = plt.subplots(figsize=(11, 9))\n",
        "\n",
        "# Generate a custom diverging colormap\n",
        "cmap = sns.diverging_palette(230, 20, as_cmap=True)\n",
        "\n",
        "# Draw the heatmap with the mask and correct aspect ratio\n",
        "sns.heatmap(corr, mask=mask, cmap=cmap, vmax=.3, center=0,\n",
        "            square=True, linewidths=.5, cbar_kws={\"shrink\": .5})"
      ],
      "execution_count": 31,
      "outputs": [
        {
          "output_type": "execute_result",
          "data": {
            "text/plain": [
              "<matplotlib.axes._subplots.AxesSubplot at 0x7f32caaa9d10>"
            ]
          },
          "metadata": {},
          "execution_count": 31
        },
        {
          "output_type": "display_data",
          "data": {
            "image/png": "[encoded data removed]",
            "text/plain": [
              "<Figure size 792x648 with 2 Axes>"
            ]
          },
          "metadata": {}
        }
      ]
    },
    {
      "cell_type": "code",
      "metadata": {
        "colab": {
          "base_uri": "https://localhost:8080/",
          "height": 204
        },
        "id": "Y-DZmjf-BhCW",
        "outputId": "afd637e6-d37c-453f-85bd-0880e149ff3b"
      },
      "source": [
        "resultados.sort_values('test', ascending = False).head()"
      ],
      "execution_count": 32,
      "outputs": [
        {
          "output_type": "execute_result",
          "data": {
            "text/html": [
              "<div>\n",
              "<style scoped>\n",
              "    .dataframe tbody tr th:only-of-type {\n",
              "        vertical-align: middle;\n",
              "    }\n",
              "\n",
              "    .dataframe tbody tr th {\n",
              "        vertical-align: top;\n",
              "    }\n",
              "\n",
              "    .dataframe thead th {\n",
              "        text-align: right;\n",
              "    }\n",
              "</style>\n",
              "<table border=\"1\" class=\"dataframe\">\n",
              "  <thead>\n",
              "    <tr style=\"text-align: right;\">\n",
              "      <th></th>\n",
              "      <th>max_depth</th>\n",
              "      <th>min_samples_leaf</th>\n",
              "      <th>min_samples_split</th>\n",
              "      <th>train</th>\n",
              "      <th>test</th>\n",
              "      <th>fit_time</th>\n",
              "      <th>score_time</th>\n",
              "    </tr>\n",
              "  </thead>\n",
              "  <tbody>\n",
              "    <tr>\n",
              "      <th>63</th>\n",
              "      <td>4</td>\n",
              "      <td>256</td>\n",
              "      <td>256</td>\n",
              "      <td>78.750993</td>\n",
              "      <td>78.672633</td>\n",
              "      <td>0.012052</td>\n",
              "      <td>0.001409</td>\n",
              "    </tr>\n",
              "    <tr>\n",
              "      <th>48</th>\n",
              "      <td>4</td>\n",
              "      <td>32</td>\n",
              "      <td>32</td>\n",
              "      <td>78.750993</td>\n",
              "      <td>78.672633</td>\n",
              "      <td>0.012632</td>\n",
              "      <td>0.001464</td>\n",
              "    </tr>\n",
              "    <tr>\n",
              "      <th>34</th>\n",
              "      <td>3</td>\n",
              "      <td>32</td>\n",
              "      <td>128</td>\n",
              "      <td>78.750993</td>\n",
              "      <td>78.672633</td>\n",
              "      <td>0.011455</td>\n",
              "      <td>0.001555</td>\n",
              "    </tr>\n",
              "    <tr>\n",
              "      <th>35</th>\n",
              "      <td>3</td>\n",
              "      <td>32</td>\n",
              "      <td>256</td>\n",
              "      <td>78.750993</td>\n",
              "      <td>78.672633</td>\n",
              "      <td>0.010845</td>\n",
              "      <td>0.001540</td>\n",
              "    </tr>\n",
              "    <tr>\n",
              "      <th>36</th>\n",
              "      <td>3</td>\n",
              "      <td>64</td>\n",
              "      <td>32</td>\n",
              "      <td>78.750993</td>\n",
              "      <td>78.672633</td>\n",
              "      <td>0.010755</td>\n",
              "      <td>0.001642</td>\n",
              "    </tr>\n",
              "  </tbody>\n",
              "</table>\n",
              "</div>"
            ],
            "text/plain": [
              "    max_depth  min_samples_leaf  ...  fit_time  score_time\n",
              "63          4               256  ...  0.012052    0.001409\n",
              "48          4                32  ...  0.012632    0.001464\n",
              "34          3                32  ...  0.011455    0.001555\n",
              "35          3                32  ...  0.010845    0.001540\n",
              "36          3                64  ...  0.010755    0.001642\n",
              "\n",
              "[5 rows x 7 columns]"
            ]
          },
          "metadata": {},
          "execution_count": 32
        }
      ]
    },
    {
      "cell_type": "markdown",
      "metadata": {
        "id": "AV1jgULSJfkq"
      },
      "source": [
        "# Explorando espacio de hiper parámetros con GridSearchCV"
      ]
    },
    {
      "cell_type": "code",
      "metadata": {
        "colab": {
          "base_uri": "https://localhost:8080/",
          "height": 561
        },
        "id": "fR4k2q5zJjU2",
        "outputId": "a38ccb3e-1b1a-4e22-de24-9e2430d67fea"
      },
      "source": [
        "from sklearn.model_selection import GridSearchCV\n",
        "\n",
        "SEED = 301\n",
        "np.random.seed(SEED)\n",
        "\n",
        "espacio_de_parametros = {\n",
        "    'max_depth' : [3,5],\n",
        "    'min_samples_split' : [32,64,128],\n",
        "    'min_samples_leaf' : [32,64,128],\n",
        "    'criterion' : ['gini', 'entropy']\n",
        "}\n",
        "\n",
        "buscar = GridSearchCV(DecisionTreeClassifier(),\n",
        "                      espacio_de_parametros,\n",
        "                      cv = GroupKFold(n_splits = 10))\n",
        "\n",
        "buscar.fit(x_ord, y_ord, groups = datos.modelo)\n",
        "resultados = pd.DataFrame(buscar.cv_results_)\n",
        "resultados.head()"
      ],
      "execution_count": 33,
      "outputs": [
        {
          "output_type": "execute_result",
          "data": {
            "text/html": [
              "<div>\n",
              "<style scoped>\n",
              "    .dataframe tbody tr th:only-of-type {\n",
              "        vertical-align: middle;\n",
              "    }\n",
              "\n",
              "    .dataframe tbody tr th {\n",
              "        vertical-align: top;\n",
              "    }\n",
              "\n",
              "    .dataframe thead th {\n",
              "        text-align: right;\n",
              "    }\n",
              "</style>\n",
              "<table border=\"1\" class=\"dataframe\">\n",
              "  <thead>\n",
              "    <tr style=\"text-align: right;\">\n",
              "      <th></th>\n",
              "      <th>mean_fit_time</th>\n",
              "      <th>std_fit_time</th>\n",
              "      <th>mean_score_time</th>\n",
              "      <th>std_score_time</th>\n",
              "      <th>param_criterion</th>\n",
              "      <th>param_max_depth</th>\n",
              "      <th>param_min_samples_leaf</th>\n",
              "      <th>param_min_samples_split</th>\n",
              "      <th>params</th>\n",
              "      <th>split0_test_score</th>\n",
              "      <th>split1_test_score</th>\n",
              "      <th>split2_test_score</th>\n",
              "      <th>split3_test_score</th>\n",
              "      <th>split4_test_score</th>\n",
              "      <th>split5_test_score</th>\n",
              "      <th>split6_test_score</th>\n",
              "      <th>split7_test_score</th>\n",
              "      <th>split8_test_score</th>\n",
              "      <th>split9_test_score</th>\n",
              "      <th>mean_test_score</th>\n",
              "      <th>std_test_score</th>\n",
              "      <th>rank_test_score</th>\n",
              "    </tr>\n",
              "  </thead>\n",
              "  <tbody>\n",
              "    <tr>\n",
              "      <th>0</th>\n",
              "      <td>0.010627</td>\n",
              "      <td>0.000517</td>\n",
              "      <td>0.001394</td>\n",
              "      <td>0.000081</td>\n",
              "      <td>gini</td>\n",
              "      <td>3</td>\n",
              "      <td>32</td>\n",
              "      <td>32</td>\n",
              "      <td>{'criterion': 'gini', 'max_depth': 3, 'min_sam...</td>\n",
              "      <td>0.804757</td>\n",
              "      <td>0.793667</td>\n",
              "      <td>0.793313</td>\n",
              "      <td>0.78408</td>\n",
              "      <td>0.783181</td>\n",
              "      <td>0.797809</td>\n",
              "      <td>0.762866</td>\n",
              "      <td>0.781818</td>\n",
              "      <td>0.77551</td>\n",
              "      <td>0.790262</td>\n",
              "      <td>0.786726</td>\n",
              "      <td>0.011361</td>\n",
              "      <td>1</td>\n",
              "    </tr>\n",
              "    <tr>\n",
              "      <th>1</th>\n",
              "      <td>0.010931</td>\n",
              "      <td>0.000641</td>\n",
              "      <td>0.001450</td>\n",
              "      <td>0.000089</td>\n",
              "      <td>gini</td>\n",
              "      <td>3</td>\n",
              "      <td>32</td>\n",
              "      <td>64</td>\n",
              "      <td>{'criterion': 'gini', 'max_depth': 3, 'min_sam...</td>\n",
              "      <td>0.804757</td>\n",
              "      <td>0.793667</td>\n",
              "      <td>0.793313</td>\n",
              "      <td>0.78408</td>\n",
              "      <td>0.783181</td>\n",
              "      <td>0.797809</td>\n",
              "      <td>0.762866</td>\n",
              "      <td>0.781818</td>\n",
              "      <td>0.77551</td>\n",
              "      <td>0.790262</td>\n",
              "      <td>0.786726</td>\n",
              "      <td>0.011361</td>\n",
              "      <td>1</td>\n",
              "    </tr>\n",
              "    <tr>\n",
              "      <th>2</th>\n",
              "      <td>0.010793</td>\n",
              "      <td>0.000593</td>\n",
              "      <td>0.001424</td>\n",
              "      <td>0.000064</td>\n",
              "      <td>gini</td>\n",
              "      <td>3</td>\n",
              "      <td>32</td>\n",
              "      <td>128</td>\n",
              "      <td>{'criterion': 'gini', 'max_depth': 3, 'min_sam...</td>\n",
              "      <td>0.804757</td>\n",
              "      <td>0.793667</td>\n",
              "      <td>0.793313</td>\n",
              "      <td>0.78408</td>\n",
              "      <td>0.783181</td>\n",
              "      <td>0.797809</td>\n",
              "      <td>0.762866</td>\n",
              "      <td>0.781818</td>\n",
              "      <td>0.77551</td>\n",
              "      <td>0.790262</td>\n",
              "      <td>0.786726</td>\n",
              "      <td>0.011361</td>\n",
              "      <td>1</td>\n",
              "    </tr>\n",
              "    <tr>\n",
              "      <th>3</th>\n",
              "      <td>0.011225</td>\n",
              "      <td>0.001167</td>\n",
              "      <td>0.001572</td>\n",
              "      <td>0.000266</td>\n",
              "      <td>gini</td>\n",
              "      <td>3</td>\n",
              "      <td>64</td>\n",
              "      <td>32</td>\n",
              "      <td>{'criterion': 'gini', 'max_depth': 3, 'min_sam...</td>\n",
              "      <td>0.804757</td>\n",
              "      <td>0.793667</td>\n",
              "      <td>0.793313</td>\n",
              "      <td>0.78408</td>\n",
              "      <td>0.783181</td>\n",
              "      <td>0.797809</td>\n",
              "      <td>0.762866</td>\n",
              "      <td>0.781818</td>\n",
              "      <td>0.77551</td>\n",
              "      <td>0.790262</td>\n",
              "      <td>0.786726</td>\n",
              "      <td>0.011361</td>\n",
              "      <td>1</td>\n",
              "    </tr>\n",
              "    <tr>\n",
              "      <th>4</th>\n",
              "      <td>0.010726</td>\n",
              "      <td>0.000543</td>\n",
              "      <td>0.001485</td>\n",
              "      <td>0.000095</td>\n",
              "      <td>gini</td>\n",
              "      <td>3</td>\n",
              "      <td>64</td>\n",
              "      <td>64</td>\n",
              "      <td>{'criterion': 'gini', 'max_depth': 3, 'min_sam...</td>\n",
              "      <td>0.804757</td>\n",
              "      <td>0.793667</td>\n",
              "      <td>0.793313</td>\n",
              "      <td>0.78408</td>\n",
              "      <td>0.783181</td>\n",
              "      <td>0.797809</td>\n",
              "      <td>0.762866</td>\n",
              "      <td>0.781818</td>\n",
              "      <td>0.77551</td>\n",
              "      <td>0.790262</td>\n",
              "      <td>0.786726</td>\n",
              "      <td>0.011361</td>\n",
              "      <td>1</td>\n",
              "    </tr>\n",
              "  </tbody>\n",
              "</table>\n",
              "</div>"
            ],
            "text/plain": [
              "   mean_fit_time  std_fit_time  ...  std_test_score  rank_test_score\n",
              "0       0.010627      0.000517  ...        0.011361                1\n",
              "1       0.010931      0.000641  ...        0.011361                1\n",
              "2       0.010793      0.000593  ...        0.011361                1\n",
              "3       0.011225      0.001167  ...        0.011361                1\n",
              "4       0.010726      0.000543  ...        0.011361                1\n",
              "\n",
              "[5 rows x 22 columns]"
            ]
          },
          "metadata": {},
          "execution_count": 33
        }
      ]
    },
    {
      "cell_type": "code",
      "metadata": {
        "colab": {
          "base_uri": "https://localhost:8080/"
        },
        "id": "H11KGFMXLUjd",
        "outputId": "1df7c484-c817-4575-836f-553232f56f4f"
      },
      "source": [
        "print(buscar.best_params_)\n",
        "print(buscar.best_score_ * 100)"
      ],
      "execution_count": 34,
      "outputs": [
        {
          "output_type": "stream",
          "name": "stdout",
          "text": [
            "{'criterion': 'gini', 'max_depth': 3, 'min_samples_leaf': 32, 'min_samples_split': 32}\n",
            "78.67263337284332\n"
          ]
        }
      ]
    },
    {
      "cell_type": "code",
      "metadata": {
        "colab": {
          "base_uri": "https://localhost:8080/"
        },
        "id": "zHLNmADrLlDH",
        "outputId": "5eadc441-11a3-4744-f974-a56bd432efa5"
      },
      "source": [
        "mejor = buscar.best_estimator_\n",
        "mejor"
      ],
      "execution_count": 35,
      "outputs": [
        {
          "output_type": "execute_result",
          "data": {
            "text/plain": [
              "DecisionTreeClassifier(ccp_alpha=0.0, class_weight=None, criterion='gini',\n",
              "                       max_depth=3, max_features=None, max_leaf_nodes=None,\n",
              "                       min_impurity_decrease=0.0, min_impurity_split=None,\n",
              "                       min_samples_leaf=32, min_samples_split=32,\n",
              "                       min_weight_fraction_leaf=0.0, presort='deprecated',\n",
              "                       random_state=None, splitter='best')"
            ]
          },
          "metadata": {},
          "execution_count": 35
        }
      ]
    },
    {
      "cell_type": "code",
      "metadata": {
        "colab": {
          "base_uri": "https://localhost:8080/"
        },
        "id": "_OV7xMO1Ly7s",
        "outputId": "418bf715-a7d9-4c9b-b3b4-779fb2a766ae"
      },
      "source": [
        "from sklearn.metrics import accuracy_score\n",
        "\n",
        "#Escenario Optimista\n",
        "prediccion = mejor.predict(x_ord)\n",
        "accuracy = accuracy_score(prediccion, y_ord) * 100\n",
        "print('Accuracy para los datos fue %.2f%%' % accuracy)"
      ],
      "execution_count": 36,
      "outputs": [
        {
          "output_type": "stream",
          "name": "stdout",
          "text": [
            "Accuracy para los datos fue 78.75%\n"
          ]
        }
      ]
    },
    {
      "cell_type": "markdown",
      "metadata": {
        "id": "ckUz3TLHPdf2"
      },
      "source": [
        "# Nested Cross Validation\n",
        "Escenario Real"
      ]
    },
    {
      "cell_type": "code",
      "metadata": {
        "colab": {
          "base_uri": "https://localhost:8080/",
          "height": 561
        },
        "id": "Boqm2yjbPmsR",
        "outputId": "40f1c2bd-014d-4047-ddcf-56c0a0998d9f"
      },
      "source": [
        "from sklearn.model_selection import KFold\n",
        "\n",
        "SEED = 301\n",
        "np.random.seed(SEED)\n",
        "\n",
        "espacio_de_parametros = {\n",
        "    'max_depth' : [3,5],\n",
        "    'min_samples_split' : [32,64,128],\n",
        "    'min_samples_leaf' : [32,64,128],\n",
        "    'criterion' : ['gini', 'entropy']\n",
        "}\n",
        "\n",
        "buscar = GridSearchCV(DecisionTreeClassifier(),\n",
        "                      espacio_de_parametros,\n",
        "                      cv = KFold(n_splits = 5, shuffle=True))\n",
        "\n",
        "buscar.fit(x_ord, y_ord)\n",
        "resultados = pd.DataFrame(buscar.cv_results_)\n",
        "resultados.head()"
      ],
      "execution_count": 37,
      "outputs": [
        {
          "output_type": "execute_result",
          "data": {
            "text/html": [
              "<div>\n",
              "<style scoped>\n",
              "    .dataframe tbody tr th:only-of-type {\n",
              "        vertical-align: middle;\n",
              "    }\n",
              "\n",
              "    .dataframe tbody tr th {\n",
              "        vertical-align: top;\n",
              "    }\n",
              "\n",
              "    .dataframe thead th {\n",
              "        text-align: right;\n",
              "    }\n",
              "</style>\n",
              "<table border=\"1\" class=\"dataframe\">\n",
              "  <thead>\n",
              "    <tr style=\"text-align: right;\">\n",
              "      <th></th>\n",
              "      <th>mean_fit_time</th>\n",
              "      <th>std_fit_time</th>\n",
              "      <th>mean_score_time</th>\n",
              "      <th>std_score_time</th>\n",
              "      <th>param_criterion</th>\n",
              "      <th>param_max_depth</th>\n",
              "      <th>param_min_samples_leaf</th>\n",
              "      <th>param_min_samples_split</th>\n",
              "      <th>params</th>\n",
              "      <th>split0_test_score</th>\n",
              "      <th>split1_test_score</th>\n",
              "      <th>split2_test_score</th>\n",
              "      <th>split3_test_score</th>\n",
              "      <th>split4_test_score</th>\n",
              "      <th>mean_test_score</th>\n",
              "      <th>std_test_score</th>\n",
              "      <th>rank_test_score</th>\n",
              "    </tr>\n",
              "  </thead>\n",
              "  <tbody>\n",
              "    <tr>\n",
              "      <th>0</th>\n",
              "      <td>0.011763</td>\n",
              "      <td>0.002820</td>\n",
              "      <td>0.001811</td>\n",
              "      <td>0.000484</td>\n",
              "      <td>gini</td>\n",
              "      <td>3</td>\n",
              "      <td>32</td>\n",
              "      <td>32</td>\n",
              "      <td>{'criterion': 'gini', 'max_depth': 3, 'min_sam...</td>\n",
              "      <td>0.784</td>\n",
              "      <td>0.776</td>\n",
              "      <td>0.8025</td>\n",
              "      <td>0.793</td>\n",
              "      <td>0.7795</td>\n",
              "      <td>0.787</td>\n",
              "      <td>0.009618</td>\n",
              "      <td>1</td>\n",
              "    </tr>\n",
              "    <tr>\n",
              "      <th>1</th>\n",
              "      <td>0.009384</td>\n",
              "      <td>0.000135</td>\n",
              "      <td>0.001501</td>\n",
              "      <td>0.000093</td>\n",
              "      <td>gini</td>\n",
              "      <td>3</td>\n",
              "      <td>32</td>\n",
              "      <td>64</td>\n",
              "      <td>{'criterion': 'gini', 'max_depth': 3, 'min_sam...</td>\n",
              "      <td>0.784</td>\n",
              "      <td>0.776</td>\n",
              "      <td>0.8025</td>\n",
              "      <td>0.793</td>\n",
              "      <td>0.7795</td>\n",
              "      <td>0.787</td>\n",
              "      <td>0.009618</td>\n",
              "      <td>1</td>\n",
              "    </tr>\n",
              "    <tr>\n",
              "      <th>2</th>\n",
              "      <td>0.009467</td>\n",
              "      <td>0.000207</td>\n",
              "      <td>0.001651</td>\n",
              "      <td>0.000244</td>\n",
              "      <td>gini</td>\n",
              "      <td>3</td>\n",
              "      <td>32</td>\n",
              "      <td>128</td>\n",
              "      <td>{'criterion': 'gini', 'max_depth': 3, 'min_sam...</td>\n",
              "      <td>0.784</td>\n",
              "      <td>0.776</td>\n",
              "      <td>0.8025</td>\n",
              "      <td>0.793</td>\n",
              "      <td>0.7795</td>\n",
              "      <td>0.787</td>\n",
              "      <td>0.009618</td>\n",
              "      <td>1</td>\n",
              "    </tr>\n",
              "    <tr>\n",
              "      <th>3</th>\n",
              "      <td>0.009566</td>\n",
              "      <td>0.000167</td>\n",
              "      <td>0.001504</td>\n",
              "      <td>0.000053</td>\n",
              "      <td>gini</td>\n",
              "      <td>3</td>\n",
              "      <td>64</td>\n",
              "      <td>32</td>\n",
              "      <td>{'criterion': 'gini', 'max_depth': 3, 'min_sam...</td>\n",
              "      <td>0.784</td>\n",
              "      <td>0.776</td>\n",
              "      <td>0.8025</td>\n",
              "      <td>0.793</td>\n",
              "      <td>0.7795</td>\n",
              "      <td>0.787</td>\n",
              "      <td>0.009618</td>\n",
              "      <td>1</td>\n",
              "    </tr>\n",
              "    <tr>\n",
              "      <th>4</th>\n",
              "      <td>0.009353</td>\n",
              "      <td>0.000081</td>\n",
              "      <td>0.001472</td>\n",
              "      <td>0.000034</td>\n",
              "      <td>gini</td>\n",
              "      <td>3</td>\n",
              "      <td>64</td>\n",
              "      <td>64</td>\n",
              "      <td>{'criterion': 'gini', 'max_depth': 3, 'min_sam...</td>\n",
              "      <td>0.784</td>\n",
              "      <td>0.776</td>\n",
              "      <td>0.8025</td>\n",
              "      <td>0.793</td>\n",
              "      <td>0.7795</td>\n",
              "      <td>0.787</td>\n",
              "      <td>0.009618</td>\n",
              "      <td>1</td>\n",
              "    </tr>\n",
              "  </tbody>\n",
              "</table>\n",
              "</div>"
            ],
            "text/plain": [
              "   mean_fit_time  std_fit_time  ...  std_test_score  rank_test_score\n",
              "0       0.011763      0.002820  ...        0.009618                1\n",
              "1       0.009384      0.000135  ...        0.009618                1\n",
              "2       0.009467      0.000207  ...        0.009618                1\n",
              "3       0.009566      0.000167  ...        0.009618                1\n",
              "4       0.009353      0.000081  ...        0.009618                1\n",
              "\n",
              "[5 rows x 17 columns]"
            ]
          },
          "metadata": {},
          "execution_count": 37
        }
      ]
    },
    {
      "cell_type": "code",
      "metadata": {
        "colab": {
          "base_uri": "https://localhost:8080/"
        },
        "id": "Zrx0wQSvRX_p",
        "outputId": "4ecc042f-f0ff-42e2-f173-7ce51c751f06"
      },
      "source": [
        "from sklearn.model_selection import cross_val_score\n",
        "\n",
        "scores = cross_val_score(buscar, x_ord, y_ord, cv = KFold(n_splits=5, shuffle=True))\n",
        "scores"
      ],
      "execution_count": 38,
      "outputs": [
        {
          "output_type": "execute_result",
          "data": {
            "text/plain": [
              "array([0.7895, 0.7825, 0.7905, 0.7715, 0.7995])"
            ]
          },
          "metadata": {},
          "execution_count": 38
        }
      ]
    },
    {
      "cell_type": "code",
      "metadata": {
        "id": "sM8WbBPzR54z"
      },
      "source": [
        "def imprime_score(scores):\n",
        "  media = scores.mean() * 100\n",
        "  desviacion = scores.std() * 100\n",
        "  print(\"Accuracy media %.2f\" % media)\n",
        "  print(\"Intervalo [%.2f, %.2f]\" % (media - 2 * desviacion, media + 2 * desviacion))"
      ],
      "execution_count": 39,
      "outputs": []
    },
    {
      "cell_type": "code",
      "metadata": {
        "colab": {
          "base_uri": "https://localhost:8080/"
        },
        "id": "3d-k_vWHSFf8",
        "outputId": "066059ab-5405-4fe0-d8eb-1ee2a63c2a2d"
      },
      "source": [
        "imprime_score(scores) "
      ],
      "execution_count": 40,
      "outputs": [
        {
          "output_type": "stream",
          "name": "stdout",
          "text": [
            "Accuracy media 78.67\n",
            "Intervalo [76.80, 80.54]\n"
          ]
        }
      ]
    },
    {
      "cell_type": "code",
      "metadata": {
        "colab": {
          "base_uri": "https://localhost:8080/"
        },
        "id": "uJU0nE6cSVBE",
        "outputId": "0bcc3dd1-af4d-414d-d2fa-f4f264d8fbbb"
      },
      "source": [
        "mejor = buscar.best_estimator_\n",
        "print(mejor)"
      ],
      "execution_count": 41,
      "outputs": [
        {
          "output_type": "stream",
          "name": "stdout",
          "text": [
            "DecisionTreeClassifier(ccp_alpha=0.0, class_weight=None, criterion='gini',\n",
            "                       max_depth=3, max_features=None, max_leaf_nodes=None,\n",
            "                       min_impurity_decrease=0.0, min_impurity_split=None,\n",
            "                       min_samples_leaf=32, min_samples_split=32,\n",
            "                       min_weight_fraction_leaf=0.0, presort='deprecated',\n",
            "                       random_state=None, splitter='best')\n"
          ]
        }
      ]
    },
    {
      "cell_type": "code",
      "metadata": {
        "colab": {
          "base_uri": "https://localhost:8080/",
          "height": 598
        },
        "id": "HYa6gfq9Shlz",
        "outputId": "da7dc9d4-dd5c-47aa-e807-a1dfce22bf62"
      },
      "source": [
        "features = x_ord.columns\n",
        "dot_data = export_graphviz(mejor, out_file=None, filled=True, rounded=True,\n",
        "                class_names=['no','si'],\n",
        "                feature_names = features)\n",
        "\n",
        "graph = graphviz.Source(dot_data)\n",
        "graph"
      ],
      "execution_count": 42,
      "outputs": [
        {
          "output_type": "execute_result",
          "data": {
            "text/plain": [
              "<graphviz.files.Source at 0x7f32ca803510>"
            ],
            "image/svg+xml": "<?xml version=\"1.0\" encoding=\"UTF-8\" standalone=\"no\"?>\n<!DOCTYPE svg PUBLIC \"-//W3C//DTD SVG 1.1//EN\"\n \"http://www.w3.org/Graphics/SVG/1.1/DTD/svg11.dtd\">\n<!-- Generated by graphviz version 2.40.1 (20161225.0304)\n -->\n<!-- Title: Tree Pages: 1 -->\n<svg width=\"913pt\" height=\"433pt\"\n viewBox=\"0.00 0.00 913.00 433.00\" xmlns=\"http://www.w3.org/2000/svg\" xmlns:xlink=\"http://www.w3.org/1999/xlink\">\n<g id=\"graph0\" class=\"graph\" transform=\"scale(1 1) rotate(0) translate(4 429)\">\n<title>Tree</title>\n<polygon fill=\"#ffffff\" stroke=\"transparent\" points=\"-4,4 -4,-429 909,-429 909,4 -4,4\"/>\n<!-- 0 -->\n<g id=\"node1\" class=\"node\">\n<title>0</title>\n<path fill=\"#c8e4f8\" stroke=\"#000000\" d=\"M374,-425C374,-425 248,-425 248,-425 242,-425 236,-419 236,-413 236,-413 236,-354 236,-354 236,-348 242,-342 248,-342 248,-342 374,-342 374,-342 380,-342 386,-348 386,-354 386,-354 386,-413 386,-413 386,-419 380,-425 374,-425\"/>\n<text text-anchor=\"middle\" x=\"311\" y=\"-409.8\" font-family=\"Helvetica,sans-Serif\" font-size=\"14.00\" fill=\"#000000\">precio &lt;= 59982.246</text>\n<text text-anchor=\"middle\" x=\"311\" y=\"-394.8\" font-family=\"Helvetica,sans-Serif\" font-size=\"14.00\" fill=\"#000000\">gini = 0.487</text>\n<text text-anchor=\"middle\" x=\"311\" y=\"-379.8\" font-family=\"Helvetica,sans-Serif\" font-size=\"14.00\" fill=\"#000000\">samples = 10000</text>\n<text text-anchor=\"middle\" x=\"311\" y=\"-364.8\" font-family=\"Helvetica,sans-Serif\" font-size=\"14.00\" fill=\"#000000\">value = [4200, 5800]</text>\n<text text-anchor=\"middle\" x=\"311\" y=\"-349.8\" font-family=\"Helvetica,sans-Serif\" font-size=\"14.00\" fill=\"#000000\">class = si</text>\n</g>\n<!-- 1 -->\n<g id=\"node2\" class=\"node\">\n<title>1</title>\n<path fill=\"#52a9e8\" stroke=\"#000000\" d=\"M280,-306C280,-306 154,-306 154,-306 148,-306 142,-300 142,-294 142,-294 142,-235 142,-235 142,-229 148,-223 154,-223 154,-223 280,-223 280,-223 286,-223 292,-229 292,-235 292,-235 292,-294 292,-294 292,-300 286,-306 280,-306\"/>\n<text text-anchor=\"middle\" x=\"217\" y=\"-290.8\" font-family=\"Helvetica,sans-Serif\" font-size=\"14.00\" fill=\"#000000\">precio &lt;= 40083.385</text>\n<text text-anchor=\"middle\" x=\"217\" y=\"-275.8\" font-family=\"Helvetica,sans-Serif\" font-size=\"14.00\" fill=\"#000000\">gini = 0.198</text>\n<text text-anchor=\"middle\" x=\"217\" y=\"-260.8\" font-family=\"Helvetica,sans-Serif\" font-size=\"14.00\" fill=\"#000000\">samples = 4347</text>\n<text text-anchor=\"middle\" x=\"217\" y=\"-245.8\" font-family=\"Helvetica,sans-Serif\" font-size=\"14.00\" fill=\"#000000\">value = [484, 3863]</text>\n<text text-anchor=\"middle\" x=\"217\" y=\"-230.8\" font-family=\"Helvetica,sans-Serif\" font-size=\"14.00\" fill=\"#000000\">class = si</text>\n</g>\n<!-- 0&#45;&gt;1 -->\n<g id=\"edge1\" class=\"edge\">\n<title>0&#45;&gt;1</title>\n<path fill=\"none\" stroke=\"#000000\" d=\"M278.1234,-341.8796C271.0803,-332.9633 263.5707,-323.4565 256.3126,-314.268\"/>\n<polygon fill=\"#000000\" stroke=\"#000000\" points=\"258.9621,-311.9757 250.017,-306.2981 253.4691,-316.3147 258.9621,-311.9757\"/>\n<text text-anchor=\"middle\" x=\"247.1027\" y=\"-327.4276\" font-family=\"Helvetica,sans-Serif\" font-size=\"14.00\" fill=\"#000000\">True</text>\n</g>\n<!-- 6 -->\n<g id=\"node7\" class=\"node\">\n<title>6</title>\n<path fill=\"#f3c3a0\" stroke=\"#000000\" d=\"M545.5,-306C545.5,-306 378.5,-306 378.5,-306 372.5,-306 366.5,-300 366.5,-294 366.5,-294 366.5,-235 366.5,-235 366.5,-229 372.5,-223 378.5,-223 378.5,-223 545.5,-223 545.5,-223 551.5,-223 557.5,-229 557.5,-235 557.5,-235 557.5,-294 557.5,-294 557.5,-300 551.5,-306 545.5,-306\"/>\n<text text-anchor=\"middle\" x=\"462\" y=\"-290.8\" font-family=\"Helvetica,sans-Serif\" font-size=\"14.00\" fill=\"#000000\">km_by_year &lt;= 24124.006</text>\n<text text-anchor=\"middle\" x=\"462\" y=\"-275.8\" font-family=\"Helvetica,sans-Serif\" font-size=\"14.00\" fill=\"#000000\">gini = 0.45</text>\n<text text-anchor=\"middle\" x=\"462\" y=\"-260.8\" font-family=\"Helvetica,sans-Serif\" font-size=\"14.00\" fill=\"#000000\">samples = 5653</text>\n<text text-anchor=\"middle\" x=\"462\" y=\"-245.8\" font-family=\"Helvetica,sans-Serif\" font-size=\"14.00\" fill=\"#000000\">value = [3716, 1937]</text>\n<text text-anchor=\"middle\" x=\"462\" y=\"-230.8\" font-family=\"Helvetica,sans-Serif\" font-size=\"14.00\" fill=\"#000000\">class = no</text>\n</g>\n<!-- 0&#45;&gt;6 -->\n<g id=\"edge6\" class=\"edge\">\n<title>0&#45;&gt;6</title>\n<path fill=\"none\" stroke=\"#000000\" d=\"M363.8125,-341.8796C375.8818,-332.368 388.8039,-322.1843 401.1788,-312.432\"/>\n<polygon fill=\"#000000\" stroke=\"#000000\" points=\"403.5296,-315.0356 409.2173,-306.0969 399.1968,-309.5377 403.5296,-315.0356\"/>\n<text text-anchor=\"middle\" x=\"406.275\" y=\"-327.2232\" font-family=\"Helvetica,sans-Serif\" font-size=\"14.00\" fill=\"#000000\">False</text>\n</g>\n<!-- 2 -->\n<g id=\"node3\" class=\"node\">\n<title>2</title>\n<path fill=\"#399de5\" stroke=\"#000000\" d=\"M112,-179.5C112,-179.5 12,-179.5 12,-179.5 6,-179.5 0,-173.5 0,-167.5 0,-167.5 0,-123.5 0,-123.5 0,-117.5 6,-111.5 12,-111.5 12,-111.5 112,-111.5 112,-111.5 118,-111.5 124,-117.5 124,-123.5 124,-123.5 124,-167.5 124,-167.5 124,-173.5 118,-179.5 112,-179.5\"/>\n<text text-anchor=\"middle\" x=\"62\" y=\"-164.3\" font-family=\"Helvetica,sans-Serif\" font-size=\"14.00\" fill=\"#000000\">gini = 0.0</text>\n<text text-anchor=\"middle\" x=\"62\" y=\"-149.3\" font-family=\"Helvetica,sans-Serif\" font-size=\"14.00\" fill=\"#000000\">samples = 1935</text>\n<text text-anchor=\"middle\" x=\"62\" y=\"-134.3\" font-family=\"Helvetica,sans-Serif\" font-size=\"14.00\" fill=\"#000000\">value = [0, 1935]</text>\n<text text-anchor=\"middle\" x=\"62\" y=\"-119.3\" font-family=\"Helvetica,sans-Serif\" font-size=\"14.00\" fill=\"#000000\">class = si</text>\n</g>\n<!-- 1&#45;&gt;2 -->\n<g id=\"edge2\" class=\"edge\">\n<title>1&#45;&gt;2</title>\n<path fill=\"none\" stroke=\"#000000\" d=\"M162.7885,-222.8796C147.1769,-210.8938 130.1753,-197.841 114.6592,-185.9287\"/>\n<polygon fill=\"#000000\" stroke=\"#000000\" points=\"116.7593,-183.1285 106.6959,-179.8149 112.4965,-188.6808 116.7593,-183.1285\"/>\n</g>\n<!-- 3 -->\n<g id=\"node4\" class=\"node\">\n<title>3</title>\n<path fill=\"#6bb6ec\" stroke=\"#000000\" d=\"M280,-187C280,-187 154,-187 154,-187 148,-187 142,-181 142,-175 142,-175 142,-116 142,-116 142,-110 148,-104 154,-104 154,-104 280,-104 280,-104 286,-104 292,-110 292,-116 292,-116 292,-175 292,-175 292,-181 286,-187 280,-187\"/>\n<text text-anchor=\"middle\" x=\"217\" y=\"-171.8\" font-family=\"Helvetica,sans-Serif\" font-size=\"14.00\" fill=\"#000000\">precio &lt;= 41083.029</text>\n<text text-anchor=\"middle\" x=\"217\" y=\"-156.8\" font-family=\"Helvetica,sans-Serif\" font-size=\"14.00\" fill=\"#000000\">gini = 0.321</text>\n<text text-anchor=\"middle\" x=\"217\" y=\"-141.8\" font-family=\"Helvetica,sans-Serif\" font-size=\"14.00\" fill=\"#000000\">samples = 2412</text>\n<text text-anchor=\"middle\" x=\"217\" y=\"-126.8\" font-family=\"Helvetica,sans-Serif\" font-size=\"14.00\" fill=\"#000000\">value = [484, 1928]</text>\n<text text-anchor=\"middle\" x=\"217\" y=\"-111.8\" font-family=\"Helvetica,sans-Serif\" font-size=\"14.00\" fill=\"#000000\">class = si</text>\n</g>\n<!-- 1&#45;&gt;3 -->\n<g id=\"edge3\" class=\"edge\">\n<title>1&#45;&gt;3</title>\n<path fill=\"none\" stroke=\"#000000\" d=\"M217,-222.8796C217,-214.6838 217,-205.9891 217,-197.5013\"/>\n<polygon fill=\"#000000\" stroke=\"#000000\" points=\"220.5001,-197.298 217,-187.2981 213.5001,-197.2981 220.5001,-197.298\"/>\n</g>\n<!-- 4 -->\n<g id=\"node5\" class=\"node\">\n<title>4</title>\n<path fill=\"#95cbf1\" stroke=\"#000000\" d=\"M117,-68C117,-68 25,-68 25,-68 19,-68 13,-62 13,-56 13,-56 13,-12 13,-12 13,-6 19,0 25,0 25,0 117,0 117,0 123,0 129,-6 129,-12 129,-12 129,-56 129,-56 129,-62 123,-68 117,-68\"/>\n<text text-anchor=\"middle\" x=\"71\" y=\"-52.8\" font-family=\"Helvetica,sans-Serif\" font-size=\"14.00\" fill=\"#000000\">gini = 0.434</text>\n<text text-anchor=\"middle\" x=\"71\" y=\"-37.8\" font-family=\"Helvetica,sans-Serif\" font-size=\"14.00\" fill=\"#000000\">samples = 110</text>\n<text text-anchor=\"middle\" x=\"71\" y=\"-22.8\" font-family=\"Helvetica,sans-Serif\" font-size=\"14.00\" fill=\"#000000\">value = [35, 75]</text>\n<text text-anchor=\"middle\" x=\"71\" y=\"-7.8\" font-family=\"Helvetica,sans-Serif\" font-size=\"14.00\" fill=\"#000000\">class = si</text>\n</g>\n<!-- 3&#45;&gt;4 -->\n<g id=\"edge4\" class=\"edge\">\n<title>3&#45;&gt;4</title>\n<path fill=\"none\" stroke=\"#000000\" d=\"M162.635,-103.9815C149.9989,-94.3313 136.5644,-84.0714 123.9885,-74.4673\"/>\n<polygon fill=\"#000000\" stroke=\"#000000\" points=\"125.9372,-71.5515 115.8654,-68.2637 121.6886,-77.1148 125.9372,-71.5515\"/>\n</g>\n<!-- 5 -->\n<g id=\"node6\" class=\"node\">\n<title>5</title>\n<path fill=\"#69b5eb\" stroke=\"#000000\" d=\"M275,-68C275,-68 159,-68 159,-68 153,-68 147,-62 147,-56 147,-56 147,-12 147,-12 147,-6 153,0 159,0 159,0 275,0 275,0 281,0 287,-6 287,-12 287,-12 287,-56 287,-56 287,-62 281,-68 275,-68\"/>\n<text text-anchor=\"middle\" x=\"217\" y=\"-52.8\" font-family=\"Helvetica,sans-Serif\" font-size=\"14.00\" fill=\"#000000\">gini = 0.314</text>\n<text text-anchor=\"middle\" x=\"217\" y=\"-37.8\" font-family=\"Helvetica,sans-Serif\" font-size=\"14.00\" fill=\"#000000\">samples = 2302</text>\n<text text-anchor=\"middle\" x=\"217\" y=\"-22.8\" font-family=\"Helvetica,sans-Serif\" font-size=\"14.00\" fill=\"#000000\">value = [449, 1853]</text>\n<text text-anchor=\"middle\" x=\"217\" y=\"-7.8\" font-family=\"Helvetica,sans-Serif\" font-size=\"14.00\" fill=\"#000000\">class = si</text>\n</g>\n<!-- 3&#45;&gt;5 -->\n<g id=\"edge5\" class=\"edge\">\n<title>3&#45;&gt;5</title>\n<path fill=\"none\" stroke=\"#000000\" d=\"M217,-103.9815C217,-95.618 217,-86.7965 217,-78.3409\"/>\n<polygon fill=\"#000000\" stroke=\"#000000\" points=\"220.5001,-78.2636 217,-68.2637 213.5001,-78.2637 220.5001,-78.2636\"/>\n</g>\n<!-- 7 -->\n<g id=\"node8\" class=\"node\">\n<title>7</title>\n<path fill=\"#fcefe5\" stroke=\"#000000\" d=\"M524.5,-187C524.5,-187 399.5,-187 399.5,-187 393.5,-187 387.5,-181 387.5,-175 387.5,-175 387.5,-116 387.5,-116 387.5,-110 393.5,-104 399.5,-104 399.5,-104 524.5,-104 524.5,-104 530.5,-104 536.5,-110 536.5,-116 536.5,-116 536.5,-175 536.5,-175 536.5,-181 530.5,-187 524.5,-187\"/>\n<text text-anchor=\"middle\" x=\"462\" y=\"-171.8\" font-family=\"Helvetica,sans-Serif\" font-size=\"14.00\" fill=\"#000000\">precio &lt;= 99974.41</text>\n<text text-anchor=\"middle\" x=\"462\" y=\"-156.8\" font-family=\"Helvetica,sans-Serif\" font-size=\"14.00\" fill=\"#000000\">gini = 0.498</text>\n<text text-anchor=\"middle\" x=\"462\" y=\"-141.8\" font-family=\"Helvetica,sans-Serif\" font-size=\"14.00\" fill=\"#000000\">samples = 3513</text>\n<text text-anchor=\"middle\" x=\"462\" y=\"-126.8\" font-family=\"Helvetica,sans-Serif\" font-size=\"14.00\" fill=\"#000000\">value = [1879, 1634]</text>\n<text text-anchor=\"middle\" x=\"462\" y=\"-111.8\" font-family=\"Helvetica,sans-Serif\" font-size=\"14.00\" fill=\"#000000\">class = no</text>\n</g>\n<!-- 6&#45;&gt;7 -->\n<g id=\"edge7\" class=\"edge\">\n<title>6&#45;&gt;7</title>\n<path fill=\"none\" stroke=\"#000000\" d=\"M462,-222.8796C462,-214.6838 462,-205.9891 462,-197.5013\"/>\n<polygon fill=\"#000000\" stroke=\"#000000\" points=\"465.5001,-197.298 462,-187.2981 458.5001,-197.2981 465.5001,-197.298\"/>\n</g>\n<!-- 10 -->\n<g id=\"node11\" class=\"node\">\n<title>10</title>\n<path fill=\"#e9965a\" stroke=\"#000000\" d=\"M756,-187C756,-187 622,-187 622,-187 616,-187 610,-181 610,-175 610,-175 610,-116 610,-116 610,-110 616,-104 622,-104 622,-104 756,-104 756,-104 762,-104 768,-110 768,-116 768,-116 768,-175 768,-175 768,-181 762,-187 756,-187\"/>\n<text text-anchor=\"middle\" x=\"689\" y=\"-171.8\" font-family=\"Helvetica,sans-Serif\" font-size=\"14.00\" fill=\"#000000\">precio &lt;= 100076.957</text>\n<text text-anchor=\"middle\" x=\"689\" y=\"-156.8\" font-family=\"Helvetica,sans-Serif\" font-size=\"14.00\" fill=\"#000000\">gini = 0.243</text>\n<text text-anchor=\"middle\" x=\"689\" y=\"-141.8\" font-family=\"Helvetica,sans-Serif\" font-size=\"14.00\" fill=\"#000000\">samples = 2140</text>\n<text text-anchor=\"middle\" x=\"689\" y=\"-126.8\" font-family=\"Helvetica,sans-Serif\" font-size=\"14.00\" fill=\"#000000\">value = [1837, 303]</text>\n<text text-anchor=\"middle\" x=\"689\" y=\"-111.8\" font-family=\"Helvetica,sans-Serif\" font-size=\"14.00\" fill=\"#000000\">class = no</text>\n</g>\n<!-- 6&#45;&gt;10 -->\n<g id=\"edge10\" class=\"edge\">\n<title>6&#45;&gt;10</title>\n<path fill=\"none\" stroke=\"#000000\" d=\"M541.3936,-222.8796C560.5744,-212.8244 581.1878,-202.0183 600.7475,-191.7645\"/>\n<polygon fill=\"#000000\" stroke=\"#000000\" points=\"602.4195,-194.8398 609.6512,-187.0969 599.1694,-188.6401 602.4195,-194.8398\"/>\n</g>\n<!-- 8 -->\n<g id=\"node9\" class=\"node\">\n<title>8</title>\n<path fill=\"#f9e0ce\" stroke=\"#000000\" d=\"M442.5,-68C442.5,-68 317.5,-68 317.5,-68 311.5,-68 305.5,-62 305.5,-56 305.5,-56 305.5,-12 305.5,-12 305.5,-6 311.5,0 317.5,0 317.5,0 442.5,0 442.5,0 448.5,0 454.5,-6 454.5,-12 454.5,-12 454.5,-56 454.5,-56 454.5,-62 448.5,-68 442.5,-68\"/>\n<text text-anchor=\"middle\" x=\"380\" y=\"-52.8\" font-family=\"Helvetica,sans-Serif\" font-size=\"14.00\" fill=\"#000000\">gini = 0.49</text>\n<text text-anchor=\"middle\" x=\"380\" y=\"-37.8\" font-family=\"Helvetica,sans-Serif\" font-size=\"14.00\" fill=\"#000000\">samples = 2944</text>\n<text text-anchor=\"middle\" x=\"380\" y=\"-22.8\" font-family=\"Helvetica,sans-Serif\" font-size=\"14.00\" fill=\"#000000\">value = [1682, 1262]</text>\n<text text-anchor=\"middle\" x=\"380\" y=\"-7.8\" font-family=\"Helvetica,sans-Serif\" font-size=\"14.00\" fill=\"#000000\">class = no</text>\n</g>\n<!-- 7&#45;&gt;8 -->\n<g id=\"edge8\" class=\"edge\">\n<title>7&#45;&gt;8</title>\n<path fill=\"none\" stroke=\"#000000\" d=\"M431.4662,-103.9815C424.8424,-94.9747 417.8279,-85.4367 411.1795,-76.3965\"/>\n<polygon fill=\"#000000\" stroke=\"#000000\" points=\"413.9426,-74.2461 405.1984,-68.2637 408.3034,-78.3933 413.9426,-74.2461\"/>\n</g>\n<!-- 9 -->\n<g id=\"node10\" class=\"node\">\n<title>9</title>\n<path fill=\"#a2d1f3\" stroke=\"#000000\" d=\"M593,-68C593,-68 485,-68 485,-68 479,-68 473,-62 473,-56 473,-56 473,-12 473,-12 473,-6 479,0 485,0 485,0 593,0 593,0 599,0 605,-6 605,-12 605,-12 605,-56 605,-56 605,-62 599,-68 593,-68\"/>\n<text text-anchor=\"middle\" x=\"539\" y=\"-52.8\" font-family=\"Helvetica,sans-Serif\" font-size=\"14.00\" fill=\"#000000\">gini = 0.453</text>\n<text text-anchor=\"middle\" x=\"539\" y=\"-37.8\" font-family=\"Helvetica,sans-Serif\" font-size=\"14.00\" fill=\"#000000\">samples = 569</text>\n<text text-anchor=\"middle\" x=\"539\" y=\"-22.8\" font-family=\"Helvetica,sans-Serif\" font-size=\"14.00\" fill=\"#000000\">value = [197, 372]</text>\n<text text-anchor=\"middle\" x=\"539\" y=\"-7.8\" font-family=\"Helvetica,sans-Serif\" font-size=\"14.00\" fill=\"#000000\">class = si</text>\n</g>\n<!-- 7&#45;&gt;9 -->\n<g id=\"edge9\" class=\"edge\">\n<title>7&#45;&gt;9</title>\n<path fill=\"none\" stroke=\"#000000\" d=\"M490.672,-103.9815C496.8285,-95.0666 503.3443,-85.6313 509.5305,-76.6734\"/>\n<polygon fill=\"#000000\" stroke=\"#000000\" points=\"512.5355,-78.4811 515.3381,-68.2637 506.7755,-74.5034 512.5355,-78.4811\"/>\n</g>\n<!-- 11 -->\n<g id=\"node12\" class=\"node\">\n<title>11</title>\n<path fill=\"#e68742\" stroke=\"#000000\" d=\"M743,-68C743,-68 635,-68 635,-68 629,-68 623,-62 623,-56 623,-56 623,-12 623,-12 623,-6 629,0 635,0 635,0 743,0 743,0 749,0 755,-6 755,-12 755,-12 755,-56 755,-56 755,-62 749,-68 743,-68\"/>\n<text text-anchor=\"middle\" x=\"689\" y=\"-52.8\" font-family=\"Helvetica,sans-Serif\" font-size=\"14.00\" fill=\"#000000\">gini = 0.082</text>\n<text text-anchor=\"middle\" x=\"689\" y=\"-37.8\" font-family=\"Helvetica,sans-Serif\" font-size=\"14.00\" fill=\"#000000\">samples = 1809</text>\n<text text-anchor=\"middle\" x=\"689\" y=\"-22.8\" font-family=\"Helvetica,sans-Serif\" font-size=\"14.00\" fill=\"#000000\">value = [1732, 77]</text>\n<text text-anchor=\"middle\" x=\"689\" y=\"-7.8\" font-family=\"Helvetica,sans-Serif\" font-size=\"14.00\" fill=\"#000000\">class = no</text>\n</g>\n<!-- 10&#45;&gt;11 -->\n<g id=\"edge11\" class=\"edge\">\n<title>10&#45;&gt;11</title>\n<path fill=\"none\" stroke=\"#000000\" d=\"M689,-103.9815C689,-95.618 689,-86.7965 689,-78.3409\"/>\n<polygon fill=\"#000000\" stroke=\"#000000\" points=\"692.5001,-78.2636 689,-68.2637 685.5001,-78.2637 692.5001,-78.2636\"/>\n</g>\n<!-- 12 -->\n<g id=\"node13\" class=\"node\">\n<title>12</title>\n<path fill=\"#95cbf1\" stroke=\"#000000\" d=\"M893,-68C893,-68 785,-68 785,-68 779,-68 773,-62 773,-56 773,-56 773,-12 773,-12 773,-6 779,0 785,0 785,0 893,0 893,0 899,0 905,-6 905,-12 905,-12 905,-56 905,-56 905,-62 899,-68 893,-68\"/>\n<text text-anchor=\"middle\" x=\"839\" y=\"-52.8\" font-family=\"Helvetica,sans-Serif\" font-size=\"14.00\" fill=\"#000000\">gini = 0.433</text>\n<text text-anchor=\"middle\" x=\"839\" y=\"-37.8\" font-family=\"Helvetica,sans-Serif\" font-size=\"14.00\" fill=\"#000000\">samples = 331</text>\n<text text-anchor=\"middle\" x=\"839\" y=\"-22.8\" font-family=\"Helvetica,sans-Serif\" font-size=\"14.00\" fill=\"#000000\">value = [105, 226]</text>\n<text text-anchor=\"middle\" x=\"839\" y=\"-7.8\" font-family=\"Helvetica,sans-Serif\" font-size=\"14.00\" fill=\"#000000\">class = si</text>\n</g>\n<!-- 10&#45;&gt;12 -->\n<g id=\"edge12\" class=\"edge\">\n<title>10&#45;&gt;12</title>\n<path fill=\"none\" stroke=\"#000000\" d=\"M744.8545,-103.9815C757.8368,-94.3313 771.6394,-84.0714 784.5597,-74.4673\"/>\n<polygon fill=\"#000000\" stroke=\"#000000\" points=\"786.9678,-77.0384 792.9054,-68.2637 782.7917,-71.4204 786.9678,-77.0384\"/>\n</g>\n</g>\n</svg>\n"
          },
          "metadata": {},
          "execution_count": 42
        }
      ]
    },
    {
      "cell_type": "markdown",
      "metadata": {
        "id": "tlanw8HvW07s"
      },
      "source": [
        "# Búsqueda aleatoria: RandomSearch"
      ]
    },
    {
      "cell_type": "code",
      "metadata": {
        "colab": {
          "base_uri": "https://localhost:8080/",
          "height": 460
        },
        "id": "GuopGR8eW3bz",
        "outputId": "86861ce6-1057-43e5-adda-3225a75ca2bc"
      },
      "source": [
        "from sklearn.model_selection import RandomizedSearchCV\n",
        "\n",
        "SEED = 301\n",
        "np.random.seed(SEED)\n",
        "\n",
        "espacio_de_parametros = {\n",
        "    'max_depth' : [3,5],\n",
        "    'min_samples_split' : [32,64,128],\n",
        "    'min_samples_leaf' : [32,64,128],\n",
        "    'criterion' : ['gini', 'entropy']\n",
        "}\n",
        "\n",
        "buscar = RandomizedSearchCV(DecisionTreeClassifier(),\n",
        "                      espacio_de_parametros,\n",
        "                      n_iter = 16,\n",
        "                      cv = KFold(n_splits = 5, shuffle=True),\n",
        "                      random_state=SEED)\n",
        "\n",
        "buscar.fit(x_ord, y_ord)\n",
        "resultados = pd.DataFrame(buscar.cv_results_)\n",
        "resultados.head()"
      ],
      "execution_count": 43,
      "outputs": [
        {
          "output_type": "execute_result",
          "data": {
            "text/html": [
              "<div>\n",
              "<style scoped>\n",
              "    .dataframe tbody tr th:only-of-type {\n",
              "        vertical-align: middle;\n",
              "    }\n",
              "\n",
              "    .dataframe tbody tr th {\n",
              "        vertical-align: top;\n",
              "    }\n",
              "\n",
              "    .dataframe thead th {\n",
              "        text-align: right;\n",
              "    }\n",
              "</style>\n",
              "<table border=\"1\" class=\"dataframe\">\n",
              "  <thead>\n",
              "    <tr style=\"text-align: right;\">\n",
              "      <th></th>\n",
              "      <th>mean_fit_time</th>\n",
              "      <th>std_fit_time</th>\n",
              "      <th>mean_score_time</th>\n",
              "      <th>std_score_time</th>\n",
              "      <th>param_min_samples_split</th>\n",
              "      <th>param_min_samples_leaf</th>\n",
              "      <th>param_max_depth</th>\n",
              "      <th>param_criterion</th>\n",
              "      <th>params</th>\n",
              "      <th>split0_test_score</th>\n",
              "      <th>split1_test_score</th>\n",
              "      <th>split2_test_score</th>\n",
              "      <th>split3_test_score</th>\n",
              "      <th>split4_test_score</th>\n",
              "      <th>mean_test_score</th>\n",
              "      <th>std_test_score</th>\n",
              "      <th>rank_test_score</th>\n",
              "    </tr>\n",
              "  </thead>\n",
              "  <tbody>\n",
              "    <tr>\n",
              "      <th>0</th>\n",
              "      <td>0.012630</td>\n",
              "      <td>0.000380</td>\n",
              "      <td>0.001521</td>\n",
              "      <td>0.000075</td>\n",
              "      <td>128</td>\n",
              "      <td>128</td>\n",
              "      <td>5</td>\n",
              "      <td>gini</td>\n",
              "      <td>{'min_samples_split': 128, 'min_samples_leaf':...</td>\n",
              "      <td>0.784</td>\n",
              "      <td>0.769</td>\n",
              "      <td>0.7985</td>\n",
              "      <td>0.793</td>\n",
              "      <td>0.7730</td>\n",
              "      <td>0.7835</td>\n",
              "      <td>0.011278</td>\n",
              "      <td>13</td>\n",
              "    </tr>\n",
              "    <tr>\n",
              "      <th>1</th>\n",
              "      <td>0.010336</td>\n",
              "      <td>0.001531</td>\n",
              "      <td>0.001560</td>\n",
              "      <td>0.000108</td>\n",
              "      <td>64</td>\n",
              "      <td>32</td>\n",
              "      <td>3</td>\n",
              "      <td>gini</td>\n",
              "      <td>{'min_samples_split': 64, 'min_samples_leaf': ...</td>\n",
              "      <td>0.784</td>\n",
              "      <td>0.776</td>\n",
              "      <td>0.8025</td>\n",
              "      <td>0.793</td>\n",
              "      <td>0.7795</td>\n",
              "      <td>0.7870</td>\n",
              "      <td>0.009618</td>\n",
              "      <td>1</td>\n",
              "    </tr>\n",
              "    <tr>\n",
              "      <th>2</th>\n",
              "      <td>0.009407</td>\n",
              "      <td>0.000203</td>\n",
              "      <td>0.001503</td>\n",
              "      <td>0.000083</td>\n",
              "      <td>64</td>\n",
              "      <td>128</td>\n",
              "      <td>3</td>\n",
              "      <td>gini</td>\n",
              "      <td>{'min_samples_split': 64, 'min_samples_leaf': ...</td>\n",
              "      <td>0.784</td>\n",
              "      <td>0.776</td>\n",
              "      <td>0.8025</td>\n",
              "      <td>0.793</td>\n",
              "      <td>0.7795</td>\n",
              "      <td>0.7870</td>\n",
              "      <td>0.009618</td>\n",
              "      <td>1</td>\n",
              "    </tr>\n",
              "    <tr>\n",
              "      <th>3</th>\n",
              "      <td>0.019866</td>\n",
              "      <td>0.001417</td>\n",
              "      <td>0.001551</td>\n",
              "      <td>0.000024</td>\n",
              "      <td>32</td>\n",
              "      <td>64</td>\n",
              "      <td>5</td>\n",
              "      <td>entropy</td>\n",
              "      <td>{'min_samples_split': 32, 'min_samples_leaf': ...</td>\n",
              "      <td>0.784</td>\n",
              "      <td>0.769</td>\n",
              "      <td>0.8005</td>\n",
              "      <td>0.793</td>\n",
              "      <td>0.7730</td>\n",
              "      <td>0.7839</td>\n",
              "      <td>0.011825</td>\n",
              "      <td>7</td>\n",
              "    </tr>\n",
              "    <tr>\n",
              "      <th>4</th>\n",
              "      <td>0.019448</td>\n",
              "      <td>0.000617</td>\n",
              "      <td>0.001530</td>\n",
              "      <td>0.000015</td>\n",
              "      <td>64</td>\n",
              "      <td>64</td>\n",
              "      <td>5</td>\n",
              "      <td>entropy</td>\n",
              "      <td>{'min_samples_split': 64, 'min_samples_leaf': ...</td>\n",
              "      <td>0.784</td>\n",
              "      <td>0.769</td>\n",
              "      <td>0.8005</td>\n",
              "      <td>0.793</td>\n",
              "      <td>0.7730</td>\n",
              "      <td>0.7839</td>\n",
              "      <td>0.011825</td>\n",
              "      <td>7</td>\n",
              "    </tr>\n",
              "  </tbody>\n",
              "</table>\n",
              "</div>"
            ],
            "text/plain": [
              "   mean_fit_time  std_fit_time  ...  std_test_score  rank_test_score\n",
              "0       0.012630      0.000380  ...        0.011278               13\n",
              "1       0.010336      0.001531  ...        0.009618                1\n",
              "2       0.009407      0.000203  ...        0.009618                1\n",
              "3       0.019866      0.001417  ...        0.011825                7\n",
              "4       0.019448      0.000617  ...        0.011825                7\n",
              "\n",
              "[5 rows x 17 columns]"
            ]
          },
          "metadata": {},
          "execution_count": 43
        }
      ]
    },
    {
      "cell_type": "code",
      "metadata": {
        "colab": {
          "base_uri": "https://localhost:8080/"
        },
        "id": "ye1iOYU7YcBi",
        "outputId": "cee0577c-dc1f-4259-9e19-5c28d2a5695b"
      },
      "source": [
        "scores = cross_val_score(buscar, x_ord, y_ord, cv = KFold(n_splits=5, shuffle=True))\n",
        "imprime_score(scores) "
      ],
      "execution_count": 44,
      "outputs": [
        {
          "output_type": "stream",
          "name": "stdout",
          "text": [
            "Accuracy media 78.71\n",
            "Intervalo [77.49, 79.93]\n"
          ]
        }
      ]
    },
    {
      "cell_type": "code",
      "metadata": {
        "colab": {
          "base_uri": "https://localhost:8080/"
        },
        "id": "uNV_o7i2Ysl9",
        "outputId": "ffd3e30a-078a-43a3-e3be-2baa1115b2b7"
      },
      "source": [
        "mejor = buscar.best_estimator_\n",
        "mejor"
      ],
      "execution_count": 45,
      "outputs": [
        {
          "output_type": "execute_result",
          "data": {
            "text/plain": [
              "DecisionTreeClassifier(ccp_alpha=0.0, class_weight=None, criterion='gini',\n",
              "                       max_depth=3, max_features=None, max_leaf_nodes=None,\n",
              "                       min_impurity_decrease=0.0, min_impurity_split=None,\n",
              "                       min_samples_leaf=32, min_samples_split=64,\n",
              "                       min_weight_fraction_leaf=0.0, presort='deprecated',\n",
              "                       random_state=None, splitter='best')"
            ]
          },
          "metadata": {},
          "execution_count": 45
        }
      ]
    },
    {
      "cell_type": "code",
      "metadata": {
        "colab": {
          "base_uri": "https://localhost:8080/",
          "height": 598
        },
        "id": "IYSYW84AZFMR",
        "outputId": "89044fb7-caed-42fe-adef-425c4db924be"
      },
      "source": [
        "features = x_ord.columns\n",
        "dot_data = export_graphviz(mejor, out_file=None, filled=True, rounded=True,\n",
        "                class_names=['no','si'],\n",
        "                feature_names = features)\n",
        "\n",
        "graph = graphviz.Source(dot_data)\n",
        "graph"
      ],
      "execution_count": 46,
      "outputs": [
        {
          "output_type": "execute_result",
          "data": {
            "text/plain": [
              "<graphviz.files.Source at 0x7f32ca7dbf10>"
            ],
            "image/svg+xml": "<?xml version=\"1.0\" encoding=\"UTF-8\" standalone=\"no\"?>\n<!DOCTYPE svg PUBLIC \"-//W3C//DTD SVG 1.1//EN\"\n \"http://www.w3.org/Graphics/SVG/1.1/DTD/svg11.dtd\">\n<!-- Generated by graphviz version 2.40.1 (20161225.0304)\n -->\n<!-- Title: Tree Pages: 1 -->\n<svg width=\"913pt\" height=\"433pt\"\n viewBox=\"0.00 0.00 913.00 433.00\" xmlns=\"http://www.w3.org/2000/svg\" xmlns:xlink=\"http://www.w3.org/1999/xlink\">\n<g id=\"graph0\" class=\"graph\" transform=\"scale(1 1) rotate(0) translate(4 429)\">\n<title>Tree</title>\n<polygon fill=\"#ffffff\" stroke=\"transparent\" points=\"-4,4 -4,-429 909,-429 909,4 -4,4\"/>\n<!-- 0 -->\n<g id=\"node1\" class=\"node\">\n<title>0</title>\n<path fill=\"#c8e4f8\" stroke=\"#000000\" d=\"M374,-425C374,-425 248,-425 248,-425 242,-425 236,-419 236,-413 236,-413 236,-354 236,-354 236,-348 242,-342 248,-342 248,-342 374,-342 374,-342 380,-342 386,-348 386,-354 386,-354 386,-413 386,-413 386,-419 380,-425 374,-425\"/>\n<text text-anchor=\"middle\" x=\"311\" y=\"-409.8\" font-family=\"Helvetica,sans-Serif\" font-size=\"14.00\" fill=\"#000000\">precio &lt;= 59982.246</text>\n<text text-anchor=\"middle\" x=\"311\" y=\"-394.8\" font-family=\"Helvetica,sans-Serif\" font-size=\"14.00\" fill=\"#000000\">gini = 0.487</text>\n<text text-anchor=\"middle\" x=\"311\" y=\"-379.8\" font-family=\"Helvetica,sans-Serif\" font-size=\"14.00\" fill=\"#000000\">samples = 10000</text>\n<text text-anchor=\"middle\" x=\"311\" y=\"-364.8\" font-family=\"Helvetica,sans-Serif\" font-size=\"14.00\" fill=\"#000000\">value = [4200, 5800]</text>\n<text text-anchor=\"middle\" x=\"311\" y=\"-349.8\" font-family=\"Helvetica,sans-Serif\" font-size=\"14.00\" fill=\"#000000\">class = si</text>\n</g>\n<!-- 1 -->\n<g id=\"node2\" class=\"node\">\n<title>1</title>\n<path fill=\"#52a9e8\" stroke=\"#000000\" d=\"M280,-306C280,-306 154,-306 154,-306 148,-306 142,-300 142,-294 142,-294 142,-235 142,-235 142,-229 148,-223 154,-223 154,-223 280,-223 280,-223 286,-223 292,-229 292,-235 292,-235 292,-294 292,-294 292,-300 286,-306 280,-306\"/>\n<text text-anchor=\"middle\" x=\"217\" y=\"-290.8\" font-family=\"Helvetica,sans-Serif\" font-size=\"14.00\" fill=\"#000000\">precio &lt;= 40083.385</text>\n<text text-anchor=\"middle\" x=\"217\" y=\"-275.8\" font-family=\"Helvetica,sans-Serif\" font-size=\"14.00\" fill=\"#000000\">gini = 0.198</text>\n<text text-anchor=\"middle\" x=\"217\" y=\"-260.8\" font-family=\"Helvetica,sans-Serif\" font-size=\"14.00\" fill=\"#000000\">samples = 4347</text>\n<text text-anchor=\"middle\" x=\"217\" y=\"-245.8\" font-family=\"Helvetica,sans-Serif\" font-size=\"14.00\" fill=\"#000000\">value = [484, 3863]</text>\n<text text-anchor=\"middle\" x=\"217\" y=\"-230.8\" font-family=\"Helvetica,sans-Serif\" font-size=\"14.00\" fill=\"#000000\">class = si</text>\n</g>\n<!-- 0&#45;&gt;1 -->\n<g id=\"edge1\" class=\"edge\">\n<title>0&#45;&gt;1</title>\n<path fill=\"none\" stroke=\"#000000\" d=\"M278.1234,-341.8796C271.0803,-332.9633 263.5707,-323.4565 256.3126,-314.268\"/>\n<polygon fill=\"#000000\" stroke=\"#000000\" points=\"258.9621,-311.9757 250.017,-306.2981 253.4691,-316.3147 258.9621,-311.9757\"/>\n<text text-anchor=\"middle\" x=\"247.1027\" y=\"-327.4276\" font-family=\"Helvetica,sans-Serif\" font-size=\"14.00\" fill=\"#000000\">True</text>\n</g>\n<!-- 6 -->\n<g id=\"node7\" class=\"node\">\n<title>6</title>\n<path fill=\"#f3c3a0\" stroke=\"#000000\" d=\"M545.5,-306C545.5,-306 378.5,-306 378.5,-306 372.5,-306 366.5,-300 366.5,-294 366.5,-294 366.5,-235 366.5,-235 366.5,-229 372.5,-223 378.5,-223 378.5,-223 545.5,-223 545.5,-223 551.5,-223 557.5,-229 557.5,-235 557.5,-235 557.5,-294 557.5,-294 557.5,-300 551.5,-306 545.5,-306\"/>\n<text text-anchor=\"middle\" x=\"462\" y=\"-290.8\" font-family=\"Helvetica,sans-Serif\" font-size=\"14.00\" fill=\"#000000\">km_by_year &lt;= 24124.006</text>\n<text text-anchor=\"middle\" x=\"462\" y=\"-275.8\" font-family=\"Helvetica,sans-Serif\" font-size=\"14.00\" fill=\"#000000\">gini = 0.45</text>\n<text text-anchor=\"middle\" x=\"462\" y=\"-260.8\" font-family=\"Helvetica,sans-Serif\" font-size=\"14.00\" fill=\"#000000\">samples = 5653</text>\n<text text-anchor=\"middle\" x=\"462\" y=\"-245.8\" font-family=\"Helvetica,sans-Serif\" font-size=\"14.00\" fill=\"#000000\">value = [3716, 1937]</text>\n<text text-anchor=\"middle\" x=\"462\" y=\"-230.8\" font-family=\"Helvetica,sans-Serif\" font-size=\"14.00\" fill=\"#000000\">class = no</text>\n</g>\n<!-- 0&#45;&gt;6 -->\n<g id=\"edge6\" class=\"edge\">\n<title>0&#45;&gt;6</title>\n<path fill=\"none\" stroke=\"#000000\" d=\"M363.8125,-341.8796C375.8818,-332.368 388.8039,-322.1843 401.1788,-312.432\"/>\n<polygon fill=\"#000000\" stroke=\"#000000\" points=\"403.5296,-315.0356 409.2173,-306.0969 399.1968,-309.5377 403.5296,-315.0356\"/>\n<text text-anchor=\"middle\" x=\"406.275\" y=\"-327.2232\" font-family=\"Helvetica,sans-Serif\" font-size=\"14.00\" fill=\"#000000\">False</text>\n</g>\n<!-- 2 -->\n<g id=\"node3\" class=\"node\">\n<title>2</title>\n<path fill=\"#399de5\" stroke=\"#000000\" d=\"M112,-179.5C112,-179.5 12,-179.5 12,-179.5 6,-179.5 0,-173.5 0,-167.5 0,-167.5 0,-123.5 0,-123.5 0,-117.5 6,-111.5 12,-111.5 12,-111.5 112,-111.5 112,-111.5 118,-111.5 124,-117.5 124,-123.5 124,-123.5 124,-167.5 124,-167.5 124,-173.5 118,-179.5 112,-179.5\"/>\n<text text-anchor=\"middle\" x=\"62\" y=\"-164.3\" font-family=\"Helvetica,sans-Serif\" font-size=\"14.00\" fill=\"#000000\">gini = 0.0</text>\n<text text-anchor=\"middle\" x=\"62\" y=\"-149.3\" font-family=\"Helvetica,sans-Serif\" font-size=\"14.00\" fill=\"#000000\">samples = 1935</text>\n<text text-anchor=\"middle\" x=\"62\" y=\"-134.3\" font-family=\"Helvetica,sans-Serif\" font-size=\"14.00\" fill=\"#000000\">value = [0, 1935]</text>\n<text text-anchor=\"middle\" x=\"62\" y=\"-119.3\" font-family=\"Helvetica,sans-Serif\" font-size=\"14.00\" fill=\"#000000\">class = si</text>\n</g>\n<!-- 1&#45;&gt;2 -->\n<g id=\"edge2\" class=\"edge\">\n<title>1&#45;&gt;2</title>\n<path fill=\"none\" stroke=\"#000000\" d=\"M162.7885,-222.8796C147.1769,-210.8938 130.1753,-197.841 114.6592,-185.9287\"/>\n<polygon fill=\"#000000\" stroke=\"#000000\" points=\"116.7593,-183.1285 106.6959,-179.8149 112.4965,-188.6808 116.7593,-183.1285\"/>\n</g>\n<!-- 3 -->\n<g id=\"node4\" class=\"node\">\n<title>3</title>\n<path fill=\"#6bb6ec\" stroke=\"#000000\" d=\"M280,-187C280,-187 154,-187 154,-187 148,-187 142,-181 142,-175 142,-175 142,-116 142,-116 142,-110 148,-104 154,-104 154,-104 280,-104 280,-104 286,-104 292,-110 292,-116 292,-116 292,-175 292,-175 292,-181 286,-187 280,-187\"/>\n<text text-anchor=\"middle\" x=\"217\" y=\"-171.8\" font-family=\"Helvetica,sans-Serif\" font-size=\"14.00\" fill=\"#000000\">precio &lt;= 41083.029</text>\n<text text-anchor=\"middle\" x=\"217\" y=\"-156.8\" font-family=\"Helvetica,sans-Serif\" font-size=\"14.00\" fill=\"#000000\">gini = 0.321</text>\n<text text-anchor=\"middle\" x=\"217\" y=\"-141.8\" font-family=\"Helvetica,sans-Serif\" font-size=\"14.00\" fill=\"#000000\">samples = 2412</text>\n<text text-anchor=\"middle\" x=\"217\" y=\"-126.8\" font-family=\"Helvetica,sans-Serif\" font-size=\"14.00\" fill=\"#000000\">value = [484, 1928]</text>\n<text text-anchor=\"middle\" x=\"217\" y=\"-111.8\" font-family=\"Helvetica,sans-Serif\" font-size=\"14.00\" fill=\"#000000\">class = si</text>\n</g>\n<!-- 1&#45;&gt;3 -->\n<g id=\"edge3\" class=\"edge\">\n<title>1&#45;&gt;3</title>\n<path fill=\"none\" stroke=\"#000000\" d=\"M217,-222.8796C217,-214.6838 217,-205.9891 217,-197.5013\"/>\n<polygon fill=\"#000000\" stroke=\"#000000\" points=\"220.5001,-197.298 217,-187.2981 213.5001,-197.2981 220.5001,-197.298\"/>\n</g>\n<!-- 4 -->\n<g id=\"node5\" class=\"node\">\n<title>4</title>\n<path fill=\"#95cbf1\" stroke=\"#000000\" d=\"M117,-68C117,-68 25,-68 25,-68 19,-68 13,-62 13,-56 13,-56 13,-12 13,-12 13,-6 19,0 25,0 25,0 117,0 117,0 123,0 129,-6 129,-12 129,-12 129,-56 129,-56 129,-62 123,-68 117,-68\"/>\n<text text-anchor=\"middle\" x=\"71\" y=\"-52.8\" font-family=\"Helvetica,sans-Serif\" font-size=\"14.00\" fill=\"#000000\">gini = 0.434</text>\n<text text-anchor=\"middle\" x=\"71\" y=\"-37.8\" font-family=\"Helvetica,sans-Serif\" font-size=\"14.00\" fill=\"#000000\">samples = 110</text>\n<text text-anchor=\"middle\" x=\"71\" y=\"-22.8\" font-family=\"Helvetica,sans-Serif\" font-size=\"14.00\" fill=\"#000000\">value = [35, 75]</text>\n<text text-anchor=\"middle\" x=\"71\" y=\"-7.8\" font-family=\"Helvetica,sans-Serif\" font-size=\"14.00\" fill=\"#000000\">class = si</text>\n</g>\n<!-- 3&#45;&gt;4 -->\n<g id=\"edge4\" class=\"edge\">\n<title>3&#45;&gt;4</title>\n<path fill=\"none\" stroke=\"#000000\" d=\"M162.635,-103.9815C149.9989,-94.3313 136.5644,-84.0714 123.9885,-74.4673\"/>\n<polygon fill=\"#000000\" stroke=\"#000000\" points=\"125.9372,-71.5515 115.8654,-68.2637 121.6886,-77.1148 125.9372,-71.5515\"/>\n</g>\n<!-- 5 -->\n<g id=\"node6\" class=\"node\">\n<title>5</title>\n<path fill=\"#69b5eb\" stroke=\"#000000\" d=\"M275,-68C275,-68 159,-68 159,-68 153,-68 147,-62 147,-56 147,-56 147,-12 147,-12 147,-6 153,0 159,0 159,0 275,0 275,0 281,0 287,-6 287,-12 287,-12 287,-56 287,-56 287,-62 281,-68 275,-68\"/>\n<text text-anchor=\"middle\" x=\"217\" y=\"-52.8\" font-family=\"Helvetica,sans-Serif\" font-size=\"14.00\" fill=\"#000000\">gini = 0.314</text>\n<text text-anchor=\"middle\" x=\"217\" y=\"-37.8\" font-family=\"Helvetica,sans-Serif\" font-size=\"14.00\" fill=\"#000000\">samples = 2302</text>\n<text text-anchor=\"middle\" x=\"217\" y=\"-22.8\" font-family=\"Helvetica,sans-Serif\" font-size=\"14.00\" fill=\"#000000\">value = [449, 1853]</text>\n<text text-anchor=\"middle\" x=\"217\" y=\"-7.8\" font-family=\"Helvetica,sans-Serif\" font-size=\"14.00\" fill=\"#000000\">class = si</text>\n</g>\n<!-- 3&#45;&gt;5 -->\n<g id=\"edge5\" class=\"edge\">\n<title>3&#45;&gt;5</title>\n<path fill=\"none\" stroke=\"#000000\" d=\"M217,-103.9815C217,-95.618 217,-86.7965 217,-78.3409\"/>\n<polygon fill=\"#000000\" stroke=\"#000000\" points=\"220.5001,-78.2636 217,-68.2637 213.5001,-78.2637 220.5001,-78.2636\"/>\n</g>\n<!-- 7 -->\n<g id=\"node8\" class=\"node\">\n<title>7</title>\n<path fill=\"#fcefe5\" stroke=\"#000000\" d=\"M524.5,-187C524.5,-187 399.5,-187 399.5,-187 393.5,-187 387.5,-181 387.5,-175 387.5,-175 387.5,-116 387.5,-116 387.5,-110 393.5,-104 399.5,-104 399.5,-104 524.5,-104 524.5,-104 530.5,-104 536.5,-110 536.5,-116 536.5,-116 536.5,-175 536.5,-175 536.5,-181 530.5,-187 524.5,-187\"/>\n<text text-anchor=\"middle\" x=\"462\" y=\"-171.8\" font-family=\"Helvetica,sans-Serif\" font-size=\"14.00\" fill=\"#000000\">precio &lt;= 99974.41</text>\n<text text-anchor=\"middle\" x=\"462\" y=\"-156.8\" font-family=\"Helvetica,sans-Serif\" font-size=\"14.00\" fill=\"#000000\">gini = 0.498</text>\n<text text-anchor=\"middle\" x=\"462\" y=\"-141.8\" font-family=\"Helvetica,sans-Serif\" font-size=\"14.00\" fill=\"#000000\">samples = 3513</text>\n<text text-anchor=\"middle\" x=\"462\" y=\"-126.8\" font-family=\"Helvetica,sans-Serif\" font-size=\"14.00\" fill=\"#000000\">value = [1879, 1634]</text>\n<text text-anchor=\"middle\" x=\"462\" y=\"-111.8\" font-family=\"Helvetica,sans-Serif\" font-size=\"14.00\" fill=\"#000000\">class = no</text>\n</g>\n<!-- 6&#45;&gt;7 -->\n<g id=\"edge7\" class=\"edge\">\n<title>6&#45;&gt;7</title>\n<path fill=\"none\" stroke=\"#000000\" d=\"M462,-222.8796C462,-214.6838 462,-205.9891 462,-197.5013\"/>\n<polygon fill=\"#000000\" stroke=\"#000000\" points=\"465.5001,-197.298 462,-187.2981 458.5001,-197.2981 465.5001,-197.298\"/>\n</g>\n<!-- 10 -->\n<g id=\"node11\" class=\"node\">\n<title>10</title>\n<path fill=\"#e9965a\" stroke=\"#000000\" d=\"M756,-187C756,-187 622,-187 622,-187 616,-187 610,-181 610,-175 610,-175 610,-116 610,-116 610,-110 616,-104 622,-104 622,-104 756,-104 756,-104 762,-104 768,-110 768,-116 768,-116 768,-175 768,-175 768,-181 762,-187 756,-187\"/>\n<text text-anchor=\"middle\" x=\"689\" y=\"-171.8\" font-family=\"Helvetica,sans-Serif\" font-size=\"14.00\" fill=\"#000000\">precio &lt;= 100076.957</text>\n<text text-anchor=\"middle\" x=\"689\" y=\"-156.8\" font-family=\"Helvetica,sans-Serif\" font-size=\"14.00\" fill=\"#000000\">gini = 0.243</text>\n<text text-anchor=\"middle\" x=\"689\" y=\"-141.8\" font-family=\"Helvetica,sans-Serif\" font-size=\"14.00\" fill=\"#000000\">samples = 2140</text>\n<text text-anchor=\"middle\" x=\"689\" y=\"-126.8\" font-family=\"Helvetica,sans-Serif\" font-size=\"14.00\" fill=\"#000000\">value = [1837, 303]</text>\n<text text-anchor=\"middle\" x=\"689\" y=\"-111.8\" font-family=\"Helvetica,sans-Serif\" font-size=\"14.00\" fill=\"#000000\">class = no</text>\n</g>\n<!-- 6&#45;&gt;10 -->\n<g id=\"edge10\" class=\"edge\">\n<title>6&#45;&gt;10</title>\n<path fill=\"none\" stroke=\"#000000\" d=\"M541.3936,-222.8796C560.5744,-212.8244 581.1878,-202.0183 600.7475,-191.7645\"/>\n<polygon fill=\"#000000\" stroke=\"#000000\" points=\"602.4195,-194.8398 609.6512,-187.0969 599.1694,-188.6401 602.4195,-194.8398\"/>\n</g>\n<!-- 8 -->\n<g id=\"node9\" class=\"node\">\n<title>8</title>\n<path fill=\"#f9e0ce\" stroke=\"#000000\" d=\"M442.5,-68C442.5,-68 317.5,-68 317.5,-68 311.5,-68 305.5,-62 305.5,-56 305.5,-56 305.5,-12 305.5,-12 305.5,-6 311.5,0 317.5,0 317.5,0 442.5,0 442.5,0 448.5,0 454.5,-6 454.5,-12 454.5,-12 454.5,-56 454.5,-56 454.5,-62 448.5,-68 442.5,-68\"/>\n<text text-anchor=\"middle\" x=\"380\" y=\"-52.8\" font-family=\"Helvetica,sans-Serif\" font-size=\"14.00\" fill=\"#000000\">gini = 0.49</text>\n<text text-anchor=\"middle\" x=\"380\" y=\"-37.8\" font-family=\"Helvetica,sans-Serif\" font-size=\"14.00\" fill=\"#000000\">samples = 2944</text>\n<text text-anchor=\"middle\" x=\"380\" y=\"-22.8\" font-family=\"Helvetica,sans-Serif\" font-size=\"14.00\" fill=\"#000000\">value = [1682, 1262]</text>\n<text text-anchor=\"middle\" x=\"380\" y=\"-7.8\" font-family=\"Helvetica,sans-Serif\" font-size=\"14.00\" fill=\"#000000\">class = no</text>\n</g>\n<!-- 7&#45;&gt;8 -->\n<g id=\"edge8\" class=\"edge\">\n<title>7&#45;&gt;8</title>\n<path fill=\"none\" stroke=\"#000000\" d=\"M431.4662,-103.9815C424.8424,-94.9747 417.8279,-85.4367 411.1795,-76.3965\"/>\n<polygon fill=\"#000000\" stroke=\"#000000\" points=\"413.9426,-74.2461 405.1984,-68.2637 408.3034,-78.3933 413.9426,-74.2461\"/>\n</g>\n<!-- 9 -->\n<g id=\"node10\" class=\"node\">\n<title>9</title>\n<path fill=\"#a2d1f3\" stroke=\"#000000\" d=\"M593,-68C593,-68 485,-68 485,-68 479,-68 473,-62 473,-56 473,-56 473,-12 473,-12 473,-6 479,0 485,0 485,0 593,0 593,0 599,0 605,-6 605,-12 605,-12 605,-56 605,-56 605,-62 599,-68 593,-68\"/>\n<text text-anchor=\"middle\" x=\"539\" y=\"-52.8\" font-family=\"Helvetica,sans-Serif\" font-size=\"14.00\" fill=\"#000000\">gini = 0.453</text>\n<text text-anchor=\"middle\" x=\"539\" y=\"-37.8\" font-family=\"Helvetica,sans-Serif\" font-size=\"14.00\" fill=\"#000000\">samples = 569</text>\n<text text-anchor=\"middle\" x=\"539\" y=\"-22.8\" font-family=\"Helvetica,sans-Serif\" font-size=\"14.00\" fill=\"#000000\">value = [197, 372]</text>\n<text text-anchor=\"middle\" x=\"539\" y=\"-7.8\" font-family=\"Helvetica,sans-Serif\" font-size=\"14.00\" fill=\"#000000\">class = si</text>\n</g>\n<!-- 7&#45;&gt;9 -->\n<g id=\"edge9\" class=\"edge\">\n<title>7&#45;&gt;9</title>\n<path fill=\"none\" stroke=\"#000000\" d=\"M490.672,-103.9815C496.8285,-95.0666 503.3443,-85.6313 509.5305,-76.6734\"/>\n<polygon fill=\"#000000\" stroke=\"#000000\" points=\"512.5355,-78.4811 515.3381,-68.2637 506.7755,-74.5034 512.5355,-78.4811\"/>\n</g>\n<!-- 11 -->\n<g id=\"node12\" class=\"node\">\n<title>11</title>\n<path fill=\"#e68742\" stroke=\"#000000\" d=\"M743,-68C743,-68 635,-68 635,-68 629,-68 623,-62 623,-56 623,-56 623,-12 623,-12 623,-6 629,0 635,0 635,0 743,0 743,0 749,0 755,-6 755,-12 755,-12 755,-56 755,-56 755,-62 749,-68 743,-68\"/>\n<text text-anchor=\"middle\" x=\"689\" y=\"-52.8\" font-family=\"Helvetica,sans-Serif\" font-size=\"14.00\" fill=\"#000000\">gini = 0.082</text>\n<text text-anchor=\"middle\" x=\"689\" y=\"-37.8\" font-family=\"Helvetica,sans-Serif\" font-size=\"14.00\" fill=\"#000000\">samples = 1809</text>\n<text text-anchor=\"middle\" x=\"689\" y=\"-22.8\" font-family=\"Helvetica,sans-Serif\" font-size=\"14.00\" fill=\"#000000\">value = [1732, 77]</text>\n<text text-anchor=\"middle\" x=\"689\" y=\"-7.8\" font-family=\"Helvetica,sans-Serif\" font-size=\"14.00\" fill=\"#000000\">class = no</text>\n</g>\n<!-- 10&#45;&gt;11 -->\n<g id=\"edge11\" class=\"edge\">\n<title>10&#45;&gt;11</title>\n<path fill=\"none\" stroke=\"#000000\" d=\"M689,-103.9815C689,-95.618 689,-86.7965 689,-78.3409\"/>\n<polygon fill=\"#000000\" stroke=\"#000000\" points=\"692.5001,-78.2636 689,-68.2637 685.5001,-78.2637 692.5001,-78.2636\"/>\n</g>\n<!-- 12 -->\n<g id=\"node13\" class=\"node\">\n<title>12</title>\n<path fill=\"#95cbf1\" stroke=\"#000000\" d=\"M893,-68C893,-68 785,-68 785,-68 779,-68 773,-62 773,-56 773,-56 773,-12 773,-12 773,-6 779,0 785,0 785,0 893,0 893,0 899,0 905,-6 905,-12 905,-12 905,-56 905,-56 905,-62 899,-68 893,-68\"/>\n<text text-anchor=\"middle\" x=\"839\" y=\"-52.8\" font-family=\"Helvetica,sans-Serif\" font-size=\"14.00\" fill=\"#000000\">gini = 0.433</text>\n<text text-anchor=\"middle\" x=\"839\" y=\"-37.8\" font-family=\"Helvetica,sans-Serif\" font-size=\"14.00\" fill=\"#000000\">samples = 331</text>\n<text text-anchor=\"middle\" x=\"839\" y=\"-22.8\" font-family=\"Helvetica,sans-Serif\" font-size=\"14.00\" fill=\"#000000\">value = [105, 226]</text>\n<text text-anchor=\"middle\" x=\"839\" y=\"-7.8\" font-family=\"Helvetica,sans-Serif\" font-size=\"14.00\" fill=\"#000000\">class = si</text>\n</g>\n<!-- 10&#45;&gt;12 -->\n<g id=\"edge12\" class=\"edge\">\n<title>10&#45;&gt;12</title>\n<path fill=\"none\" stroke=\"#000000\" d=\"M744.8545,-103.9815C757.8368,-94.3313 771.6394,-84.0714 784.5597,-74.4673\"/>\n<polygon fill=\"#000000\" stroke=\"#000000\" points=\"786.9678,-77.0384 792.9054,-68.2637 782.7917,-71.4204 786.9678,-77.0384\"/>\n</g>\n</g>\n</svg>\n"
          },
          "metadata": {},
          "execution_count": 46
        }
      ]
    },
    {
      "cell_type": "markdown",
      "metadata": {
        "id": "dn-oDRxXQIrV"
      },
      "source": [
        "# Personalizando el espacio de hiper parametros"
      ]
    },
    {
      "cell_type": "code",
      "metadata": {
        "colab": {
          "base_uri": "https://localhost:8080/",
          "height": 544
        },
        "id": "4MXUlqVvQMzL",
        "outputId": "d2f02bca-22ca-49be-fa94-4fe4d933219a"
      },
      "source": [
        "from scipy.stats import randint\n",
        "\n",
        "SEED=301\n",
        "np.random.seed(SEED)\n",
        "\n",
        "espacio_de_parametros = {\n",
        "    \"max_depth\" : [3, 5, 10, 15, 20, 30, None],\n",
        "    \"min_samples_split\" : randint(32, 128),\n",
        "    \"min_samples_leaf\" : randint(32, 128),\n",
        "    \"criterion\" : [\"gini\", \"entropy\"]\n",
        "}\n",
        "\n",
        "buscar = RandomizedSearchCV(DecisionTreeClassifier(),\n",
        "                      espacio_de_parametros,\n",
        "                      n_iter = 16,\n",
        "                      cv = KFold(n_splits = 5, shuffle=True),\n",
        "                      random_state=SEED)\n",
        "\n",
        "buscar.fit(x_ord, y_ord)\n",
        "resultados = pd.DataFrame(buscar.cv_results_)\n",
        "resultados.head()"
      ],
      "execution_count": 47,
      "outputs": [
        {
          "output_type": "execute_result",
          "data": {
            "text/html": [
              "<div>\n",
              "<style scoped>\n",
              "    .dataframe tbody tr th:only-of-type {\n",
              "        vertical-align: middle;\n",
              "    }\n",
              "\n",
              "    .dataframe tbody tr th {\n",
              "        vertical-align: top;\n",
              "    }\n",
              "\n",
              "    .dataframe thead th {\n",
              "        text-align: right;\n",
              "    }\n",
              "</style>\n",
              "<table border=\"1\" class=\"dataframe\">\n",
              "  <thead>\n",
              "    <tr style=\"text-align: right;\">\n",
              "      <th></th>\n",
              "      <th>mean_fit_time</th>\n",
              "      <th>std_fit_time</th>\n",
              "      <th>mean_score_time</th>\n",
              "      <th>std_score_time</th>\n",
              "      <th>param_criterion</th>\n",
              "      <th>param_max_depth</th>\n",
              "      <th>param_min_samples_leaf</th>\n",
              "      <th>param_min_samples_split</th>\n",
              "      <th>params</th>\n",
              "      <th>split0_test_score</th>\n",
              "      <th>split1_test_score</th>\n",
              "      <th>split2_test_score</th>\n",
              "      <th>split3_test_score</th>\n",
              "      <th>split4_test_score</th>\n",
              "      <th>mean_test_score</th>\n",
              "      <th>std_test_score</th>\n",
              "      <th>rank_test_score</th>\n",
              "    </tr>\n",
              "  </thead>\n",
              "  <tbody>\n",
              "    <tr>\n",
              "      <th>0</th>\n",
              "      <td>0.014946</td>\n",
              "      <td>0.001935</td>\n",
              "      <td>0.001662</td>\n",
              "      <td>0.000171</td>\n",
              "      <td>entropy</td>\n",
              "      <td>3</td>\n",
              "      <td>71</td>\n",
              "      <td>100</td>\n",
              "      <td>{'criterion': 'entropy', 'max_depth': 3, 'min_...</td>\n",
              "      <td>0.7840</td>\n",
              "      <td>0.7760</td>\n",
              "      <td>0.8025</td>\n",
              "      <td>0.7930</td>\n",
              "      <td>0.7795</td>\n",
              "      <td>0.7870</td>\n",
              "      <td>0.009618</td>\n",
              "      <td>1</td>\n",
              "    </tr>\n",
              "    <tr>\n",
              "      <th>1</th>\n",
              "      <td>0.017320</td>\n",
              "      <td>0.000435</td>\n",
              "      <td>0.001615</td>\n",
              "      <td>0.000028</td>\n",
              "      <td>gini</td>\n",
              "      <td>15</td>\n",
              "      <td>93</td>\n",
              "      <td>111</td>\n",
              "      <td>{'criterion': 'gini', 'max_depth': 15, 'min_sa...</td>\n",
              "      <td>0.7740</td>\n",
              "      <td>0.7725</td>\n",
              "      <td>0.7830</td>\n",
              "      <td>0.7805</td>\n",
              "      <td>0.7725</td>\n",
              "      <td>0.7765</td>\n",
              "      <td>0.004393</td>\n",
              "      <td>14</td>\n",
              "    </tr>\n",
              "    <tr>\n",
              "      <th>2</th>\n",
              "      <td>0.016289</td>\n",
              "      <td>0.000875</td>\n",
              "      <td>0.001801</td>\n",
              "      <td>0.000442</td>\n",
              "      <td>gini</td>\n",
              "      <td>20</td>\n",
              "      <td>124</td>\n",
              "      <td>88</td>\n",
              "      <td>{'criterion': 'gini', 'max_depth': 20, 'min_sa...</td>\n",
              "      <td>0.7705</td>\n",
              "      <td>0.7745</td>\n",
              "      <td>0.7990</td>\n",
              "      <td>0.7790</td>\n",
              "      <td>0.7735</td>\n",
              "      <td>0.7793</td>\n",
              "      <td>0.010221</td>\n",
              "      <td>8</td>\n",
              "    </tr>\n",
              "    <tr>\n",
              "      <th>3</th>\n",
              "      <td>0.020812</td>\n",
              "      <td>0.001059</td>\n",
              "      <td>0.001733</td>\n",
              "      <td>0.000075</td>\n",
              "      <td>gini</td>\n",
              "      <td>None</td>\n",
              "      <td>46</td>\n",
              "      <td>62</td>\n",
              "      <td>{'criterion': 'gini', 'max_depth': None, 'min_...</td>\n",
              "      <td>0.7575</td>\n",
              "      <td>0.7730</td>\n",
              "      <td>0.7725</td>\n",
              "      <td>0.7835</td>\n",
              "      <td>0.7560</td>\n",
              "      <td>0.7685</td>\n",
              "      <td>0.010378</td>\n",
              "      <td>16</td>\n",
              "    </tr>\n",
              "    <tr>\n",
              "      <th>4</th>\n",
              "      <td>0.017446</td>\n",
              "      <td>0.002561</td>\n",
              "      <td>0.001799</td>\n",
              "      <td>0.000376</td>\n",
              "      <td>gini</td>\n",
              "      <td>15</td>\n",
              "      <td>126</td>\n",
              "      <td>84</td>\n",
              "      <td>{'criterion': 'gini', 'max_depth': 15, 'min_sa...</td>\n",
              "      <td>0.7705</td>\n",
              "      <td>0.7735</td>\n",
              "      <td>0.7995</td>\n",
              "      <td>0.7790</td>\n",
              "      <td>0.7745</td>\n",
              "      <td>0.7794</td>\n",
              "      <td>0.010413</td>\n",
              "      <td>7</td>\n",
              "    </tr>\n",
              "  </tbody>\n",
              "</table>\n",
              "</div>"
            ],
            "text/plain": [
              "   mean_fit_time  std_fit_time  ...  std_test_score  rank_test_score\n",
              "0       0.014946      0.001935  ...        0.009618                1\n",
              "1       0.017320      0.000435  ...        0.004393               14\n",
              "2       0.016289      0.000875  ...        0.010221                8\n",
              "3       0.020812      0.001059  ...        0.010378               16\n",
              "4       0.017446      0.002561  ...        0.010413                7\n",
              "\n",
              "[5 rows x 17 columns]"
            ]
          },
          "metadata": {},
          "execution_count": 47
        }
      ]
    },
    {
      "cell_type": "code",
      "metadata": {
        "colab": {
          "base_uri": "https://localhost:8080/"
        },
        "id": "LsXjMABVQupU",
        "outputId": "2f71ba38-20a9-4d32-8da9-94fc856765e1"
      },
      "source": [
        "scores = cross_val_score(buscar, x_ord, y_ord, cv = KFold(n_splits=5, shuffle=True))\n",
        "imprime_score(scores)\n",
        "mejor = buscar.best_estimator_\n",
        "mejor"
      ],
      "execution_count": 48,
      "outputs": [
        {
          "output_type": "stream",
          "name": "stdout",
          "text": [
            "Accuracy media 78.71\n",
            "Intervalo [77.49, 79.93]\n"
          ]
        },
        {
          "output_type": "execute_result",
          "data": {
            "text/plain": [
              "DecisionTreeClassifier(ccp_alpha=0.0, class_weight=None, criterion='entropy',\n",
              "                       max_depth=3, max_features=None, max_leaf_nodes=None,\n",
              "                       min_impurity_decrease=0.0, min_impurity_split=None,\n",
              "                       min_samples_leaf=71, min_samples_split=100,\n",
              "                       min_weight_fraction_leaf=0.0, presort='deprecated',\n",
              "                       random_state=None, splitter='best')"
            ]
          },
          "metadata": {},
          "execution_count": 48
        }
      ]
    },
    {
      "cell_type": "code",
      "metadata": {
        "colab": {
          "base_uri": "https://localhost:8080/"
        },
        "id": "WmqiXMLtQ5II",
        "outputId": "e3b1799e-e528-4f3c-c63b-e820bbaee85a"
      },
      "source": [
        "resultados_ordenados_media = resultados.sort_values(\"mean_test_score\", ascending=False)\n",
        "for index, row in resultados_ordenados_media.iterrows():\n",
        "  print(\"%.3f +-(%.3f) %s\" % (row.mean_test_score, row.std_test_score*2, row.params))"
      ],
      "execution_count": 49,
      "outputs": [
        {
          "output_type": "stream",
          "name": "stdout",
          "text": [
            "0.787 +-(0.019) {'criterion': 'entropy', 'max_depth': 3, 'min_samples_leaf': 71, 'min_samples_split': 100}\n",
            "0.784 +-(0.024) {'criterion': 'entropy', 'max_depth': 5, 'min_samples_leaf': 73, 'min_samples_split': 72}\n",
            "0.784 +-(0.024) {'criterion': 'gini', 'max_depth': 5, 'min_samples_leaf': 64, 'min_samples_split': 67}\n",
            "0.781 +-(0.017) {'criterion': 'gini', 'max_depth': 10, 'min_samples_leaf': 108, 'min_samples_split': 110}\n",
            "0.780 +-(0.019) {'criterion': 'gini', 'max_depth': 10, 'min_samples_leaf': 125, 'min_samples_split': 59}\n",
            "0.780 +-(0.012) {'criterion': 'gini', 'max_depth': 15, 'min_samples_leaf': 103, 'min_samples_split': 96}\n",
            "0.779 +-(0.021) {'criterion': 'gini', 'max_depth': 15, 'min_samples_leaf': 126, 'min_samples_split': 84}\n",
            "0.779 +-(0.020) {'criterion': 'gini', 'max_depth': 20, 'min_samples_leaf': 124, 'min_samples_split': 88}\n",
            "0.779 +-(0.009) {'criterion': 'gini', 'max_depth': None, 'min_samples_leaf': 101, 'min_samples_split': 52}\n",
            "0.779 +-(0.014) {'criterion': 'entropy', 'max_depth': 15, 'min_samples_leaf': 104, 'min_samples_split': 88}\n",
            "0.779 +-(0.010) {'criterion': 'gini', 'max_depth': 30, 'min_samples_leaf': 100, 'min_samples_split': 84}\n",
            "0.778 +-(0.014) {'criterion': 'entropy', 'max_depth': 30, 'min_samples_leaf': 74, 'min_samples_split': 58}\n",
            "0.777 +-(0.013) {'criterion': 'gini', 'max_depth': 30, 'min_samples_leaf': 88, 'min_samples_split': 78}\n",
            "0.776 +-(0.009) {'criterion': 'gini', 'max_depth': 15, 'min_samples_leaf': 93, 'min_samples_split': 111}\n",
            "0.775 +-(0.015) {'criterion': 'entropy', 'max_depth': 20, 'min_samples_leaf': 52, 'min_samples_split': 80}\n",
            "0.769 +-(0.021) {'criterion': 'gini', 'max_depth': None, 'min_samples_leaf': 46, 'min_samples_split': 62}\n"
          ]
        }
      ]
    },
    {
      "cell_type": "markdown",
      "metadata": {
        "id": "p-jnvWyORK5V"
      },
      "source": [
        "# Una exploración más profunda de forma aleatoria"
      ]
    },
    {
      "cell_type": "code",
      "metadata": {
        "colab": {
          "base_uri": "https://localhost:8080/",
          "height": 528
        },
        "id": "C7mjGk0VRQyw",
        "outputId": "09e37983-5d6a-4175-d046-a4af63ed8c4b"
      },
      "source": [
        "from scipy.stats import randint\n",
        "\n",
        "SEED=564\n",
        "np.random.seed(SEED)\n",
        "\n",
        "espacio_de_parametros = {\n",
        "    \"max_depth\" : [3, 5, 10, 15, 20, 30, None],\n",
        "    \"min_samples_split\" : randint(32, 128),\n",
        "    \"min_samples_leaf\" : randint(32, 128),\n",
        "    \"criterion\" : [\"gini\", \"entropy\"]\n",
        "}\n",
        "\n",
        "buscar = RandomizedSearchCV(DecisionTreeClassifier(),\n",
        "                      espacio_de_parametros,\n",
        "                      n_iter = 64,\n",
        "                      cv = KFold(n_splits = 5, shuffle=True),\n",
        "                      random_state=SEED)\n",
        "\n",
        "buscar.fit(x_ord, y_ord)\n",
        "resultados = pd.DataFrame(buscar.cv_results_)\n",
        "resultados.head()"
      ],
      "execution_count": 50,
      "outputs": [
        {
          "output_type": "execute_result",
          "data": {
            "text/html": [
              "<div>\n",
              "<style scoped>\n",
              "    .dataframe tbody tr th:only-of-type {\n",
              "        vertical-align: middle;\n",
              "    }\n",
              "\n",
              "    .dataframe tbody tr th {\n",
              "        vertical-align: top;\n",
              "    }\n",
              "\n",
              "    .dataframe thead th {\n",
              "        text-align: right;\n",
              "    }\n",
              "</style>\n",
              "<table border=\"1\" class=\"dataframe\">\n",
              "  <thead>\n",
              "    <tr style=\"text-align: right;\">\n",
              "      <th></th>\n",
              "      <th>mean_fit_time</th>\n",
              "      <th>std_fit_time</th>\n",
              "      <th>mean_score_time</th>\n",
              "      <th>std_score_time</th>\n",
              "      <th>param_criterion</th>\n",
              "      <th>param_max_depth</th>\n",
              "      <th>param_min_samples_leaf</th>\n",
              "      <th>param_min_samples_split</th>\n",
              "      <th>params</th>\n",
              "      <th>split0_test_score</th>\n",
              "      <th>split1_test_score</th>\n",
              "      <th>split2_test_score</th>\n",
              "      <th>split3_test_score</th>\n",
              "      <th>split4_test_score</th>\n",
              "      <th>mean_test_score</th>\n",
              "      <th>std_test_score</th>\n",
              "      <th>rank_test_score</th>\n",
              "    </tr>\n",
              "  </thead>\n",
              "  <tbody>\n",
              "    <tr>\n",
              "      <th>0</th>\n",
              "      <td>0.027001</td>\n",
              "      <td>0.000744</td>\n",
              "      <td>0.001602</td>\n",
              "      <td>0.000047</td>\n",
              "      <td>entropy</td>\n",
              "      <td>None</td>\n",
              "      <td>84</td>\n",
              "      <td>103</td>\n",
              "      <td>{'criterion': 'entropy', 'max_depth': None, 'm...</td>\n",
              "      <td>0.7780</td>\n",
              "      <td>0.7745</td>\n",
              "      <td>0.7735</td>\n",
              "      <td>0.7620</td>\n",
              "      <td>0.7625</td>\n",
              "      <td>0.7701</td>\n",
              "      <td>0.006583</td>\n",
              "      <td>62</td>\n",
              "    </tr>\n",
              "    <tr>\n",
              "      <th>1</th>\n",
              "      <td>0.009440</td>\n",
              "      <td>0.000222</td>\n",
              "      <td>0.001479</td>\n",
              "      <td>0.000020</td>\n",
              "      <td>gini</td>\n",
              "      <td>3</td>\n",
              "      <td>53</td>\n",
              "      <td>60</td>\n",
              "      <td>{'criterion': 'gini', 'max_depth': 3, 'min_sam...</td>\n",
              "      <td>0.7905</td>\n",
              "      <td>0.7855</td>\n",
              "      <td>0.7915</td>\n",
              "      <td>0.7905</td>\n",
              "      <td>0.7765</td>\n",
              "      <td>0.7869</td>\n",
              "      <td>0.005607</td>\n",
              "      <td>1</td>\n",
              "    </tr>\n",
              "    <tr>\n",
              "      <th>2</th>\n",
              "      <td>0.016499</td>\n",
              "      <td>0.000409</td>\n",
              "      <td>0.001592</td>\n",
              "      <td>0.000026</td>\n",
              "      <td>gini</td>\n",
              "      <td>30</td>\n",
              "      <td>118</td>\n",
              "      <td>61</td>\n",
              "      <td>{'criterion': 'gini', 'max_depth': 30, 'min_sa...</td>\n",
              "      <td>0.7775</td>\n",
              "      <td>0.7745</td>\n",
              "      <td>0.7785</td>\n",
              "      <td>0.7720</td>\n",
              "      <td>0.7875</td>\n",
              "      <td>0.7780</td>\n",
              "      <td>0.005273</td>\n",
              "      <td>18</td>\n",
              "    </tr>\n",
              "    <tr>\n",
              "      <th>3</th>\n",
              "      <td>0.032308</td>\n",
              "      <td>0.001465</td>\n",
              "      <td>0.001652</td>\n",
              "      <td>0.000028</td>\n",
              "      <td>entropy</td>\n",
              "      <td>None</td>\n",
              "      <td>53</td>\n",
              "      <td>85</td>\n",
              "      <td>{'criterion': 'entropy', 'max_depth': None, 'm...</td>\n",
              "      <td>0.7710</td>\n",
              "      <td>0.7780</td>\n",
              "      <td>0.7760</td>\n",
              "      <td>0.7650</td>\n",
              "      <td>0.7655</td>\n",
              "      <td>0.7711</td>\n",
              "      <td>0.005295</td>\n",
              "      <td>57</td>\n",
              "    </tr>\n",
              "    <tr>\n",
              "      <th>4</th>\n",
              "      <td>0.019036</td>\n",
              "      <td>0.000444</td>\n",
              "      <td>0.001847</td>\n",
              "      <td>0.000345</td>\n",
              "      <td>gini</td>\n",
              "      <td>10</td>\n",
              "      <td>44</td>\n",
              "      <td>67</td>\n",
              "      <td>{'criterion': 'gini', 'max_depth': 10, 'min_sa...</td>\n",
              "      <td>0.7755</td>\n",
              "      <td>0.7780</td>\n",
              "      <td>0.7835</td>\n",
              "      <td>0.7695</td>\n",
              "      <td>0.7735</td>\n",
              "      <td>0.7760</td>\n",
              "      <td>0.004669</td>\n",
              "      <td>29</td>\n",
              "    </tr>\n",
              "  </tbody>\n",
              "</table>\n",
              "</div>"
            ],
            "text/plain": [
              "   mean_fit_time  std_fit_time  ...  std_test_score  rank_test_score\n",
              "0       0.027001      0.000744  ...        0.006583               62\n",
              "1       0.009440      0.000222  ...        0.005607                1\n",
              "2       0.016499      0.000409  ...        0.005273               18\n",
              "3       0.032308      0.001465  ...        0.005295               57\n",
              "4       0.019036      0.000444  ...        0.004669               29\n",
              "\n",
              "[5 rows x 17 columns]"
            ]
          },
          "metadata": {},
          "execution_count": 50
        }
      ]
    },
    {
      "cell_type": "code",
      "metadata": {
        "colab": {
          "base_uri": "https://localhost:8080/"
        },
        "id": "rAPaRyMJRpIn",
        "outputId": "77b0928f-5658-4279-ff26-6a2fca4a2fd9"
      },
      "source": [
        "resultados_ordenados_media = resultados.sort_values(\"mean_test_score\", ascending=False)\n",
        "for index, row in resultados_ordenados_media.iterrows():\n",
        "  print(\"%.3f +-(%.3f) %s\" % (row.mean_test_score, row.std_test_score*2, row.params))"
      ],
      "execution_count": 51,
      "outputs": [
        {
          "output_type": "stream",
          "name": "stdout",
          "text": [
            "0.787 +-(0.011) {'criterion': 'entropy', 'max_depth': 3, 'min_samples_leaf': 33, 'min_samples_split': 77}\n",
            "0.787 +-(0.011) {'criterion': 'gini', 'max_depth': 3, 'min_samples_leaf': 38, 'min_samples_split': 113}\n",
            "0.787 +-(0.011) {'criterion': 'gini', 'max_depth': 3, 'min_samples_leaf': 53, 'min_samples_split': 60}\n",
            "0.787 +-(0.011) {'criterion': 'gini', 'max_depth': 3, 'min_samples_leaf': 61, 'min_samples_split': 86}\n",
            "0.787 +-(0.011) {'criterion': 'entropy', 'max_depth': 3, 'min_samples_leaf': 49, 'min_samples_split': 58}\n",
            "0.787 +-(0.011) {'criterion': 'entropy', 'max_depth': 3, 'min_samples_leaf': 58, 'min_samples_split': 118}\n",
            "0.787 +-(0.011) {'criterion': 'gini', 'max_depth': 3, 'min_samples_leaf': 122, 'min_samples_split': 117}\n",
            "0.786 +-(0.013) {'criterion': 'gini', 'max_depth': 5, 'min_samples_leaf': 39, 'min_samples_split': 73}\n",
            "0.786 +-(0.013) {'criterion': 'entropy', 'max_depth': 5, 'min_samples_leaf': 45, 'min_samples_split': 65}\n",
            "0.786 +-(0.014) {'criterion': 'entropy', 'max_depth': 5, 'min_samples_leaf': 101, 'min_samples_split': 59}\n",
            "0.786 +-(0.013) {'criterion': 'entropy', 'max_depth': 5, 'min_samples_leaf': 67, 'min_samples_split': 82}\n",
            "0.786 +-(0.014) {'criterion': 'gini', 'max_depth': 5, 'min_samples_leaf': 80, 'min_samples_split': 60}\n",
            "0.786 +-(0.014) {'criterion': 'gini', 'max_depth': 5, 'min_samples_leaf': 85, 'min_samples_split': 121}\n",
            "0.779 +-(0.009) {'criterion': 'entropy', 'max_depth': None, 'min_samples_leaf': 115, 'min_samples_split': 90}\n",
            "0.779 +-(0.010) {'criterion': 'gini', 'max_depth': 10, 'min_samples_leaf': 43, 'min_samples_split': 97}\n",
            "0.778 +-(0.009) {'criterion': 'entropy', 'max_depth': 10, 'min_samples_leaf': 105, 'min_samples_split': 107}\n",
            "0.778 +-(0.014) {'criterion': 'gini', 'max_depth': 10, 'min_samples_leaf': 127, 'min_samples_split': 96}\n",
            "0.778 +-(0.011) {'criterion': 'gini', 'max_depth': None, 'min_samples_leaf': 121, 'min_samples_split': 50}\n",
            "0.778 +-(0.011) {'criterion': 'gini', 'max_depth': 30, 'min_samples_leaf': 118, 'min_samples_split': 61}\n",
            "0.778 +-(0.011) {'criterion': 'entropy', 'max_depth': 15, 'min_samples_leaf': 117, 'min_samples_split': 122}\n",
            "0.778 +-(0.011) {'criterion': 'gini', 'max_depth': 15, 'min_samples_leaf': 121, 'min_samples_split': 103}\n",
            "0.778 +-(0.011) {'criterion': 'entropy', 'max_depth': None, 'min_samples_leaf': 118, 'min_samples_split': 116}\n",
            "0.777 +-(0.012) {'criterion': 'entropy', 'max_depth': 15, 'min_samples_leaf': 123, 'min_samples_split': 71}\n",
            "0.777 +-(0.013) {'criterion': 'entropy', 'max_depth': 15, 'min_samples_leaf': 125, 'min_samples_split': 84}\n",
            "0.777 +-(0.013) {'criterion': 'entropy', 'max_depth': 20, 'min_samples_leaf': 126, 'min_samples_split': 104}\n",
            "0.777 +-(0.012) {'criterion': 'gini', 'max_depth': 10, 'min_samples_leaf': 32, 'min_samples_split': 53}\n",
            "0.776 +-(0.005) {'criterion': 'gini', 'max_depth': 20, 'min_samples_leaf': 108, 'min_samples_split': 45}\n",
            "0.776 +-(0.007) {'criterion': 'gini', 'max_depth': 20, 'min_samples_leaf': 104, 'min_samples_split': 71}\n",
            "0.776 +-(0.009) {'criterion': 'gini', 'max_depth': 10, 'min_samples_leaf': 44, 'min_samples_split': 67}\n",
            "0.776 +-(0.014) {'criterion': 'gini', 'max_depth': 10, 'min_samples_leaf': 100, 'min_samples_split': 92}\n",
            "0.776 +-(0.007) {'criterion': 'entropy', 'max_depth': 30, 'min_samples_leaf': 109, 'min_samples_split': 117}\n",
            "0.776 +-(0.011) {'criterion': 'entropy', 'max_depth': 20, 'min_samples_leaf': 95, 'min_samples_split': 104}\n",
            "0.776 +-(0.011) {'criterion': 'entropy', 'max_depth': 20, 'min_samples_leaf': 95, 'min_samples_split': 68}\n",
            "0.776 +-(0.007) {'criterion': 'gini', 'max_depth': None, 'min_samples_leaf': 76, 'min_samples_split': 79}\n",
            "0.776 +-(0.007) {'criterion': 'gini', 'max_depth': None, 'min_samples_leaf': 76, 'min_samples_split': 85}\n",
            "0.776 +-(0.007) {'criterion': 'gini', 'max_depth': 15, 'min_samples_leaf': 76, 'min_samples_split': 39}\n",
            "0.776 +-(0.008) {'criterion': 'entropy', 'max_depth': 20, 'min_samples_leaf': 104, 'min_samples_split': 77}\n",
            "0.776 +-(0.011) {'criterion': 'entropy', 'max_depth': 10, 'min_samples_leaf': 91, 'min_samples_split': 66}\n",
            "0.776 +-(0.015) {'criterion': 'gini', 'max_depth': 15, 'min_samples_leaf': 38, 'min_samples_split': 64}\n",
            "0.775 +-(0.015) {'criterion': 'gini', 'max_depth': None, 'min_samples_leaf': 37, 'min_samples_split': 79}\n",
            "0.775 +-(0.007) {'criterion': 'entropy', 'max_depth': 10, 'min_samples_leaf': 52, 'min_samples_split': 72}\n",
            "0.774 +-(0.008) {'criterion': 'gini', 'max_depth': 20, 'min_samples_leaf': 66, 'min_samples_split': 124}\n",
            "0.774 +-(0.007) {'criterion': 'entropy', 'max_depth': 10, 'min_samples_leaf': 51, 'min_samples_split': 62}\n",
            "0.774 +-(0.007) {'criterion': 'gini', 'max_depth': 30, 'min_samples_leaf': 80, 'min_samples_split': 41}\n",
            "0.774 +-(0.016) {'criterion': 'gini', 'max_depth': 20, 'min_samples_leaf': 32, 'min_samples_split': 93}\n",
            "0.774 +-(0.014) {'criterion': 'entropy', 'max_depth': 10, 'min_samples_leaf': 88, 'min_samples_split': 111}\n",
            "0.774 +-(0.010) {'criterion': 'gini', 'max_depth': 30, 'min_samples_leaf': 100, 'min_samples_split': 62}\n",
            "0.774 +-(0.015) {'criterion': 'gini', 'max_depth': 15, 'min_samples_leaf': 41, 'min_samples_split': 82}\n",
            "0.773 +-(0.007) {'criterion': 'entropy', 'max_depth': None, 'min_samples_leaf': 69, 'min_samples_split': 44}\n",
            "0.773 +-(0.005) {'criterion': 'entropy', 'max_depth': 20, 'min_samples_leaf': 61, 'min_samples_split': 82}\n",
            "0.773 +-(0.014) {'criterion': 'entropy', 'max_depth': 10, 'min_samples_leaf': 87, 'min_samples_split': 38}\n",
            "0.772 +-(0.010) {'criterion': 'entropy', 'max_depth': 15, 'min_samples_leaf': 49, 'min_samples_split': 78}\n",
            "0.772 +-(0.007) {'criterion': 'entropy', 'max_depth': None, 'min_samples_leaf': 60, 'min_samples_split': 84}\n",
            "0.771 +-(0.010) {'criterion': 'entropy', 'max_depth': 30, 'min_samples_leaf': 49, 'min_samples_split': 101}\n",
            "0.771 +-(0.003) {'criterion': 'gini', 'max_depth': 30, 'min_samples_leaf': 62, 'min_samples_split': 48}\n",
            "0.771 +-(0.007) {'criterion': 'entropy', 'max_depth': 15, 'min_samples_leaf': 63, 'min_samples_split': 97}\n",
            "0.771 +-(0.011) {'criterion': 'entropy', 'max_depth': None, 'min_samples_leaf': 53, 'min_samples_split': 85}\n",
            "0.771 +-(0.007) {'criterion': 'entropy', 'max_depth': 15, 'min_samples_leaf': 58, 'min_samples_split': 70}\n",
            "0.771 +-(0.006) {'criterion': 'entropy', 'max_depth': 20, 'min_samples_leaf': 57, 'min_samples_split': 96}\n",
            "0.771 +-(0.010) {'criterion': 'gini', 'max_depth': 30, 'min_samples_leaf': 51, 'min_samples_split': 101}\n",
            "0.771 +-(0.011) {'criterion': 'gini', 'max_depth': 20, 'min_samples_leaf': 47, 'min_samples_split': 59}\n",
            "0.770 +-(0.013) {'criterion': 'entropy', 'max_depth': None, 'min_samples_leaf': 84, 'min_samples_split': 103}\n",
            "0.770 +-(0.010) {'criterion': 'entropy', 'max_depth': 20, 'min_samples_leaf': 51, 'min_samples_split': 114}\n",
            "0.769 +-(0.014) {'criterion': 'gini', 'max_depth': None, 'min_samples_leaf': 45, 'min_samples_split': 36}\n"
          ]
        }
      ]
    },
    {
      "cell_type": "code",
      "metadata": {
        "colab": {
          "base_uri": "https://localhost:8080/"
        },
        "id": "v2F5qrrZRzqI",
        "outputId": "a78b031e-e21d-4423-b8ca-e8f1bcbbedad"
      },
      "source": [
        "scores = cross_val_score(buscar, x_ord, y_ord, cv = KFold(n_splits=5, shuffle=True))\n",
        "imprime_score(scores)\n",
        "mejor = buscar.best_estimator_\n",
        "mejor"
      ],
      "execution_count": 52,
      "outputs": [
        {
          "output_type": "stream",
          "name": "stdout",
          "text": [
            "Accuracy media 78.69\n",
            "Intervalo [77.64, 79.74]\n"
          ]
        },
        {
          "output_type": "execute_result",
          "data": {
            "text/plain": [
              "DecisionTreeClassifier(ccp_alpha=0.0, class_weight=None, criterion='gini',\n",
              "                       max_depth=3, max_features=None, max_leaf_nodes=None,\n",
              "                       min_impurity_decrease=0.0, min_impurity_split=None,\n",
              "                       min_samples_leaf=53, min_samples_split=60,\n",
              "                       min_weight_fraction_leaf=0.0, presort='deprecated',\n",
              "                       random_state=None, splitter='best')"
            ]
          },
          "metadata": {},
          "execution_count": 52
        }
      ]
    },
    {
      "cell_type": "markdown",
      "metadata": {
        "id": "sF-T_U1HfdT2"
      },
      "source": [
        "# Comparando GridSearchCV con RandomizedSearch (1 comparación)"
      ]
    },
    {
      "cell_type": "code",
      "metadata": {
        "colab": {
          "base_uri": "https://localhost:8080/",
          "height": 579
        },
        "id": "TYgSH-ltfgqa",
        "outputId": "47631c1c-e162-4c00-a0a9-bb704b249a9a"
      },
      "source": [
        "from sklearn.ensemble import RandomForestClassifier\n",
        "import time\n",
        "\n",
        "SEED=301\n",
        "np.random.seed(SEED)\n",
        "\n",
        "espacio_de_parametros = {\n",
        "    \"n_estimators\" : [10, 100],\n",
        "    \"max_depth\" : [3, 5],\n",
        "    \"min_samples_split\" : [32, 64, 128],\n",
        "    \"min_samples_leaf\" : [32, 64, 128],\n",
        "    \"bootstrap\" : [True, False],\n",
        "    \"criterion\" : [\"gini\", \"entropy\"]\n",
        "}\n",
        "\n",
        "tic = time.time()\n",
        "buscar = GridSearchCV(RandomForestClassifier(),\n",
        "                      espacio_de_parametros,\n",
        "                      cv = KFold(n_splits = 5, shuffle=True))\n",
        "\n",
        "buscar.fit(x_ord, y_ord)\n",
        "tac = time.time()\n",
        "tiempo_pasado = tac - tic\n",
        "print(\"Tiempo %.2f segundos\" % tiempo_pasado)\n",
        "\n",
        "resultados = pd.DataFrame(buscar.cv_results_)\n",
        "resultados.head()"
      ],
      "execution_count": 53,
      "outputs": [
        {
          "output_type": "stream",
          "name": "stdout",
          "text": [
            "Tiempo 221.05 segundos\n"
          ]
        },
        {
          "output_type": "execute_result",
          "data": {
            "text/html": [
              "<div>\n",
              "<style scoped>\n",
              "    .dataframe tbody tr th:only-of-type {\n",
              "        vertical-align: middle;\n",
              "    }\n",
              "\n",
              "    .dataframe tbody tr th {\n",
              "        vertical-align: top;\n",
              "    }\n",
              "\n",
              "    .dataframe thead th {\n",
              "        text-align: right;\n",
              "    }\n",
              "</style>\n",
              "<table border=\"1\" class=\"dataframe\">\n",
              "  <thead>\n",
              "    <tr style=\"text-align: right;\">\n",
              "      <th></th>\n",
              "      <th>mean_fit_time</th>\n",
              "      <th>std_fit_time</th>\n",
              "      <th>mean_score_time</th>\n",
              "      <th>std_score_time</th>\n",
              "      <th>param_bootstrap</th>\n",
              "      <th>param_criterion</th>\n",
              "      <th>param_max_depth</th>\n",
              "      <th>param_min_samples_leaf</th>\n",
              "      <th>param_min_samples_split</th>\n",
              "      <th>param_n_estimators</th>\n",
              "      <th>params</th>\n",
              "      <th>split0_test_score</th>\n",
              "      <th>split1_test_score</th>\n",
              "      <th>split2_test_score</th>\n",
              "      <th>split3_test_score</th>\n",
              "      <th>split4_test_score</th>\n",
              "      <th>mean_test_score</th>\n",
              "      <th>std_test_score</th>\n",
              "      <th>rank_test_score</th>\n",
              "    </tr>\n",
              "  </thead>\n",
              "  <tbody>\n",
              "    <tr>\n",
              "      <th>0</th>\n",
              "      <td>0.043896</td>\n",
              "      <td>0.001824</td>\n",
              "      <td>0.004817</td>\n",
              "      <td>0.001112</td>\n",
              "      <td>True</td>\n",
              "      <td>gini</td>\n",
              "      <td>3</td>\n",
              "      <td>32</td>\n",
              "      <td>32</td>\n",
              "      <td>10</td>\n",
              "      <td>{'bootstrap': True, 'criterion': 'gini', 'max_...</td>\n",
              "      <td>0.7745</td>\n",
              "      <td>0.7560</td>\n",
              "      <td>0.7490</td>\n",
              "      <td>0.7850</td>\n",
              "      <td>0.7450</td>\n",
              "      <td>0.7619</td>\n",
              "      <td>0.015357</td>\n",
              "      <td>130</td>\n",
              "    </tr>\n",
              "    <tr>\n",
              "      <th>1</th>\n",
              "      <td>0.374743</td>\n",
              "      <td>0.011150</td>\n",
              "      <td>0.022729</td>\n",
              "      <td>0.001635</td>\n",
              "      <td>True</td>\n",
              "      <td>gini</td>\n",
              "      <td>3</td>\n",
              "      <td>32</td>\n",
              "      <td>32</td>\n",
              "      <td>100</td>\n",
              "      <td>{'bootstrap': True, 'criterion': 'gini', 'max_...</td>\n",
              "      <td>0.7655</td>\n",
              "      <td>0.7555</td>\n",
              "      <td>0.7945</td>\n",
              "      <td>0.7850</td>\n",
              "      <td>0.7625</td>\n",
              "      <td>0.7726</td>\n",
              "      <td>0.014685</td>\n",
              "      <td>93</td>\n",
              "    </tr>\n",
              "    <tr>\n",
              "      <th>2</th>\n",
              "      <td>0.040759</td>\n",
              "      <td>0.002178</td>\n",
              "      <td>0.004096</td>\n",
              "      <td>0.000293</td>\n",
              "      <td>True</td>\n",
              "      <td>gini</td>\n",
              "      <td>3</td>\n",
              "      <td>32</td>\n",
              "      <td>64</td>\n",
              "      <td>10</td>\n",
              "      <td>{'bootstrap': True, 'criterion': 'gini', 'max_...</td>\n",
              "      <td>0.7780</td>\n",
              "      <td>0.7635</td>\n",
              "      <td>0.7835</td>\n",
              "      <td>0.7845</td>\n",
              "      <td>0.7560</td>\n",
              "      <td>0.7731</td>\n",
              "      <td>0.011373</td>\n",
              "      <td>89</td>\n",
              "    </tr>\n",
              "    <tr>\n",
              "      <th>3</th>\n",
              "      <td>0.369386</td>\n",
              "      <td>0.006043</td>\n",
              "      <td>0.022288</td>\n",
              "      <td>0.001235</td>\n",
              "      <td>True</td>\n",
              "      <td>gini</td>\n",
              "      <td>3</td>\n",
              "      <td>32</td>\n",
              "      <td>64</td>\n",
              "      <td>100</td>\n",
              "      <td>{'bootstrap': True, 'criterion': 'gini', 'max_...</td>\n",
              "      <td>0.7425</td>\n",
              "      <td>0.7550</td>\n",
              "      <td>0.7950</td>\n",
              "      <td>0.7850</td>\n",
              "      <td>0.7620</td>\n",
              "      <td>0.7679</td>\n",
              "      <td>0.019356</td>\n",
              "      <td>119</td>\n",
              "    </tr>\n",
              "    <tr>\n",
              "      <th>4</th>\n",
              "      <td>0.040155</td>\n",
              "      <td>0.001794</td>\n",
              "      <td>0.004471</td>\n",
              "      <td>0.000888</td>\n",
              "      <td>True</td>\n",
              "      <td>gini</td>\n",
              "      <td>3</td>\n",
              "      <td>32</td>\n",
              "      <td>128</td>\n",
              "      <td>10</td>\n",
              "      <td>{'bootstrap': True, 'criterion': 'gini', 'max_...</td>\n",
              "      <td>0.7755</td>\n",
              "      <td>0.7405</td>\n",
              "      <td>0.7485</td>\n",
              "      <td>0.7760</td>\n",
              "      <td>0.7630</td>\n",
              "      <td>0.7607</td>\n",
              "      <td>0.014250</td>\n",
              "      <td>135</td>\n",
              "    </tr>\n",
              "  </tbody>\n",
              "</table>\n",
              "</div>"
            ],
            "text/plain": [
              "   mean_fit_time  std_fit_time  ...  std_test_score  rank_test_score\n",
              "0       0.043896      0.001824  ...        0.015357              130\n",
              "1       0.374743      0.011150  ...        0.014685               93\n",
              "2       0.040759      0.002178  ...        0.011373               89\n",
              "3       0.369386      0.006043  ...        0.019356              119\n",
              "4       0.040155      0.001794  ...        0.014250              135\n",
              "\n",
              "[5 rows x 19 columns]"
            ]
          },
          "metadata": {},
          "execution_count": 53
        }
      ]
    },
    {
      "cell_type": "code",
      "metadata": {
        "colab": {
          "base_uri": "https://localhost:8080/"
        },
        "id": "NvQIfxLRgOd2",
        "outputId": "d204e7ce-a64f-4317-f5b4-cc38f1fa310e"
      },
      "source": [
        "resultados_ordenados_media = resultados.sort_values(\"mean_test_score\", ascending=False)\n",
        "for index, row in resultados_ordenados_media[:5].iterrows():\n",
        "  print(\"%.3f +-(%.3f) %s\" % (row.mean_test_score, row.std_test_score*2, row.params))"
      ],
      "execution_count": 54,
      "outputs": [
        {
          "output_type": "stream",
          "name": "stdout",
          "text": [
            "0.780 +-(0.020) {'bootstrap': False, 'criterion': 'gini', 'max_depth': 5, 'min_samples_leaf': 32, 'min_samples_split': 64, 'n_estimators': 10}\n",
            "0.778 +-(0.020) {'bootstrap': True, 'criterion': 'gini', 'max_depth': 5, 'min_samples_leaf': 32, 'min_samples_split': 128, 'n_estimators': 10}\n",
            "0.778 +-(0.030) {'bootstrap': False, 'criterion': 'entropy', 'max_depth': 5, 'min_samples_leaf': 64, 'min_samples_split': 64, 'n_estimators': 10}\n",
            "0.778 +-(0.027) {'bootstrap': False, 'criterion': 'gini', 'max_depth': 5, 'min_samples_leaf': 64, 'min_samples_split': 64, 'n_estimators': 10}\n",
            "0.778 +-(0.033) {'bootstrap': False, 'criterion': 'entropy', 'max_depth': 5, 'min_samples_leaf': 64, 'min_samples_split': 64, 'n_estimators': 100}\n"
          ]
        }
      ]
    },
    {
      "cell_type": "code",
      "metadata": {
        "id": "7PH5JaqHgXTj"
      },
      "source": [
        "tic = time.time()\n",
        "scores = cross_val_score(buscar, x_ord, y_ord, cv = KFold(n_splits=5, shuffle=True))\n",
        "tac = time.time()\n",
        "tiempo_pasado = tac - tic\n",
        "print(\"Tiempo %.2f segundos\" % tiempo_pasado)\n",
        "\n",
        "imprime_score(scores)\n",
        "mejor = buscar.best_estimator_\n",
        "print(mejor)"
      ],
      "execution_count": null,
      "outputs": []
    },
    {
      "cell_type": "code",
      "metadata": {
        "colab": {
          "base_uri": "https://localhost:8080/",
          "height": 444
        },
        "id": "u_vqGNpfg49w",
        "outputId": "e5f4dd4a-ede0-4f14-9fb4-a27a0820e6b0"
      },
      "source": [
        "SEED=301\n",
        "np.random.seed(SEED)\n",
        "\n",
        "espacio_de_parametros = {\n",
        "    \"n_estimators\" : [10, 100],\n",
        "    \"max_depth\" : [3, 5],\n",
        "    \"min_samples_split\" : [32, 64, 128],\n",
        "    \"min_samples_leaf\" : [32, 64, 128],\n",
        "    \"bootstrap\" : [True, False],\n",
        "    \"criterion\" : [\"gini\", \"entropy\"]\n",
        "}\n",
        "\n",
        "tic = time.time()\n",
        "buscar = RandomizedSearchCV(RandomForestClassifier(),\n",
        "                      espacio_de_parametros,\n",
        "                      n_iter = 20,\n",
        "                      cv = KFold(n_splits = 5, shuffle=True))\n",
        "\n",
        "buscar.fit(x_ord, y_ord)\n",
        "tac = time.time()\n",
        "tiempo_pasado = tac - tic\n",
        "print(\"Tiempo %.2f segundos\" % tiempo_pasado)\n",
        "\n",
        "resultados = pd.DataFrame(buscar.cv_results_)\n",
        "resultados.head()"
      ],
      "execution_count": 56,
      "outputs": [
        {
          "output_type": "stream",
          "name": "stdout",
          "text": [
            "Tiempo 32.12 segundos\n"
          ]
        },
        {
          "output_type": "execute_result",
          "data": {
            "text/html": [
              "<div>\n",
              "<style scoped>\n",
              "    .dataframe tbody tr th:only-of-type {\n",
              "        vertical-align: middle;\n",
              "    }\n",
              "\n",
              "    .dataframe tbody tr th {\n",
              "        vertical-align: top;\n",
              "    }\n",
              "\n",
              "    .dataframe thead th {\n",
              "        text-align: right;\n",
              "    }\n",
              "</style>\n",
              "<table border=\"1\" class=\"dataframe\">\n",
              "  <thead>\n",
              "    <tr style=\"text-align: right;\">\n",
              "      <th></th>\n",
              "      <th>mean_fit_time</th>\n",
              "      <th>std_fit_time</th>\n",
              "      <th>mean_score_time</th>\n",
              "      <th>std_score_time</th>\n",
              "      <th>param_n_estimators</th>\n",
              "      <th>param_min_samples_split</th>\n",
              "      <th>param_min_samples_leaf</th>\n",
              "      <th>param_max_depth</th>\n",
              "      <th>param_criterion</th>\n",
              "      <th>param_bootstrap</th>\n",
              "      <th>params</th>\n",
              "      <th>split0_test_score</th>\n",
              "      <th>split1_test_score</th>\n",
              "      <th>split2_test_score</th>\n",
              "      <th>split3_test_score</th>\n",
              "      <th>split4_test_score</th>\n",
              "      <th>mean_test_score</th>\n",
              "      <th>std_test_score</th>\n",
              "      <th>rank_test_score</th>\n",
              "    </tr>\n",
              "  </thead>\n",
              "  <tbody>\n",
              "    <tr>\n",
              "      <th>0</th>\n",
              "      <td>0.450785</td>\n",
              "      <td>0.015950</td>\n",
              "      <td>0.022159</td>\n",
              "      <td>0.000677</td>\n",
              "      <td>100</td>\n",
              "      <td>32</td>\n",
              "      <td>128</td>\n",
              "      <td>3</td>\n",
              "      <td>entropy</td>\n",
              "      <td>True</td>\n",
              "      <td>{'n_estimators': 100, 'min_samples_split': 32,...</td>\n",
              "      <td>0.771</td>\n",
              "      <td>0.7740</td>\n",
              "      <td>0.7925</td>\n",
              "      <td>0.7775</td>\n",
              "      <td>0.7560</td>\n",
              "      <td>0.7742</td>\n",
              "      <td>0.011724</td>\n",
              "      <td>10</td>\n",
              "    </tr>\n",
              "    <tr>\n",
              "      <th>1</th>\n",
              "      <td>0.062071</td>\n",
              "      <td>0.003410</td>\n",
              "      <td>0.004220</td>\n",
              "      <td>0.000061</td>\n",
              "      <td>10</td>\n",
              "      <td>32</td>\n",
              "      <td>128</td>\n",
              "      <td>5</td>\n",
              "      <td>entropy</td>\n",
              "      <td>True</td>\n",
              "      <td>{'n_estimators': 10, 'min_samples_split': 32, ...</td>\n",
              "      <td>0.750</td>\n",
              "      <td>0.7785</td>\n",
              "      <td>0.7820</td>\n",
              "      <td>0.7785</td>\n",
              "      <td>0.7645</td>\n",
              "      <td>0.7707</td>\n",
              "      <td>0.011969</td>\n",
              "      <td>13</td>\n",
              "    </tr>\n",
              "    <tr>\n",
              "      <th>2</th>\n",
              "      <td>0.610812</td>\n",
              "      <td>0.006281</td>\n",
              "      <td>0.025016</td>\n",
              "      <td>0.001030</td>\n",
              "      <td>100</td>\n",
              "      <td>32</td>\n",
              "      <td>32</td>\n",
              "      <td>5</td>\n",
              "      <td>entropy</td>\n",
              "      <td>True</td>\n",
              "      <td>{'n_estimators': 100, 'min_samples_split': 32,...</td>\n",
              "      <td>0.771</td>\n",
              "      <td>0.7745</td>\n",
              "      <td>0.7930</td>\n",
              "      <td>0.7785</td>\n",
              "      <td>0.7585</td>\n",
              "      <td>0.7751</td>\n",
              "      <td>0.011178</td>\n",
              "      <td>6</td>\n",
              "    </tr>\n",
              "    <tr>\n",
              "      <th>3</th>\n",
              "      <td>0.038226</td>\n",
              "      <td>0.001035</td>\n",
              "      <td>0.003701</td>\n",
              "      <td>0.000060</td>\n",
              "      <td>10</td>\n",
              "      <td>128</td>\n",
              "      <td>32</td>\n",
              "      <td>3</td>\n",
              "      <td>gini</td>\n",
              "      <td>True</td>\n",
              "      <td>{'n_estimators': 10, 'min_samples_split': 128,...</td>\n",
              "      <td>0.750</td>\n",
              "      <td>0.7600</td>\n",
              "      <td>0.7450</td>\n",
              "      <td>0.7390</td>\n",
              "      <td>0.7520</td>\n",
              "      <td>0.7492</td>\n",
              "      <td>0.007026</td>\n",
              "      <td>20</td>\n",
              "    </tr>\n",
              "    <tr>\n",
              "      <th>4</th>\n",
              "      <td>0.060259</td>\n",
              "      <td>0.003465</td>\n",
              "      <td>0.003865</td>\n",
              "      <td>0.000141</td>\n",
              "      <td>10</td>\n",
              "      <td>64</td>\n",
              "      <td>32</td>\n",
              "      <td>3</td>\n",
              "      <td>entropy</td>\n",
              "      <td>False</td>\n",
              "      <td>{'n_estimators': 10, 'min_samples_split': 64, ...</td>\n",
              "      <td>0.771</td>\n",
              "      <td>0.7740</td>\n",
              "      <td>0.7635</td>\n",
              "      <td>0.7370</td>\n",
              "      <td>0.7585</td>\n",
              "      <td>0.7608</td>\n",
              "      <td>0.013094</td>\n",
              "      <td>18</td>\n",
              "    </tr>\n",
              "  </tbody>\n",
              "</table>\n",
              "</div>"
            ],
            "text/plain": [
              "   mean_fit_time  std_fit_time  ...  std_test_score  rank_test_score\n",
              "0       0.450785      0.015950  ...        0.011724               10\n",
              "1       0.062071      0.003410  ...        0.011969               13\n",
              "2       0.610812      0.006281  ...        0.011178                6\n",
              "3       0.038226      0.001035  ...        0.007026               20\n",
              "4       0.060259      0.003465  ...        0.013094               18\n",
              "\n",
              "[5 rows x 19 columns]"
            ]
          },
          "metadata": {},
          "execution_count": 56
        }
      ]
    },
    {
      "cell_type": "code",
      "metadata": {
        "colab": {
          "base_uri": "https://localhost:8080/"
        },
        "id": "jjQfn3hAhNqd",
        "outputId": "31473a65-5d9c-45c1-8365-6825ef8e647f"
      },
      "source": [
        "resultados_ordenados_media = resultados.sort_values(\"mean_test_score\", ascending=False)\n",
        "for index, row in resultados_ordenados_media[:5].iterrows():\n",
        "  print(\"%.3f +-(%.3f) %s\" % (row.mean_test_score, row.std_test_score*2, row.params))"
      ],
      "execution_count": 57,
      "outputs": [
        {
          "output_type": "stream",
          "name": "stdout",
          "text": [
            "0.776 +-(0.025) {'n_estimators': 100, 'min_samples_split': 32, 'min_samples_leaf': 32, 'max_depth': 5, 'criterion': 'gini', 'bootstrap': False}\n",
            "0.776 +-(0.023) {'n_estimators': 100, 'min_samples_split': 32, 'min_samples_leaf': 128, 'max_depth': 3, 'criterion': 'gini', 'bootstrap': False}\n",
            "0.776 +-(0.024) {'n_estimators': 100, 'min_samples_split': 64, 'min_samples_leaf': 32, 'max_depth': 5, 'criterion': 'entropy', 'bootstrap': True}\n",
            "0.776 +-(0.032) {'n_estimators': 10, 'min_samples_split': 32, 'min_samples_leaf': 64, 'max_depth': 3, 'criterion': 'entropy', 'bootstrap': False}\n",
            "0.775 +-(0.035) {'n_estimators': 10, 'min_samples_split': 32, 'min_samples_leaf': 32, 'max_depth': 5, 'criterion': 'gini', 'bootstrap': True}\n"
          ]
        }
      ]
    },
    {
      "cell_type": "code",
      "metadata": {
        "colab": {
          "base_uri": "https://localhost:8080/"
        },
        "id": "pm2lO4w4hTce",
        "outputId": "5a77df28-0b29-4864-89b6-1f7df8c46087"
      },
      "source": [
        "tic = time.time()\n",
        "scores = cross_val_score(buscar, x_ord, y_ord, cv = KFold(n_splits=5, shuffle=True))\n",
        "tac = time.time()\n",
        "tiempo_pasado = tac - tic\n",
        "print(\"Tiempo %.2f segundos\" % tiempo_pasado)\n",
        "\n",
        "imprime_score(scores)\n",
        "mejor = buscar.best_estimator_\n",
        "print(mejor)"
      ],
      "execution_count": 58,
      "outputs": [
        {
          "output_type": "stream",
          "name": "stdout",
          "text": [
            "Tiempo 135.74 segundos\n",
            "Accuracy media 77.59\n",
            "Intervalo [76.47, 78.71]\n",
            "RandomForestClassifier(bootstrap=False, ccp_alpha=0.0, class_weight=None,\n",
            "                       criterion='gini', max_depth=5, max_features='auto',\n",
            "                       max_leaf_nodes=None, max_samples=None,\n",
            "                       min_impurity_decrease=0.0, min_impurity_split=None,\n",
            "                       min_samples_leaf=32, min_samples_split=32,\n",
            "                       min_weight_fraction_leaf=0.0, n_estimators=100,\n",
            "                       n_jobs=None, oob_score=False, random_state=None,\n",
            "                       verbose=0, warm_start=False)\n"
          ]
        }
      ]
    },
    {
      "cell_type": "code",
      "metadata": {
        "colab": {
          "base_uri": "https://localhost:8080/",
          "height": 579
        },
        "id": "D3-UlQiShafi",
        "outputId": "5c032942-1dc2-4b8e-8669-503e6b9554a3"
      },
      "source": [
        "SEED=301\n",
        "np.random.seed(SEED)\n",
        "\n",
        "espacio_de_parametros = {\n",
        "    \"n_estimators\" :randint(10, 101),\n",
        "    \"max_depth\" : randint(3, 6),\n",
        "    \"min_samples_split\" : randint(32, 129),\n",
        "    \"min_samples_leaf\" : randint(32, 129),\n",
        "    \"bootstrap\" : [True, False],\n",
        "    \"criterion\" : [\"gini\", \"entropy\"]\n",
        "}\n",
        "\n",
        "tic = time.time()\n",
        "buscar = RandomizedSearchCV(RandomForestClassifier(),\n",
        "                      espacio_de_parametros,\n",
        "                      n_iter = 80,\n",
        "                      cv = KFold(n_splits = 5, shuffle=True))\n",
        "\n",
        "buscar.fit(x_ord, y_ord)\n",
        "tac = time.time()\n",
        "tiempo_pasado = tac - tic\n",
        "print(\"Tiempo %.2f segundos\" % tiempo_pasado)\n",
        "\n",
        "resultados = pd.DataFrame(buscar.cv_results_)\n",
        "resultados.head()"
      ],
      "execution_count": 59,
      "outputs": [
        {
          "output_type": "stream",
          "name": "stdout",
          "text": [
            "Tiempo 110.24 segundos\n"
          ]
        },
        {
          "output_type": "execute_result",
          "data": {
            "text/html": [
              "<div>\n",
              "<style scoped>\n",
              "    .dataframe tbody tr th:only-of-type {\n",
              "        vertical-align: middle;\n",
              "    }\n",
              "\n",
              "    .dataframe tbody tr th {\n",
              "        vertical-align: top;\n",
              "    }\n",
              "\n",
              "    .dataframe thead th {\n",
              "        text-align: right;\n",
              "    }\n",
              "</style>\n",
              "<table border=\"1\" class=\"dataframe\">\n",
              "  <thead>\n",
              "    <tr style=\"text-align: right;\">\n",
              "      <th></th>\n",
              "      <th>mean_fit_time</th>\n",
              "      <th>std_fit_time</th>\n",
              "      <th>mean_score_time</th>\n",
              "      <th>std_score_time</th>\n",
              "      <th>param_bootstrap</th>\n",
              "      <th>param_criterion</th>\n",
              "      <th>param_max_depth</th>\n",
              "      <th>param_min_samples_leaf</th>\n",
              "      <th>param_min_samples_split</th>\n",
              "      <th>param_n_estimators</th>\n",
              "      <th>params</th>\n",
              "      <th>split0_test_score</th>\n",
              "      <th>split1_test_score</th>\n",
              "      <th>split2_test_score</th>\n",
              "      <th>split3_test_score</th>\n",
              "      <th>split4_test_score</th>\n",
              "      <th>mean_test_score</th>\n",
              "      <th>std_test_score</th>\n",
              "      <th>rank_test_score</th>\n",
              "    </tr>\n",
              "  </thead>\n",
              "  <tbody>\n",
              "    <tr>\n",
              "      <th>0</th>\n",
              "      <td>0.369467</td>\n",
              "      <td>0.007785</td>\n",
              "      <td>0.020317</td>\n",
              "      <td>0.000915</td>\n",
              "      <td>False</td>\n",
              "      <td>gini</td>\n",
              "      <td>3</td>\n",
              "      <td>50</td>\n",
              "      <td>93</td>\n",
              "      <td>89</td>\n",
              "      <td>{'bootstrap': False, 'criterion': 'gini', 'max...</td>\n",
              "      <td>0.7715</td>\n",
              "      <td>0.7620</td>\n",
              "      <td>0.7750</td>\n",
              "      <td>0.7855</td>\n",
              "      <td>0.7580</td>\n",
              "      <td>0.7704</td>\n",
              "      <td>0.009744</td>\n",
              "      <td>75</td>\n",
              "    </tr>\n",
              "    <tr>\n",
              "      <th>1</th>\n",
              "      <td>0.288602</td>\n",
              "      <td>0.002970</td>\n",
              "      <td>0.020461</td>\n",
              "      <td>0.004459</td>\n",
              "      <td>True</td>\n",
              "      <td>gini</td>\n",
              "      <td>3</td>\n",
              "      <td>88</td>\n",
              "      <td>104</td>\n",
              "      <td>80</td>\n",
              "      <td>{'bootstrap': True, 'criterion': 'gini', 'max_...</td>\n",
              "      <td>0.7715</td>\n",
              "      <td>0.7575</td>\n",
              "      <td>0.7925</td>\n",
              "      <td>0.7855</td>\n",
              "      <td>0.7575</td>\n",
              "      <td>0.7729</td>\n",
              "      <td>0.014277</td>\n",
              "      <td>63</td>\n",
              "    </tr>\n",
              "    <tr>\n",
              "      <th>2</th>\n",
              "      <td>0.280415</td>\n",
              "      <td>0.006274</td>\n",
              "      <td>0.017135</td>\n",
              "      <td>0.000243</td>\n",
              "      <td>True</td>\n",
              "      <td>gini</td>\n",
              "      <td>3</td>\n",
              "      <td>126</td>\n",
              "      <td>84</td>\n",
              "      <td>77</td>\n",
              "      <td>{'bootstrap': True, 'criterion': 'gini', 'max_...</td>\n",
              "      <td>0.7685</td>\n",
              "      <td>0.7695</td>\n",
              "      <td>0.7925</td>\n",
              "      <td>0.7795</td>\n",
              "      <td>0.7575</td>\n",
              "      <td>0.7735</td>\n",
              "      <td>0.011781</td>\n",
              "      <td>59</td>\n",
              "    </tr>\n",
              "    <tr>\n",
              "      <th>3</th>\n",
              "      <td>0.178542</td>\n",
              "      <td>0.003045</td>\n",
              "      <td>0.011620</td>\n",
              "      <td>0.000338</td>\n",
              "      <td>True</td>\n",
              "      <td>gini</td>\n",
              "      <td>3</td>\n",
              "      <td>57</td>\n",
              "      <td>73</td>\n",
              "      <td>50</td>\n",
              "      <td>{'bootstrap': True, 'criterion': 'gini', 'max_...</td>\n",
              "      <td>0.7720</td>\n",
              "      <td>0.7670</td>\n",
              "      <td>0.7830</td>\n",
              "      <td>0.7865</td>\n",
              "      <td>0.7580</td>\n",
              "      <td>0.7733</td>\n",
              "      <td>0.010429</td>\n",
              "      <td>60</td>\n",
              "    </tr>\n",
              "    <tr>\n",
              "      <th>4</th>\n",
              "      <td>0.282694</td>\n",
              "      <td>0.006393</td>\n",
              "      <td>0.016820</td>\n",
              "      <td>0.000539</td>\n",
              "      <td>True</td>\n",
              "      <td>gini</td>\n",
              "      <td>4</td>\n",
              "      <td>52</td>\n",
              "      <td>88</td>\n",
              "      <td>68</td>\n",
              "      <td>{'bootstrap': True, 'criterion': 'gini', 'max_...</td>\n",
              "      <td>0.7720</td>\n",
              "      <td>0.7685</td>\n",
              "      <td>0.7930</td>\n",
              "      <td>0.7850</td>\n",
              "      <td>0.7585</td>\n",
              "      <td>0.7754</td>\n",
              "      <td>0.012220</td>\n",
              "      <td>30</td>\n",
              "    </tr>\n",
              "  </tbody>\n",
              "</table>\n",
              "</div>"
            ],
            "text/plain": [
              "   mean_fit_time  std_fit_time  ...  std_test_score  rank_test_score\n",
              "0       0.369467      0.007785  ...        0.009744               75\n",
              "1       0.288602      0.002970  ...        0.014277               63\n",
              "2       0.280415      0.006274  ...        0.011781               59\n",
              "3       0.178542      0.003045  ...        0.010429               60\n",
              "4       0.282694      0.006393  ...        0.012220               30\n",
              "\n",
              "[5 rows x 19 columns]"
            ]
          },
          "metadata": {},
          "execution_count": 59
        }
      ]
    },
    {
      "cell_type": "code",
      "metadata": {
        "colab": {
          "base_uri": "https://localhost:8080/"
        },
        "id": "dCZHOZFIhpTy",
        "outputId": "d0b1c8e5-dc6a-4e45-f416-542d55d823a0"
      },
      "source": [
        "resultados_ordenados_media = resultados.sort_values(\"mean_test_score\", ascending=False)\n",
        "for index, row in resultados_ordenados_media[:5].iterrows():\n",
        "  print(\"%.3f +-(%.3f) %s\" % (row.mean_test_score, row.std_test_score*2, row.params))"
      ],
      "execution_count": 60,
      "outputs": [
        {
          "output_type": "stream",
          "name": "stdout",
          "text": [
            "0.779 +-(0.025) {'bootstrap': False, 'criterion': 'entropy', 'max_depth': 5, 'min_samples_leaf': 84, 'min_samples_split': 89, 'n_estimators': 48}\n",
            "0.778 +-(0.031) {'bootstrap': False, 'criterion': 'entropy', 'max_depth': 5, 'min_samples_leaf': 32, 'min_samples_split': 96, 'n_estimators': 18}\n",
            "0.778 +-(0.032) {'bootstrap': False, 'criterion': 'entropy', 'max_depth': 4, 'min_samples_leaf': 121, 'min_samples_split': 47, 'n_estimators': 27}\n",
            "0.778 +-(0.024) {'bootstrap': False, 'criterion': 'gini', 'max_depth': 4, 'min_samples_leaf': 96, 'min_samples_split': 98, 'n_estimators': 11}\n",
            "0.777 +-(0.029) {'bootstrap': True, 'criterion': 'gini', 'max_depth': 5, 'min_samples_leaf': 63, 'min_samples_split': 88, 'n_estimators': 69}\n"
          ]
        }
      ]
    },
    {
      "cell_type": "markdown",
      "metadata": {
        "id": "cDApEfI_ct-s"
      },
      "source": [
        "# Si no pudiera usar cross validation"
      ]
    },
    {
      "cell_type": "code",
      "metadata": {
        "colab": {
          "base_uri": "https://localhost:8080/"
        },
        "id": "ELlk90wOcxXh",
        "outputId": "a3853368-01ab-4ffd-d0e8-9dfc80c715d2"
      },
      "source": [
        "# 0.8 train     => entrenamiento\n",
        "# 0.2 test      => prueba\n",
        "\n",
        "from sklearn.model_selection import train_test_split\n",
        "\n",
        "SEED=301\n",
        "np.random.seed(SEED)\n",
        "\n",
        "x_train, x_test, y_train, y_test = train_test_split(x_ord, y_ord, test_size=0.2, shuffle=True, stratify=y_ord)\n",
        "print(x_train.shape)\n",
        "print(x_test.shape)\n",
        "print(y_train.shape)\n",
        "print(y_test.shape)"
      ],
      "execution_count": 61,
      "outputs": [
        {
          "output_type": "stream",
          "name": "stdout",
          "text": [
            "(8000, 3)\n",
            "(2000, 3)\n",
            "(8000,)\n",
            "(2000,)\n"
          ]
        }
      ]
    },
    {
      "cell_type": "code",
      "metadata": {
        "colab": {
          "base_uri": "https://localhost:8080/",
          "height": 579
        },
        "id": "6zyUP05wfU0_",
        "outputId": "cd266fcc-03c0-4a18-9c5a-4f6a85c87170"
      },
      "source": [
        "from sklearn.model_selection import StratifiedShuffleSplit\n",
        "\n",
        "espacio_de_parametros = {\n",
        "    \"n_estimators\" :randint(10, 101),\n",
        "    \"max_depth\" : randint(3, 6),\n",
        "    \"min_samples_split\" : randint(32, 129),\n",
        "    \"min_samples_leaf\" : randint(32, 129),\n",
        "    \"bootstrap\" : [True, False],\n",
        "    \"criterion\" : [\"gini\", \"entropy\"]\n",
        "}\n",
        "\n",
        "split = StratifiedShuffleSplit(n_splits = 1, test_size = 0.25)\n",
        "\n",
        "tic = time.time()\n",
        "buscar = RandomizedSearchCV(RandomForestClassifier(),\n",
        "                      espacio_de_parametros,\n",
        "                      n_iter = 5,\n",
        "                      cv = split)\n",
        "\n",
        "buscar.fit(x_train, y_train)\n",
        "tac = time.time()\n",
        "tiempo_pasado = tac - tic\n",
        "print(\"Tiempo %.2f segundos\" % tiempo_pasado)\n",
        "\n",
        "resultados = pd.DataFrame(buscar.cv_results_)\n",
        "resultados.head()"
      ],
      "execution_count": 62,
      "outputs": [
        {
          "output_type": "stream",
          "name": "stdout",
          "text": [
            "Tiempo 1.12 segundos\n"
          ]
        },
        {
          "output_type": "execute_result",
          "data": {
            "text/html": [
              "<div>\n",
              "<style scoped>\n",
              "    .dataframe tbody tr th:only-of-type {\n",
              "        vertical-align: middle;\n",
              "    }\n",
              "\n",
              "    .dataframe tbody tr th {\n",
              "        vertical-align: top;\n",
              "    }\n",
              "\n",
              "    .dataframe thead th {\n",
              "        text-align: right;\n",
              "    }\n",
              "</style>\n",
              "<table border=\"1\" class=\"dataframe\">\n",
              "  <thead>\n",
              "    <tr style=\"text-align: right;\">\n",
              "      <th></th>\n",
              "      <th>mean_fit_time</th>\n",
              "      <th>std_fit_time</th>\n",
              "      <th>mean_score_time</th>\n",
              "      <th>std_score_time</th>\n",
              "      <th>param_bootstrap</th>\n",
              "      <th>param_criterion</th>\n",
              "      <th>param_max_depth</th>\n",
              "      <th>param_min_samples_leaf</th>\n",
              "      <th>param_min_samples_split</th>\n",
              "      <th>param_n_estimators</th>\n",
              "      <th>params</th>\n",
              "      <th>split0_test_score</th>\n",
              "      <th>mean_test_score</th>\n",
              "      <th>std_test_score</th>\n",
              "      <th>rank_test_score</th>\n",
              "    </tr>\n",
              "  </thead>\n",
              "  <tbody>\n",
              "    <tr>\n",
              "      <th>0</th>\n",
              "      <td>0.095319</td>\n",
              "      <td>0.0</td>\n",
              "      <td>0.007468</td>\n",
              "      <td>0.0</td>\n",
              "      <td>True</td>\n",
              "      <td>gini</td>\n",
              "      <td>5</td>\n",
              "      <td>89</td>\n",
              "      <td>58</td>\n",
              "      <td>24</td>\n",
              "      <td>{'bootstrap': True, 'criterion': 'gini', 'max_...</td>\n",
              "      <td>0.7885</td>\n",
              "      <td>0.7885</td>\n",
              "      <td>0.0</td>\n",
              "      <td>3</td>\n",
              "    </tr>\n",
              "    <tr>\n",
              "      <th>1</th>\n",
              "      <td>0.132321</td>\n",
              "      <td>0.0</td>\n",
              "      <td>0.007235</td>\n",
              "      <td>0.0</td>\n",
              "      <td>False</td>\n",
              "      <td>entropy</td>\n",
              "      <td>3</td>\n",
              "      <td>71</td>\n",
              "      <td>55</td>\n",
              "      <td>27</td>\n",
              "      <td>{'bootstrap': False, 'criterion': 'entropy', '...</td>\n",
              "      <td>0.7920</td>\n",
              "      <td>0.7920</td>\n",
              "      <td>0.0</td>\n",
              "      <td>1</td>\n",
              "    </tr>\n",
              "    <tr>\n",
              "      <th>2</th>\n",
              "      <td>0.083925</td>\n",
              "      <td>0.0</td>\n",
              "      <td>0.006032</td>\n",
              "      <td>0.0</td>\n",
              "      <td>True</td>\n",
              "      <td>entropy</td>\n",
              "      <td>3</td>\n",
              "      <td>33</td>\n",
              "      <td>99</td>\n",
              "      <td>21</td>\n",
              "      <td>{'bootstrap': True, 'criterion': 'entropy', 'm...</td>\n",
              "      <td>0.7910</td>\n",
              "      <td>0.7910</td>\n",
              "      <td>0.0</td>\n",
              "      <td>2</td>\n",
              "    </tr>\n",
              "    <tr>\n",
              "      <th>3</th>\n",
              "      <td>0.230952</td>\n",
              "      <td>0.0</td>\n",
              "      <td>0.016593</td>\n",
              "      <td>0.0</td>\n",
              "      <td>True</td>\n",
              "      <td>gini</td>\n",
              "      <td>3</td>\n",
              "      <td>98</td>\n",
              "      <td>100</td>\n",
              "      <td>67</td>\n",
              "      <td>{'bootstrap': True, 'criterion': 'gini', 'max_...</td>\n",
              "      <td>0.7785</td>\n",
              "      <td>0.7785</td>\n",
              "      <td>0.0</td>\n",
              "      <td>5</td>\n",
              "    </tr>\n",
              "    <tr>\n",
              "      <th>4</th>\n",
              "      <td>0.346667</td>\n",
              "      <td>0.0</td>\n",
              "      <td>0.015402</td>\n",
              "      <td>0.0</td>\n",
              "      <td>False</td>\n",
              "      <td>entropy</td>\n",
              "      <td>4</td>\n",
              "      <td>88</td>\n",
              "      <td>64</td>\n",
              "      <td>63</td>\n",
              "      <td>{'bootstrap': False, 'criterion': 'entropy', '...</td>\n",
              "      <td>0.7885</td>\n",
              "      <td>0.7885</td>\n",
              "      <td>0.0</td>\n",
              "      <td>3</td>\n",
              "    </tr>\n",
              "  </tbody>\n",
              "</table>\n",
              "</div>"
            ],
            "text/plain": [
              "   mean_fit_time  std_fit_time  ...  std_test_score  rank_test_score\n",
              "0       0.095319           0.0  ...             0.0                3\n",
              "1       0.132321           0.0  ...             0.0                1\n",
              "2       0.083925           0.0  ...             0.0                2\n",
              "3       0.230952           0.0  ...             0.0                5\n",
              "4       0.346667           0.0  ...             0.0                3\n",
              "\n",
              "[5 rows x 15 columns]"
            ]
          },
          "metadata": {},
          "execution_count": 62
        }
      ]
    },
    {
      "cell_type": "code",
      "metadata": {
        "colab": {
          "base_uri": "https://localhost:8080/"
        },
        "id": "22nN_I0MgDfU",
        "outputId": "33364e96-da17-4e1c-ec82-4e2be174c73a"
      },
      "source": [
        "tic = time.time()\n",
        "scores = cross_val_score(buscar, x_test, y_test, cv = split)\n",
        "tac = time.time()\n",
        "tiempo_pasado = tac - tic\n",
        "print(\"Tiempo %.2f segundos\" % tiempo_pasado)\n",
        "scores"
      ],
      "execution_count": 63,
      "outputs": [
        {
          "output_type": "stream",
          "name": "stdout",
          "text": [
            "Tiempo 0.73 segundos\n"
          ]
        },
        {
          "output_type": "execute_result",
          "data": {
            "text/plain": [
              "array([0.732])"
            ]
          },
          "metadata": {},
          "execution_count": 63
        }
      ]
    }
  ]
}