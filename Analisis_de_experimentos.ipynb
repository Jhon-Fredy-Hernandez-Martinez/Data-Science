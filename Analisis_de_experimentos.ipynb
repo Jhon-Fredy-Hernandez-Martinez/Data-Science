{
  "cells": [
    {
      "cell_type": "markdown",
      "metadata": {
        "id": "TabbULndoNeV"
      },
      "source": [
        "<h1 style='color: blue; font-size: 34px; font-weight: bold;'> Análisis de experimentos\n",
        "</h1>\n"
      ]
    },
    {
      "cell_type": "markdown",
      "metadata": {
        "id": "dqMk7Es_oNeY"
      },
      "source": [
        "# <font color='red' style='font-size: 30px;'> Introducción al análisis de experimentos   </font>\n",
        "<hr style='border: 2px solid red;'>"
      ]
    },
    {
      "cell_type": "markdown",
      "metadata": {
        "id": "bMzKosK2oNeY"
      },
      "source": [
        "# <font color = 'purple'> Insertando el experimento en un Dataframe </font>\n",
        "\n",
        "\n",
        "<p style='margin: 30px 30px;'>\n",
        "    \n",
        "<hr style = 'border: 1px solid purple;'>"
      ]
    },
    {
      "cell_type": "markdown",
      "metadata": {
        "id": "s5HDFyikoNeY"
      },
      "source": [
        "## Importando las bibliotecas"
      ]
    },
    {
      "cell_type": "markdown",
      "metadata": {
        "id": "TLnE6iNGoNeY"
      },
      "source": [
        "### Pandas\n",
        "\n",
        "https://pandas.pydata.org/"
      ]
    },
    {
      "cell_type": "code",
      "execution_count": 9,
      "metadata": {
        "id": "NR8k_JFVoNeZ"
      },
      "outputs": [],
      "source": [
        "import pandas as pd"
      ]
    },
    {
      "cell_type": "markdown",
      "metadata": {
        "id": "nKPXDhLdoNeZ"
      },
      "source": [
        "### Numpy\n",
        "\n",
        "http://www.numpy.org/"
      ]
    },
    {
      "cell_type": "code",
      "execution_count": 10,
      "metadata": {
        "id": "KYQMlfCCoNeZ"
      },
      "outputs": [],
      "source": [
        "import numpy as np"
      ]
    },
    {
      "cell_type": "markdown",
      "metadata": {
        "id": "7INdxNr5oNeZ"
      },
      "source": [
        "<p style='font-size: 18px; line-height: 2; margin: 0px 0px; text-align: justify; text-indent: 0px;'>\n",
        "    <font color=\"red\"> <b>Pruebas realizadas en forma normalizada</b></font></p>\n",
        "\n",
        "\n",
        "\n",
        "\n",
        "\n"
      ]
    },
    {
      "cell_type": "markdown",
      "metadata": {
        "id": "wz0SgobAoNea"
      },
      "source": [
        "\n",
        "<p style='font-size: 18px; line-height: 2; margin: 0px 0px; text-align: justify; text-indent: 0px;'>\n",
        "<font color=\"MidnightBlue\"> Construyendo una matriz representando todas las pruebas realizadas:\n"
      ]
    },
    {
      "cell_type": "code",
      "execution_count": 11,
      "metadata": {
        "id": "d_kIi1VQoNea",
        "colab": {
          "base_uri": "https://localhost:8080/"
        },
        "outputId": "f613e157-b528-4e88-e6c0-4f6406b3f2c5"
      },
      "outputs": [
        {
          "output_type": "execute_result",
          "data": {
            "text/plain": [
              "array([[-1, -1],\n",
              "       [ 1, -1],\n",
              "       [-1,  1],\n",
              "       [ 1,  1]])"
            ]
          },
          "metadata": {},
          "execution_count": 11
        }
      ],
      "source": [
        "pruebas = np.array([[-1, -1],[1,-1],[-1,1],[+1,+1]])\n",
        "pruebas"
      ]
    },
    {
      "cell_type": "markdown",
      "metadata": {
        "id": "bhm7nSbVoNea"
      },
      "source": [
        "### pyDOE2\n",
        "\n",
        "https://pypi.org/project/pyDOE2/\n",
        "\n",
        "\n",
        "La biblioteca **pyDOE2** en Python se utiliza para generar y gestionar diseños de experimentos (DOE, por sus siglas en inglés), una técnica estadística clave en la investigación, optimización y análisis de procesos. Permite crear diseños experimentales de manera eficiente, como diseños factoriales, diseños de respuesta a superficies (RSM) como los de Box-Behnken y Central Composite, y diseños latinos, los cuales ayudan a explorar cómo las variables de entrada afectan a los resultados de un sistema con el mínimo número de experimentos. Esta capacidad de generar experimentos balanceados y optimizados facilita la reducción de costos y tiempos en pruebas, al mismo tiempo que maximiza la información obtenida, lo cual es crucial para la optimización de parámetros y procesos en diversos campos como la ingeniería, la manufactura y la investigación científica."
      ]
    },
    {
      "cell_type": "code",
      "execution_count": 12,
      "metadata": {
        "id": "P_qLGv4toNea"
      },
      "outputs": [],
      "source": [
        "#!pip install pyDOE2\n",
        "import pyDOE2 as doe"
      ]
    },
    {
      "cell_type": "markdown",
      "metadata": {
        "id": "2PaO1sPUoNea"
      },
      "source": [
        "## Construyendo un diseño factorial de 2²\n"
      ]
    },
    {
      "cell_type": "code",
      "execution_count": 13,
      "metadata": {
        "id": "6LUipwy8oNea"
      },
      "outputs": [],
      "source": [
        "pruebas = doe.ff2n(2) #función factorial de dos niveles elevado al cuadrado 'ff2n(2)'"
      ]
    },
    {
      "cell_type": "code",
      "execution_count": 14,
      "metadata": {
        "id": "jPcHhr6yoNea",
        "colab": {
          "base_uri": "https://localhost:8080/"
        },
        "outputId": "915f3778-6674-41cc-fb09-6027933eeaf2"
      },
      "outputs": [
        {
          "output_type": "execute_result",
          "data": {
            "text/plain": [
              "array([[-1., -1.],\n",
              "       [ 1., -1.],\n",
              "       [-1.,  1.],\n",
              "       [ 1.,  1.]])"
            ]
          },
          "metadata": {},
          "execution_count": 14
        }
      ],
      "source": [
        "#Devualve una matriz 2x2\n",
        "pruebas"
      ]
    },
    {
      "cell_type": "markdown",
      "metadata": {
        "id": "QuzCFE-EoNea"
      },
      "source": [
        "## Insertando el diseño en un Dataframe"
      ]
    },
    {
      "cell_type": "code",
      "execution_count": 15,
      "metadata": {
        "id": "GZ8eMuJ5oNeb"
      },
      "outputs": [],
      "source": [
        "#convertimos a DataFrame\n",
        "experiemento = pd.DataFrame(pruebas, columns=['Harina', 'Leche'])"
      ]
    },
    {
      "cell_type": "code",
      "execution_count": 16,
      "metadata": {
        "id": "2WJM60tdoNeb",
        "colab": {
          "base_uri": "https://localhost:8080/",
          "height": 175
        },
        "outputId": "0b2b2537-606f-4270-afca-eee3145f660e"
      },
      "outputs": [
        {
          "output_type": "execute_result",
          "data": {
            "text/plain": [
              "   Harina  Leche\n",
              "0    -1.0   -1.0\n",
              "1     1.0   -1.0\n",
              "2    -1.0    1.0\n",
              "3     1.0    1.0"
            ],
            "text/html": [
              "\n",
              "  <div id=\"df-b4c0a7a8-2eda-43f8-8f79-df3be4e65364\" class=\"colab-df-container\">\n",
              "    <div>\n",
              "<style scoped>\n",
              "    .dataframe tbody tr th:only-of-type {\n",
              "        vertical-align: middle;\n",
              "    }\n",
              "\n",
              "    .dataframe tbody tr th {\n",
              "        vertical-align: top;\n",
              "    }\n",
              "\n",
              "    .dataframe thead th {\n",
              "        text-align: right;\n",
              "    }\n",
              "</style>\n",
              "<table border=\"1\" class=\"dataframe\">\n",
              "  <thead>\n",
              "    <tr style=\"text-align: right;\">\n",
              "      <th></th>\n",
              "      <th>Harina</th>\n",
              "      <th>Leche</th>\n",
              "    </tr>\n",
              "  </thead>\n",
              "  <tbody>\n",
              "    <tr>\n",
              "      <th>0</th>\n",
              "      <td>-1.0</td>\n",
              "      <td>-1.0</td>\n",
              "    </tr>\n",
              "    <tr>\n",
              "      <th>1</th>\n",
              "      <td>1.0</td>\n",
              "      <td>-1.0</td>\n",
              "    </tr>\n",
              "    <tr>\n",
              "      <th>2</th>\n",
              "      <td>-1.0</td>\n",
              "      <td>1.0</td>\n",
              "    </tr>\n",
              "    <tr>\n",
              "      <th>3</th>\n",
              "      <td>1.0</td>\n",
              "      <td>1.0</td>\n",
              "    </tr>\n",
              "  </tbody>\n",
              "</table>\n",
              "</div>\n",
              "    <div class=\"colab-df-buttons\">\n",
              "\n",
              "  <div class=\"colab-df-container\">\n",
              "    <button class=\"colab-df-convert\" onclick=\"convertToInteractive('df-b4c0a7a8-2eda-43f8-8f79-df3be4e65364')\"\n",
              "            title=\"Convert this dataframe to an interactive table.\"\n",
              "            style=\"display:none;\">\n",
              "\n",
              "  <svg xmlns=\"http://www.w3.org/2000/svg\" height=\"24px\" viewBox=\"0 -960 960 960\">\n",
              "    <path d=\"M120-120v-720h720v720H120Zm60-500h600v-160H180v160Zm220 220h160v-160H400v160Zm0 220h160v-160H400v160ZM180-400h160v-160H180v160Zm440 0h160v-160H620v160ZM180-180h160v-160H180v160Zm440 0h160v-160H620v160Z\"/>\n",
              "  </svg>\n",
              "    </button>\n",
              "\n",
              "  <style>\n",
              "    .colab-df-container {\n",
              "      display:flex;\n",
              "      gap: 12px;\n",
              "    }\n",
              "\n",
              "    .colab-df-convert {\n",
              "      background-color: #E8F0FE;\n",
              "      border: none;\n",
              "      border-radius: 50%;\n",
              "      cursor: pointer;\n",
              "      display: none;\n",
              "      fill: #1967D2;\n",
              "      height: 32px;\n",
              "      padding: 0 0 0 0;\n",
              "      width: 32px;\n",
              "    }\n",
              "\n",
              "    .colab-df-convert:hover {\n",
              "      background-color: #E2EBFA;\n",
              "      box-shadow: 0px 1px 2px rgba(60, 64, 67, 0.3), 0px 1px 3px 1px rgba(60, 64, 67, 0.15);\n",
              "      fill: #174EA6;\n",
              "    }\n",
              "\n",
              "    .colab-df-buttons div {\n",
              "      margin-bottom: 4px;\n",
              "    }\n",
              "\n",
              "    [theme=dark] .colab-df-convert {\n",
              "      background-color: #3B4455;\n",
              "      fill: #D2E3FC;\n",
              "    }\n",
              "\n",
              "    [theme=dark] .colab-df-convert:hover {\n",
              "      background-color: #434B5C;\n",
              "      box-shadow: 0px 1px 3px 1px rgba(0, 0, 0, 0.15);\n",
              "      filter: drop-shadow(0px 1px 2px rgba(0, 0, 0, 0.3));\n",
              "      fill: #FFFFFF;\n",
              "    }\n",
              "  </style>\n",
              "\n",
              "    <script>\n",
              "      const buttonEl =\n",
              "        document.querySelector('#df-b4c0a7a8-2eda-43f8-8f79-df3be4e65364 button.colab-df-convert');\n",
              "      buttonEl.style.display =\n",
              "        google.colab.kernel.accessAllowed ? 'block' : 'none';\n",
              "\n",
              "      async function convertToInteractive(key) {\n",
              "        const element = document.querySelector('#df-b4c0a7a8-2eda-43f8-8f79-df3be4e65364');\n",
              "        const dataTable =\n",
              "          await google.colab.kernel.invokeFunction('convertToInteractive',\n",
              "                                                    [key], {});\n",
              "        if (!dataTable) return;\n",
              "\n",
              "        const docLinkHtml = 'Like what you see? Visit the ' +\n",
              "          '<a target=\"_blank\" href=https://colab.research.google.com/notebooks/data_table.ipynb>data table notebook</a>'\n",
              "          + ' to learn more about interactive tables.';\n",
              "        element.innerHTML = '';\n",
              "        dataTable['output_type'] = 'display_data';\n",
              "        await google.colab.output.renderOutput(dataTable, element);\n",
              "        const docLink = document.createElement('div');\n",
              "        docLink.innerHTML = docLinkHtml;\n",
              "        element.appendChild(docLink);\n",
              "      }\n",
              "    </script>\n",
              "  </div>\n",
              "\n",
              "\n",
              "<div id=\"df-7de05c38-0f8f-4d61-b52f-830333afaff2\">\n",
              "  <button class=\"colab-df-quickchart\" onclick=\"quickchart('df-7de05c38-0f8f-4d61-b52f-830333afaff2')\"\n",
              "            title=\"Suggest charts\"\n",
              "            style=\"display:none;\">\n",
              "\n",
              "<svg xmlns=\"http://www.w3.org/2000/svg\" height=\"24px\"viewBox=\"0 0 24 24\"\n",
              "     width=\"24px\">\n",
              "    <g>\n",
              "        <path d=\"M19 3H5c-1.1 0-2 .9-2 2v14c0 1.1.9 2 2 2h14c1.1 0 2-.9 2-2V5c0-1.1-.9-2-2-2zM9 17H7v-7h2v7zm4 0h-2V7h2v10zm4 0h-2v-4h2v4z\"/>\n",
              "    </g>\n",
              "</svg>\n",
              "  </button>\n",
              "\n",
              "<style>\n",
              "  .colab-df-quickchart {\n",
              "      --bg-color: #E8F0FE;\n",
              "      --fill-color: #1967D2;\n",
              "      --hover-bg-color: #E2EBFA;\n",
              "      --hover-fill-color: #174EA6;\n",
              "      --disabled-fill-color: #AAA;\n",
              "      --disabled-bg-color: #DDD;\n",
              "  }\n",
              "\n",
              "  [theme=dark] .colab-df-quickchart {\n",
              "      --bg-color: #3B4455;\n",
              "      --fill-color: #D2E3FC;\n",
              "      --hover-bg-color: #434B5C;\n",
              "      --hover-fill-color: #FFFFFF;\n",
              "      --disabled-bg-color: #3B4455;\n",
              "      --disabled-fill-color: #666;\n",
              "  }\n",
              "\n",
              "  .colab-df-quickchart {\n",
              "    background-color: var(--bg-color);\n",
              "    border: none;\n",
              "    border-radius: 50%;\n",
              "    cursor: pointer;\n",
              "    display: none;\n",
              "    fill: var(--fill-color);\n",
              "    height: 32px;\n",
              "    padding: 0;\n",
              "    width: 32px;\n",
              "  }\n",
              "\n",
              "  .colab-df-quickchart:hover {\n",
              "    background-color: var(--hover-bg-color);\n",
              "    box-shadow: 0 1px 2px rgba(60, 64, 67, 0.3), 0 1px 3px 1px rgba(60, 64, 67, 0.15);\n",
              "    fill: var(--button-hover-fill-color);\n",
              "  }\n",
              "\n",
              "  .colab-df-quickchart-complete:disabled,\n",
              "  .colab-df-quickchart-complete:disabled:hover {\n",
              "    background-color: var(--disabled-bg-color);\n",
              "    fill: var(--disabled-fill-color);\n",
              "    box-shadow: none;\n",
              "  }\n",
              "\n",
              "  .colab-df-spinner {\n",
              "    border: 2px solid var(--fill-color);\n",
              "    border-color: transparent;\n",
              "    border-bottom-color: var(--fill-color);\n",
              "    animation:\n",
              "      spin 1s steps(1) infinite;\n",
              "  }\n",
              "\n",
              "  @keyframes spin {\n",
              "    0% {\n",
              "      border-color: transparent;\n",
              "      border-bottom-color: var(--fill-color);\n",
              "      border-left-color: var(--fill-color);\n",
              "    }\n",
              "    20% {\n",
              "      border-color: transparent;\n",
              "      border-left-color: var(--fill-color);\n",
              "      border-top-color: var(--fill-color);\n",
              "    }\n",
              "    30% {\n",
              "      border-color: transparent;\n",
              "      border-left-color: var(--fill-color);\n",
              "      border-top-color: var(--fill-color);\n",
              "      border-right-color: var(--fill-color);\n",
              "    }\n",
              "    40% {\n",
              "      border-color: transparent;\n",
              "      border-right-color: var(--fill-color);\n",
              "      border-top-color: var(--fill-color);\n",
              "    }\n",
              "    60% {\n",
              "      border-color: transparent;\n",
              "      border-right-color: var(--fill-color);\n",
              "    }\n",
              "    80% {\n",
              "      border-color: transparent;\n",
              "      border-right-color: var(--fill-color);\n",
              "      border-bottom-color: var(--fill-color);\n",
              "    }\n",
              "    90% {\n",
              "      border-color: transparent;\n",
              "      border-bottom-color: var(--fill-color);\n",
              "    }\n",
              "  }\n",
              "</style>\n",
              "\n",
              "  <script>\n",
              "    async function quickchart(key) {\n",
              "      const quickchartButtonEl =\n",
              "        document.querySelector('#' + key + ' button');\n",
              "      quickchartButtonEl.disabled = true;  // To prevent multiple clicks.\n",
              "      quickchartButtonEl.classList.add('colab-df-spinner');\n",
              "      try {\n",
              "        const charts = await google.colab.kernel.invokeFunction(\n",
              "            'suggestCharts', [key], {});\n",
              "      } catch (error) {\n",
              "        console.error('Error during call to suggestCharts:', error);\n",
              "      }\n",
              "      quickchartButtonEl.classList.remove('colab-df-spinner');\n",
              "      quickchartButtonEl.classList.add('colab-df-quickchart-complete');\n",
              "    }\n",
              "    (() => {\n",
              "      let quickchartButtonEl =\n",
              "        document.querySelector('#df-7de05c38-0f8f-4d61-b52f-830333afaff2 button');\n",
              "      quickchartButtonEl.style.display =\n",
              "        google.colab.kernel.accessAllowed ? 'block' : 'none';\n",
              "    })();\n",
              "  </script>\n",
              "</div>\n",
              "\n",
              "  <div id=\"id_0e30ac6c-920e-48a1-9ef8-f416e6ee2289\">\n",
              "    <style>\n",
              "      .colab-df-generate {\n",
              "        background-color: #E8F0FE;\n",
              "        border: none;\n",
              "        border-radius: 50%;\n",
              "        cursor: pointer;\n",
              "        display: none;\n",
              "        fill: #1967D2;\n",
              "        height: 32px;\n",
              "        padding: 0 0 0 0;\n",
              "        width: 32px;\n",
              "      }\n",
              "\n",
              "      .colab-df-generate:hover {\n",
              "        background-color: #E2EBFA;\n",
              "        box-shadow: 0px 1px 2px rgba(60, 64, 67, 0.3), 0px 1px 3px 1px rgba(60, 64, 67, 0.15);\n",
              "        fill: #174EA6;\n",
              "      }\n",
              "\n",
              "      [theme=dark] .colab-df-generate {\n",
              "        background-color: #3B4455;\n",
              "        fill: #D2E3FC;\n",
              "      }\n",
              "\n",
              "      [theme=dark] .colab-df-generate:hover {\n",
              "        background-color: #434B5C;\n",
              "        box-shadow: 0px 1px 3px 1px rgba(0, 0, 0, 0.15);\n",
              "        filter: drop-shadow(0px 1px 2px rgba(0, 0, 0, 0.3));\n",
              "        fill: #FFFFFF;\n",
              "      }\n",
              "    </style>\n",
              "    <button class=\"colab-df-generate\" onclick=\"generateWithVariable('experiemento')\"\n",
              "            title=\"Generate code using this dataframe.\"\n",
              "            style=\"display:none;\">\n",
              "\n",
              "  <svg xmlns=\"http://www.w3.org/2000/svg\" height=\"24px\"viewBox=\"0 0 24 24\"\n",
              "       width=\"24px\">\n",
              "    <path d=\"M7,19H8.4L18.45,9,17,7.55,7,17.6ZM5,21V16.75L18.45,3.32a2,2,0,0,1,2.83,0l1.4,1.43a1.91,1.91,0,0,1,.58,1.4,1.91,1.91,0,0,1-.58,1.4L9.25,21ZM18.45,9,17,7.55Zm-12,3A5.31,5.31,0,0,0,4.9,8.1,5.31,5.31,0,0,0,1,6.5,5.31,5.31,0,0,0,4.9,4.9,5.31,5.31,0,0,0,6.5,1,5.31,5.31,0,0,0,8.1,4.9,5.31,5.31,0,0,0,12,6.5,5.46,5.46,0,0,0,6.5,12Z\"/>\n",
              "  </svg>\n",
              "    </button>\n",
              "    <script>\n",
              "      (() => {\n",
              "      const buttonEl =\n",
              "        document.querySelector('#id_0e30ac6c-920e-48a1-9ef8-f416e6ee2289 button.colab-df-generate');\n",
              "      buttonEl.style.display =\n",
              "        google.colab.kernel.accessAllowed ? 'block' : 'none';\n",
              "\n",
              "      buttonEl.onclick = () => {\n",
              "        google.colab.notebook.generateWithVariable('experiemento');\n",
              "      }\n",
              "      })();\n",
              "    </script>\n",
              "  </div>\n",
              "\n",
              "    </div>\n",
              "  </div>\n"
            ],
            "application/vnd.google.colaboratory.intrinsic+json": {
              "type": "dataframe",
              "variable_name": "experiemento",
              "summary": "{\n  \"name\": \"experiemento\",\n  \"rows\": 4,\n  \"fields\": [\n    {\n      \"column\": \"Harina\",\n      \"properties\": {\n        \"dtype\": \"number\",\n        \"std\": 1.1547005383792515,\n        \"min\": -1.0,\n        \"max\": 1.0,\n        \"num_unique_values\": 2,\n        \"samples\": [\n          1.0,\n          -1.0\n        ],\n        \"semantic_type\": \"\",\n        \"description\": \"\"\n      }\n    },\n    {\n      \"column\": \"Leche\",\n      \"properties\": {\n        \"dtype\": \"number\",\n        \"std\": 1.1547005383792515,\n        \"min\": -1.0,\n        \"max\": 1.0,\n        \"num_unique_values\": 2,\n        \"samples\": [\n          1.0,\n          -1.0\n        ],\n        \"semantic_type\": \"\",\n        \"description\": \"\"\n      }\n    }\n  ]\n}"
            }
          },
          "metadata": {},
          "execution_count": 16
        }
      ],
      "source": [
        "experiemento"
      ]
    },
    {
      "cell_type": "markdown",
      "metadata": {
        "id": "Jfew6jmYoNeb"
      },
      "source": [
        "### Insertando la columna con los resultados"
      ]
    },
    {
      "cell_type": "code",
      "execution_count": 17,
      "metadata": {
        "id": "lF-5bsd-oNeb"
      },
      "outputs": [],
      "source": [
        "#Añadimos otra columna con los resulados obtenidos en el Análisis Factorial\n",
        "experiemento['Cantidades']= [19,37,24,49]"
      ]
    },
    {
      "cell_type": "code",
      "execution_count": 18,
      "metadata": {
        "id": "567zqGBToNeb",
        "colab": {
          "base_uri": "https://localhost:8080/",
          "height": 175
        },
        "outputId": "1e0e45a0-8b1c-43ed-98f5-ba6cf4395775"
      },
      "outputs": [
        {
          "output_type": "execute_result",
          "data": {
            "text/plain": [
              "   Harina  Leche  Cantidades\n",
              "0    -1.0   -1.0          19\n",
              "1     1.0   -1.0          37\n",
              "2    -1.0    1.0          24\n",
              "3     1.0    1.0          49"
            ],
            "text/html": [
              "\n",
              "  <div id=\"df-e13abc9d-a747-4a77-9ec1-1aa8ef744d5a\" class=\"colab-df-container\">\n",
              "    <div>\n",
              "<style scoped>\n",
              "    .dataframe tbody tr th:only-of-type {\n",
              "        vertical-align: middle;\n",
              "    }\n",
              "\n",
              "    .dataframe tbody tr th {\n",
              "        vertical-align: top;\n",
              "    }\n",
              "\n",
              "    .dataframe thead th {\n",
              "        text-align: right;\n",
              "    }\n",
              "</style>\n",
              "<table border=\"1\" class=\"dataframe\">\n",
              "  <thead>\n",
              "    <tr style=\"text-align: right;\">\n",
              "      <th></th>\n",
              "      <th>Harina</th>\n",
              "      <th>Leche</th>\n",
              "      <th>Cantidades</th>\n",
              "    </tr>\n",
              "  </thead>\n",
              "  <tbody>\n",
              "    <tr>\n",
              "      <th>0</th>\n",
              "      <td>-1.0</td>\n",
              "      <td>-1.0</td>\n",
              "      <td>19</td>\n",
              "    </tr>\n",
              "    <tr>\n",
              "      <th>1</th>\n",
              "      <td>1.0</td>\n",
              "      <td>-1.0</td>\n",
              "      <td>37</td>\n",
              "    </tr>\n",
              "    <tr>\n",
              "      <th>2</th>\n",
              "      <td>-1.0</td>\n",
              "      <td>1.0</td>\n",
              "      <td>24</td>\n",
              "    </tr>\n",
              "    <tr>\n",
              "      <th>3</th>\n",
              "      <td>1.0</td>\n",
              "      <td>1.0</td>\n",
              "      <td>49</td>\n",
              "    </tr>\n",
              "  </tbody>\n",
              "</table>\n",
              "</div>\n",
              "    <div class=\"colab-df-buttons\">\n",
              "\n",
              "  <div class=\"colab-df-container\">\n",
              "    <button class=\"colab-df-convert\" onclick=\"convertToInteractive('df-e13abc9d-a747-4a77-9ec1-1aa8ef744d5a')\"\n",
              "            title=\"Convert this dataframe to an interactive table.\"\n",
              "            style=\"display:none;\">\n",
              "\n",
              "  <svg xmlns=\"http://www.w3.org/2000/svg\" height=\"24px\" viewBox=\"0 -960 960 960\">\n",
              "    <path d=\"M120-120v-720h720v720H120Zm60-500h600v-160H180v160Zm220 220h160v-160H400v160Zm0 220h160v-160H400v160ZM180-400h160v-160H180v160Zm440 0h160v-160H620v160ZM180-180h160v-160H180v160Zm440 0h160v-160H620v160Z\"/>\n",
              "  </svg>\n",
              "    </button>\n",
              "\n",
              "  <style>\n",
              "    .colab-df-container {\n",
              "      display:flex;\n",
              "      gap: 12px;\n",
              "    }\n",
              "\n",
              "    .colab-df-convert {\n",
              "      background-color: #E8F0FE;\n",
              "      border: none;\n",
              "      border-radius: 50%;\n",
              "      cursor: pointer;\n",
              "      display: none;\n",
              "      fill: #1967D2;\n",
              "      height: 32px;\n",
              "      padding: 0 0 0 0;\n",
              "      width: 32px;\n",
              "    }\n",
              "\n",
              "    .colab-df-convert:hover {\n",
              "      background-color: #E2EBFA;\n",
              "      box-shadow: 0px 1px 2px rgba(60, 64, 67, 0.3), 0px 1px 3px 1px rgba(60, 64, 67, 0.15);\n",
              "      fill: #174EA6;\n",
              "    }\n",
              "\n",
              "    .colab-df-buttons div {\n",
              "      margin-bottom: 4px;\n",
              "    }\n",
              "\n",
              "    [theme=dark] .colab-df-convert {\n",
              "      background-color: #3B4455;\n",
              "      fill: #D2E3FC;\n",
              "    }\n",
              "\n",
              "    [theme=dark] .colab-df-convert:hover {\n",
              "      background-color: #434B5C;\n",
              "      box-shadow: 0px 1px 3px 1px rgba(0, 0, 0, 0.15);\n",
              "      filter: drop-shadow(0px 1px 2px rgba(0, 0, 0, 0.3));\n",
              "      fill: #FFFFFF;\n",
              "    }\n",
              "  </style>\n",
              "\n",
              "    <script>\n",
              "      const buttonEl =\n",
              "        document.querySelector('#df-e13abc9d-a747-4a77-9ec1-1aa8ef744d5a button.colab-df-convert');\n",
              "      buttonEl.style.display =\n",
              "        google.colab.kernel.accessAllowed ? 'block' : 'none';\n",
              "\n",
              "      async function convertToInteractive(key) {\n",
              "        const element = document.querySelector('#df-e13abc9d-a747-4a77-9ec1-1aa8ef744d5a');\n",
              "        const dataTable =\n",
              "          await google.colab.kernel.invokeFunction('convertToInteractive',\n",
              "                                                    [key], {});\n",
              "        if (!dataTable) return;\n",
              "\n",
              "        const docLinkHtml = 'Like what you see? Visit the ' +\n",
              "          '<a target=\"_blank\" href=https://colab.research.google.com/notebooks/data_table.ipynb>data table notebook</a>'\n",
              "          + ' to learn more about interactive tables.';\n",
              "        element.innerHTML = '';\n",
              "        dataTable['output_type'] = 'display_data';\n",
              "        await google.colab.output.renderOutput(dataTable, element);\n",
              "        const docLink = document.createElement('div');\n",
              "        docLink.innerHTML = docLinkHtml;\n",
              "        element.appendChild(docLink);\n",
              "      }\n",
              "    </script>\n",
              "  </div>\n",
              "\n",
              "\n",
              "<div id=\"df-899bf4c5-d23d-42cd-9af6-dc55e7b1cbe3\">\n",
              "  <button class=\"colab-df-quickchart\" onclick=\"quickchart('df-899bf4c5-d23d-42cd-9af6-dc55e7b1cbe3')\"\n",
              "            title=\"Suggest charts\"\n",
              "            style=\"display:none;\">\n",
              "\n",
              "<svg xmlns=\"http://www.w3.org/2000/svg\" height=\"24px\"viewBox=\"0 0 24 24\"\n",
              "     width=\"24px\">\n",
              "    <g>\n",
              "        <path d=\"M19 3H5c-1.1 0-2 .9-2 2v14c0 1.1.9 2 2 2h14c1.1 0 2-.9 2-2V5c0-1.1-.9-2-2-2zM9 17H7v-7h2v7zm4 0h-2V7h2v10zm4 0h-2v-4h2v4z\"/>\n",
              "    </g>\n",
              "</svg>\n",
              "  </button>\n",
              "\n",
              "<style>\n",
              "  .colab-df-quickchart {\n",
              "      --bg-color: #E8F0FE;\n",
              "      --fill-color: #1967D2;\n",
              "      --hover-bg-color: #E2EBFA;\n",
              "      --hover-fill-color: #174EA6;\n",
              "      --disabled-fill-color: #AAA;\n",
              "      --disabled-bg-color: #DDD;\n",
              "  }\n",
              "\n",
              "  [theme=dark] .colab-df-quickchart {\n",
              "      --bg-color: #3B4455;\n",
              "      --fill-color: #D2E3FC;\n",
              "      --hover-bg-color: #434B5C;\n",
              "      --hover-fill-color: #FFFFFF;\n",
              "      --disabled-bg-color: #3B4455;\n",
              "      --disabled-fill-color: #666;\n",
              "  }\n",
              "\n",
              "  .colab-df-quickchart {\n",
              "    background-color: var(--bg-color);\n",
              "    border: none;\n",
              "    border-radius: 50%;\n",
              "    cursor: pointer;\n",
              "    display: none;\n",
              "    fill: var(--fill-color);\n",
              "    height: 32px;\n",
              "    padding: 0;\n",
              "    width: 32px;\n",
              "  }\n",
              "\n",
              "  .colab-df-quickchart:hover {\n",
              "    background-color: var(--hover-bg-color);\n",
              "    box-shadow: 0 1px 2px rgba(60, 64, 67, 0.3), 0 1px 3px 1px rgba(60, 64, 67, 0.15);\n",
              "    fill: var(--button-hover-fill-color);\n",
              "  }\n",
              "\n",
              "  .colab-df-quickchart-complete:disabled,\n",
              "  .colab-df-quickchart-complete:disabled:hover {\n",
              "    background-color: var(--disabled-bg-color);\n",
              "    fill: var(--disabled-fill-color);\n",
              "    box-shadow: none;\n",
              "  }\n",
              "\n",
              "  .colab-df-spinner {\n",
              "    border: 2px solid var(--fill-color);\n",
              "    border-color: transparent;\n",
              "    border-bottom-color: var(--fill-color);\n",
              "    animation:\n",
              "      spin 1s steps(1) infinite;\n",
              "  }\n",
              "\n",
              "  @keyframes spin {\n",
              "    0% {\n",
              "      border-color: transparent;\n",
              "      border-bottom-color: var(--fill-color);\n",
              "      border-left-color: var(--fill-color);\n",
              "    }\n",
              "    20% {\n",
              "      border-color: transparent;\n",
              "      border-left-color: var(--fill-color);\n",
              "      border-top-color: var(--fill-color);\n",
              "    }\n",
              "    30% {\n",
              "      border-color: transparent;\n",
              "      border-left-color: var(--fill-color);\n",
              "      border-top-color: var(--fill-color);\n",
              "      border-right-color: var(--fill-color);\n",
              "    }\n",
              "    40% {\n",
              "      border-color: transparent;\n",
              "      border-right-color: var(--fill-color);\n",
              "      border-top-color: var(--fill-color);\n",
              "    }\n",
              "    60% {\n",
              "      border-color: transparent;\n",
              "      border-right-color: var(--fill-color);\n",
              "    }\n",
              "    80% {\n",
              "      border-color: transparent;\n",
              "      border-right-color: var(--fill-color);\n",
              "      border-bottom-color: var(--fill-color);\n",
              "    }\n",
              "    90% {\n",
              "      border-color: transparent;\n",
              "      border-bottom-color: var(--fill-color);\n",
              "    }\n",
              "  }\n",
              "</style>\n",
              "\n",
              "  <script>\n",
              "    async function quickchart(key) {\n",
              "      const quickchartButtonEl =\n",
              "        document.querySelector('#' + key + ' button');\n",
              "      quickchartButtonEl.disabled = true;  // To prevent multiple clicks.\n",
              "      quickchartButtonEl.classList.add('colab-df-spinner');\n",
              "      try {\n",
              "        const charts = await google.colab.kernel.invokeFunction(\n",
              "            'suggestCharts', [key], {});\n",
              "      } catch (error) {\n",
              "        console.error('Error during call to suggestCharts:', error);\n",
              "      }\n",
              "      quickchartButtonEl.classList.remove('colab-df-spinner');\n",
              "      quickchartButtonEl.classList.add('colab-df-quickchart-complete');\n",
              "    }\n",
              "    (() => {\n",
              "      let quickchartButtonEl =\n",
              "        document.querySelector('#df-899bf4c5-d23d-42cd-9af6-dc55e7b1cbe3 button');\n",
              "      quickchartButtonEl.style.display =\n",
              "        google.colab.kernel.accessAllowed ? 'block' : 'none';\n",
              "    })();\n",
              "  </script>\n",
              "</div>\n",
              "\n",
              "  <div id=\"id_334d849b-4a87-40df-b50e-689fd78b13fa\">\n",
              "    <style>\n",
              "      .colab-df-generate {\n",
              "        background-color: #E8F0FE;\n",
              "        border: none;\n",
              "        border-radius: 50%;\n",
              "        cursor: pointer;\n",
              "        display: none;\n",
              "        fill: #1967D2;\n",
              "        height: 32px;\n",
              "        padding: 0 0 0 0;\n",
              "        width: 32px;\n",
              "      }\n",
              "\n",
              "      .colab-df-generate:hover {\n",
              "        background-color: #E2EBFA;\n",
              "        box-shadow: 0px 1px 2px rgba(60, 64, 67, 0.3), 0px 1px 3px 1px rgba(60, 64, 67, 0.15);\n",
              "        fill: #174EA6;\n",
              "      }\n",
              "\n",
              "      [theme=dark] .colab-df-generate {\n",
              "        background-color: #3B4455;\n",
              "        fill: #D2E3FC;\n",
              "      }\n",
              "\n",
              "      [theme=dark] .colab-df-generate:hover {\n",
              "        background-color: #434B5C;\n",
              "        box-shadow: 0px 1px 3px 1px rgba(0, 0, 0, 0.15);\n",
              "        filter: drop-shadow(0px 1px 2px rgba(0, 0, 0, 0.3));\n",
              "        fill: #FFFFFF;\n",
              "      }\n",
              "    </style>\n",
              "    <button class=\"colab-df-generate\" onclick=\"generateWithVariable('experiemento')\"\n",
              "            title=\"Generate code using this dataframe.\"\n",
              "            style=\"display:none;\">\n",
              "\n",
              "  <svg xmlns=\"http://www.w3.org/2000/svg\" height=\"24px\"viewBox=\"0 0 24 24\"\n",
              "       width=\"24px\">\n",
              "    <path d=\"M7,19H8.4L18.45,9,17,7.55,7,17.6ZM5,21V16.75L18.45,3.32a2,2,0,0,1,2.83,0l1.4,1.43a1.91,1.91,0,0,1,.58,1.4,1.91,1.91,0,0,1-.58,1.4L9.25,21ZM18.45,9,17,7.55Zm-12,3A5.31,5.31,0,0,0,4.9,8.1,5.31,5.31,0,0,0,1,6.5,5.31,5.31,0,0,0,4.9,4.9,5.31,5.31,0,0,0,6.5,1,5.31,5.31,0,0,0,8.1,4.9,5.31,5.31,0,0,0,12,6.5,5.46,5.46,0,0,0,6.5,12Z\"/>\n",
              "  </svg>\n",
              "    </button>\n",
              "    <script>\n",
              "      (() => {\n",
              "      const buttonEl =\n",
              "        document.querySelector('#id_334d849b-4a87-40df-b50e-689fd78b13fa button.colab-df-generate');\n",
              "      buttonEl.style.display =\n",
              "        google.colab.kernel.accessAllowed ? 'block' : 'none';\n",
              "\n",
              "      buttonEl.onclick = () => {\n",
              "        google.colab.notebook.generateWithVariable('experiemento');\n",
              "      }\n",
              "      })();\n",
              "    </script>\n",
              "  </div>\n",
              "\n",
              "    </div>\n",
              "  </div>\n"
            ],
            "application/vnd.google.colaboratory.intrinsic+json": {
              "type": "dataframe",
              "variable_name": "experiemento",
              "summary": "{\n  \"name\": \"experiemento\",\n  \"rows\": 4,\n  \"fields\": [\n    {\n      \"column\": \"Harina\",\n      \"properties\": {\n        \"dtype\": \"number\",\n        \"std\": 1.1547005383792515,\n        \"min\": -1.0,\n        \"max\": 1.0,\n        \"num_unique_values\": 2,\n        \"samples\": [\n          1.0,\n          -1.0\n        ],\n        \"semantic_type\": \"\",\n        \"description\": \"\"\n      }\n    },\n    {\n      \"column\": \"Leche\",\n      \"properties\": {\n        \"dtype\": \"number\",\n        \"std\": 1.1547005383792515,\n        \"min\": -1.0,\n        \"max\": 1.0,\n        \"num_unique_values\": 2,\n        \"samples\": [\n          1.0,\n          -1.0\n        ],\n        \"semantic_type\": \"\",\n        \"description\": \"\"\n      }\n    },\n    {\n      \"column\": \"Cantidades\",\n      \"properties\": {\n        \"dtype\": \"number\",\n        \"std\": 13,\n        \"min\": 19,\n        \"max\": 49,\n        \"num_unique_values\": 4,\n        \"samples\": [\n          37,\n          49\n        ],\n        \"semantic_type\": \"\",\n        \"description\": \"\"\n      }\n    }\n  ]\n}"
            }
          },
          "metadata": {},
          "execution_count": 18
        }
      ],
      "source": [
        "experiemento"
      ]
    },
    {
      "cell_type": "markdown",
      "metadata": {
        "id": "rqJyW12LoNeb"
      },
      "source": [
        "<hr>\n",
        "<p style='font-size: 18px; line-height: 2; margin: 0px 0px; text-align: justify; text-indent: 0px;'>\n",
        "    <font color=\"MidnightBlue\"> <b>Conclusión:</b> Finalmente tenemos nuestro experimento representado por un <i>Dataframe</i> de Pandas. Usaremos este <i>Dataframe</i> para comenzar el análisis de nuestro experimento.\n",
        "<hr>   "
      ]
    },
    {
      "cell_type": "markdown",
      "metadata": {
        "id": "S4gaSGMcoNeb"
      },
      "source": [
        "# <font color = 'purple'> Analizando gráficamente el experimento   </font>\n",
        "\n",
        "\n",
        "<p style='margin: 30px 30px;'>\n",
        "    \n",
        "<hr style = 'border: 1px solid purple;'>"
      ]
    },
    {
      "cell_type": "markdown",
      "metadata": {
        "id": "TpogskDUoNeb"
      },
      "source": [
        "###  Importando Seaborn\n",
        "\n",
        "- Definimos la paleta de colores y el estilo del gráfico\n",
        "- En la galería de documentación de la biblioteca Seaborn se puede observar la variedad de gráficos que se pueden crear.\n",
        "\n",
        "https://seaborn.pydata.org"
      ]
    },
    {
      "cell_type": "code",
      "execution_count": 19,
      "metadata": {
        "id": "rIfGTgWpoNec"
      },
      "outputs": [],
      "source": [
        "import seaborn as sns"
      ]
    },
    {
      "cell_type": "code",
      "execution_count": 20,
      "metadata": {
        "id": "j0k6RHMsoNec"
      },
      "outputs": [],
      "source": [
        "# paletas -> Accent, Accent_r, Blues, Blues_r, BrBG, BrBG_r, BuGn, BuGn_r, BuPu, BuPu_r, CMRmap, CMRmap_r, Dark2, Dark2_r, GnBu, GnBu_r, Greens, Greens_r, Greys, Greys_r, OrRd, OrRd_r, Oranges, Oranges_r, PRGn, PRGn_r, Paired, Paired_r, Pastel1, Pastel1_r, Pastel2, Pastel2_r, PiYG, PiYG_r, PuBu, PuBuGn, PuBuGn_r, PuBu_r, PuOr, PuOr_r, PuRd, PuRd_r, Purples, Purples_r, RdBu, RdBu_r, RdGy, RdGy_r, RdPu, RdPu_r, RdYlBu, RdYlBu_r, RdYlGn, RdYlGn_r, Reds, Reds_r, Set1, Set1_r, Set2, Set2_r, Set3, Set3_r, Spectral, Spectral_r, Wistia, Wistia_r, YlGn, YlGnBu, YlGnBu_r, YlGn_r, YlOrBr, YlOrBr_r, YlOrRd, YlOrRd_r, afmhot, afmhot_r, autumn, autumn_r, binary, binary_r, bone, bone_r, brg, brg_r, bwr, bwr_r, cividis, cividis_r, cool, cool_r, coolwarm, coolwarm_r, copper, copper_r, cubehelix, cubehelix_r, flag, flag_r, gist_earth, gist_earth_r, gist_gray, gist_gray_r, gist_heat, gist_heat_r, gist_ncar, gist_ncar_r, gist_rainbow, gist_rainbow_r, gist_stern, gist_stern_r, gist_yarg, gist_yarg_r, gnuplot, gnuplot2, gnuplot2_r, gnuplot_r, gray, gray_r, hot, hot_r, hsv, hsv_r, icefire, icefire_r, inferno, inferno_r, jet, jet_r, magma, magma_r, mako, mako_r, nipy_spectral, nipy_spectral_r, ocean, ocean_r, pink, pink_r, plasma, plasma_r, prism, prism_r, rainbow, rainbow_r, rocket, rocket_r, seismic, seismic_r, spring, spring_r, summer, summer_r, tab10, tab10_r, tab20, tab20_r, tab20b, tab20b_r, tab20c, tab20c_r, terrain, terrain_r, viridis, viridis_r, vlag, vlag_r, winter, winter_r\n",
        "sns.set_palette('terrain')\n",
        "\n",
        "# estilo -> white, dark, whitegrid, darkgrid, ticks\n",
        "sns.set_style('darkgrid')"
      ]
    },
    {
      "cell_type": "markdown",
      "metadata": {
        "id": "K8lBIt5SoNec"
      },
      "source": [
        "### Para la Harina"
      ]
    },
    {
      "cell_type": "code",
      "execution_count": 21,
      "metadata": {
        "id": "LN-6Z3xfoNec",
        "colab": {
          "base_uri": "https://localhost:8080/",
          "height": 524
        },
        "outputId": "a9fba148-af7f-46f0-a0ea-e73015fc16fb"
      },
      "outputs": [
        {
          "output_type": "execute_result",
          "data": {
            "text/plain": [
              "<seaborn.axisgrid.FacetGrid at 0x7fa001fdf040>"
            ]
          },
          "metadata": {},
          "execution_count": 21
        },
        {
          "output_type": "display_data",
          "data": {
            "text/plain": [
              "<Figure size 576.875x500 with 1 Axes>"
            ],
            "image/png": "[encoded data removed]"
          },
          "metadata": {}
        }
      ],
      "source": [
        "#Como influye la Harina sobre la Leche\n",
        "ax1= sns.lmplot(data= experiemento, x='Harina', y='Cantidades', ci= None, hue='Leche')\n",
        "ax1.set(xticks=(-1,1))#Visualizamos solo los puntos -1 y 1"
      ]
    },
    {
      "cell_type": "markdown",
      "source": [
        "- Al pasar del nivel inferior hacia el nivel superior de la cantidad de leche, la pendiente de la línea que se muestra en el gráfico aumenta. A partir de esta observación, podemos plantear la hipótesis de que probablemente exista un efecto de interacción entre la harina y la leche.\n",
        "- Cuando pasamos del nivel inferior al superior de la cantidad de harina, el número de cupcakes aumenta. Esta observación se mantiene independientemente de la cantidad de leche utilizada. Entonces podemos decir que la harina tiene un efecto positivo en la cantidad de cupcakes producidos."
      ],
      "metadata": {
        "id": "w_yJWPoIOvo3"
      }
    },
    {
      "cell_type": "markdown",
      "metadata": {
        "id": "GOhUN_AloNec"
      },
      "source": [
        "### Para la Leche"
      ]
    },
    {
      "cell_type": "code",
      "execution_count": 22,
      "metadata": {
        "id": "egTS4lvfoNec",
        "colab": {
          "base_uri": "https://localhost:8080/",
          "height": 524
        },
        "outputId": "dab783c8-975c-443f-920d-e92f45400e3b"
      },
      "outputs": [
        {
          "output_type": "execute_result",
          "data": {
            "text/plain": [
              "<seaborn.axisgrid.FacetGrid at 0x7fa001dd5ed0>"
            ]
          },
          "metadata": {},
          "execution_count": 22
        },
        {
          "output_type": "display_data",
          "data": {
            "text/plain": [
              "<Figure size 576.875x500 with 1 Axes>"
            ],
            "image/png": "[encoded data removed]"
          },
          "metadata": {}
        }
      ],
      "source": [
        "#Como influye la Leche sobre la Harina\n",
        "ax1= sns.lmplot(data= experiemento, x='Leche', y='Cantidades', ci= None, hue='Harina')\n",
        "ax1.set(xticks=(-1,1))#Visualizamos solo los puntos -1 y 1"
      ]
    },
    {
      "cell_type": "markdown",
      "source": [
        "Los 2 gráficos permiten comprobar la influencia de la Harina sobre la Leche y de la Leche sobre la Harina. Sin embargo los angulos son diferentes, en el primer gráfico en angulo de inclinación es mayor en cada recta por lo que se puede concluir que la Harina tiene una mayor influencia sobre la leche.\n"
      ],
      "metadata": {
        "id": "oJAz51S4Nn6i"
      }
    },
    {
      "cell_type": "markdown",
      "metadata": {
        "id": "OxZ31V9woNed"
      },
      "source": [
        "# <font color = 'purple'> Ajustando el modelo estadístico </font>\n",
        "\n",
        "\n",
        "<p style='margin: 30px 30px;'>\n",
        "    \n",
        "<hr style = 'border: 1px solid purple;'>"
      ]
    },
    {
      "cell_type": "markdown",
      "metadata": {
        "id": "o8AxdeWsoNed"
      },
      "source": [
        "### Bibliotecas  Stats Model\n"
      ]
    },
    {
      "cell_type": "code",
      "execution_count": 23,
      "metadata": {
        "id": "Wl5UQLKgoNed"
      },
      "outputs": [],
      "source": [
        "# P= B0 + B1 * Xharina + B2 * Yleche + B3 * Xharina * Yleche + e\n",
        "import statsmodels.api as sm\n",
        "import statsmodels.formula.api as smf"
      ]
    },
    {
      "cell_type": "markdown",
      "metadata": {
        "id": "Yng59OT0oNed"
      },
      "source": [
        "### ."
      ]
    },
    {
      "cell_type": "code",
      "execution_count": 24,
      "metadata": {
        "id": "-VZWdhoLoNed"
      },
      "outputs": [],
      "source": [
        "# Generamos el Modelo Estadístico\n",
        "modelo= smf.ols(data= experiemento, formula= 'Cantidades ~ Harina + Leche + Harina:Leche') # Con 'Harina:Leche se analiza la interacción de las variables"
      ]
    },
    {
      "cell_type": "code",
      "execution_count": 25,
      "metadata": {
        "id": "Iow2yyeKoNed"
      },
      "outputs": [],
      "source": [
        "# Ajustamos el modelo para calcular los coeficientes\n",
        "modelo_ajustado = modelo.fit()"
      ]
    },
    {
      "cell_type": "code",
      "execution_count": 26,
      "metadata": {
        "id": "cUqup09aoNed",
        "colab": {
          "base_uri": "https://localhost:8080/"
        },
        "outputId": "20ceb5a4-567e-43a0-f3b2-612cfdc6da8c"
      },
      "outputs": [
        {
          "output_type": "stream",
          "name": "stdout",
          "text": [
            "                            OLS Regression Results                            \n",
            "==============================================================================\n",
            "Dep. Variable:             Cantidades   R-squared:                       1.000\n",
            "Model:                            OLS   Adj. R-squared:                    nan\n",
            "Method:                 Least Squares   F-statistic:                       nan\n",
            "Date:                Mon, 23 Dec 2024   Prob (F-statistic):                nan\n",
            "Time:                        19:54:35   Log-Likelihood:                    inf\n",
            "No. Observations:                   4   AIC:                              -inf\n",
            "Df Residuals:                       0   BIC:                              -inf\n",
            "Df Model:                           3                                         \n",
            "Covariance Type:            nonrobust                                         \n",
            "================================================================================\n",
            "                   coef    std err          t      P>|t|      [0.025      0.975]\n",
            "--------------------------------------------------------------------------------\n",
            "Intercept       32.2500        nan        nan        nan         nan         nan\n",
            "Harina          10.7500        nan        nan        nan         nan         nan\n",
            "Leche            4.2500        nan        nan        nan         nan         nan\n",
            "Harina:Leche     1.7500        nan        nan        nan         nan         nan\n",
            "==============================================================================\n",
            "Omnibus:                          nan   Durbin-Watson:                     nan\n",
            "Prob(Omnibus):                    nan   Jarque-Bera (JB):                  nan\n",
            "Skew:                             nan   Prob(JB):                          nan\n",
            "Kurtosis:                         nan   Cond. No.                         1.00\n",
            "==============================================================================\n",
            "\n",
            "Notes:\n",
            "[1] Standard Errors assume that the covariance matrix of the errors is correctly specified.\n"
          ]
        },
        {
          "output_type": "stream",
          "name": "stderr",
          "text": [
            "/usr/local/lib/python3.10/dist-packages/statsmodels/stats/stattools.py:74: ValueWarning: omni_normtest is not valid with less than 8 observations; 4 samples were given.\n",
            "  warn(\"omni_normtest is not valid with less than 8 observations; %i \"\n",
            "/usr/local/lib/python3.10/dist-packages/statsmodels/regression/linear_model.py:1795: RuntimeWarning: divide by zero encountered in divide\n",
            "  return 1 - (np.divide(self.nobs - self.k_constant, self.df_resid)\n",
            "/usr/local/lib/python3.10/dist-packages/statsmodels/regression/linear_model.py:1795: RuntimeWarning: invalid value encountered in scalar multiply\n",
            "  return 1 - (np.divide(self.nobs - self.k_constant, self.df_resid)\n",
            "/usr/local/lib/python3.10/dist-packages/statsmodels/regression/linear_model.py:955: RuntimeWarning: divide by zero encountered in log\n",
            "  llf = -nobs2*np.log(2*np.pi) - nobs2*np.log(ssr / nobs) - nobs2\n",
            "/usr/local/lib/python3.10/dist-packages/statsmodels/stats/stattools.py:50: RuntimeWarning: invalid value encountered in scalar divide\n",
            "  dw = np.sum(diff_resids**2, axis=axis) / np.sum(resids**2, axis=axis)\n",
            "/usr/local/lib/python3.10/dist-packages/statsmodels/regression/linear_model.py:1717: RuntimeWarning: invalid value encountered in scalar divide\n",
            "  return np.dot(wresid, wresid) / self.df_resid\n"
          ]
        }
      ],
      "source": [
        "#Observamos los resultados\n",
        "print(modelo_ajustado.summary())"
      ]
    },
    {
      "cell_type": "markdown",
      "source": [
        "Analizamos los siguientes parámetros:\n",
        "\n",
        "- B0 (Intercepto): corresponde al promedio de la variable cantidades\n",
        "- B1: Representa la importancia de la Harina en el Modelo\n",
        "- B2: Representa la importancia de la Leche en el Modelo\n",
        "- B3: Representa la interacción entre la Harina y la Leche\n",
        "\n",
        "Se propuso el siguiente modelo estadístico para representar el experimento:\n",
        "\n",
        "![1898-aula2.2.png](data:image/png;base64,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)\n",
        "\n"
      ],
      "metadata": {
        "id": "sESHg8rdSpQ7"
      }
    },
    {
      "cell_type": "markdown",
      "source": [
        "Aprendimos a:\n",
        "\n",
        "- Insertar los datos experimentales en un Dataframe de pandas;\n",
        "- Usar la biblioteca pyDOE2 para generar diseños factoriales;\n",
        "- Hacer análisis gráficas preliminares del experimento;\n",
        "- Proponer un modelo estadístico;\n",
        "- Ajustar el modelo estadístico a los datos experimentales utilizando StatsModel."
      ],
      "metadata": {
        "id": "_84kHDjkVz4q"
      }
    },
    {
      "cell_type": "markdown",
      "source": [
        "# ANÁLISIS ESTADÍSTICO"
      ],
      "metadata": {
        "id": "FB4AeeHSWIE4"
      }
    },
    {
      "cell_type": "markdown",
      "metadata": {
        "id": "05Jxbl9GoNed"
      },
      "source": [
        "# <font color = 'purple'> Aumentando los Grados de libertad  </font>\n",
        "\n",
        "\n",
        "<p style='margin: 30px 30px;'>\n",
        "    \n",
        "<hr style = 'border: 1px solid purple;'>\n",
        "\n",
        "\n",
        "\n",
        "<p style='margin: 30px 30px;'>     \n",
        "    \n"
      ]
    },
    {
      "cell_type": "markdown",
      "source": [
        "El **grado de libertad residual (GLR)** es un concepto fundamental en el análisis de varianza (ANOVA) y en la regresión estadística, que representa la cantidad de variabilidad en los datos que no es explicada por el modelo. Se calcula como la diferencia entre el número total de observaciones y el número de parámetros ajustados por el modelo, incluyendo los coeficientes de la regresión y el término de intersección. El GLR es esencial para evaluar la precisión del modelo, ya que refleja la variabilidad no explicada por las variables independientes. En las pruebas de hipótesis, el GLR se utiliza para calcular la estadística F, permitiendo comparar la variabilidad explicada por el modelo con la no explicada y, de esta forma, determinar la calidad y el ajuste del modelo a los datos. En resumen, el GLR es crucial para evaluar el desempeño de los modelos estadísticos, ya que permite comprender cuánta información aún queda sin explicar.\n",
        "\n",
        "El GLR es calculado de la sigueinte forma:\n",
        " - n = número de pruebas\n",
        " - p = número de parámetros\n",
        " - GLR = n - p\n",
        "\n",
        "En este caso:\n",
        "- GLR = 4 - 4 = 0\n",
        "\n",
        "Esto quiere dicir que los parámetros del módelo y la cantidad de experimentos no son sufucientes para poder generar un análisis de significacnia estadística, po rlo que se requieren más pruebas o líneas de experimentos. con el fín de obtener un GLR > 0"
      ],
      "metadata": {
        "id": "2aQYOBf7XRGp"
      }
    },
    {
      "cell_type": "markdown",
      "metadata": {
        "id": "lRyuz5_YoNed"
      },
      "source": [
        "<hr>\n",
        "\n",
        "\n",
        "<p style='font-size: 18px; line-height: 2; margin: 0px 0px; text-align: justify; text-indent: 0px;'>\n",
        "    <font color=\"red\"> <b>Réplicas en el centro</b>\n",
        "\n",
        "<p style='margin: 30px 30px;'>\n",
        "    \n",
        "    \n",
        "\n",
        "    \n",
        "\n",
        "    \n",
        "<hr>    \n",
        "\n",
        "Adicionamos más valores"
      ]
    },
    {
      "cell_type": "code",
      "execution_count": 27,
      "metadata": {
        "id": "ihpp4apAoNee"
      },
      "outputs": [],
      "source": [
        "centro = np.array([\n",
        "                   [0,0,29],\n",
        "                   [0,0,30],\n",
        "                   [0,0,29],\n",
        "                   [0,0,30]\n",
        "                   ])"
      ]
    },
    {
      "cell_type": "code",
      "execution_count": 28,
      "metadata": {
        "id": "XqYh2f8LoNee"
      },
      "outputs": [],
      "source": [
        "#convertimos a DataFrame\n",
        "centro_dataframe = pd.DataFrame(centro, columns=['Harina', 'Leche', 'Cantidades'], index=[4,5,6,7])"
      ]
    },
    {
      "cell_type": "code",
      "execution_count": 29,
      "metadata": {
        "id": "6EZ6HpJNoNee",
        "colab": {
          "base_uri": "https://localhost:8080/",
          "height": 175
        },
        "outputId": "2b19b433-b6f2-40f2-bc6c-8a939dae8f1a"
      },
      "outputs": [
        {
          "output_type": "execute_result",
          "data": {
            "text/plain": [
              "   Harina  Leche  Cantidades\n",
              "4       0      0          29\n",
              "5       0      0          30\n",
              "6       0      0          29\n",
              "7       0      0          30"
            ],
            "text/html": [
              "\n",
              "  <div id=\"df-1b03ea4f-067d-47d4-b348-e69d8551e2bf\" class=\"colab-df-container\">\n",
              "    <div>\n",
              "<style scoped>\n",
              "    .dataframe tbody tr th:only-of-type {\n",
              "        vertical-align: middle;\n",
              "    }\n",
              "\n",
              "    .dataframe tbody tr th {\n",
              "        vertical-align: top;\n",
              "    }\n",
              "\n",
              "    .dataframe thead th {\n",
              "        text-align: right;\n",
              "    }\n",
              "</style>\n",
              "<table border=\"1\" class=\"dataframe\">\n",
              "  <thead>\n",
              "    <tr style=\"text-align: right;\">\n",
              "      <th></th>\n",
              "      <th>Harina</th>\n",
              "      <th>Leche</th>\n",
              "      <th>Cantidades</th>\n",
              "    </tr>\n",
              "  </thead>\n",
              "  <tbody>\n",
              "    <tr>\n",
              "      <th>4</th>\n",
              "      <td>0</td>\n",
              "      <td>0</td>\n",
              "      <td>29</td>\n",
              "    </tr>\n",
              "    <tr>\n",
              "      <th>5</th>\n",
              "      <td>0</td>\n",
              "      <td>0</td>\n",
              "      <td>30</td>\n",
              "    </tr>\n",
              "    <tr>\n",
              "      <th>6</th>\n",
              "      <td>0</td>\n",
              "      <td>0</td>\n",
              "      <td>29</td>\n",
              "    </tr>\n",
              "    <tr>\n",
              "      <th>7</th>\n",
              "      <td>0</td>\n",
              "      <td>0</td>\n",
              "      <td>30</td>\n",
              "    </tr>\n",
              "  </tbody>\n",
              "</table>\n",
              "</div>\n",
              "    <div class=\"colab-df-buttons\">\n",
              "\n",
              "  <div class=\"colab-df-container\">\n",
              "    <button class=\"colab-df-convert\" onclick=\"convertToInteractive('df-1b03ea4f-067d-47d4-b348-e69d8551e2bf')\"\n",
              "            title=\"Convert this dataframe to an interactive table.\"\n",
              "            style=\"display:none;\">\n",
              "\n",
              "  <svg xmlns=\"http://www.w3.org/2000/svg\" height=\"24px\" viewBox=\"0 -960 960 960\">\n",
              "    <path d=\"M120-120v-720h720v720H120Zm60-500h600v-160H180v160Zm220 220h160v-160H400v160Zm0 220h160v-160H400v160ZM180-400h160v-160H180v160Zm440 0h160v-160H620v160ZM180-180h160v-160H180v160Zm440 0h160v-160H620v160Z\"/>\n",
              "  </svg>\n",
              "    </button>\n",
              "\n",
              "  <style>\n",
              "    .colab-df-container {\n",
              "      display:flex;\n",
              "      gap: 12px;\n",
              "    }\n",
              "\n",
              "    .colab-df-convert {\n",
              "      background-color: #E8F0FE;\n",
              "      border: none;\n",
              "      border-radius: 50%;\n",
              "      cursor: pointer;\n",
              "      display: none;\n",
              "      fill: #1967D2;\n",
              "      height: 32px;\n",
              "      padding: 0 0 0 0;\n",
              "      width: 32px;\n",
              "    }\n",
              "\n",
              "    .colab-df-convert:hover {\n",
              "      background-color: #E2EBFA;\n",
              "      box-shadow: 0px 1px 2px rgba(60, 64, 67, 0.3), 0px 1px 3px 1px rgba(60, 64, 67, 0.15);\n",
              "      fill: #174EA6;\n",
              "    }\n",
              "\n",
              "    .colab-df-buttons div {\n",
              "      margin-bottom: 4px;\n",
              "    }\n",
              "\n",
              "    [theme=dark] .colab-df-convert {\n",
              "      background-color: #3B4455;\n",
              "      fill: #D2E3FC;\n",
              "    }\n",
              "\n",
              "    [theme=dark] .colab-df-convert:hover {\n",
              "      background-color: #434B5C;\n",
              "      box-shadow: 0px 1px 3px 1px rgba(0, 0, 0, 0.15);\n",
              "      filter: drop-shadow(0px 1px 2px rgba(0, 0, 0, 0.3));\n",
              "      fill: #FFFFFF;\n",
              "    }\n",
              "  </style>\n",
              "\n",
              "    <script>\n",
              "      const buttonEl =\n",
              "        document.querySelector('#df-1b03ea4f-067d-47d4-b348-e69d8551e2bf button.colab-df-convert');\n",
              "      buttonEl.style.display =\n",
              "        google.colab.kernel.accessAllowed ? 'block' : 'none';\n",
              "\n",
              "      async function convertToInteractive(key) {\n",
              "        const element = document.querySelector('#df-1b03ea4f-067d-47d4-b348-e69d8551e2bf');\n",
              "        const dataTable =\n",
              "          await google.colab.kernel.invokeFunction('convertToInteractive',\n",
              "                                                    [key], {});\n",
              "        if (!dataTable) return;\n",
              "\n",
              "        const docLinkHtml = 'Like what you see? Visit the ' +\n",
              "          '<a target=\"_blank\" href=https://colab.research.google.com/notebooks/data_table.ipynb>data table notebook</a>'\n",
              "          + ' to learn more about interactive tables.';\n",
              "        element.innerHTML = '';\n",
              "        dataTable['output_type'] = 'display_data';\n",
              "        await google.colab.output.renderOutput(dataTable, element);\n",
              "        const docLink = document.createElement('div');\n",
              "        docLink.innerHTML = docLinkHtml;\n",
              "        element.appendChild(docLink);\n",
              "      }\n",
              "    </script>\n",
              "  </div>\n",
              "\n",
              "\n",
              "<div id=\"df-e282b08f-d728-47b5-b012-30c341d66540\">\n",
              "  <button class=\"colab-df-quickchart\" onclick=\"quickchart('df-e282b08f-d728-47b5-b012-30c341d66540')\"\n",
              "            title=\"Suggest charts\"\n",
              "            style=\"display:none;\">\n",
              "\n",
              "<svg xmlns=\"http://www.w3.org/2000/svg\" height=\"24px\"viewBox=\"0 0 24 24\"\n",
              "     width=\"24px\">\n",
              "    <g>\n",
              "        <path d=\"M19 3H5c-1.1 0-2 .9-2 2v14c0 1.1.9 2 2 2h14c1.1 0 2-.9 2-2V5c0-1.1-.9-2-2-2zM9 17H7v-7h2v7zm4 0h-2V7h2v10zm4 0h-2v-4h2v4z\"/>\n",
              "    </g>\n",
              "</svg>\n",
              "  </button>\n",
              "\n",
              "<style>\n",
              "  .colab-df-quickchart {\n",
              "      --bg-color: #E8F0FE;\n",
              "      --fill-color: #1967D2;\n",
              "      --hover-bg-color: #E2EBFA;\n",
              "      --hover-fill-color: #174EA6;\n",
              "      --disabled-fill-color: #AAA;\n",
              "      --disabled-bg-color: #DDD;\n",
              "  }\n",
              "\n",
              "  [theme=dark] .colab-df-quickchart {\n",
              "      --bg-color: #3B4455;\n",
              "      --fill-color: #D2E3FC;\n",
              "      --hover-bg-color: #434B5C;\n",
              "      --hover-fill-color: #FFFFFF;\n",
              "      --disabled-bg-color: #3B4455;\n",
              "      --disabled-fill-color: #666;\n",
              "  }\n",
              "\n",
              "  .colab-df-quickchart {\n",
              "    background-color: var(--bg-color);\n",
              "    border: none;\n",
              "    border-radius: 50%;\n",
              "    cursor: pointer;\n",
              "    display: none;\n",
              "    fill: var(--fill-color);\n",
              "    height: 32px;\n",
              "    padding: 0;\n",
              "    width: 32px;\n",
              "  }\n",
              "\n",
              "  .colab-df-quickchart:hover {\n",
              "    background-color: var(--hover-bg-color);\n",
              "    box-shadow: 0 1px 2px rgba(60, 64, 67, 0.3), 0 1px 3px 1px rgba(60, 64, 67, 0.15);\n",
              "    fill: var(--button-hover-fill-color);\n",
              "  }\n",
              "\n",
              "  .colab-df-quickchart-complete:disabled,\n",
              "  .colab-df-quickchart-complete:disabled:hover {\n",
              "    background-color: var(--disabled-bg-color);\n",
              "    fill: var(--disabled-fill-color);\n",
              "    box-shadow: none;\n",
              "  }\n",
              "\n",
              "  .colab-df-spinner {\n",
              "    border: 2px solid var(--fill-color);\n",
              "    border-color: transparent;\n",
              "    border-bottom-color: var(--fill-color);\n",
              "    animation:\n",
              "      spin 1s steps(1) infinite;\n",
              "  }\n",
              "\n",
              "  @keyframes spin {\n",
              "    0% {\n",
              "      border-color: transparent;\n",
              "      border-bottom-color: var(--fill-color);\n",
              "      border-left-color: var(--fill-color);\n",
              "    }\n",
              "    20% {\n",
              "      border-color: transparent;\n",
              "      border-left-color: var(--fill-color);\n",
              "      border-top-color: var(--fill-color);\n",
              "    }\n",
              "    30% {\n",
              "      border-color: transparent;\n",
              "      border-left-color: var(--fill-color);\n",
              "      border-top-color: var(--fill-color);\n",
              "      border-right-color: var(--fill-color);\n",
              "    }\n",
              "    40% {\n",
              "      border-color: transparent;\n",
              "      border-right-color: var(--fill-color);\n",
              "      border-top-color: var(--fill-color);\n",
              "    }\n",
              "    60% {\n",
              "      border-color: transparent;\n",
              "      border-right-color: var(--fill-color);\n",
              "    }\n",
              "    80% {\n",
              "      border-color: transparent;\n",
              "      border-right-color: var(--fill-color);\n",
              "      border-bottom-color: var(--fill-color);\n",
              "    }\n",
              "    90% {\n",
              "      border-color: transparent;\n",
              "      border-bottom-color: var(--fill-color);\n",
              "    }\n",
              "  }\n",
              "</style>\n",
              "\n",
              "  <script>\n",
              "    async function quickchart(key) {\n",
              "      const quickchartButtonEl =\n",
              "        document.querySelector('#' + key + ' button');\n",
              "      quickchartButtonEl.disabled = true;  // To prevent multiple clicks.\n",
              "      quickchartButtonEl.classList.add('colab-df-spinner');\n",
              "      try {\n",
              "        const charts = await google.colab.kernel.invokeFunction(\n",
              "            'suggestCharts', [key], {});\n",
              "      } catch (error) {\n",
              "        console.error('Error during call to suggestCharts:', error);\n",
              "      }\n",
              "      quickchartButtonEl.classList.remove('colab-df-spinner');\n",
              "      quickchartButtonEl.classList.add('colab-df-quickchart-complete');\n",
              "    }\n",
              "    (() => {\n",
              "      let quickchartButtonEl =\n",
              "        document.querySelector('#df-e282b08f-d728-47b5-b012-30c341d66540 button');\n",
              "      quickchartButtonEl.style.display =\n",
              "        google.colab.kernel.accessAllowed ? 'block' : 'none';\n",
              "    })();\n",
              "  </script>\n",
              "</div>\n",
              "\n",
              "  <div id=\"id_fde049cf-a869-4454-85f1-686e8485b8c4\">\n",
              "    <style>\n",
              "      .colab-df-generate {\n",
              "        background-color: #E8F0FE;\n",
              "        border: none;\n",
              "        border-radius: 50%;\n",
              "        cursor: pointer;\n",
              "        display: none;\n",
              "        fill: #1967D2;\n",
              "        height: 32px;\n",
              "        padding: 0 0 0 0;\n",
              "        width: 32px;\n",
              "      }\n",
              "\n",
              "      .colab-df-generate:hover {\n",
              "        background-color: #E2EBFA;\n",
              "        box-shadow: 0px 1px 2px rgba(60, 64, 67, 0.3), 0px 1px 3px 1px rgba(60, 64, 67, 0.15);\n",
              "        fill: #174EA6;\n",
              "      }\n",
              "\n",
              "      [theme=dark] .colab-df-generate {\n",
              "        background-color: #3B4455;\n",
              "        fill: #D2E3FC;\n",
              "      }\n",
              "\n",
              "      [theme=dark] .colab-df-generate:hover {\n",
              "        background-color: #434B5C;\n",
              "        box-shadow: 0px 1px 3px 1px rgba(0, 0, 0, 0.15);\n",
              "        filter: drop-shadow(0px 1px 2px rgba(0, 0, 0, 0.3));\n",
              "        fill: #FFFFFF;\n",
              "      }\n",
              "    </style>\n",
              "    <button class=\"colab-df-generate\" onclick=\"generateWithVariable('centro_dataframe')\"\n",
              "            title=\"Generate code using this dataframe.\"\n",
              "            style=\"display:none;\">\n",
              "\n",
              "  <svg xmlns=\"http://www.w3.org/2000/svg\" height=\"24px\"viewBox=\"0 0 24 24\"\n",
              "       width=\"24px\">\n",
              "    <path d=\"M7,19H8.4L18.45,9,17,7.55,7,17.6ZM5,21V16.75L18.45,3.32a2,2,0,0,1,2.83,0l1.4,1.43a1.91,1.91,0,0,1,.58,1.4,1.91,1.91,0,0,1-.58,1.4L9.25,21ZM18.45,9,17,7.55Zm-12,3A5.31,5.31,0,0,0,4.9,8.1,5.31,5.31,0,0,0,1,6.5,5.31,5.31,0,0,0,4.9,4.9,5.31,5.31,0,0,0,6.5,1,5.31,5.31,0,0,0,8.1,4.9,5.31,5.31,0,0,0,12,6.5,5.46,5.46,0,0,0,6.5,12Z\"/>\n",
              "  </svg>\n",
              "    </button>\n",
              "    <script>\n",
              "      (() => {\n",
              "      const buttonEl =\n",
              "        document.querySelector('#id_fde049cf-a869-4454-85f1-686e8485b8c4 button.colab-df-generate');\n",
              "      buttonEl.style.display =\n",
              "        google.colab.kernel.accessAllowed ? 'block' : 'none';\n",
              "\n",
              "      buttonEl.onclick = () => {\n",
              "        google.colab.notebook.generateWithVariable('centro_dataframe');\n",
              "      }\n",
              "      })();\n",
              "    </script>\n",
              "  </div>\n",
              "\n",
              "    </div>\n",
              "  </div>\n"
            ],
            "application/vnd.google.colaboratory.intrinsic+json": {
              "type": "dataframe",
              "variable_name": "centro_dataframe",
              "summary": "{\n  \"name\": \"centro_dataframe\",\n  \"rows\": 4,\n  \"fields\": [\n    {\n      \"column\": \"Harina\",\n      \"properties\": {\n        \"dtype\": \"number\",\n        \"std\": 0,\n        \"min\": 0,\n        \"max\": 0,\n        \"num_unique_values\": 1,\n        \"samples\": [\n          0\n        ],\n        \"semantic_type\": \"\",\n        \"description\": \"\"\n      }\n    },\n    {\n      \"column\": \"Leche\",\n      \"properties\": {\n        \"dtype\": \"number\",\n        \"std\": 0,\n        \"min\": 0,\n        \"max\": 0,\n        \"num_unique_values\": 1,\n        \"samples\": [\n          0\n        ],\n        \"semantic_type\": \"\",\n        \"description\": \"\"\n      }\n    },\n    {\n      \"column\": \"Cantidades\",\n      \"properties\": {\n        \"dtype\": \"number\",\n        \"std\": 0,\n        \"min\": 29,\n        \"max\": 30,\n        \"num_unique_values\": 2,\n        \"samples\": [\n          30\n        ],\n        \"semantic_type\": \"\",\n        \"description\": \"\"\n      }\n    }\n  ]\n}"
            }
          },
          "metadata": {},
          "execution_count": 29
        }
      ],
      "source": [
        "centro_dataframe"
      ]
    },
    {
      "cell_type": "markdown",
      "metadata": {
        "id": "0JzyKQgqoNee"
      },
      "source": [
        "### ."
      ]
    },
    {
      "cell_type": "code",
      "execution_count": 30,
      "metadata": {
        "id": "1whDx8W6oNee"
      },
      "outputs": [],
      "source": [
        "# Juntamos los dos DataFrames\n",
        "experiemento = pd.concat([experiemento, centro_dataframe])"
      ]
    },
    {
      "cell_type": "code",
      "execution_count": 31,
      "metadata": {
        "id": "UrFziNISoNee",
        "colab": {
          "base_uri": "https://localhost:8080/",
          "height": 300
        },
        "outputId": "a3d2cfd3-bba0-4422-a9a3-7aefc392bd88"
      },
      "outputs": [
        {
          "output_type": "execute_result",
          "data": {
            "text/plain": [
              "   Harina  Leche  Cantidades\n",
              "0    -1.0   -1.0          19\n",
              "1     1.0   -1.0          37\n",
              "2    -1.0    1.0          24\n",
              "3     1.0    1.0          49\n",
              "4     0.0    0.0          29\n",
              "5     0.0    0.0          30\n",
              "6     0.0    0.0          29\n",
              "7     0.0    0.0          30"
            ],
            "text/html": [
              "\n",
              "  <div id=\"df-012bcce5-6f5a-42a5-b41f-ef1010062516\" class=\"colab-df-container\">\n",
              "    <div>\n",
              "<style scoped>\n",
              "    .dataframe tbody tr th:only-of-type {\n",
              "        vertical-align: middle;\n",
              "    }\n",
              "\n",
              "    .dataframe tbody tr th {\n",
              "        vertical-align: top;\n",
              "    }\n",
              "\n",
              "    .dataframe thead th {\n",
              "        text-align: right;\n",
              "    }\n",
              "</style>\n",
              "<table border=\"1\" class=\"dataframe\">\n",
              "  <thead>\n",
              "    <tr style=\"text-align: right;\">\n",
              "      <th></th>\n",
              "      <th>Harina</th>\n",
              "      <th>Leche</th>\n",
              "      <th>Cantidades</th>\n",
              "    </tr>\n",
              "  </thead>\n",
              "  <tbody>\n",
              "    <tr>\n",
              "      <th>0</th>\n",
              "      <td>-1.0</td>\n",
              "      <td>-1.0</td>\n",
              "      <td>19</td>\n",
              "    </tr>\n",
              "    <tr>\n",
              "      <th>1</th>\n",
              "      <td>1.0</td>\n",
              "      <td>-1.0</td>\n",
              "      <td>37</td>\n",
              "    </tr>\n",
              "    <tr>\n",
              "      <th>2</th>\n",
              "      <td>-1.0</td>\n",
              "      <td>1.0</td>\n",
              "      <td>24</td>\n",
              "    </tr>\n",
              "    <tr>\n",
              "      <th>3</th>\n",
              "      <td>1.0</td>\n",
              "      <td>1.0</td>\n",
              "      <td>49</td>\n",
              "    </tr>\n",
              "    <tr>\n",
              "      <th>4</th>\n",
              "      <td>0.0</td>\n",
              "      <td>0.0</td>\n",
              "      <td>29</td>\n",
              "    </tr>\n",
              "    <tr>\n",
              "      <th>5</th>\n",
              "      <td>0.0</td>\n",
              "      <td>0.0</td>\n",
              "      <td>30</td>\n",
              "    </tr>\n",
              "    <tr>\n",
              "      <th>6</th>\n",
              "      <td>0.0</td>\n",
              "      <td>0.0</td>\n",
              "      <td>29</td>\n",
              "    </tr>\n",
              "    <tr>\n",
              "      <th>7</th>\n",
              "      <td>0.0</td>\n",
              "      <td>0.0</td>\n",
              "      <td>30</td>\n",
              "    </tr>\n",
              "  </tbody>\n",
              "</table>\n",
              "</div>\n",
              "    <div class=\"colab-df-buttons\">\n",
              "\n",
              "  <div class=\"colab-df-container\">\n",
              "    <button class=\"colab-df-convert\" onclick=\"convertToInteractive('df-012bcce5-6f5a-42a5-b41f-ef1010062516')\"\n",
              "            title=\"Convert this dataframe to an interactive table.\"\n",
              "            style=\"display:none;\">\n",
              "\n",
              "  <svg xmlns=\"http://www.w3.org/2000/svg\" height=\"24px\" viewBox=\"0 -960 960 960\">\n",
              "    <path d=\"M120-120v-720h720v720H120Zm60-500h600v-160H180v160Zm220 220h160v-160H400v160Zm0 220h160v-160H400v160ZM180-400h160v-160H180v160Zm440 0h160v-160H620v160ZM180-180h160v-160H180v160Zm440 0h160v-160H620v160Z\"/>\n",
              "  </svg>\n",
              "    </button>\n",
              "\n",
              "  <style>\n",
              "    .colab-df-container {\n",
              "      display:flex;\n",
              "      gap: 12px;\n",
              "    }\n",
              "\n",
              "    .colab-df-convert {\n",
              "      background-color: #E8F0FE;\n",
              "      border: none;\n",
              "      border-radius: 50%;\n",
              "      cursor: pointer;\n",
              "      display: none;\n",
              "      fill: #1967D2;\n",
              "      height: 32px;\n",
              "      padding: 0 0 0 0;\n",
              "      width: 32px;\n",
              "    }\n",
              "\n",
              "    .colab-df-convert:hover {\n",
              "      background-color: #E2EBFA;\n",
              "      box-shadow: 0px 1px 2px rgba(60, 64, 67, 0.3), 0px 1px 3px 1px rgba(60, 64, 67, 0.15);\n",
              "      fill: #174EA6;\n",
              "    }\n",
              "\n",
              "    .colab-df-buttons div {\n",
              "      margin-bottom: 4px;\n",
              "    }\n",
              "\n",
              "    [theme=dark] .colab-df-convert {\n",
              "      background-color: #3B4455;\n",
              "      fill: #D2E3FC;\n",
              "    }\n",
              "\n",
              "    [theme=dark] .colab-df-convert:hover {\n",
              "      background-color: #434B5C;\n",
              "      box-shadow: 0px 1px 3px 1px rgba(0, 0, 0, 0.15);\n",
              "      filter: drop-shadow(0px 1px 2px rgba(0, 0, 0, 0.3));\n",
              "      fill: #FFFFFF;\n",
              "    }\n",
              "  </style>\n",
              "\n",
              "    <script>\n",
              "      const buttonEl =\n",
              "        document.querySelector('#df-012bcce5-6f5a-42a5-b41f-ef1010062516 button.colab-df-convert');\n",
              "      buttonEl.style.display =\n",
              "        google.colab.kernel.accessAllowed ? 'block' : 'none';\n",
              "\n",
              "      async function convertToInteractive(key) {\n",
              "        const element = document.querySelector('#df-012bcce5-6f5a-42a5-b41f-ef1010062516');\n",
              "        const dataTable =\n",
              "          await google.colab.kernel.invokeFunction('convertToInteractive',\n",
              "                                                    [key], {});\n",
              "        if (!dataTable) return;\n",
              "\n",
              "        const docLinkHtml = 'Like what you see? Visit the ' +\n",
              "          '<a target=\"_blank\" href=https://colab.research.google.com/notebooks/data_table.ipynb>data table notebook</a>'\n",
              "          + ' to learn more about interactive tables.';\n",
              "        element.innerHTML = '';\n",
              "        dataTable['output_type'] = 'display_data';\n",
              "        await google.colab.output.renderOutput(dataTable, element);\n",
              "        const docLink = document.createElement('div');\n",
              "        docLink.innerHTML = docLinkHtml;\n",
              "        element.appendChild(docLink);\n",
              "      }\n",
              "    </script>\n",
              "  </div>\n",
              "\n",
              "\n",
              "<div id=\"df-2b526594-4c36-4dc5-be39-55dced1a4cc4\">\n",
              "  <button class=\"colab-df-quickchart\" onclick=\"quickchart('df-2b526594-4c36-4dc5-be39-55dced1a4cc4')\"\n",
              "            title=\"Suggest charts\"\n",
              "            style=\"display:none;\">\n",
              "\n",
              "<svg xmlns=\"http://www.w3.org/2000/svg\" height=\"24px\"viewBox=\"0 0 24 24\"\n",
              "     width=\"24px\">\n",
              "    <g>\n",
              "        <path d=\"M19 3H5c-1.1 0-2 .9-2 2v14c0 1.1.9 2 2 2h14c1.1 0 2-.9 2-2V5c0-1.1-.9-2-2-2zM9 17H7v-7h2v7zm4 0h-2V7h2v10zm4 0h-2v-4h2v4z\"/>\n",
              "    </g>\n",
              "</svg>\n",
              "  </button>\n",
              "\n",
              "<style>\n",
              "  .colab-df-quickchart {\n",
              "      --bg-color: #E8F0FE;\n",
              "      --fill-color: #1967D2;\n",
              "      --hover-bg-color: #E2EBFA;\n",
              "      --hover-fill-color: #174EA6;\n",
              "      --disabled-fill-color: #AAA;\n",
              "      --disabled-bg-color: #DDD;\n",
              "  }\n",
              "\n",
              "  [theme=dark] .colab-df-quickchart {\n",
              "      --bg-color: #3B4455;\n",
              "      --fill-color: #D2E3FC;\n",
              "      --hover-bg-color: #434B5C;\n",
              "      --hover-fill-color: #FFFFFF;\n",
              "      --disabled-bg-color: #3B4455;\n",
              "      --disabled-fill-color: #666;\n",
              "  }\n",
              "\n",
              "  .colab-df-quickchart {\n",
              "    background-color: var(--bg-color);\n",
              "    border: none;\n",
              "    border-radius: 50%;\n",
              "    cursor: pointer;\n",
              "    display: none;\n",
              "    fill: var(--fill-color);\n",
              "    height: 32px;\n",
              "    padding: 0;\n",
              "    width: 32px;\n",
              "  }\n",
              "\n",
              "  .colab-df-quickchart:hover {\n",
              "    background-color: var(--hover-bg-color);\n",
              "    box-shadow: 0 1px 2px rgba(60, 64, 67, 0.3), 0 1px 3px 1px rgba(60, 64, 67, 0.15);\n",
              "    fill: var(--button-hover-fill-color);\n",
              "  }\n",
              "\n",
              "  .colab-df-quickchart-complete:disabled,\n",
              "  .colab-df-quickchart-complete:disabled:hover {\n",
              "    background-color: var(--disabled-bg-color);\n",
              "    fill: var(--disabled-fill-color);\n",
              "    box-shadow: none;\n",
              "  }\n",
              "\n",
              "  .colab-df-spinner {\n",
              "    border: 2px solid var(--fill-color);\n",
              "    border-color: transparent;\n",
              "    border-bottom-color: var(--fill-color);\n",
              "    animation:\n",
              "      spin 1s steps(1) infinite;\n",
              "  }\n",
              "\n",
              "  @keyframes spin {\n",
              "    0% {\n",
              "      border-color: transparent;\n",
              "      border-bottom-color: var(--fill-color);\n",
              "      border-left-color: var(--fill-color);\n",
              "    }\n",
              "    20% {\n",
              "      border-color: transparent;\n",
              "      border-left-color: var(--fill-color);\n",
              "      border-top-color: var(--fill-color);\n",
              "    }\n",
              "    30% {\n",
              "      border-color: transparent;\n",
              "      border-left-color: var(--fill-color);\n",
              "      border-top-color: var(--fill-color);\n",
              "      border-right-color: var(--fill-color);\n",
              "    }\n",
              "    40% {\n",
              "      border-color: transparent;\n",
              "      border-right-color: var(--fill-color);\n",
              "      border-top-color: var(--fill-color);\n",
              "    }\n",
              "    60% {\n",
              "      border-color: transparent;\n",
              "      border-right-color: var(--fill-color);\n",
              "    }\n",
              "    80% {\n",
              "      border-color: transparent;\n",
              "      border-right-color: var(--fill-color);\n",
              "      border-bottom-color: var(--fill-color);\n",
              "    }\n",
              "    90% {\n",
              "      border-color: transparent;\n",
              "      border-bottom-color: var(--fill-color);\n",
              "    }\n",
              "  }\n",
              "</style>\n",
              "\n",
              "  <script>\n",
              "    async function quickchart(key) {\n",
              "      const quickchartButtonEl =\n",
              "        document.querySelector('#' + key + ' button');\n",
              "      quickchartButtonEl.disabled = true;  // To prevent multiple clicks.\n",
              "      quickchartButtonEl.classList.add('colab-df-spinner');\n",
              "      try {\n",
              "        const charts = await google.colab.kernel.invokeFunction(\n",
              "            'suggestCharts', [key], {});\n",
              "      } catch (error) {\n",
              "        console.error('Error during call to suggestCharts:', error);\n",
              "      }\n",
              "      quickchartButtonEl.classList.remove('colab-df-spinner');\n",
              "      quickchartButtonEl.classList.add('colab-df-quickchart-complete');\n",
              "    }\n",
              "    (() => {\n",
              "      let quickchartButtonEl =\n",
              "        document.querySelector('#df-2b526594-4c36-4dc5-be39-55dced1a4cc4 button');\n",
              "      quickchartButtonEl.style.display =\n",
              "        google.colab.kernel.accessAllowed ? 'block' : 'none';\n",
              "    })();\n",
              "  </script>\n",
              "</div>\n",
              "\n",
              "  <div id=\"id_5b87755f-5264-4ddb-bd0c-52ede1e6dee8\">\n",
              "    <style>\n",
              "      .colab-df-generate {\n",
              "        background-color: #E8F0FE;\n",
              "        border: none;\n",
              "        border-radius: 50%;\n",
              "        cursor: pointer;\n",
              "        display: none;\n",
              "        fill: #1967D2;\n",
              "        height: 32px;\n",
              "        padding: 0 0 0 0;\n",
              "        width: 32px;\n",
              "      }\n",
              "\n",
              "      .colab-df-generate:hover {\n",
              "        background-color: #E2EBFA;\n",
              "        box-shadow: 0px 1px 2px rgba(60, 64, 67, 0.3), 0px 1px 3px 1px rgba(60, 64, 67, 0.15);\n",
              "        fill: #174EA6;\n",
              "      }\n",
              "\n",
              "      [theme=dark] .colab-df-generate {\n",
              "        background-color: #3B4455;\n",
              "        fill: #D2E3FC;\n",
              "      }\n",
              "\n",
              "      [theme=dark] .colab-df-generate:hover {\n",
              "        background-color: #434B5C;\n",
              "        box-shadow: 0px 1px 3px 1px rgba(0, 0, 0, 0.15);\n",
              "        filter: drop-shadow(0px 1px 2px rgba(0, 0, 0, 0.3));\n",
              "        fill: #FFFFFF;\n",
              "      }\n",
              "    </style>\n",
              "    <button class=\"colab-df-generate\" onclick=\"generateWithVariable('experiemento')\"\n",
              "            title=\"Generate code using this dataframe.\"\n",
              "            style=\"display:none;\">\n",
              "\n",
              "  <svg xmlns=\"http://www.w3.org/2000/svg\" height=\"24px\"viewBox=\"0 0 24 24\"\n",
              "       width=\"24px\">\n",
              "    <path d=\"M7,19H8.4L18.45,9,17,7.55,7,17.6ZM5,21V16.75L18.45,3.32a2,2,0,0,1,2.83,0l1.4,1.43a1.91,1.91,0,0,1,.58,1.4,1.91,1.91,0,0,1-.58,1.4L9.25,21ZM18.45,9,17,7.55Zm-12,3A5.31,5.31,0,0,0,4.9,8.1,5.31,5.31,0,0,0,1,6.5,5.31,5.31,0,0,0,4.9,4.9,5.31,5.31,0,0,0,6.5,1,5.31,5.31,0,0,0,8.1,4.9,5.31,5.31,0,0,0,12,6.5,5.46,5.46,0,0,0,6.5,12Z\"/>\n",
              "  </svg>\n",
              "    </button>\n",
              "    <script>\n",
              "      (() => {\n",
              "      const buttonEl =\n",
              "        document.querySelector('#id_5b87755f-5264-4ddb-bd0c-52ede1e6dee8 button.colab-df-generate');\n",
              "      buttonEl.style.display =\n",
              "        google.colab.kernel.accessAllowed ? 'block' : 'none';\n",
              "\n",
              "      buttonEl.onclick = () => {\n",
              "        google.colab.notebook.generateWithVariable('experiemento');\n",
              "      }\n",
              "      })();\n",
              "    </script>\n",
              "  </div>\n",
              "\n",
              "    </div>\n",
              "  </div>\n"
            ],
            "application/vnd.google.colaboratory.intrinsic+json": {
              "type": "dataframe",
              "variable_name": "experiemento",
              "summary": "{\n  \"name\": \"experiemento\",\n  \"rows\": 8,\n  \"fields\": [\n    {\n      \"column\": \"Harina\",\n      \"properties\": {\n        \"dtype\": \"number\",\n        \"std\": 0.7559289460184544,\n        \"min\": -1.0,\n        \"max\": 1.0,\n        \"num_unique_values\": 3,\n        \"samples\": [\n          -1.0,\n          1.0,\n          0.0\n        ],\n        \"semantic_type\": \"\",\n        \"description\": \"\"\n      }\n    },\n    {\n      \"column\": \"Leche\",\n      \"properties\": {\n        \"dtype\": \"number\",\n        \"std\": 0.7559289460184544,\n        \"min\": -1.0,\n        \"max\": 1.0,\n        \"num_unique_values\": 3,\n        \"samples\": [\n          -1.0,\n          1.0,\n          0.0\n        ],\n        \"semantic_type\": \"\",\n        \"description\": \"\"\n      }\n    },\n    {\n      \"column\": \"Cantidades\",\n      \"properties\": {\n        \"dtype\": \"number\",\n        \"std\": 8,\n        \"min\": 19,\n        \"max\": 49,\n        \"num_unique_values\": 6,\n        \"samples\": [\n          19,\n          37,\n          30\n        ],\n        \"semantic_type\": \"\",\n        \"description\": \"\"\n      }\n    }\n  ]\n}"
            }
          },
          "metadata": {},
          "execution_count": 31
        }
      ],
      "source": [
        "experiemento"
      ]
    },
    {
      "cell_type": "markdown",
      "metadata": {
        "id": "-uWxcWM3oNee"
      },
      "source": [
        "# <font color = 'purple'>  Análisis de significancia estadística   </font>\n",
        "\n",
        "\n",
        "<p style='margin: 30px 30px;'>\n",
        "    \n",
        "<hr style = 'border: 1px solid purple;'>"
      ]
    },
    {
      "cell_type": "code",
      "execution_count": 32,
      "metadata": {
        "id": "m_zvbsxgoNee"
      },
      "outputs": [],
      "source": [
        "# Generamos el Modelo Estadístico\n",
        "modelo= smf.ols(data= experiemento, formula= 'Cantidades ~ Harina + Leche + Harina:Leche') # Con 'Harina:Leche se analiza la interacción de las variables"
      ]
    },
    {
      "cell_type": "code",
      "execution_count": 33,
      "metadata": {
        "id": "bOhMq60RoNee"
      },
      "outputs": [],
      "source": [
        "# Ajustamos el modelo para calcular los coeficientes\n",
        "modelo_ajustado = modelo.fit()"
      ]
    },
    {
      "cell_type": "code",
      "execution_count": 34,
      "metadata": {
        "id": "HaFaew7_oNee",
        "colab": {
          "base_uri": "https://localhost:8080/"
        },
        "outputId": "9a16fdd0-cccc-4bcf-c60c-b2ae1b81ebd2"
      },
      "outputs": [
        {
          "output_type": "stream",
          "name": "stdout",
          "text": [
            "                            OLS Regression Results                            \n",
            "==============================================================================\n",
            "Dep. Variable:             Cantidades   R-squared:                       0.971\n",
            "Model:                            OLS   Adj. R-squared:                  0.950\n",
            "Method:                 Least Squares   F-statistic:                     45.21\n",
            "Date:                Mon, 23 Dec 2024   Prob (F-statistic):            0.00152\n",
            "Time:                        19:54:35   Log-Likelihood:                -14.155\n",
            "No. Observations:                   8   AIC:                             36.31\n",
            "Df Residuals:                       4   BIC:                             36.63\n",
            "Df Model:                           3                                         \n",
            "Covariance Type:            nonrobust                                         \n",
            "================================================================================\n",
            "                   coef    std err          t      P>|t|      [0.025      0.975]\n",
            "--------------------------------------------------------------------------------\n",
            "Intercept       30.8750      0.710     43.494      0.000      28.904      32.846\n",
            "Harina          10.7500      1.004     10.708      0.000       7.963      13.537\n",
            "Leche            4.2500      1.004      4.233      0.013       1.463       7.037\n",
            "Harina:Leche     1.7500      1.004      1.743      0.156      -1.037       4.537\n",
            "==============================================================================\n",
            "Omnibus:                        4.655   Durbin-Watson:                   0.841\n",
            "Prob(Omnibus):                  0.098   Jarque-Bera (JB):                1.080\n",
            "Skew:                          -0.180   Prob(JB):                        0.583\n",
            "Kurtosis:                       1.237   Cond. No.                         1.41\n",
            "==============================================================================\n",
            "\n",
            "Notes:\n",
            "[1] Standard Errors assume that the covariance matrix of the errors is correctly specified.\n"
          ]
        },
        {
          "output_type": "stream",
          "name": "stderr",
          "text": [
            "/usr/local/lib/python3.10/dist-packages/scipy/stats/_axis_nan_policy.py:531: UserWarning: kurtosistest only valid for n>=20 ... continuing anyway, n=8\n",
            "  res = hypotest_fun_out(*samples, **kwds)\n"
          ]
        }
      ],
      "source": [
        "#Observamos los resultados\n",
        "print(modelo_ajustado.summary())"
      ]
    },
    {
      "cell_type": "markdown",
      "source": [
        "Con base en los resultados obtenidos, es posible realizar un análisis de significancia estadística observando los valores de **P>|t|**. Los parámetros **Intercepto**, **Harina** y **Leche** se consideran estadísticamente significativos, ya que sus valores de p son menores a 0.05 (o 5%), lo que indica que su efecto es relevante en el modelo. En particular, el valor de p para el **Intercepto** es 0.000, para **Harina** es 0.000 y para **Leche** es 0.013, todos ellos por debajo del umbral de 0.05. En cambio, el término de interacción **Harina:Leche** no es significativo, ya que su valor de p es 0.156, lo cual es mayor a 0.05, lo que sugiere que su impacto en el modelo no es estadísticamente relevante."
      ],
      "metadata": {
        "id": "wQz7GtpWdX2r"
      }
    },
    {
      "cell_type": "markdown",
      "metadata": {
        "id": "6ALO1thMoNef"
      },
      "source": [
        "\n",
        "# <font color = 'purple'> Prueba de significación estadística usando <b>t<b>    </font>\n",
        "\n",
        "\n",
        "<p style='margin: 30px 30px;'>\n",
        "    \n",
        "<hr style = 'border: 1px solid purple;'>\n",
        "\n",
        "\n",
        "\n"
      ]
    },
    {
      "cell_type": "code",
      "execution_count": 35,
      "metadata": {
        "id": "dhxxq0D0oNef"
      },
      "outputs": [],
      "source": [
        "# Extraemos los valores de los parámetros del módelo\n",
        "t_valores = modelo_ajustado.tvalues"
      ]
    },
    {
      "cell_type": "code",
      "execution_count": 36,
      "metadata": {
        "id": "QtXnuYCMoNef",
        "colab": {
          "base_uri": "https://localhost:8080/",
          "height": 210
        },
        "outputId": "0df7b023-4286-4b26-e396-fab7d7ec3934"
      },
      "outputs": [
        {
          "output_type": "execute_result",
          "data": {
            "text/plain": [
              "Intercept       43.494275\n",
              "Harina          10.708252\n",
              "Leche            4.233495\n",
              "Harina:Leche     1.743204\n",
              "dtype: float64"
            ],
            "text/html": [
              "<div>\n",
              "<style scoped>\n",
              "    .dataframe tbody tr th:only-of-type {\n",
              "        vertical-align: middle;\n",
              "    }\n",
              "\n",
              "    .dataframe tbody tr th {\n",
              "        vertical-align: top;\n",
              "    }\n",
              "\n",
              "    .dataframe thead th {\n",
              "        text-align: right;\n",
              "    }\n",
              "</style>\n",
              "<table border=\"1\" class=\"dataframe\">\n",
              "  <thead>\n",
              "    <tr style=\"text-align: right;\">\n",
              "      <th></th>\n",
              "      <th>0</th>\n",
              "    </tr>\n",
              "  </thead>\n",
              "  <tbody>\n",
              "    <tr>\n",
              "      <th>Intercept</th>\n",
              "      <td>43.494275</td>\n",
              "    </tr>\n",
              "    <tr>\n",
              "      <th>Harina</th>\n",
              "      <td>10.708252</td>\n",
              "    </tr>\n",
              "    <tr>\n",
              "      <th>Leche</th>\n",
              "      <td>4.233495</td>\n",
              "    </tr>\n",
              "    <tr>\n",
              "      <th>Harina:Leche</th>\n",
              "      <td>1.743204</td>\n",
              "    </tr>\n",
              "  </tbody>\n",
              "</table>\n",
              "</div><br><label><b>dtype:</b> float64</label>"
            ]
          },
          "metadata": {},
          "execution_count": 36
        }
      ],
      "source": [
        "t_valores"
      ]
    },
    {
      "cell_type": "code",
      "execution_count": 37,
      "metadata": {
        "id": "cGQJz2smoNef"
      },
      "outputs": [],
      "source": [
        "# Extraemos los nombres de los parámetros del módelo y los guardamos en una lista con la función tolist()\n",
        "nombre = t_valores.index.tolist()"
      ]
    },
    {
      "cell_type": "code",
      "execution_count": 38,
      "metadata": {
        "id": "Fm-Hzl5GoNef",
        "colab": {
          "base_uri": "https://localhost:8080/"
        },
        "outputId": "ecaa20c0-5d6b-49ca-ae02-413ceeb3cd2e"
      },
      "outputs": [
        {
          "output_type": "execute_result",
          "data": {
            "text/plain": [
              "['Intercept', 'Harina', 'Leche', 'Harina:Leche']"
            ]
          },
          "metadata": {},
          "execution_count": 38
        }
      ],
      "source": [
        "nombre"
      ]
    },
    {
      "cell_type": "markdown",
      "metadata": {
        "id": "yqZVOCqJoNef"
      },
      "source": [
        "### ."
      ]
    },
    {
      "cell_type": "code",
      "execution_count": 39,
      "metadata": {
        "id": "efIaxe8aoNef"
      },
      "outputs": [],
      "source": [
        "#Generamos el t tabulado\n",
        "from scipy import stats"
      ]
    },
    {
      "cell_type": "code",
      "source": [
        "distribucion = stats.t(df = 4) # Los Grados de liberta residual son 4 por eso: 'df = 4'"
      ],
      "metadata": {
        "id": "M_3MT8Zhl6p_"
      },
      "execution_count": 40,
      "outputs": []
    },
    {
      "cell_type": "code",
      "source": [
        "distribucion.ppf(q =1-0.025 ) #100% - 2.5%, Este es el valor del t Tabulado"
      ],
      "metadata": {
        "colab": {
          "base_uri": "https://localhost:8080/"
        },
        "id": "LXxX6YRQmR1i",
        "outputId": "cacbee8a-d9cd-4370-acab-7df186052641"
      },
      "execution_count": 41,
      "outputs": [
        {
          "output_type": "execute_result",
          "data": {
            "text/plain": [
              "2.7764451051977987"
            ]
          },
          "metadata": {},
          "execution_count": 41
        }
      ]
    },
    {
      "cell_type": "code",
      "source": [
        "#Graficamos t Tabulado\n",
        "limite = [distribucion.ppf(q =1-0.025 )]* len(nombre)"
      ],
      "metadata": {
        "id": "CPMTSQ0pmqJ0"
      },
      "execution_count": 42,
      "outputs": []
    },
    {
      "cell_type": "code",
      "source": [
        "limite"
      ],
      "metadata": {
        "colab": {
          "base_uri": "https://localhost:8080/"
        },
        "id": "6CClb16qm99H",
        "outputId": "392d5cdb-0ac6-4b1a-d3e6-88e5e4d020ba"
      },
      "execution_count": 43,
      "outputs": [
        {
          "output_type": "execute_result",
          "data": {
            "text/plain": [
              "[2.7764451051977987,\n",
              " 2.7764451051977987,\n",
              " 2.7764451051977987,\n",
              " 2.7764451051977987]"
            ]
          },
          "metadata": {},
          "execution_count": 43
        }
      ]
    },
    {
      "cell_type": "markdown",
      "metadata": {
        "id": "AMS_nRnZoNef"
      },
      "source": [
        "### .\n"
      ]
    },
    {
      "cell_type": "code",
      "execution_count": 44,
      "metadata": {
        "id": "g6CInlr1oNef",
        "colab": {
          "base_uri": "https://localhost:8080/",
          "height": 588
        },
        "outputId": "5728d077-1bd3-45ce-cdaf-d0255643d93f"
      },
      "outputs": [
        {
          "output_type": "execute_result",
          "data": {
            "text/plain": [
              "Text(0.5, 0, 't_valores')"
            ]
          },
          "metadata": {},
          "execution_count": 44
        },
        {
          "output_type": "display_data",
          "data": {
            "text/plain": [
              "<Figure size 1500x600 with 1 Axes>"
            ],
            "image/png": "[encoded data removed]"
          },
          "metadata": {}
        }
      ],
      "source": [
        "#Gráficar el T Calculado para cada uno de los parámetros\n",
        "pareto = sns.barplot(x= t_valores, y= nombre)\n",
        "pareto.figure.set_size_inches(15, 6)\n",
        "pareto.tick_params(labelsize=20)\n",
        "pareto.set_xlabel('t_valores', fontsize=20)"
      ]
    },
    {
      "cell_type": "markdown",
      "source": [
        "El t Calculado de los parámetros esta en barras y el t Tabulado se representa por la línea vertical roja.\n",
        "Se observa que para los parámetros Intercepto, Harina, Leche el t Calculado es Mayor que el t Tabulado. Esto significa que las variables son significativas\n",
        "Mientras que para el parámetro Harina:Leche Leche el t Calculado es Menor que el t Tabulado. Estos significa que esta variable no es significativa en la explicación del modelo, por lo que es recomendable eliminar esta variable."
      ],
      "metadata": {
        "id": "4oZknkWLnXSV"
      }
    },
    {
      "cell_type": "markdown",
      "source": [
        "Aprendimos:\n",
        "\n",
        "- El significado de los grados de libertad;\n",
        "- Calcular los grados de libertad de los residuos;\n",
        "- Realizar el análisis de significación estadística de los parámetros del modelo;\n",
        "- Construir e interpretar un diagrama de Pareto normalizado."
      ],
      "metadata": {
        "id": "_AMwJpwZoNeg"
      }
    },
    {
      "cell_type": "markdown",
      "source": [
        "# ACTUALIZANDO LOS ANÁLISIS"
      ],
      "metadata": {
        "id": "P4rzukjIowMf"
      }
    },
    {
      "cell_type": "markdown",
      "metadata": {
        "id": "7s8hToKkoNeg"
      },
      "source": [
        "### Plotando el gráfico"
      ]
    },
    {
      "cell_type": "code",
      "execution_count": 45,
      "metadata": {
        "id": "7FBthL0aoNeg",
        "colab": {
          "base_uri": "https://localhost:8080/",
          "height": 588
        },
        "outputId": "32b06865-73c6-42bf-b3b6-3bbea79377a5"
      },
      "outputs": [
        {
          "output_type": "execute_result",
          "data": {
            "text/plain": [
              "[<matplotlib.lines.Line2D at 0x7f9ff89e6a40>]"
            ]
          },
          "metadata": {},
          "execution_count": 45
        },
        {
          "output_type": "display_data",
          "data": {
            "text/plain": [
              "<Figure size 1500x600 with 1 Axes>"
            ],
            "image/png": "[encoded data removed]"
          },
          "metadata": {}
        }
      ],
      "source": [
        "#Gráficar el T Calculado  y t Tabulado\n",
        "pareto = sns.barplot(x= t_valores, y= nombre)\n",
        "pareto.figure.set_size_inches(15, 6)\n",
        "pareto.tick_params(labelsize=20)\n",
        "pareto.set_xlabel('t_valores', fontsize=20)\n",
        "pareto.plot(limite, nombre, color = 'red')"
      ]
    },
    {
      "cell_type": "markdown",
      "metadata": {
        "id": "FVJtdCNAoNeg"
      },
      "source": [
        "# <font color = 'purple'> Proponiendo un nuevo modelo   </font>\n",
        "\n",
        "\n",
        "<p style='margin: 30px 30px;'>\n",
        "    \n",
        "<hr style = 'border: 1px solid purple;'>\n"
      ]
    },
    {
      "cell_type": "code",
      "execution_count": 47,
      "metadata": {
        "id": "RzE1VPIUoNeg"
      },
      "outputs": [],
      "source": [
        "# Generamos el Modelo Estadístico\n",
        "modelo_2 = smf.ols(data= experiemento, formula= 'Cantidades ~ Harina + Leche')"
      ]
    },
    {
      "cell_type": "code",
      "execution_count": 50,
      "metadata": {
        "id": "LZk3J0tCoNeg"
      },
      "outputs": [],
      "source": [
        "#Generamos los coeficientes\n",
        "modelo_2_ajustado = modelo_2.fit()"
      ]
    },
    {
      "cell_type": "code",
      "execution_count": 57,
      "metadata": {
        "id": "4BBhZfcaoNeg",
        "colab": {
          "base_uri": "https://localhost:8080/"
        },
        "outputId": "fe3a3aaf-ee2c-4c46-e299-003814b84ccb"
      },
      "outputs": [
        {
          "output_type": "stream",
          "name": "stdout",
          "text": [
            "                            OLS Regression Results                            \n",
            "==============================================================================\n",
            "Dep. Variable:             Cantidades   R-squared:                       0.950\n",
            "Model:                            OLS   Adj. R-squared:                  0.929\n",
            "Method:                 Least Squares   F-statistic:                     47.09\n",
            "Date:                Mon, 23 Dec 2024   Prob (F-statistic):           0.000571\n",
            "Time:                        20:05:26   Log-Likelihood:                -16.416\n",
            "No. Observations:                   8   AIC:                             38.83\n",
            "Df Residuals:                       5   BIC:                             39.07\n",
            "Df Model:                           2                                         \n",
            "Covariance Type:            nonrobust                                         \n",
            "==============================================================================\n",
            "                 coef    std err          t      P>|t|      [0.025      0.975]\n",
            "------------------------------------------------------------------------------\n",
            "Intercept     30.8750      0.842     36.658      0.000      28.710      33.040\n",
            "Harina        10.7500      1.191      9.025      0.000       7.688      13.812\n",
            "Leche          4.2500      1.191      3.568      0.016       1.188       7.312\n",
            "==============================================================================\n",
            "Omnibus:                        2.106   Durbin-Watson:                   1.850\n",
            "Prob(Omnibus):                  0.349   Jarque-Bera (JB):                1.245\n",
            "Skew:                           0.868   Prob(JB):                        0.537\n",
            "Kurtosis:                       2.153   Cond. No.                         1.41\n",
            "==============================================================================\n",
            "\n",
            "Notes:\n",
            "[1] Standard Errors assume that the covariance matrix of the errors is correctly specified.\n"
          ]
        },
        {
          "output_type": "stream",
          "name": "stderr",
          "text": [
            "/usr/local/lib/python3.10/dist-packages/scipy/stats/_axis_nan_policy.py:531: UserWarning: kurtosistest only valid for n>=20 ... continuing anyway, n=8\n",
            "  res = hypotest_fun_out(*samples, **kwds)\n"
          ]
        }
      ],
      "source": [
        "#Mostramos los resultados\n",
        "print(modelo_2_ajustado.summary())"
      ]
    },
    {
      "cell_type": "markdown",
      "source": [
        "Ahora contamos con 5 grados de libertad tras eliminar la interacción entre la Harina y la Leche. Además, el modelo  las variables Intercepto, Harina y Leche como resultan ser Estadisticamente significativas dado que su p valor < 5%. incluso para la variable leche cuyo p valor es del 1.6%. En conclusión es posible utilizar este modelo estadístico para generar predicciones."
      ],
      "metadata": {
        "id": "_LYozmJyGNRT"
      }
    },
    {
      "cell_type": "markdown",
      "metadata": {
        "id": "PXysjHS1oNeg"
      },
      "source": [
        "<hr>"
      ]
    },
    {
      "cell_type": "markdown",
      "metadata": {
        "id": "kQZn1PmooNeg"
      },
      "source": [
        "# <font color = 'purple'> Diagrama de Pareto estandarizado del nuevo modelo    </font>\n",
        "\n",
        "\n",
        "<p style='margin: 30px 30px;'>\n",
        "    \n",
        "<hr style = 'border: 1px solid purple;'>\n"
      ]
    },
    {
      "cell_type": "code",
      "execution_count": 54,
      "metadata": {
        "id": "7IYScpeGoNeh"
      },
      "outputs": [],
      "source": [
        "#Extraemos los valores de  t Calculado del modelo 2\n",
        "t_valores_2 = modelo_2_ajustado.tvalues"
      ]
    },
    {
      "cell_type": "code",
      "execution_count": 58,
      "metadata": {
        "id": "h7PtJfFZoNeh",
        "colab": {
          "base_uri": "https://localhost:8080/",
          "height": 178
        },
        "outputId": "46722392-83b0-4869-8ae8-d7e40d028fb2"
      },
      "outputs": [
        {
          "output_type": "execute_result",
          "data": {
            "text/plain": [
              "Intercept    36.658022\n",
              "Harina        9.025173\n",
              "Leche         3.568092\n",
              "dtype: float64"
            ],
            "text/html": [
              "<div>\n",
              "<style scoped>\n",
              "    .dataframe tbody tr th:only-of-type {\n",
              "        vertical-align: middle;\n",
              "    }\n",
              "\n",
              "    .dataframe tbody tr th {\n",
              "        vertical-align: top;\n",
              "    }\n",
              "\n",
              "    .dataframe thead th {\n",
              "        text-align: right;\n",
              "    }\n",
              "</style>\n",
              "<table border=\"1\" class=\"dataframe\">\n",
              "  <thead>\n",
              "    <tr style=\"text-align: right;\">\n",
              "      <th></th>\n",
              "      <th>0</th>\n",
              "    </tr>\n",
              "  </thead>\n",
              "  <tbody>\n",
              "    <tr>\n",
              "      <th>Intercept</th>\n",
              "      <td>36.658022</td>\n",
              "    </tr>\n",
              "    <tr>\n",
              "      <th>Harina</th>\n",
              "      <td>9.025173</td>\n",
              "    </tr>\n",
              "    <tr>\n",
              "      <th>Leche</th>\n",
              "      <td>3.568092</td>\n",
              "    </tr>\n",
              "  </tbody>\n",
              "</table>\n",
              "</div><br><label><b>dtype:</b> float64</label>"
            ]
          },
          "metadata": {},
          "execution_count": 58
        }
      ],
      "source": [
        "t_valores_2"
      ]
    },
    {
      "cell_type": "code",
      "execution_count": 59,
      "metadata": {
        "id": "dOtGVDotoNeh"
      },
      "outputs": [],
      "source": [
        "nombre_2 = t_valores_2.index.tolist()"
      ]
    },
    {
      "cell_type": "code",
      "execution_count": 60,
      "metadata": {
        "id": "J6pmYBR4oNeh",
        "colab": {
          "base_uri": "https://localhost:8080/"
        },
        "outputId": "4e9e6454-6ab3-4479-c4fd-cc96d8c0e9ea"
      },
      "outputs": [
        {
          "output_type": "execute_result",
          "data": {
            "text/plain": [
              "['Intercept', 'Harina', 'Leche']"
            ]
          },
          "metadata": {},
          "execution_count": 60
        }
      ],
      "source": [
        "nombre_2 # 'nombre_2' Ahora contiene 3 parámetros"
      ]
    },
    {
      "cell_type": "markdown",
      "metadata": {
        "id": "C6bzwMcXoNeh"
      },
      "source": [
        "### ."
      ]
    },
    {
      "cell_type": "code",
      "execution_count": 61,
      "metadata": {
        "id": "JfoTQqL_oNeh"
      },
      "outputs": [],
      "source": [
        "distribucion_2 = stats.t(df = 5) # Los Grados de liberta residual son 5 por eso: 'df = 5'"
      ]
    },
    {
      "cell_type": "code",
      "execution_count": 62,
      "metadata": {
        "id": "xkS6GTgXoNeh",
        "colab": {
          "base_uri": "https://localhost:8080/"
        },
        "outputId": "22b61f4e-68a7-4420-83bd-e1f9e522bd96"
      },
      "outputs": [
        {
          "output_type": "execute_result",
          "data": {
            "text/plain": [
              "2.570581835636314"
            ]
          },
          "metadata": {},
          "execution_count": 62
        }
      ],
      "source": [
        "distribucion_2.ppf(q =1-0.025 ) #100% - 2.5%, Este es el valor del t Tabulado"
      ]
    },
    {
      "cell_type": "code",
      "execution_count": 64,
      "metadata": {
        "id": "SSQj58-XoNeh",
        "colab": {
          "base_uri": "https://localhost:8080/"
        },
        "outputId": "866f6e6f-349a-42ff-ae77-701598925509"
      },
      "outputs": [
        {
          "output_type": "execute_result",
          "data": {
            "text/plain": [
              "[2.570581835636314, 2.570581835636314, 2.570581835636314]"
            ]
          },
          "metadata": {},
          "execution_count": 64
        }
      ],
      "source": [
        "limite_2 = [distribucion_2.ppf(q =1-0.025 )]* len(nombre_2)\n",
        "limite_2"
      ]
    },
    {
      "cell_type": "markdown",
      "metadata": {
        "id": "bJLL3__roNeh"
      },
      "source": [
        "### Plotando el gráfico"
      ]
    },
    {
      "cell_type": "code",
      "execution_count": 66,
      "metadata": {
        "id": "eXPVai6joNeh",
        "colab": {
          "base_uri": "https://localhost:8080/",
          "height": 588
        },
        "outputId": "0ec3b70e-b2e1-4ad1-980f-349933d80f4c"
      },
      "outputs": [
        {
          "output_type": "execute_result",
          "data": {
            "text/plain": [
              "[<matplotlib.lines.Line2D at 0x7f9ff8ecfee0>]"
            ]
          },
          "metadata": {},
          "execution_count": 66
        },
        {
          "output_type": "display_data",
          "data": {
            "text/plain": [
              "<Figure size 1500x600 with 1 Axes>"
            ],
            "image/png": "[encoded data removed]"
          },
          "metadata": {}
        }
      ],
      "source": [
        "#Gráficar el T Calculado  y t Tabulado\n",
        "pareto = sns.barplot(x= t_valores_2, y= nombre_2)\n",
        "pareto.figure.set_size_inches(15, 6)\n",
        "pareto.tick_params(labelsize=20)\n",
        "pareto.set_xlabel('t_valores', fontsize=20)\n",
        "pareto.plot(limite_2, nombre_2, color = 'red')"
      ]
    },
    {
      "cell_type": "markdown",
      "metadata": {
        "id": "jI_urR4loNeh"
      },
      "source": [
        "<font color='red' style='font-size: 30px;'> Predichos por observados  </font>\n",
        "<hr style='border: 2px solid red;'>"
      ]
    },
    {
      "cell_type": "markdown",
      "source": [
        "Graficamente es posible observar que el t calculado es mayor que el t tabulado ya que las variables Intercepto, Harina y Leche sobrepasan la línea vertical de color rojo que representa al t tabulado. por tanto, se concluye que estis parámetros son estadísticamente significativos al 5%"
      ],
      "metadata": {
        "id": "Wv8TjwgXJ63o"
      }
    },
    {
      "cell_type": "code",
      "execution_count": 67,
      "metadata": {
        "id": "NbimX1-coNeh"
      },
      "outputs": [],
      "source": [
        "#Probamos el modelo\n",
        "observados = experiemento['Cantidades']"
      ]
    },
    {
      "cell_type": "code",
      "execution_count": 69,
      "metadata": {
        "id": "JifkOF0GoNeh",
        "colab": {
          "base_uri": "https://localhost:8080/",
          "height": 335
        },
        "outputId": "a61aecb2-82f4-48aa-ed39-76ab9e51f24e"
      },
      "outputs": [
        {
          "output_type": "execute_result",
          "data": {
            "text/plain": [
              "0    19\n",
              "1    37\n",
              "2    24\n",
              "3    49\n",
              "4    29\n",
              "5    30\n",
              "6    29\n",
              "7    30\n",
              "Name: Cantidades, dtype: int64"
            ],
            "text/html": [
              "<div>\n",
              "<style scoped>\n",
              "    .dataframe tbody tr th:only-of-type {\n",
              "        vertical-align: middle;\n",
              "    }\n",
              "\n",
              "    .dataframe tbody tr th {\n",
              "        vertical-align: top;\n",
              "    }\n",
              "\n",
              "    .dataframe thead th {\n",
              "        text-align: right;\n",
              "    }\n",
              "</style>\n",
              "<table border=\"1\" class=\"dataframe\">\n",
              "  <thead>\n",
              "    <tr style=\"text-align: right;\">\n",
              "      <th></th>\n",
              "      <th>Cantidades</th>\n",
              "    </tr>\n",
              "  </thead>\n",
              "  <tbody>\n",
              "    <tr>\n",
              "      <th>0</th>\n",
              "      <td>19</td>\n",
              "    </tr>\n",
              "    <tr>\n",
              "      <th>1</th>\n",
              "      <td>37</td>\n",
              "    </tr>\n",
              "    <tr>\n",
              "      <th>2</th>\n",
              "      <td>24</td>\n",
              "    </tr>\n",
              "    <tr>\n",
              "      <th>3</th>\n",
              "      <td>49</td>\n",
              "    </tr>\n",
              "    <tr>\n",
              "      <th>4</th>\n",
              "      <td>29</td>\n",
              "    </tr>\n",
              "    <tr>\n",
              "      <th>5</th>\n",
              "      <td>30</td>\n",
              "    </tr>\n",
              "    <tr>\n",
              "      <th>6</th>\n",
              "      <td>29</td>\n",
              "    </tr>\n",
              "    <tr>\n",
              "      <th>7</th>\n",
              "      <td>30</td>\n",
              "    </tr>\n",
              "  </tbody>\n",
              "</table>\n",
              "</div><br><label><b>dtype:</b> int64</label>"
            ]
          },
          "metadata": {},
          "execution_count": 69
        }
      ],
      "source": [
        "#Cantidad de cupcakes que se obtuvieron en cada experimento\n",
        "observados"
      ]
    },
    {
      "cell_type": "markdown",
      "metadata": {
        "id": "al-FU1rvoNei"
      },
      "source": [
        "### ."
      ]
    },
    {
      "cell_type": "code",
      "execution_count": 71,
      "metadata": {
        "id": "hRlzgsRZoNei"
      },
      "outputs": [],
      "source": [
        "#Generamos las predicciones del modelo con la función predict()\n",
        "predichos = modelo_2_ajustado.predict()"
      ]
    },
    {
      "cell_type": "code",
      "execution_count": 73,
      "metadata": {
        "id": "aVFmKff-oNei",
        "colab": {
          "base_uri": "https://localhost:8080/"
        },
        "outputId": "fc52d2d1-81dc-43d1-cac1-f68a64958739"
      },
      "outputs": [
        {
          "output_type": "execute_result",
          "data": {
            "text/plain": [
              "array([15.875, 37.375, 24.375, 45.875, 30.875, 30.875, 30.875, 30.875])"
            ]
          },
          "metadata": {},
          "execution_count": 73
        }
      ],
      "source": [
        "predichos # Cantidad de cupcakes que el modelo piensa que vamos a obtener con nuestros datos"
      ]
    },
    {
      "cell_type": "markdown",
      "metadata": {
        "id": "EFLRZ69noNei"
      },
      "source": [
        "### ."
      ]
    },
    {
      "cell_type": "code",
      "execution_count": 74,
      "metadata": {
        "id": "9IvMOweEoNei"
      },
      "outputs": [],
      "source": [
        "import matplotlib.pyplot as plt"
      ]
    },
    {
      "cell_type": "code",
      "execution_count": 77,
      "metadata": {
        "id": "ykYwfe-IoNei",
        "colab": {
          "base_uri": "https://localhost:8080/",
          "height": 488
        },
        "outputId": "3ab104f8-c981-42dd-e542-c25d85d05a4c"
      },
      "outputs": [
        {
          "output_type": "execute_result",
          "data": {
            "text/plain": [
              "[<matplotlib.lines.Line2D at 0x7f9ffe8cbb20>]"
            ]
          },
          "metadata": {},
          "execution_count": 77
        },
        {
          "output_type": "display_data",
          "data": {
            "text/plain": [
              "<Figure size 1000x500 with 1 Axes>"
            ],
            "image/png": "[encoded data removed]"
          },
          "metadata": {}
        }
      ],
      "source": [
        "#Graficamos\n",
        "plt.figure(figsize=(10, 5))\n",
        "plt.xlabel('predichos', fontsize=16)\n",
        "plt.ylabel('observados', fontsize=16)\n",
        "plt.scatter(observados, predichos)# Comparamos las dos variables\n",
        "\n",
        "#Trazamos una línea guía entre los puntos 15 y 50 en el eje X y Y\n",
        "x= np.linspace(start=15, stop= 50, num=10)\n",
        "y= np.linspace(start=15, stop= 50, num=10)\n",
        "plt.plot(x, y,'r')"
      ]
    },
    {
      "cell_type": "markdown",
      "source": [
        "Dado que los puntos en azul estan cerca a la línea recta, significa que el modelo esta funcionando muy bien"
      ],
      "metadata": {
        "id": "vxU6eS5WOevc"
      }
    },
    {
      "cell_type": "markdown",
      "metadata": {
        "id": "bWqUoIT7oNei"
      },
      "source": [
        "<hr>"
      ]
    },
    {
      "cell_type": "code",
      "execution_count": 78,
      "metadata": {
        "id": "6wQHveJioNei",
        "colab": {
          "base_uri": "https://localhost:8080/"
        },
        "outputId": "a44a83d6-c529-41de-c1ce-006dc3a68931"
      },
      "outputs": [
        {
          "output_type": "stream",
          "name": "stdout",
          "text": [
            "                            OLS Regression Results                            \n",
            "==============================================================================\n",
            "Dep. Variable:             Cantidades   R-squared:                       0.950\n",
            "Model:                            OLS   Adj. R-squared:                  0.929\n",
            "Method:                 Least Squares   F-statistic:                     47.09\n",
            "Date:                Mon, 23 Dec 2024   Prob (F-statistic):           0.000571\n",
            "Time:                        20:35:57   Log-Likelihood:                -16.416\n",
            "No. Observations:                   8   AIC:                             38.83\n",
            "Df Residuals:                       5   BIC:                             39.07\n",
            "Df Model:                           2                                         \n",
            "Covariance Type:            nonrobust                                         \n",
            "==============================================================================\n",
            "                 coef    std err          t      P>|t|      [0.025      0.975]\n",
            "------------------------------------------------------------------------------\n",
            "Intercept     30.8750      0.842     36.658      0.000      28.710      33.040\n",
            "Harina        10.7500      1.191      9.025      0.000       7.688      13.812\n",
            "Leche          4.2500      1.191      3.568      0.016       1.188       7.312\n",
            "==============================================================================\n",
            "Omnibus:                        2.106   Durbin-Watson:                   1.850\n",
            "Prob(Omnibus):                  0.349   Jarque-Bera (JB):                1.245\n",
            "Skew:                           0.868   Prob(JB):                        0.537\n",
            "Kurtosis:                       2.153   Cond. No.                         1.41\n",
            "==============================================================================\n",
            "\n",
            "Notes:\n",
            "[1] Standard Errors assume that the covariance matrix of the errors is correctly specified.\n"
          ]
        },
        {
          "output_type": "stream",
          "name": "stderr",
          "text": [
            "/usr/local/lib/python3.10/dist-packages/scipy/stats/_axis_nan_policy.py:531: UserWarning: kurtosistest only valid for n>=20 ... continuing anyway, n=8\n",
            "  res = hypotest_fun_out(*samples, **kwds)\n"
          ]
        }
      ],
      "source": [
        "print(modelo_2_ajustado.summary())"
      ]
    },
    {
      "cell_type": "markdown",
      "source": [
        "El coeficiente de determinación R-squared indica que el módelo tiene una capacidad de ajuste del 95%\n",
        "\n",
        "\n",
        "Aprendimos a:\n",
        "\n",
        "- Actualizar las hipótesis iniciales a medida que se recopila nueva información;\n",
        "- Proponer nuevos modelos para representar mejor la realidad de un experimento;\n",
        "- Analizar un gráfico de predicho por observado para inferir la calidad de representatividad de un modelo;\n",
        "- Relacionar el coeficiente de correlación R2 con la calidad del ajuste y con los resultados presentados por un gráfico de predicho por observado."
      ],
      "metadata": {
        "id": "9Q9qBRWMPBt7"
      }
    },
    {
      "cell_type": "markdown",
      "metadata": {
        "id": "I_8MExa4oNei"
      },
      "source": [
        "\n",
        "\n",
        "```\n",
        "# Tiene formato de código\n",
        "\n",
        "```\n",
        "\n",
        "### .\n",
        "#USANDO EL MODELO"
      ]
    },
    {
      "cell_type": "markdown",
      "metadata": {
        "id": "pDugfwq0oNei"
      },
      "source": [
        "# <font color = 'purple'> Explorando el modelo   </font>\n",
        "\n",
        "\n",
        "<p style='margin: 30px 30px;'>\n",
        "    \n",
        "<hr style = 'border: 1px solid purple;'>"
      ]
    },
    {
      "cell_type": "code",
      "execution_count": 79,
      "metadata": {
        "id": "RQrQ4XzQoNei"
      },
      "outputs": [],
      "source": [
        "parametros = modelo_2_ajustado.params"
      ]
    },
    {
      "cell_type": "code",
      "execution_count": 80,
      "metadata": {
        "id": "ovOHLoKpoNei",
        "colab": {
          "base_uri": "https://localhost:8080/",
          "height": 178
        },
        "outputId": "97e55a51-48f4-477c-ab1e-a1840cba4215"
      },
      "outputs": [
        {
          "output_type": "execute_result",
          "data": {
            "text/plain": [
              "Intercept    30.875\n",
              "Harina       10.750\n",
              "Leche         4.250\n",
              "dtype: float64"
            ],
            "text/html": [
              "<div>\n",
              "<style scoped>\n",
              "    .dataframe tbody tr th:only-of-type {\n",
              "        vertical-align: middle;\n",
              "    }\n",
              "\n",
              "    .dataframe tbody tr th {\n",
              "        vertical-align: top;\n",
              "    }\n",
              "\n",
              "    .dataframe thead th {\n",
              "        text-align: right;\n",
              "    }\n",
              "</style>\n",
              "<table border=\"1\" class=\"dataframe\">\n",
              "  <thead>\n",
              "    <tr style=\"text-align: right;\">\n",
              "      <th></th>\n",
              "      <th>0</th>\n",
              "    </tr>\n",
              "  </thead>\n",
              "  <tbody>\n",
              "    <tr>\n",
              "      <th>Intercept</th>\n",
              "      <td>30.875</td>\n",
              "    </tr>\n",
              "    <tr>\n",
              "      <th>Harina</th>\n",
              "      <td>10.750</td>\n",
              "    </tr>\n",
              "    <tr>\n",
              "      <th>Leche</th>\n",
              "      <td>4.250</td>\n",
              "    </tr>\n",
              "  </tbody>\n",
              "</table>\n",
              "</div><br><label><b>dtype:</b> float64</label>"
            ]
          },
          "metadata": {},
          "execution_count": 80
        }
      ],
      "source": [
        "parametros"
      ]
    },
    {
      "cell_type": "markdown",
      "metadata": {
        "id": "mgQr8KbioNei"
      },
      "source": [
        "### ."
      ]
    },
    {
      "cell_type": "markdown",
      "metadata": {
        "id": "-y1UhPuQoNei"
      },
      "source": [
        "### Definiendo la función"
      ]
    },
    {
      "cell_type": "code",
      "execution_count": 81,
      "metadata": {
        "id": "NuVT2n0aoNej"
      },
      "outputs": [],
      "source": [
        "def modelo_receta(x_h, x_l):\n",
        "# Generamos los límites\n",
        "    limite_normalizado =[-1, 1]\n",
        "    limite_harina =[0.5, 1.5]\n",
        "    limite_leche =[0.2, 0.7]\n",
        "\n",
        "# Convertir e interpolar los datos de la harina y la leche\n",
        "    x_h_convertido = np.interp(x_h, limite_harina, limite_normalizado)\n",
        "    x_l_convertido = np.interp(x_l, limite_leche, limite_normalizado)\n",
        "\n",
        "    cantidades = parametros['Intercept'] + parametros['Harina']*x_h_convertido + parametros['Leche']*x_l_convertido\n",
        "    return round(cantidades)"
      ]
    },
    {
      "cell_type": "code",
      "execution_count": 83,
      "metadata": {
        "id": "kBqepZoVoNej",
        "colab": {
          "base_uri": "https://localhost:8080/"
        },
        "outputId": "cf4f5635-6e08-4046-c02c-83386ab6f7d7"
      },
      "outputs": [
        {
          "output_type": "execute_result",
          "data": {
            "text/plain": [
              "16"
            ]
          },
          "metadata": {},
          "execution_count": 83
        }
      ],
      "source": [
        "#Probamos el mpodelo agregando valores númericos\n",
        "modelo_receta(0.5, 0.2)"
      ]
    },
    {
      "cell_type": "markdown",
      "source": [
        "16 es el valor que el modelo consigue reproducir con los parámetros de entrada (0.5, 0.2). Es decir 16 es la cantidad de cupcakes predichos. pero en realidad se obtuvieron 19. Con la línea anterior, ya se puede saber que cantidad se puede obtener de cupcakes."
      ],
      "metadata": {
        "id": "G_BOfdu0Tq9M"
      }
    },
    {
      "cell_type": "markdown",
      "metadata": {
        "id": "sH1iozKVoNej"
      },
      "source": [
        "\n",
        "<p style='margin: 150px 150px;'>\n",
        "\n",
        "\n",
        "<hr>\n",
        "\n",
        "<img width='700px' src='figuras/Figura_22.png'>\n",
        "\n",
        "\n",
        "<hr>"
      ]
    },
    {
      "cell_type": "markdown",
      "metadata": {
        "id": "3dDTo0pEoNej"
      },
      "source": [
        "# <font color = 'purple'> Mapa de colores   </font>\n",
        "\n",
        "\n",
        "<p style='margin: 30px 30px;'>\n",
        "    \n",
        "<hr style = 'border: 1px solid purple;'>"
      ]
    },
    {
      "cell_type": "code",
      "execution_count": 84,
      "metadata": {
        "id": "eGyJpxLioNej",
        "colab": {
          "base_uri": "https://localhost:8080/"
        },
        "outputId": "945511e2-3d21-4282-c38f-ad42cb0ad43d"
      },
      "outputs": [
        {
          "output_type": "execute_result",
          "data": {
            "text/plain": [
              "array([0.5       , 0.61111111, 0.72222222, 0.83333333, 0.94444444,\n",
              "       1.05555556, 1.16666667, 1.27777778, 1.38888889, 1.5       ])"
            ]
          },
          "metadata": {},
          "execution_count": 84
        }
      ],
      "source": [
        "x_harina = np.linspace(start=0.5, stop=1.5, num=10)\n",
        "x_harina"
      ]
    },
    {
      "cell_type": "code",
      "execution_count": 85,
      "metadata": {
        "id": "yCaHRUzxoNej",
        "colab": {
          "base_uri": "https://localhost:8080/"
        },
        "outputId": "4422d6fa-90da-47c7-8d5c-f3671b2da066"
      },
      "outputs": [
        {
          "output_type": "execute_result",
          "data": {
            "text/plain": [
              "array([0.2       , 0.25555556, 0.31111111, 0.36666667, 0.42222222,\n",
              "       0.47777778, 0.53333333, 0.58888889, 0.64444444, 0.7       ])"
            ]
          },
          "metadata": {},
          "execution_count": 85
        }
      ],
      "source": [
        "x_leche = np.linspace(start=0.2, stop=0.7, num=10)\n",
        "x_leche"
      ]
    },
    {
      "cell_type": "markdown",
      "metadata": {
        "id": "fFo83ya9oNej"
      },
      "source": [
        "### ."
      ]
    },
    {
      "cell_type": "code",
      "execution_count": 87,
      "metadata": {
        "id": "pjgupjWuoNej"
      },
      "outputs": [],
      "source": [
        "puntos = []\n",
        "for cont1 in x_harina:\n",
        "  temp= []\n",
        "  for cont2 in x_leche:\n",
        "    temp.append(modelo_receta(cont1, cont2))\n",
        "  puntos.append(temp)"
      ]
    },
    {
      "cell_type": "code",
      "execution_count": 88,
      "metadata": {
        "id": "O0n5Y-XIoNej",
        "colab": {
          "base_uri": "https://localhost:8080/"
        },
        "outputId": "606804c8-1425-4b96-b7be-223dcc617db1"
      },
      "outputs": [
        {
          "output_type": "execute_result",
          "data": {
            "text/plain": [
              "[[16, 17, 18, 19, 20, 21, 22, 22, 23, 24],\n",
              " [18, 19, 20, 21, 22, 23, 24, 25, 26, 27],\n",
              " [21, 22, 23, 23, 24, 25, 26, 27, 28, 29],\n",
              " [23, 24, 25, 26, 27, 28, 29, 30, 31, 32],\n",
              " [25, 26, 27, 28, 29, 30, 31, 32, 33, 34],\n",
              " [28, 29, 30, 31, 32, 33, 33, 34, 35, 36],\n",
              " [30, 31, 32, 33, 34, 35, 36, 37, 38, 39],\n",
              " [33, 34, 34, 35, 36, 37, 38, 39, 40, 41],\n",
              " [35, 36, 37, 38, 39, 40, 41, 42, 43, 43],\n",
              " [37, 38, 39, 40, 41, 42, 43, 44, 45, 46]]"
            ]
          },
          "metadata": {},
          "execution_count": 88
        }
      ],
      "source": [
        "# Los valores en la variable puntos son las cantidades de cupcakes\n",
        "puntos"
      ]
    },
    {
      "cell_type": "markdown",
      "metadata": {
        "id": "BzAT2eDroNej"
      },
      "source": [
        "### ."
      ]
    },
    {
      "cell_type": "markdown",
      "metadata": {
        "id": "VW-WaEt1oNej"
      },
      "source": [
        "### Construyendo la superficie de respuesta"
      ]
    },
    {
      "cell_type": "code",
      "execution_count": 90,
      "metadata": {
        "id": "4eabTc0moNej"
      },
      "outputs": [],
      "source": [
        "# Importamos matplotlib con el método cm\n",
        "import matplotlib.cm as cm"
      ]
    },
    {
      "cell_type": "markdown",
      "metadata": {
        "id": "tNJFrhOPoNej"
      },
      "source": [
        "https://matplotlib.org/users/colormaps.html"
      ]
    },
    {
      "cell_type": "code",
      "execution_count": 91,
      "metadata": {
        "id": "W9KEHMleoNek",
        "colab": {
          "base_uri": "https://localhost:8080/",
          "height": 553
        },
        "outputId": "2a0b4ede-82af-4b35-bbfd-5374e3a09bf3"
      },
      "outputs": [
        {
          "output_type": "display_data",
          "data": {
            "text/plain": [
              "<Figure size 1600x600 with 2 Axes>"
            ],
            "image/png": "[encoded data removed]"
          },
          "metadata": {}
        }
      ],
      "source": [
        "# Base\n",
        "plt.figure(figsize=(16, 6))\n",
        "plt.xlabel('Harina(kg)', fontsize = 16)\n",
        "plt.ylabel('Leche(ml)', fontsize = 16)\n",
        "\n",
        "# Mapa de Colores\n",
        "mapa_colores = plt.imshow(puntos, origin ='lower', cmap= cm.rainbow, interpolation='quadric', extent=(0.5, 1.5, 0.2, 0.7))\n",
        "\n",
        "#Barra de Colores\n",
        "plt.colorbar().set_label('Cantidades', fontsize = 16)"
      ]
    },
    {
      "cell_type": "markdown",
      "source": [
        "Cuanto más rojo mayor cantidad de cupcakes se puede producir"
      ],
      "metadata": {
        "id": "ECBgHmlxY3sE"
      }
    },
    {
      "cell_type": "markdown",
      "source": [
        "### Usando Isolineas"
      ],
      "metadata": {
        "id": "7bN4GJVroNek"
      }
    },
    {
      "cell_type": "code",
      "source": [
        "# Base\n",
        "plt.figure(figsize=(16, 6))\n",
        "plt.xlabel('Harina(kg)', fontsize = 16)\n",
        "plt.ylabel('Leche(ml)', fontsize = 16)\n",
        "\n",
        "# Mapa de Colores\n",
        "mapa_colores = plt.imshow(puntos, origin ='lower', cmap= cm.rainbow, interpolation='quadric', extent=(0.5, 1.5, 0.2, 0.7))\n",
        "\n",
        "# Barra de Colores\n",
        "plt.colorbar().set_label('Cantidades', fontsize = 16)\n",
        "\n",
        "# Isolineas\n",
        "lineas = plt.contour(x_harina, x_leche, puntos,  colors='black', linewidths=1.5)\n",
        "plt.clabel(lineas, inline=True, fontsize=16, fmt= '%1.0f', inline_spacing= 10) #Adicionamos los números entre las lineas para eso usamos 'inline=True'\n"
      ],
      "metadata": {
        "colab": {
          "base_uri": "https://localhost:8080/",
          "height": 570
        },
        "id": "8gkRteeOZsXv",
        "outputId": "687f52b9-9dc8-4b2c-8c56-4ba30b7343fb"
      },
      "execution_count": 95,
      "outputs": [
        {
          "output_type": "execute_result",
          "data": {
            "text/plain": [
              "<a list of 7 text.Text objects>"
            ]
          },
          "metadata": {},
          "execution_count": 95
        },
        {
          "output_type": "display_data",
          "data": {
            "text/plain": [
              "<Figure size 1600x600 with 2 Axes>"
            ],
            "image/png": "[encoded data removed]"
          },
          "metadata": {}
        }
      ]
    },
    {
      "cell_type": "markdown",
      "source": [
        "El gráfico presenta un mapa de colores en el que cada línea recorre toda el área de experimentación, mostrando el número o cantidad de cupcakes obtenidos en función de las combinaciones de ingredientes. De esta manera, se facilita la toma de decisiones informadas. Por ejemplo, si el objetivo es producir 40 cupcakes, se pueden obtener mezclando 1 kg de harina con 0.65 ml de leche, pero también es posible alcanzar esa misma cantidad utilizando 1.2 kg de harina y 0.62 ml de leche. Así, para cada cantidad deseada de cupcakes, el gráfico muestra las diversas combinaciones de ingredientes necesarias para lograrla."
      ],
      "metadata": {
        "id": "M6vxcSrtbXE-"
      }
    },
    {
      "cell_type": "markdown",
      "source": [
        "Aprendimos a:\n",
        "\n",
        "- Utilizar el modelo ajustado para obtener informaciones sobre la receta;\n",
        "- Diferenciar entre leyes estadísticas y leyes matemáticas;\n",
        "- Construir e interpretar mapas de colores;\n",
        "- Insertar líneas en los mapas de colores para facilitar la interpretación de los resultados."
      ],
      "metadata": {
        "id": "gLaQdIwodBJn"
      }
    }
  ],
  "metadata": {
    "kernelspec": {
      "display_name": "Python 3",
      "language": "python",
      "name": "python3"
    },
    "language_info": {
      "codemirror_mode": {
        "name": "ipython",
        "version": 3
      },
      "file_extension": ".py",
      "mimetype": "text/x-python",
      "name": "python",
      "nbconvert_exporter": "python",
      "pygments_lexer": "ipython3",
      "version": "3.7.3"
    },
    "colab": {
      "provenance": []
    }
  },
  "nbformat": 4,
  "nbformat_minor": 0
}